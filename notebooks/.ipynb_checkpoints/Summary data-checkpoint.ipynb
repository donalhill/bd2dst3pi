{
 "cells": [
  {
   "cell_type": "markdown",
   "metadata": {},
   "source": [
    "# Summary of all the root files\n",
    "\n",
    "| Folder       | BDT                                                                                               | Name of the data                              | Name of the tree                 | Cut                                                  | Variables                                                                                                                               |\n",
    "|--------------|---------------------------------------------------------------------------------------------------|-----------------------------------------------|----------------------------------|------------------------------------------------------|-----------------------------------------------------------------------------------------------------------------------------------------|\n",
    "| common       | adaboost_0.8_without_P_cutDeltaM<br>Adaboost with ws data as bkg                                  | all_common                                    | DecayTreeTuple/DecayTree         | 143. < Delta_M < 148.                                | B0_M, tau_M, Dst_M, D0_M, Delta_M, BDT                                                                                                  |\n",
    "|              |                                                                                                   | common_Dstto3pi<br>common_Dstto3pi_sWeights | DecayTree<br>sWeights            | 143. < Delta_M < 148.<br>1969-50 < tau_M < 1969+50   | B0_M, tau_M, BDT, sWeight                                                                                                               |\n",
    "|              | common_adaboost_without_P_cutDeltaM_highB0M<br>Adaboost with high B0_M data as bkg<br>OVERTRAINED | common_adaboost_without_P_cutDeltaM_highB0M   | DecayTree                        | 143. < Delta_M < 148.                                | B0_M, tau_M, B0_PT, Dst_P, tau_pion{0, 1, 2}_PT,<br>{B0, Dst, tau}_ENDVERTEX_CHI2, tau_pion{0, 1, 2}_TRACK_CHI2NDOF,<br>BDT             |\n",
    "|              |                                                                                                   | Ds23pi_bkg_high_B0M                           | DecayTree                        | 143. < Delta_M < 148.<br>1969-50 < tau_M < 1969+50   | B0_M, tau_M, BDT, sWeight                                                                                                               |\n",
    "| data_strip_p | x                                                                                                 | all_data_strip                                | all_data_strip_cutDeltaM         | 143. < Delta_M < 148.                                | B0_M, tau_M, Dst_M, D0_M, Delta_M                                                                                                       |\n",
    "|              | adaboost_0.8_without_P_cutDeltaM<br>Adaboost with ws data as bkg                                  | data_strip_adaboost_0.8_without_P_cutDeltaM   | DecayTreeTuple/DecayTree         | 143. < Delta_M < 148.                                | B0_PT, Dst_PT, tau_pion{0, 1, 2}_PT, {B0, Dst, tau_ENDVERTEX_CHI2}<br>tau_pion{0, 1, 2}_TRACK_CHI2NDOF, B0_M, Dst_M, D0_M, Delta_M, BDT |\n",
    "|              | adaboost_0.8_without_P_cutDeltaM<br>Adaboost with ws data as bkg                                  | data_strip                                    | data_styrip_cutDeltaM_cutallPIDK | 143. < Delta_M < 148.<br>tau_pion{0, 1, 2}_PIDK < 4. | B0_M, tau_M, Dst_M, D0_M,<br>tau_pion{0, 1, 2}_PIDK, Delta_M, BDT                                                                       |"
   ]
  },
  {
   "cell_type": "code",
   "execution_count": null,
   "metadata": {},
   "outputs": [],
   "source": []
  }
 ],
 "metadata": {
  "kernelspec": {
   "display_name": "bd2dst3pi_env",
   "language": "python",
   "name": "bd2dst3pi_env"
  },
  "language_info": {
   "codemirror_mode": {
    "name": "ipython",
    "version": 3
   },
   "file_extension": ".py",
   "mimetype": "text/x-python",
   "name": "python",
   "nbconvert_exporter": "python",
   "pygments_lexer": "ipython3",
   "version": "3.7.8"
  }
 },
 "nbformat": 4,
 "nbformat_minor": 4
}
