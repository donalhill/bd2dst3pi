{
 "cells": [
  {
   "cell_type": "markdown",
   "metadata": {},
   "source": [
    "# 2. Calculating a new variable from existing variables in the ROOT file\n",
    "\n",
    "In this example, we calculate the $\\Delta M = m(D^*) - m(D^0)$ variable in the $B^0 \\to D^{*-} \\pi^+ \\pi^+ \\pi^-$ Monte Carlo sample. In the $D^* \\to D^0 \\pi$ decay, there is very little phase space left over for the pion produced in the decay, because the mass difference between the $D^*$ and $D^0$ is only slightly more than the pion mass. Thus, we should see a strong peak in the $\\Delta M$ distribution, which helps us to select $D^*$'s. "
   ]
  },
  {
   "cell_type": "markdown",
   "metadata": {},
   "source": [
    "Note for myself:  \n",
    "$m(D^0) = 1,870$ MeV  \n",
    "$m(D^{*\\pm})= 2,010$ MeV  \n",
    "$m(\\pi^\\pm) = 140$ MeV \n",
    "And\n",
    "\n",
    "$D^{∗\\pm}→D^0 π^\\pm$  67.7 %  \n",
    "($D^{∗\\pm}→D^\\pm π^0$  30.7 % and together: almost all the decays (98.4 %))"
   ]
  },
  {
   "cell_type": "markdown",
   "metadata": {},
   "source": [
    "Some imports of stuff we need:"
   ]
  },
  {
   "cell_type": "code",
   "execution_count": 1,
   "metadata": {},
   "outputs": [
    {
     "name": "stdout",
     "output_type": "stream",
     "text": [
      "Welcome to JupyROOT 6.22/02\n"
     ]
    }
   ],
   "source": [
    "from root_pandas import read_root\n",
    "import matplotlib.pyplot as plt\n",
    "from bd2dst3pi.locations import loc\n",
    "from bd2dst3pi.definitions import years, magnets\n",
    "import numpy as np\n",
    "\n",
    "#Gives us nice LaTeX fonts in the plots\n",
    "from matplotlib import rc\n",
    "rc('font',**{'family':'serif','serif':['Roman']})\n",
    "rc('text', usetex=True)"
   ]
  },
  {
   "cell_type": "markdown",
   "metadata": {},
   "source": [
    "Now we load the $B^0 \\to D^{*-} \\pi^+ \\pi^+ \\pi^-$ Monte Carlo sample, which is a pure sample of simulated decays:"
   ]
  },
  {
   "cell_type": "code",
   "execution_count": 2,
   "metadata": {},
   "outputs": [],
   "source": [
    "file_list = []\n",
    "for y in years:\n",
    "    for m in magnets:\n",
    "        file_list.append(f\"{loc.MC}/Bd_Dst3pi_11266018_{y}_{m}_Sim09e-ReDecay01.root\")\n",
    "tree_name = \"DecayTree\"\n",
    "vars = [\"D0_M\",\"Dst_M\"]\n",
    "df = read_root(file_list, tree_name, columns=vars)"
   ]
  },
  {
   "cell_type": "markdown",
   "metadata": {},
   "source": [
    "We can check how many MC events we have in our DataFrame:"
   ]
  },
  {
   "cell_type": "code",
   "execution_count": 3,
   "metadata": {},
   "outputs": [
    {
     "data": {
      "text/plain": [
       "23692"
      ]
     },
     "execution_count": 3,
     "metadata": {},
     "output_type": "execute_result"
    }
   ],
   "source": [
    "n_events = len(df)\n",
    "n_events"
   ]
  },
  {
   "cell_type": "markdown",
   "metadata": {},
   "source": [
    "Let's calculate the $\\Delta M$ variable. In `pandas` this is super-simple - no loops like in traditional `ROOT`, no need for `SetBranchAddress` or declaring new branches! We simply define a new column in our DataFrame:"
   ]
  },
  {
   "cell_type": "code",
   "execution_count": 4,
   "metadata": {},
   "outputs": [],
   "source": [
    "df[\"Delta_M\"] = df[\"Dst_M\"] - df[\"D0_M\"]"
   ]
  },
  {
   "cell_type": "markdown",
   "metadata": {},
   "source": [
    "We can check some properties of our new variable like it's mean:"
   ]
  },
  {
   "cell_type": "code",
   "execution_count": 5,
   "metadata": {},
   "outputs": [
    {
     "name": "stdout",
     "output_type": "stream",
     "text": [
      "Delta_M mu = 145.46\n"
     ]
    }
   ],
   "source": [
    "mu = df[\"Delta_M\"].mean()\n",
    "print(f\"Delta_M mu = {mu:.2f}\")"
   ]
  },
  {
   "cell_type": "markdown",
   "metadata": {},
   "source": [
    "$$\\Delta M = 2,010-1,870= 150 MeV$$\n",
    "$$m(\\pi^\\pm) = 140\\ MeV$$"
   ]
  },
  {
   "cell_type": "markdown",
   "metadata": {},
   "source": [
    "**Follow-up tasks**\n",
    "\n",
    "- At an earlier stage, our files have had a $143 < \\Delta M < 148$ MeV cut applied to them. Can you plot the `Delta_M` variable we just calculated to check this?\n",
    "- How does the $\\Delta M$ compare in data and MC?\n",
    "- Can you make a ratio of the data and MC distributions, to check how consistent they are? Try to make a `numpy` histgoram for each one, and then you can divide them."
   ]
  },
  {
   "cell_type": "markdown",
   "metadata": {},
   "source": [
    "## At an earlier stage, our files have had a 143<Δ𝑀<148 MeV cut applied to them. Can you plot the Delta_M variable we just calculated to check this?"
   ]
  },
  {
   "cell_type": "markdown",
   "metadata": {},
   "source": [
    "I adapt the code plot_hist I used in the notebook 1.\\\n",
    "No particle or variable anymore but:\n",
    "* variable (here, \"Delta_M\")\n",
    "* name_variable (\"$\\Delta M$\")\n",
    "* unit_variable (\"MeV/$c^2$\")"
   ]
  },
  {
   "cell_type": "code",
   "execution_count": 14,
   "metadata": {},
   "outputs": [],
   "source": [
    "def list_into_string(L, sep = '_'):\n",
    "    string = \"\"\n",
    "    for l in L:\n",
    "        string += str(l)\n",
    "        string += sep\n",
    "    return string[:-len(sep)]\n",
    "\n",
    "def plot_hist(dfs, variable, name_variable, unit_variable, n_bins = 100, mode_hist = False):\n",
    "    \"\"\"\n",
    "    Plot the histogram of particle_variable, with number of bins = 100\n",
    "    \n",
    "    If df is a dictionnary:\n",
    "    dfs={name_data:panda_dataframe,...}\n",
    "    --> Plot several histograms in the same plot\n",
    "    \n",
    "    if mode_hist is on, I use histograms with density = True/False\n",
    "    \n",
    "    \"\"\"\n",
    "    \n",
    "    density = len(dfs)>1 # if there are more than 2 histograms\n",
    "    \n",
    "    fig, ax = plt.subplots(figsize=(8,6))\n",
    "    name_datas = list(dfs.keys())\n",
    "        \n",
    "    # Some features of the variable/particle\n",
    "#     units_var = variables[variable]['unit']\n",
    "#     name_var = variables[variable]['name']\n",
    "    #name_particle = particle_names[particle]\n",
    "    \n",
    "    \n",
    "    # Compute the number of bins\n",
    "    #bin_width = 4\n",
    "    \n",
    "    #First loop to determine the low and high value\n",
    "    low = np.inf\n",
    "    high = -np.inf\n",
    "    for name_data, df in dfs.items():\n",
    "        low = min(low,df[variable].min())\n",
    "        high = max(high,df[variable].max())\n",
    "    bin_width = (high-low)/n_bins\n",
    "    \n",
    "    colors = ['r','b','g','k']\n",
    "    k_col = 0\n",
    "    \n",
    "    labels = []\n",
    "    for name_data, df in dfs.items():\n",
    "        n_candidates = len(df[variable])\n",
    "        label= f\"{name_data}: {n_candidates} candidates\" if density else None\n",
    "        if mode_hist:\n",
    "            alpha = 0.5 if density else 1            \n",
    "            counts,_,_ = plt.hist(df[variable], range = [low,high],bins = n_bins, alpha = alpha,\n",
    "                                  label = label, density = density)\n",
    "            \n",
    "        else:\n",
    "            #Make the histogram, and get the bin centres and error on the counts in each bin\n",
    "            counts, bin_edges = np.histogram(df[variable], n_bins, range=(low,high))\n",
    "            bin_centres = (bin_edges[:-1] + bin_edges[1:])/2.\n",
    "            #Plot the bin centres and counts in each bin\n",
    "            err = np.sqrt(counts)\n",
    "            if density:\n",
    "                counts = counts/(n_candidates*bin_width)\n",
    "                err = err/(n_candidates*bin_width)\n",
    "            plt.errorbar(bin_centres, counts, yerr=err, fmt='o', color=colors[k_col], label = label)\n",
    "        k_col += 1\n",
    "              \n",
    "    #Some plot style stuff\n",
    "    #Set the x title\n",
    "    plt.xlabel(\"%s [%s]\" %(name_variable,unit_variable),fontsize=30)\n",
    "    \n",
    "    #Set the y-title, which is number of candidates per bin\n",
    "    ylabel = \"Proportion of candidates\" if density else \"Candidates\"\n",
    "    fontsize = 25 if density else 30\n",
    "    plt.ylabel(f\"{ylabel} / ({bin_width:.1g} {unit_variable})\", fontsize=fontsize)\n",
    "\n",
    "    #Set lower and upper range of the x-axis\n",
    "    plt.xlim(low,high)\n",
    "    \n",
    "    #Get the default y-limits, then redefine the plot to start at 0 and give it a bit more space on top (with the 1.1x)\n",
    "    ymin, ymax = plt.ylim()\n",
    "    plt.ylim(0.,ymax*1.2)\n",
    "\n",
    "    #Set the font size of the axis numbers\n",
    "    ax.tick_params(axis='both', which='major', labelsize=25)\n",
    "\n",
    "    #Legend\n",
    "    if density:\n",
    "        plt.legend(fontsize = 20)\n",
    "    \n",
    "    #Remove any space not needed around the plot\n",
    "    plt.tight_layout()\n",
    "\n",
    "    plt.show()\n",
    "\n",
    "    #Save the plot as a PDF document into our PLOTS folder (output/plots as defined in bd2dst3pi/locations.py)\n",
    "    fig.savefig(f\"{loc.PLOTS}/{variable}_{list_into_string(name_datas)}.pdf\")"
   ]
  },
  {
   "cell_type": "code",
   "execution_count": 15,
   "metadata": {},
   "outputs": [
    {
     "data": {
      "image/png": "[encoded data removed]",
      "text/plain": [
       "<Figure size 576x432 with 1 Axes>"
      ]
     },
     "metadata": {
      "needs_background": "light"
     },
     "output_type": "display_data"
    }
   ],
   "source": [
    "plot_hist({'MC':df},\"Delta_M\",\"$\\Delta M$\",\"MeV/$c^2$\")"
   ]
  },
  {
   "cell_type": "markdown",
   "metadata": {},
   "source": [
    "The 143<Δ𝑀<148 MeV cut has been visibly applied."
   ]
  },
  {
   "cell_type": "markdown",
   "metadata": {},
   "source": [
    "## Task 2 - How does the Δ𝑀 compare in data and MC?"
   ]
  },
  {
   "cell_type": "markdown",
   "metadata": {},
   "source": [
    "Good question that I'm glad to answer. I've already everything the function to answer it :)\n",
    "I just need to past the function to load the data"
   ]
  },
  {
   "cell_type": "code",
   "execution_count": 16,
   "metadata": {},
   "outputs": [],
   "source": [
    "def load_data(years,magnets,vars,type_data = 'data'):\n",
    "    \"\"\"\n",
    "    type_data = 'MC' or 'data'\n",
    "    \"\"\"\n",
    "    if type_data == 'MC':\n",
    "        path = f\"{loc.MC}/Bd_Dst3pi_11266018\"\n",
    "        ext = '_Sim09c-ReDecay01.root'\n",
    "    elif type_data == 'data':\n",
    "        path = f\"{loc.DATA}/data_90000000\"\n",
    "        ext = '.root'\n",
    "    elif type_data == 'MCc':\n",
    "        path = f\"{loc.MC}/Bd_Dst3pi_11266018\"\n",
    "        ext = '_Sim09c-ReDecay01.root'\n",
    "    elif type_data == 'MCe':\n",
    "        path = f\"{loc.MC}/Bd_Dst3pi_11266018\"\n",
    "        ext = '_Sim09e-ReDecay01.root'\n",
    "    else:\n",
    "        print('Choose your side')\n",
    "    \n",
    "    file_list = []\n",
    "    for y in years:\n",
    "        for m in magnets:\n",
    "            file_list.append(f\"{path}_{y}_{m}{ext}\")\n",
    "    tree_name = \"DecayTree\"\n",
    "    df = read_root(file_list, tree_name, columns=vars)\n",
    "    return df"
   ]
  },
  {
   "cell_type": "code",
   "execution_count": 17,
   "metadata": {},
   "outputs": [
    {
     "data": {
      "image/png": "[encoded data removed]",
      "text/plain": [
       "<Figure size 576x432 with 1 Axes>"
      ]
     },
     "metadata": {
      "needs_background": "light"
     },
     "output_type": "display_data"
    }
   ],
   "source": [
    "dfs = {\n",
    "    'data':load_data(years,magnets,vars,type_data = 'data'),\n",
    "    'MC':load_data(years,magnets,vars,type_data = 'MC')\n",
    "}\n",
    "\n",
    "for data_type, df in dfs.items():\n",
    "    df[\"Delta_M\"] = df[\"Dst_M\"] - df[\"D0_M\"] \n",
    "\n",
    "plot_hist(dfs, \"Delta_M\", \"$\\Delta M$\",\"MeV/$c^2$\", n_bins = 100, mode_hist = True)"
   ]
  },
  {
   "cell_type": "markdown",
   "metadata": {},
   "source": [
    "The MC and data distribution are very close to each other!"
   ]
  },
  {
   "cell_type": "markdown",
   "metadata": {},
   "source": [
    "## Task 3 - Can you make a ratio of the data and MC distributions, to check how consistent they are? Try to make a numpy histogram for each one, and then you can divide them."
   ]
  },
  {
   "cell_type": "markdown",
   "metadata": {},
   "source": [
    "Even if we do observe that the two distributions are close to each other, we want to compute their ratio in order to have a better idea of how consistent they are.\n",
    "\n",
    "$$\\frac{N_d\\times N_{MC,tot}}{N_{MC}\\times N_{d,tot}} \\pm \\frac{N_d\\times N_{MC,tot}}{N_{MC}\\times N_{d,tot}}\\times \\sqrt{\\left(\\frac{\\Delta N_d}{N_d}\\right)^2+\\left(\\frac{\\Delta N_{MC}}{N_{MC}}\\right)^2}$$\n"
   ]
  },
  {
   "cell_type": "code",
   "execution_count": 18,
   "metadata": {},
   "outputs": [],
   "source": [
    "def plot_divide(dfs, variable, name_variable,unit_variable, n_bins = 100):\n",
    "    \"\"\"\n",
    "    dfs={name_data1:df1,name_data2:df2}\n",
    "    plot the (histogram name_data1)/(histogram of namedata2) AFTER NORMALISATION ofc.\n",
    "        \n",
    "    \"\"\"\n",
    "       \n",
    "    fig, ax = plt.subplots(figsize=(8,6))\n",
    "    name_datas = list(dfs.keys())\n",
    "    \n",
    "    # Compute the number of bins\n",
    "    #bin_width = 4\n",
    "    \n",
    "    #First loop to determine the low and high value\n",
    "    low = np.inf\n",
    "    high = -np.inf\n",
    "    for name_data, df in dfs.items():\n",
    "        low = min(low,df[variable].min())\n",
    "        high = max(high,df[variable].max())\n",
    "    bin_width = (high-low)/n_bins\n",
    "    \n",
    "    colors = ['r','b','g','k']\n",
    "    k_col = 0\n",
    "    \n",
    "    labels = []\n",
    "    #Make the histogram, and get the bin centres and error on the counts in each bin\n",
    "    list_dfs = list(dfs.values())\n",
    "    list_type_data = list(dfs.keys())\n",
    "    counts1, bin_edges = np.histogram(list_dfs[0][variable], n_bins, range=(low,high))\n",
    "    counts2, _ = np.histogram(list_dfs[1][variable], n_bins, range=(low,high))\n",
    "    bin_centres = (bin_edges[:-1] + bin_edges[1:])/2.\n",
    "    \n",
    "    err1 = np.sqrt(counts1)\n",
    "    err2 = np.sqrt(counts2)\n",
    "    \n",
    "    #division\n",
    "    \n",
    "    division = counts1*counts2.sum()/(counts2*counts1.sum()) \n",
    "    err = division*np.sqrt((err1/counts1)**2+(err2/counts2)**2)\n",
    "\n",
    "    plt.errorbar(bin_centres, division, yerr=err, fmt='o', color='k')\n",
    "    plt.plot([low,high], [1.,1.], linestyle='--', color='b',marker='')\n",
    "    #Some plot style stuff\n",
    "    #Set the x title\n",
    "    plt.xlabel(\"%s[%s]\" %(name_variable,unit_variable),fontsize=30)\n",
    "    \n",
    "    #Set the y-title, which is number of candidates per bin\n",
    "    plt.ylabel(\"candidates[%s] / candidates[%s] \\n / (%.1g {%s})\"%(list_type_data[0],\n",
    "                                                                   list_type_data[1],\n",
    "                                                                   bin_width,\n",
    "                                                                   unit_variable), \n",
    "               fontsize=30)\n",
    "\n",
    "    #Set lower and upper range of the x-axis\n",
    "    plt.xlim(low,high)\n",
    "    \n",
    "    #Get the default y-limits, then redefine the plot to start at 0 and give it a bit more space on top (with the 1.1x)\n",
    "    ymin, ymax = plt.ylim()\n",
    "    plt.ylim(0.,ymax*1.2)\n",
    "\n",
    "    #Set the font size of the axis numbers\n",
    "    ax.tick_params(axis='both', which='major', labelsize=25)\n",
    "\n",
    "    \n",
    "    #Remove any space not needed around the plot\n",
    "    plt.tight_layout()\n",
    "\n",
    "    plt.show()\n",
    "\n",
    "    #Save the plot as a PDF document into our PLOTS folder (output/plots as defined in bd2dst3pi/locations.py)\n",
    "    fig.savefig(f\"{loc.PLOTS}/{variable}_{list_into_string(name_datas,'_d_')}.pdf\")"
   ]
  },
  {
   "cell_type": "code",
   "execution_count": 19,
   "metadata": {},
   "outputs": [
    {
     "data": {
      "image/png": "[encoded data removed]",
      "text/plain": [
       "<Figure size 576x432 with 1 Axes>"
      ]
     },
     "metadata": {
      "needs_background": "light"
     },
     "output_type": "display_data"
    }
   ],
   "source": [
    "plot_divide(dfs, \"Delta_M\", \"$\\Delta M$\",\"MeV/$c^2$\")"
   ]
  },
  {
   "cell_type": "markdown",
   "metadata": {},
   "source": [
    "The are some discrepancies."
   ]
  }
 ],
 "metadata": {
  "kernelspec": {
   "display_name": "bd2dst3pi_env",
   "language": "python",
   "name": "bd2dst3pi_env"
  },
  "language_info": {
   "codemirror_mode": {
    "name": "ipython",
    "version": 3
   },
   "file_extension": ".py",
   "mimetype": "text/x-python",
   "name": "python",
   "nbconvert_exporter": "python",
   "pygments_lexer": "ipython3",
   "version": "3.7.8"
  }
 },
 "nbformat": 4,
 "nbformat_minor": 4
}
