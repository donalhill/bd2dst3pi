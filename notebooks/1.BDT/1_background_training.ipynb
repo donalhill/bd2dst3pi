{
 "cells": [
  {
   "cell_type": "markdown",
   "metadata": {},
   "source": [
    "# Background sample\n",
    "The background sample for the training of the BDT is the `common` data with $5355 < m(D^*3\\pi) < 5570$ (MeV/$c^2$)"
   ]
  },
  {
   "cell_type": "code",
   "execution_count": 1,
   "metadata": {},
   "outputs": [
    {
     "name": "stdout",
     "output_type": "stream",
     "text": [
      "Welcome to JupyROOT 6.22/02\n"
     ]
    }
   ],
   "source": [
    "from bd2dst3pi.locations import loc\n",
    "from bd2dst3pi.definitions import years, magnets\n",
    "\n",
    "\n",
    "import sys\n",
    "sys.path.append(loc.SCRIPTS)\n",
    "from load_save_data import load_data, add_constr_Dst\n",
    "import plot.histogram as h\n",
    "from plot.tool import save_file\n",
    "\n",
    "\n",
    "\n",
    "from matplotlib import rc\n",
    "rc('text', usetex=True)"
   ]
  },
  {
   "cell_type": "markdown",
   "metadata": {},
   "source": [
    "## Load data with cut on $\\Delta M$"
   ]
  },
  {
   "cell_type": "code",
   "execution_count": 2,
   "metadata": {},
   "outputs": [],
   "source": [
    "variables = []\n",
    "\n",
    "for particle in ['B0']:\n",
    "    variables.append(f\"{particle}_M\")\n",
    "\n",
    "for particle in ['B0', 'Dst', 'tau_pion0', 'tau_pion1', 'tau_pion2']:\n",
    "    variables.append(f\"{particle}_P\")\n",
    "    variables.append(f\"{particle}_PT\")\n",
    "\n",
    "for particle in ['B0', 'Dst', 'tau']:\n",
    "    variables.append(f\"{particle}_ENDVERTEX_CHI2\")\n",
    "\n",
    "        \n",
    "for particle in ['tau_pion0', 'tau_pion1', 'tau_pion2']:\n",
    "    variables.append(f\"{particle}_TRACK_CHI2NDOF\")\n"
   ]
  },
  {
   "cell_type": "code",
   "execution_count": 3,
   "metadata": {
    "scrolled": false
   },
   "outputs": [
    {
     "name": "stdout",
     "output_type": "stream",
     "text": [
      "/eos/lhcb/wg/semileptonic/RXcHad/B02Dsttaunu/Run2/ntuples//common/data/data_90000000_2015_up.root\n",
      "/eos/lhcb/wg/semileptonic/RXcHad/B02Dsttaunu/Run2/ntuples//common/data/data_90000000_2015_down.root\n",
      "/eos/lhcb/wg/semileptonic/RXcHad/B02Dsttaunu/Run2/ntuples//common/data/data_90000000_2016_up.root\n",
      "/eos/lhcb/wg/semileptonic/RXcHad/B02Dsttaunu/Run2/ntuples//common/data/data_90000000_2016_down.root\n",
      "cut on DeltaM has removed 425088 over 935261 events\n",
      "/eos/lhcb/wg/semileptonic/RXcHad/B02Dsttaunu/Run2/ntuples//norm/Bd_Dst3pi/Bd_Dst3pi_11266018_2015_up_Sim09e-ReDecay01.root\n",
      "/eos/lhcb/wg/semileptonic/RXcHad/B02Dsttaunu/Run2/ntuples//norm/Bd_Dst3pi/Bd_Dst3pi_11266018_2015_down_Sim09e-ReDecay01.root\n",
      "/eos/lhcb/wg/semileptonic/RXcHad/B02Dsttaunu/Run2/ntuples//norm/Bd_Dst3pi/Bd_Dst3pi_11266018_2016_up_Sim09e-ReDecay01.root\n",
      "/eos/lhcb/wg/semileptonic/RXcHad/B02Dsttaunu/Run2/ntuples//norm/Bd_Dst3pi/Bd_Dst3pi_11266018_2016_down_Sim09e-ReDecay01.root\n",
      "cut on DeltaM has removed 0 over 23724 events\n"
     ]
    }
   ],
   "source": [
    "df = {}\n",
    "df['common'] = load_data(years,magnets,type_data = 'common'  ,vars = variables, cut_DeltaM=True, cut_PIDK=None)\n",
    "df['MC']     = load_data(years,magnets,type_data = 'MC'      ,vars = variables, cut_DeltaM=True, cut_PIDK=None)"
   ]
  },
  {
   "cell_type": "code",
   "execution_count": 4,
   "metadata": {},
   "outputs": [],
   "source": [
    "df['common'] = add_constr_Dst(df['common'])"
   ]
  },
  {
   "cell_type": "markdown",
   "metadata": {},
   "source": [
    "## Background sample"
   ]
  },
  {
   "cell_type": "code",
   "execution_count": 5,
   "metadata": {},
   "outputs": [],
   "source": [
    "low_bkg = 5355\n",
    "high_bkg = 5570"
   ]
  },
  {
   "cell_type": "code",
   "execution_count": 6,
   "metadata": {},
   "outputs": [
    {
     "name": "stdout",
     "output_type": "stream",
     "text": [
      "/afs/cern.ch/user/c/correian/bd2dst3pi/output/plots/B0_M_data_highmasscut\n"
     ]
    },
    {
     "data": {
      "image/png": "[encoded data removed]",
      "text/plain": [
       "<Figure size 576x432 with 1 Axes>"
      ]
     },
     "metadata": {
      "needs_background": "light"
     },
     "output_type": "display_data"
    }
   ],
   "source": [
    "fig, ax = h.plot_hist_particle({'data':df['common']},'B0_M',\n",
    "              n_bins = 100, mode_hist = False, colors=['b'], low=5150, save_fig=False, pos_text_LHC='right')\n",
    "ax.axvline(x=low_bkg, color='red', linewidth=1.)\n",
    "ax.axvline(x=high_bkg, color='red', linewidth=1.)\n",
    "save_file(fig, 'B0_M_data_highmasscut')"
   ]
  },
  {
   "cell_type": "code",
   "execution_count": 7,
   "metadata": {},
   "outputs": [],
   "source": [
    "# fig, ax = h.plot_hist_particle({'data':df['common']},'Dst_constr_B0_M',\n",
    "#               n_bins = 100, mode_hist = False, colors=['b'], low=5150, save_fig=False, pos_text_LHC='right')\n",
    "# ax.axvline(x=low_bkg, color='red', linewidth=1.)\n",
    "# ax.axvline(x=high_bkg, color='red', linewidth=1.)\n",
    "# save_file(fig, 'B0_M_data_highmasscut')"
   ]
  },
  {
   "cell_type": "code",
   "execution_count": null,
   "metadata": {},
   "outputs": [],
   "source": []
  }
 ],
 "metadata": {
  "kernelspec": {
   "display_name": "bd2dst3pi_env",
   "language": "python",
   "name": "bd2dst3pi_env"
  },
  "language_info": {
   "codemirror_mode": {
    "name": "ipython",
    "version": 3
   },
   "file_extension": ".py",
   "mimetype": "text/x-python",
   "name": "python",
   "nbconvert_exporter": "python",
   "pygments_lexer": "ipython3",
   "version": "3.7.8"
  }
 },
 "nbformat": 4,
 "nbformat_minor": 4
}
