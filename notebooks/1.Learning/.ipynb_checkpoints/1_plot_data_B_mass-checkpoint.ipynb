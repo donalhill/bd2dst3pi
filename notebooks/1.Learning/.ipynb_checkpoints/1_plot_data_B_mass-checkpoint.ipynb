{
 "cells": [
  {
   "cell_type": "markdown",
   "metadata": {},
   "source": [
    "# 1. Loading the data with root_pandas and making a plot with matplotlib\n",
    "\n",
    "In this example, we load the $B^0 \\to D^{*-} \\pi^+ \\pi^+ \\pi^-$ data and make a nice plot of the $B^0$ invariant mass with `matplotlib`.\n",
    "\n",
    "First some imports of stuff we need:"
   ]
  },
  {
   "cell_type": "code",
   "execution_count": null,
   "metadata": {},
   "outputs": [],
   "source": [
    "from root_pandas import read_root # read rootfiles\n",
    "import matplotlib.pyplot as plt\n",
    "from bd2dst3pi.locations import loc\n",
    "from bd2dst3pi.definitions import years, magnets\n",
    "import numpy as np\n",
    "\n",
    "#Gives us nice LaTeX fonts in the plots\n",
    "from matplotlib import rc\n",
    "rc('font',**{'family':'serif','serif':['Roman']})\n",
    "rc('text', usetex=True)"
   ]
  },
  {
   "cell_type": "markdown",
   "metadata": {},
   "source": [
    "Here we load the data for each year and magnet polarity into a `pandas` DataFrame. We specify the variable we want to look at (`B0_M`) - this list can be added to in order to load more variables. You can also run the `read_root` command without giving a `columns` argument, which will load all of the `ROOT` file branches."
   ]
  },
  {
   "cell_type": "code",
   "execution_count": null,
   "metadata": {},
   "outputs": [],
   "source": [
    "file_list = []\n",
    "for y in years:\n",
    "    for m in magnets:\n",
    "        file_list.append(f\"{loc.DATA}/data_90000000_{y}_{m}.root\")\n",
    "tree_name = \"DecayTree\"\n",
    "vars = [\"B0_M\"]\n",
    "df = read_root(file_list, tree_name, columns=vars)"
   ]
  },
  {
   "cell_type": "markdown",
   "metadata": {},
   "source": [
    "Here we have loaded the `TTree` called `DecayTree` from a collection of `ROOT` files, one for each year and magnet. Note that the years and magnets are specified in `bd2dst3pi/definitions.py`. Loading in this way is similar to `TChain` in `ROOT`.\n",
    "\n",
    "We can calculate some properties of the `B0_M` variable, like the mean and standard deviation:"
   ]
  },
  {
   "cell_type": "code",
   "execution_count": null,
   "metadata": {},
   "outputs": [],
   "source": [
    "mu = df[\"B0_M\"].mean()\n",
    "sigma = df[\"B0_M\"].std()\n",
    "print(f\"B0_M mu = {mu:.2f}, B0_M sigma = {sigma:.2f}\")"
   ]
  },
  {
   "cell_type": "markdown",
   "metadata": {},
   "source": [
    "We are using a nice feature in Python 3 called `f-strings` here when printing. This lets you put a variable directly into a string by doing `{var}`. We specify the number of decimals by doing `{var:2f}`, where `2` gives us two decimal places.\n",
    "\n",
    "Now we can make a plot of the $B^0$ mass. One handy way to quickly check a distribution is by doing:"
   ]
  },
  {
   "cell_type": "code",
   "execution_count": null,
   "metadata": {
    "scrolled": true
   },
   "outputs": [],
   "source": [
    "bin_width = 4\n",
    "low = df[\"B0_M\"].min()\n",
    "high = df[\"B0_M\"].max()\n",
    "n_bins = int((high - low)/bin_width)\n",
    "plt.hist(df[\"B0_M\"], bins=n_bins)\n",
    "plt.show()"
   ]
  },
  {
   "cell_type": "markdown",
   "metadata": {},
   "source": [
    "To make a fancier plot, we can make a `numpy` histogram of the data and then plot it as an errorbar plot:"
   ]
  },
  {
   "cell_type": "code",
   "execution_count": null,
   "metadata": {},
   "outputs": [],
   "source": [
    "# Noob to pro :O\n",
    "\n",
    "\n",
    "fig, ax = plt.subplots(figsize=(8,6))\n",
    "\n",
    "#Make the histogram, and get the bin centres and error on the counts in each bin\n",
    "counts, bin_edges = np.histogram(df[\"B0_M\"], n_bins, range=(low,high))\n",
    "bin_centres = (bin_edges[:-1] + bin_edges[1:])/2.\n",
    "err = np.sqrt(counts)\n",
    "\n",
    "#Plot the bin centres and counts in each bin\n",
    "plt.errorbar(bin_centres, counts, yerr=err, fmt='o', color='k')\n",
    "\n",
    "#Some plot style stuff\n",
    "\n",
    "#Units for the x-axis (B0_M is in MeV)\n",
    "units = \"MeV/$c^2$\"\n",
    "\n",
    "#Set the x title\n",
    "plt.xlabel(\"$m(D^{*-}\\pi^+\\pi^+\\pi^-)$ [%s]\" % units,fontsize=30)\n",
    "\n",
    "#Set the y-title, which is number of candidates per bin\n",
    "plt.ylabel(f\"Candidates / ({bin_width:.1f} {units})\", fontsize=30)\n",
    "\n",
    "#Set lower and upper range of the x-axis\n",
    "plt.xlim(low,high)\n",
    "\n",
    "#Get the default y-limits, then redefine the plot to start at 0 and give it a bit more space on top (with the 1.1x)\n",
    "ymin, ymax = plt.ylim()\n",
    "plt.ylim(0.,ymax*1.1)\n",
    "\n",
    "#Set the font size of the axis numbers\n",
    "ax.tick_params(axis='both', which='major', labelsize=25)\n",
    "\n",
    "#Remove any space not needed around the plot\n",
    "plt.tight_layout()\n",
    "\n",
    "plt.show()\n",
    "\n",
    "#Save the plot as a PDF document into our PLOTS folder (output/plots as defined in bd2dst3pi/locations.py)\n",
    "fig.savefig(f\"{loc.PLOTS}/B0_M_data.pdf\")"
   ]
  },
  {
   "cell_type": "markdown",
   "metadata": {},
   "source": [
    "The data we are working with already has selection cuts applied, so you can see that the peak is very clean. There is some background, and we will work to fit this distribution as part of the project to measure the normalisation mode yield."
   ]
  },
  {
   "cell_type": "markdown",
   "metadata": {},
   "source": [
    "**Follow-up tasks**\n",
    "\n",
    "- Can you add more variables and make plots of those? Try to do this in a nice way using loops and Python dictionaries.\n",
    "\n",
    "- Can you also load the Monte Carlo in a similar way and plot it?\n",
    "\n",
    "- Can you plot the data and MC on the same plots? Try using the `density=True` option in your histograms in order to make normalised data and MC histograms. They will then have the same area, and can be compared directly. "
   ]
  },
  {
   "cell_type": "markdown",
   "metadata": {},
   "source": [
    "## Task 1 - Can you add more variables and make plots of those? Try to do this in a nice way using loops and Python dictionaries."
   ]
  },
  {
   "cell_type": "markdown",
   "metadata": {},
   "source": [
    "First, let's see what are the available variables."
   ]
  },
  {
   "cell_type": "code",
   "execution_count": null,
   "metadata": {},
   "outputs": [],
   "source": [
    "one_file = f\"{loc.DATA}/data_90000000_{years[0]}_{magnets[0]}.root\"\n",
    "tree_name = \"DecayTree\"\n",
    "\n",
    "# 1 root file is so large that it is wise to use \"chunksize\" in order to open only a little part of it.\n",
    "# After all, we only want to get the columns.\n",
    "for df_one_file in read_root(one_file, tree_name,chunksize=10):\n",
    "    #particles = []\n",
    "    for variable in df_one_file.keys():\n",
    "        condition = 'EW' not in variable and 'nc' not in variable and 'cc' not in variable \n",
    "        condition = condition and 'Hlt' not in variable and 'L0' not in variable\n",
    "        condition = condition and 'isoPlus' not in variable\n",
    "        \n",
    "        if condition:\n",
    "            print(variable)\n",
    "    break"
   ]
  },
  {
   "cell_type": "markdown",
   "metadata": {},
   "source": [
    "The reconstructed decay is:\n",
    "$$B^0 \\to D^{*-} \\pi^+ \\pi^+ \\pi^-$$\n",
    "The particle in the root files are:\n",
    "- B0\n",
    "- Dst\n",
    "- Dst_pion\n",
    "- D0\n",
    "- D0_kaon\n",
    "- D0_pion\n",
    "- tau\n",
    "- tau_pion1\n",
    "- tau_pion2\n",
    "\n",
    "Some interesting variables:\n",
    "- P, PT, PX, PY, PZ\n",
    "- MM, M\n",
    "- OWNPV_CHI2, ENDVERTEX_CHI2, ORIVX_CHI2\n",
    "\n",
    "We define the units of these variables via a python dictionnary"
   ]
  },
  {
   "cell_type": "code",
   "execution_count": null,
   "metadata": {},
   "outputs": [],
   "source": [
    "variables = {\n",
    "    'P' : {\n",
    "        'name': \"p\",\n",
    "        'unit': \"MeV/c\"\n",
    "    },\n",
    "    'PT': \n",
    "    {\n",
    "        'name': \"$p_T$\",\n",
    "        'unit': \"MeV/c\"\n",
    "    },\n",
    "    'M': \n",
    "    {\n",
    "        'name': \"$m$\",\n",
    "        'unit': \"MeV/$c^2$\"\n",
    "    },\n",
    "}\n",
    "\n",
    "particle_names = {\n",
    "    'B0':'$D^{*-}\\pi^+\\pi^+\\pi^-$',\n",
    "    'Dst':'$D^*$',\n",
    "    'tau':'$\\pi^+ \\pi^+ \\pi^-$'\n",
    "}"
   ]
  },
  {
   "cell_type": "markdown",
   "metadata": {},
   "source": [
    "We define a function *plot_hist* to plot a histogram given:\n",
    "- the particle\n",
    "- the variable\n",
    "\n",
    "The function is highly inspired by the python code written before"
   ]
  },
  {
   "cell_type": "code",
   "execution_count": null,
   "metadata": {},
   "outputs": [],
   "source": [
    "def plot_hist(df, particle,variable, type_data = 'data', n_bins = 100):\n",
    "    \"\"\"\n",
    "    Plot the histogram of particle_variable, with number of bins = 100\n",
    "    \"\"\"\n",
    "    fig, ax = plt.subplots(figsize=(8,6))\n",
    "    full_name_var = f\"{particle}_{variable}\"\n",
    "    # Compute the number of bins\n",
    "    #bin_width = 4\n",
    "        \n",
    "    \n",
    "    low = df[full_name_var].min()\n",
    "    high = df[full_name_var].max()\n",
    "    \n",
    "    \n",
    "    #Make the histogram, and get the bin centres and error on the counts in each bin\n",
    "    counts, bin_edges = np.histogram(df[full_name_var], n_bins, range=(low,high))\n",
    "    bin_centres = (bin_edges[:-1] + bin_edges[1:])/2.\n",
    "    bin_width = bin_edges[1]-bin_edges[0]\n",
    "    err = np.sqrt(counts)\n",
    "\n",
    "    #Plot the bin centres and counts in each bin\n",
    "    plt.errorbar(bin_centres, counts, yerr=err, fmt='o', color='k')\n",
    "\n",
    "    #Some plot style stuff\n",
    "\n",
    "    #Units for the x-axis (B0_M is in MeV)\n",
    "    units_var = variables[variable]['unit']\n",
    "    name_var = variables[variable]['name']\n",
    "    name_particle = particle_names[particle]\n",
    "    \n",
    "\n",
    "    #Set the x title\n",
    "    plt.xlabel(\"%s(%s) [%s]\" %(name_var,name_particle,units_var),fontsize=30)\n",
    "\n",
    "    #Set the y-title, which is number of candidates per bin\n",
    "    plt.ylabel(f\"Candidates / ({bin_width:.1f} {units_var})\", fontsize=30)\n",
    "\n",
    "    #Set lower and upper range of the x-axis\n",
    "    plt.xlim(low,high)\n",
    "\n",
    "    #Get the default y-limits, then redefine the plot to start at 0 and give it a bit more space on top (with the 1.1x)\n",
    "    ymin, ymax = plt.ylim()\n",
    "    plt.ylim(0.,ymax*1.1)\n",
    "\n",
    "    #Set the font size of the axis numbers\n",
    "    ax.tick_params(axis='both', which='major', labelsize=25)\n",
    "\n",
    "    #Remove any space not needed around the plot\n",
    "    plt.tight_layout()\n",
    "\n",
    "    plt.show()\n",
    "\n",
    "    #Save the plot as a PDF document into our PLOTS folder (output/plots as defined in bd2dst3pi/locations.py)\n",
    "    fig.savefig(f\"{loc.PLOTS}/{full_name_var}_{type_data}.pdf\")\n",
    "\n",
    "\n",
    "def get_vars(variables_to_plot):\n",
    "    return [f\"{particle}_{variable}\" for particle,variable in variables_to_plot]\n",
    "\n",
    "variables_to_plot = [(\"B0\",\"M\"),(\"B0\",\"PT\"),(\"tau\",\"M\"),(\"tau\",\"PT\")]\n",
    "vars = get_vars(variables_to_plot)"
   ]
  },
  {
   "cell_type": "code",
   "execution_count": null,
   "metadata": {},
   "outputs": [],
   "source": [
    "file_list = []\n",
    "for y in years:\n",
    "    for m in magnets:\n",
    "        file_list.append(f\"{loc.DATA}/data_90000000_{y}_{m}.root\")\n",
    "tree_name = \"DecayTree\"\n",
    "\n",
    "df = read_root(file_list, tree_name, columns=vars)\n",
    "\n",
    "for particle,variable in variables_to_plot:\n",
    "    plot_hist(df,particle,variable)"
   ]
  },
  {
   "cell_type": "markdown",
   "metadata": {},
   "source": [
    "## Task 2 - Can you also load the Monte Carlo in a similar way and plot it?"
   ]
  },
  {
   "cell_type": "markdown",
   "metadata": {},
   "source": [
    "Why not!\n",
    "First a create function to load the data"
   ]
  },
  {
   "cell_type": "code",
   "execution_count": null,
   "metadata": {},
   "outputs": [],
   "source": [
    "def load_data(years,magnets,vars,type_data = 'data'):\n",
    "    \"\"\"\n",
    "    type_data = 'MC' or 'data'\n",
    "    \"\"\"\n",
    "    if type_data == 'MC':\n",
    "        path = f\"{loc.MC}/Bd_Dst3pi_11266018\"\n",
    "        ext = '_Sim09c-ReDecay01.root'\n",
    "    elif type_data == 'data':\n",
    "        path = f\"{loc.DATA}/data_90000000\"\n",
    "        ext = '.root'\n",
    "    elif type_data == 'MCc':\n",
    "        path = f\"{loc.MC}/Bd_Dst3pi_11266018\"\n",
    "        ext = '_Sim09c-ReDecay01.root'\n",
    "    elif type_data == 'MCe':\n",
    "        path = f\"{loc.MC}/Bd_Dst3pi_11266018\"\n",
    "        ext = '_Sim09e-ReDecay01.root'\n",
    "    else:\n",
    "        print('Choose your side')\n",
    "    \n",
    "    file_list = []\n",
    "    for y in years:\n",
    "        for m in magnets:\n",
    "            file_list.append(f\"{path}_{y}_{m}{ext}\")\n",
    "    tree_name = \"DecayTree\"\n",
    "    df = read_root(file_list, tree_name, columns=vars)\n",
    "    return df"
   ]
  },
  {
   "cell_type": "code",
   "execution_count": null,
   "metadata": {},
   "outputs": [],
   "source": [
    "df_MC = load_data(years,magnets,vars,type_data = 'MC')"
   ]
  },
  {
   "cell_type": "code",
   "execution_count": null,
   "metadata": {},
   "outputs": [],
   "source": [
    "for particle,variable in variables_to_plot:\n",
    "    plot_hist(df_MC,particle,variable,type_data = 'MC')"
   ]
  },
  {
   "cell_type": "markdown",
   "metadata": {},
   "source": [
    "## Task 3 - Can you plot the data and MC on the same plots? Try using the density=True option in your histograms in order to make normalised data and MC histograms. They will then have the same area, and can be compared directly. "
   ]
  },
  {
   "cell_type": "markdown",
   "metadata": {},
   "source": [
    "Let's improve a bit the function *plot_hist* defined before to plot several histograms."
   ]
  },
  {
   "cell_type": "code",
   "execution_count": null,
   "metadata": {},
   "outputs": [],
   "source": [
    "def list_into_string(L):\n",
    "    string = \"\"\n",
    "    for l in L:\n",
    "        string += str(l)\n",
    "        string += '_'\n",
    "    return string[:-1]\n",
    "        \n",
    "def plot_hist(dfs, particle,variable, n_bins = 100, mode_hist = False):\n",
    "    \"\"\"\n",
    "    Plot the histogram of particle_variable, with number of bins = 100\n",
    "    \n",
    "    If df is a dictionnary:\n",
    "    dfs={name_data:panda_dataframe,...}\n",
    "    --> Plot several histograms in the same plot\n",
    "    \n",
    "    if mode_hist is on, I use histograms with density = True/False\n",
    "    \n",
    "    \"\"\"\n",
    "    \n",
    "    density = len(dfs)>1 # if there are more than 2 histograms\n",
    "    \n",
    "    fig, ax = plt.subplots(figsize=(8,6))\n",
    "    name_datas = list(dfs.keys())\n",
    "    full_name_var = f\"{particle}_{variable}\"\n",
    "    \n",
    "    # Some features of the variable/particle\n",
    "    units_var = variables[variable]['unit']\n",
    "    name_var = variables[variable]['name']\n",
    "    name_particle = particle_names[particle]\n",
    "    \n",
    "    \n",
    "    # Compute the number of bins\n",
    "    #bin_width = 4\n",
    "    \n",
    "    #First loop to determine the low and high value\n",
    "    low = np.inf\n",
    "    high = -np.inf\n",
    "    for name_data, df in dfs.items():\n",
    "        low = min(low,df[full_name_var].min())\n",
    "        high = max(high,df[full_name_var].max())\n",
    "    bin_width = (high-low)/n_bins\n",
    "    \n",
    "    colors = ['r','b','g','k']\n",
    "    k_col = 0\n",
    "    \n",
    "    labels = []\n",
    "    for name_data, df in dfs.items():\n",
    "        n_candidates = len(df[full_name_var])\n",
    "        label= f\"{name_data}: {n_candidates} candidates\" if density else None\n",
    "        if mode_hist:\n",
    "            alpha = 0.5 if density else 1            \n",
    "            counts,_,_ = plt.hist(df[full_name_var], range = [low,high],bins = n_bins, alpha = alpha,\n",
    "                                  label = label, density = density)\n",
    "            \n",
    "        else:\n",
    "            #Make the histogram, and get the bin centres and error on the counts in each bin\n",
    "            counts, bin_edges = np.histogram(df[full_name_var], n_bins, range=(low,high))\n",
    "            n_candidates = counts.sum()\n",
    "            bin_centres = (bin_edges[:-1] + bin_edges[1:])/2.\n",
    "            n_candidates = counts.sum()\n",
    "            #Plot the bin centres and counts in each bin\n",
    "            err = np.sqrt(counts)\n",
    "            if density:\n",
    "                counts = counts/(n_candidates*bin_width)\n",
    "                err = err/(n_candidates*bin_width)\n",
    "            plt.errorbar(bin_centres, counts, yerr=err, fmt='o', color=colors[k_col], label = label)\n",
    "        k_col += 1\n",
    "              \n",
    "    #Some plot style stuff\n",
    "    #Set the x title\n",
    "    plt.xlabel(\"%s(%s) [%s]\" %(name_var,name_particle,units_var),fontsize=30)\n",
    "    \n",
    "    #Set the y-title, which is number of candidates per bin\n",
    "    ylabel = \"Proportion of candidates\" if density else \"Candidates\"\n",
    "    fontsize = 25 if density else 30\n",
    "    plt.ylabel(f\"{ylabel} / ({bin_width:.1f} {units_var})\", fontsize=fontsize)\n",
    "\n",
    "    #Set lower and upper range of the x-axis\n",
    "    plt.xlim(low,high)\n",
    "    \n",
    "    #Get the default y-limits, then redefine the plot to start at 0 and give it a bit more space on top (with the 1.1x)\n",
    "    ymin, ymax = plt.ylim()\n",
    "    plt.ylim(0.,ymax*1.2)\n",
    "\n",
    "    #Set the font size of the axis numbers\n",
    "    ax.tick_params(axis='both', which='major', labelsize=25)\n",
    "\n",
    "    #Legend\n",
    "    plt.legend(fontsize = 20)\n",
    "    \n",
    "    #Remove any space not needed around the plot\n",
    "    plt.tight_layout()\n",
    "\n",
    "    plt.show()\n",
    "\n",
    "    #Save the plot as a PDF document into our PLOTS folder (output/plots as defined in bd2dst3pi/locations.py)\n",
    "    fig.savefig(f\"{loc.PLOTS}/{full_name_var}_{list_into_string(name_datas)}.pdf\")\n"
   ]
  },
  {
   "cell_type": "code",
   "execution_count": null,
   "metadata": {},
   "outputs": [],
   "source": [
    "variables_to_plot = [(\"B0\",\"M\"),(\"B0\",\"PT\"),(\"tau\",\"M\"),(\"tau\",\"PT\")]\n",
    "vars = get_vars(variables_to_plot)\n",
    "\n",
    "dfs = {\n",
    "    'data':load_data(years,magnets,vars,type_data = 'data'),\n",
    "    'MC': load_data(years,magnets,vars,type_data = 'MC')\n",
    "}\n",
    "\n",
    "for particle,variable in variables_to_plot:\n",
    "    plot_hist(dfs, particle,variable, n_bins = 100)"
   ]
  },
  {
   "cell_type": "code",
   "execution_count": null,
   "metadata": {},
   "outputs": [],
   "source": [
    "for particle,variable in variables_to_plot:\n",
    "    plot_hist(dfs, particle,variable, n_bins = 100,mode_hist = True)"
   ]
  },
  {
   "cell_type": "markdown",
   "metadata": {},
   "source": [
    "## Comparison of the the MC data"
   ]
  },
  {
   "cell_type": "code",
   "execution_count": null,
   "metadata": {},
   "outputs": [
    {
     "data": {
      "image/png": "[encoded data removed]",
      "text/plain": [
       "<Figure size 576x432 with 1 Axes>"
      ]
     },
     "metadata": {
      "needs_background": "light"
     },
     "output_type": "display_data"
    },
    {
     "data": {
      "image/png": "[encoded data removed]",
      "text/plain": [
       "<Figure size 576x432 with 1 Axes>"
      ]
     },
     "metadata": {
      "needs_background": "light"
     },
     "output_type": "display_data"
    },
    {
     "data": {
      "image/png": "[encoded data removed]",
      "text/plain": [
       "<Figure size 576x432 with 1 Axes>"
      ]
     },
     "metadata": {
      "needs_background": "light"
     },
     "output_type": "display_data"
    }
   ],
   "source": [
    "dfs = {\n",
    "#     'data':load_data(years,magnets,vars,type_data = 'data'),\n",
    "    'MCc': load_data(years,magnets,vars,type_data = 'MCc'),\n",
    "    'MCe': load_data(years,magnets,vars,type_data = 'MCe')\n",
    "}\n",
    "for particle,variable in variables_to_plot:\n",
    "    plot_hist(dfs, particle,variable, n_bins = 100,mode_hist = True)"
   ]
  },
  {
   "cell_type": "code",
   "execution_count": null,
   "metadata": {},
   "outputs": [],
   "source": []
  }
 ],
 "metadata": {
  "kernelspec": {
   "display_name": "bd2dst3pi_env",
   "language": "python",
   "name": "bd2dst3pi_env"
  },
  "language_info": {
   "codemirror_mode": {
    "name": "ipython",
    "version": 3
   },
   "file_extension": ".py",
   "mimetype": "text/x-python",
   "name": "python",
   "nbconvert_exporter": "python",
   "pygments_lexer": "ipython3",
   "version": "3.7.8"
  }
 },
 "nbformat": 4,
 "nbformat_minor": 4
}
