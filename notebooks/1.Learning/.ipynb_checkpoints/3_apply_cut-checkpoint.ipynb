{
 "cells": [
  {
   "cell_type": "markdown",
   "metadata": {},
   "source": [
    "# 3. Applying a cut to a sample and calculating the efficiency\n",
    "\n",
    "In this example, we learn how to apply a cut in `pandas` and how to calculate the efficiency of the cut. We see how to calculate the uncertainty on the cut using the binomial error.\n",
    "\n",
    "Some imports of what we need:"
   ]
  },
  {
   "cell_type": "code",
   "execution_count": 1,
   "metadata": {},
   "outputs": [
    {
     "name": "stdout",
     "output_type": "stream",
     "text": [
      "Welcome to JupyROOT 6.22/02\n"
     ]
    }
   ],
   "source": [
    "from root_pandas import read_root\n",
    "import matplotlib.pyplot as plt\n",
    "from bd2dst3pi.locations import loc\n",
    "from bd2dst3pi.definitions import years, magnets\n",
    "import pandas as pd\n",
    "from bd2dst3pi.stats import binomial_err\n",
    "import numpy as np\n",
    "import scipy.stats as stats\n",
    "\n",
    "#Gives us nice LaTeX fonts in the plots\n",
    "from matplotlib import rc\n",
    "rc('font',**{'family':'serif','serif':['Roman']})\n",
    "rc('text', usetex=True)"
   ]
  },
  {
   "cell_type": "markdown",
   "metadata": {},
   "source": [
    "Let's load the data for each year and magnet into separate DataFrames, storing them in a useful dictionary called `df`. This is just an example of how to do this, as it can be useful to work with dictionaries. We also make a total DataFrame `dt_tot` containing all years and magnets:"
   ]
  },
  {
   "cell_type": "code",
   "execution_count": 109,
   "metadata": {},
   "outputs": [],
   "source": [
    "df = {}\n",
    "df_tot = pd.DataFrame()\n",
    "tree_name = \"DecayTree\"\n",
    "for y in years:\n",
    "    for m in magnets:\n",
    "        df[f\"{y}_{m}\"] = read_root(f\"{loc.DATA}/data_90000000_{y}_{m}.root\",tree_name)\n",
    "        df_tot = df_tot.append(df[f\"{y}_{m}\"])"
   ]
  },
  {
   "cell_type": "markdown",
   "metadata": {},
   "source": [
    "We can access a specific year and magnet:"
   ]
  },
  {
   "cell_type": "code",
   "execution_count": 110,
   "metadata": {},
   "outputs": [
    {
     "name": "stdout",
     "output_type": "stream",
     "text": [
      "   B0_ENDVERTEX_X  B0_ENDVERTEX_Y  B0_ENDVERTEX_Z  B0_ENDVERTEX_XERR  \\\n",
      "0         -1.7246         -0.6828         60.6567             0.0172   \n",
      "1          2.4748          1.2210         43.5751             0.0166   \n",
      "\n",
      "   B0_ENDVERTEX_YERR  B0_ENDVERTEX_ZERR  B0_ENDVERTEX_CHI2  B0_ENDVERTEX_NDOF  \\\n",
      "0             0.0086             0.1807           0.772943                  3   \n",
      "1             0.0108             0.1405          15.108430                  3   \n",
      "\n",
      "                                   B0_ENDVERTEX_COV_  B0_OWNPV_X  ...  \\\n",
      "0  [[0.00029584, 9.775047e-05, -0.0029697323], [9...      0.7643  ...   \n",
      "1  [[0.00027556, 0.00013472892, 0.0022361316], [0...      0.7717  ...   \n",
      "\n",
      "   DstD_BDTD  combinatorial_BDTG  combinatorial_BDT  combinatorial_BDTD  \\\n",
      "0   0.237036            0.812131           0.201764            0.155237   \n",
      "1  -0.214430            0.559392           0.159562            0.198848   \n",
      "\n",
      "   detachment_BDTG  detachment_BDT  detachment_BDTD isolation_BDTG  \\\n",
      "0        -0.786932       -0.184022        -0.459395       0.623516   \n",
      "1        -0.848995       -0.200939         0.006547       0.675443   \n",
      "\n",
      "   isolation_BDT  isolation_BDTD  \n",
      "0       0.161096        0.238674  \n",
      "1       0.186504        0.211797  \n",
      "\n",
      "[2 rows x 1651 columns]\n"
     ]
    }
   ],
   "source": [
    "print(df[\"2015_up\"].head(2))"
   ]
  },
  {
   "cell_type": "markdown",
   "metadata": {},
   "source": [
    "In this example, we have loaded all of the variables in the `TTree`, and the printout above shows a summary of some of them for the first 2 events in the tree. \n",
    "\n",
    "Let's calculate the flight of the $\\tau$ candidate along the $z$-axis. In our data sample, which has aready had selections applied to keep $B^0 \\to D^{*-} \\pi^+ \\pi^+ \\pi^-$ decays, we won't have any genuine $\\tau \\to \\pi^+ \\pi^+ \\pi^- \\nu$ candidates! The three pions produced in the $B^0 \\to D^{*-} \\pi^+ \\pi^+ \\pi^-$ decay come directly from the $B^0$ decay vertex. Thus, the only flight we should see along the $z$-axis is due to measurement uncertainties on the vertices. "
   ]
  },
  {
   "cell_type": "code",
   "execution_count": 114,
   "metadata": {},
   "outputs": [],
   "source": [
    "df_tot[\"tau_flight_z\"] = df_tot[\"tau_ENDVERTEX_Z\"] - df_tot[\"B0_ENDVERTEX_Z\"]"
   ]
  },
  {
   "cell_type": "markdown",
   "metadata": {},
   "source": [
    "Let's make a quick plot of the $\\tau$ candidate flight:"
   ]
  },
  {
   "cell_type": "code",
   "execution_count": 115,
   "metadata": {},
   "outputs": [
    {
     "data": {
      "image/png": "[encoded data removed]",
      "text/plain": [
       "<Figure size 432x288 with 1 Axes>"
      ]
     },
     "metadata": {
      "needs_background": "light"
     },
     "output_type": "display_data"
    }
   ],
   "source": [
    "plt.hist(df_tot[\"tau_flight_z\"], bins=100, range=(-4,4))\n",
    "plt.show()"
   ]
  },
  {
   "cell_type": "markdown",
   "metadata": {},
   "source": [
    "Indeed we find that the flight is on average zero, but with some spread. The spread is due to measurement uncertainties on the $B$ and $\\tau$ vertex.\n",
    "\n",
    "We can also calculate the flight in units of standard deviations (flight significance), by using the measured uncertainties on the $B$ and $\\tau$ vertices:"
   ]
  },
  {
   "cell_type": "code",
   "execution_count": 116,
   "metadata": {},
   "outputs": [],
   "source": [
    "df_tot[\"tau_flight_zerr\"] = np.sqrt(df_tot[\"tau_ENDVERTEX_ZERR\"]**2 + df_tot[\"B0_ENDVERTEX_ZERR\"]**2)\n",
    "df_tot[\"tau_flight_zsig\"] = df_tot[\"tau_flight_z\"] / df_tot[\"tau_flight_zerr\"]"
   ]
  },
  {
   "cell_type": "markdown",
   "metadata": {},
   "source": [
    "We can compare the flight significance with a standard normal distribution, which has a mean of zero and a width of 1:"
   ]
  },
  {
   "cell_type": "code",
   "execution_count": 117,
   "metadata": {},
   "outputs": [
    {
     "data": {
      "image/png": "[encoded data removed]",
      "text/plain": [
       "<Figure size 432x288 with 1 Axes>"
      ]
     },
     "metadata": {
      "needs_background": "light"
     },
     "output_type": "display_data"
    }
   ],
   "source": [
    "low = -4\n",
    "high = 4\n",
    "n_bins = 100\n",
    "plt.hist(df_tot[\"tau_flight_zsig\"], bins=n_bins, range=(low,high), density=True)\n",
    "norm_mu = 0.\n",
    "norm_sigma = 1.\n",
    "x = np.linspace(norm_mu - high*norm_sigma, norm_mu + high*norm_sigma, 1000)\n",
    "plt.plot(x, stats.norm.pdf(x, norm_mu, norm_sigma))\n",
    "plt.xlim(low,high)\n",
    "plt.show()"
   ]
  },
  {
   "cell_type": "markdown",
   "metadata": {},
   "source": [
    "We see that the flight significance is indeed pretty normally distributed. The fact that the distribution has a mean of zero tells us that, on average, our three pions have zero flight from the $B$ vertex. This is consistent with the decays genuinely being $B^0 \\to D^{*-} \\pi^+ \\pi^+ \\pi^-$."
   ]
  },
  {
   "cell_type": "markdown",
   "metadata": {},
   "source": [
    "Let's count the fraction of decays which have a flight significance of more than $\\pm2$ standard deviations. We expect this to be around 5\\% for a perfectly normally distributed sample:"
   ]
  },
  {
   "cell_type": "code",
   "execution_count": 118,
   "metadata": {},
   "outputs": [
    {
     "name": "stdout",
     "output_type": "stream",
     "text": [
      "Number with high flight significance: 3349\n",
      "Total number: 31573\n"
     ]
    }
   ],
   "source": [
    "df_cut = df_tot.query(\"abs(tau_flight_zsig) >= 2\")\n",
    "n_pass = len(df_cut)\n",
    "n_tot = len(df_tot)\n",
    "print(f\"Number with high flight significance: {n_pass}\")\n",
    "print(f\"Total number: {n_tot}\")"
   ]
  },
  {
   "cell_type": "markdown",
   "metadata": {},
   "source": [
    "We can calculate the efficiency of this cut by taking the ratio. The absolute uncertainty on this efficiency is given by the binomial formula $\\sigma_\\epsilon =  \\frac{1}{N}\\sqrt{N\\times \\frac{k}{N}(1 - \\frac{k}{N}})= \\frac{1}{N}\\sqrt{k(1 - \\frac{k}{N})}$. Code for calculating this error given a number passing the cut ($k$) and the total number ($N$) is provided in `bd2dst3pi/stats.py`."
   ]
  },
  {
   "cell_type": "code",
   "execution_count": 119,
   "metadata": {},
   "outputs": [
    {
     "name": "stdout",
     "output_type": "stream",
     "text": [
      "Efficiency of abs(tau_flight_zsig) >= 2 cut: 0.106 +/- 0.002\n"
     ]
    }
   ],
   "source": [
    "eff = n_pass / n_tot\n",
    "eff_err = binomial_err(n_tot, n_pass)\n",
    "print(f\"Efficiency of abs(tau_flight_zsig) >= 2 cut: {eff:.3f} +/- {eff_err:.3f}\")"
   ]
  },
  {
   "cell_type": "markdown",
   "metadata": {},
   "source": [
    "The efficiency is actually higher than 5%, because our distribution of flight significance is not quite normal (you can see it has tails at larger values in the plot above)."
   ]
  },
  {
   "cell_type": "markdown",
   "metadata": {},
   "source": [
    "**Follow-up tasks**\n",
    "\n",
    "- How does the flight significance look in MC? Is the distribution similar to the data?\n",
    "- Compare the efficiency of the flight cut in data and MC. Which one is higher, and why could that be?\n",
    "- Can you calculate the 3-dimensional flight distance? You can use Pythagoras theorem to help, so $L = \\sqrt{x^2 + y^2 + z^2}$. How about the 3-dimensional flight significance?"
   ]
  },
  {
   "cell_type": "markdown",
   "metadata": {},
   "source": [
    "## Task 1 - How does the flight significance look in MC? Is the distribution similar to the data?"
   ]
  },
  {
   "cell_type": "markdown",
   "metadata": {},
   "source": [
    "First, I create a function to retrieve the data in the form of a panda df, and I retrieve it"
   ]
  },
  {
   "cell_type": "code",
   "execution_count": 145,
   "metadata": {},
   "outputs": [],
   "source": [
    "def load_data(years,magnets,type_data = 'data'):\n",
    "    \"\"\"\n",
    "    type_data = 'MC' or 'data'\n",
    "    \"\"\"\n",
    "    if type_data == 'MC':\n",
    "        path = f\"{loc.MC}/Bd_Dst3pi_11266018\"\n",
    "        ext = '_Sim09e-ReDecay01.root'\n",
    "    elif type_data == 'data':\n",
    "        path = f\"{loc.DATA}/data_90000000\"\n",
    "        ext = '.root'\n",
    "    elif type_data == 'MCc':\n",
    "        path = f\"{loc.MC}/Bd_Dst3pi_11266018\"\n",
    "        ext = '_Sim09c-ReDecay01.root'\n",
    "    elif type_data == 'MCe':\n",
    "        path = f\"{loc.MC}/Bd_Dst3pi_11266018\"\n",
    "        ext = '_Sim09e-ReDecay01.root'\n",
    "    else:\n",
    "        print('Choose your side')\n",
    "    \n",
    "    dfr = {}\n",
    "    dfr_tot = pd.DataFrame()\n",
    "    tree_name = \"DecayTree\"\n",
    "    for y in years:\n",
    "        for m in magnets:\n",
    "            dfr[f\"{y}_{m}\"] = read_root(f\"{path}_{y}_{m}{ext}\",tree_name)\n",
    "            print(f\"{path}_{y}_{m}{ext}\")\n",
    "            dfr_tot = dfr_tot.append(dfr[f\"{y}_{m}\"])\n",
    "    return dfr, dfr_tot"
   ]
  },
  {
   "cell_type": "code",
   "execution_count": 146,
   "metadata": {},
   "outputs": [
    {
     "name": "stdout",
     "output_type": "stream",
     "text": [
      "/eos/lhcb/wg/semileptonic/RXcHad/B02Dsttaunu/Run2/ntuples//norm/Bd_Dst3pi/Bd_Dst3pi_11266018_2015_up_Sim09e-ReDecay01.root\n",
      "/eos/lhcb/wg/semileptonic/RXcHad/B02Dsttaunu/Run2/ntuples//norm/Bd_Dst3pi/Bd_Dst3pi_11266018_2015_down_Sim09e-ReDecay01.root\n",
      "/eos/lhcb/wg/semileptonic/RXcHad/B02Dsttaunu/Run2/ntuples//norm/Bd_Dst3pi/Bd_Dst3pi_11266018_2016_up_Sim09e-ReDecay01.root\n",
      "/eos/lhcb/wg/semileptonic/RXcHad/B02Dsttaunu/Run2/ntuples//norm/Bd_Dst3pi/Bd_Dst3pi_11266018_2016_down_Sim09e-ReDecay01.root\n",
      "/eos/lhcb/wg/semileptonic/RXcHad/B02Dsttaunu/Run2/ntuples//norm/data/data_90000000_2015_up.root\n",
      "/eos/lhcb/wg/semileptonic/RXcHad/B02Dsttaunu/Run2/ntuples//norm/data/data_90000000_2015_down.root\n",
      "/eos/lhcb/wg/semileptonic/RXcHad/B02Dsttaunu/Run2/ntuples//norm/data/data_90000000_2016_up.root\n",
      "/eos/lhcb/wg/semileptonic/RXcHad/B02Dsttaunu/Run2/ntuples//norm/data/data_90000000_2016_down.root\n"
     ]
    }
   ],
   "source": [
    "df_MC, df_tot_MC = load_data(years,magnets,type_data = 'MC')\n",
    "df, df_tot = load_data(years,magnets,type_data = 'data')"
   ]
  },
  {
   "cell_type": "code",
   "execution_count": 147,
   "metadata": {},
   "outputs": [
    {
     "name": "stdout",
     "output_type": "stream",
     "text": [
      "31573\n",
      "23692\n"
     ]
    }
   ],
   "source": [
    "print(len(df_tot['B0_M']))\n",
    "print(len(df_tot_MC['B0_M']))"
   ]
  },
  {
   "cell_type": "markdown",
   "metadata": {},
   "source": [
    "Now, I copy the function to plot histograms, from the notebook 2."
   ]
  },
  {
   "cell_type": "code",
   "execution_count": 148,
   "metadata": {},
   "outputs": [],
   "source": [
    "def list_into_string(L, sep = '_'):\n",
    "    string = \"\"\n",
    "    for l in L:\n",
    "        string += str(l)\n",
    "        string += sep\n",
    "    return string[:-len(sep)]\n",
    "\n",
    "def plot_hist(dfs, variable, name_variable, unit_variable, n_bins = 100, mode_hist = False, low = None, high = None):\n",
    "    \"\"\"\n",
    "    Plot the histogram of particle_variable, with number of bins = 100\n",
    "    \n",
    "    If df is a dictionnary:\n",
    "    dfs={name_data:panda_dataframe,...}\n",
    "    --> Plot several histograms in the same plot\n",
    "    \n",
    "    if mode_hist is on, I use histograms with density = True/False\n",
    "    \n",
    "    \"\"\"\n",
    "    \n",
    "    density = len(dfs)>1 # if there are more than 2 histograms\n",
    "    \n",
    "    fig, ax = plt.subplots(figsize=(8,6))\n",
    "    name_datas = list(dfs.keys())\n",
    "        \n",
    "    # Some features of the variable/particle\n",
    "#     units_var = variables[variable]['unit']\n",
    "#     name_var = variables[variable]['name']\n",
    "    #name_particle = particle_names[particle]\n",
    "    \n",
    "    \n",
    "    # Compute the number of bins\n",
    "    #bin_width = 4\n",
    "    \n",
    "    #First loop to determine the low and high value\n",
    "    define_low = low is None\n",
    "    define_high = high is None\n",
    "    if define_low or define_high:\n",
    "        if define_low: \n",
    "            low = np.inf\n",
    "        if define_high:\n",
    "            high = -np.inf\n",
    "        for name_data, df in dfs.items():\n",
    "            if define_low:\n",
    "                low = min(low,df[variable].min())\n",
    "            if define_high:\n",
    "                high = max(high,df[variable].max())\n",
    "\n",
    "    bin_width = (high-low)/n_bins\n",
    "    \n",
    "    colors = ['r','b','g','k']\n",
    "    k_col = 0\n",
    "    \n",
    "    labels = []\n",
    "    for name_data, df in dfs.items():\n",
    "        n_candidates = len(df[variable])\n",
    "        label= f\"{name_data}: {n_candidates} candidates\" if density else None\n",
    "        if mode_hist:\n",
    "            alpha = 0.5 if density else 1            \n",
    "            counts,_,_ = plt.hist(df[variable], range = [low,high],bins = n_bins, alpha = alpha,\n",
    "                                  label = label, density = density)\n",
    "            \n",
    "        else:\n",
    "            #Make the histogram, and get the bin centres and error on the counts in each bin\n",
    "            counts, bin_edges = np.histogram(df[variable], n_bins, range=(low,high))\n",
    "            bin_centres = (bin_edges[:-1] + bin_edges[1:])/2.\n",
    "            #Plot the bin centres and counts in each bin\n",
    "            err = np.sqrt(counts)\n",
    "            if density:\n",
    "                counts = counts/(n_candidates*bin_width)\n",
    "                err = err/(n_candidates*bin_width)\n",
    "            plt.errorbar(bin_centres, counts, yerr=err, fmt='o', color=colors[k_col], label = label)\n",
    "        k_col += 1\n",
    "              \n",
    "    #Some plot style stuff\n",
    "    #Set the x title\n",
    "    plt.xlabel(\"%s [%s]\" %(name_variable,unit_variable),fontsize=30)\n",
    "    \n",
    "    #Set the y-title, which is number of candidates per bin\n",
    "    ylabel = \"Proportion of candidates\" if density else \"Candidates\"\n",
    "    fontsize = 25 if density else 30\n",
    "    plt.ylabel(f\"{ylabel} / ({bin_width:.1g} {unit_variable})\", fontsize=fontsize)\n",
    "\n",
    "    #Set lower and upper range of the x-axis\n",
    "    plt.xlim(low,high)\n",
    "    \n",
    "    #Get the default y-limits, then redefine the plot to start at 0 and give it a bit more space on top (with the 1.1x)\n",
    "    ymin, ymax = plt.ylim()\n",
    "    plt.ylim(0.,ymax*1.2)\n",
    "\n",
    "    #Set the font size of the axis numbers\n",
    "    ax.tick_params(axis='both', which='major', labelsize=25)\n",
    "\n",
    "    #Legend\n",
    "    if density:\n",
    "        plt.legend(fontsize = 20)\n",
    "    \n",
    "    #Remove any space not needed around the plot\n",
    "    plt.tight_layout()\n",
    "\n",
    "    plt.show()\n",
    "\n",
    "    #Save the plot as a PDF document into our PLOTS folder (output/plots as defined in bd2dst3pi/locations.py)\n",
    "    fig.savefig(f\"{loc.PLOTS}/{variable}_{list_into_string(name_datas)}.pdf\")\n",
    "\n"
   ]
  },
  {
   "cell_type": "markdown",
   "metadata": {},
   "source": [
    "I define some variables/particles."
   ]
  },
  {
   "cell_type": "code",
   "execution_count": 149,
   "metadata": {},
   "outputs": [],
   "source": [
    "variables = {\n",
    "    'P' : {\n",
    "        'name': \"p\",\n",
    "        'unit': \"MeV/c\"\n",
    "    },\n",
    "    'PT': \n",
    "    {\n",
    "        'name': \"$p_T$\",\n",
    "        'unit': \"MeV/c\"\n",
    "    },\n",
    "    'M': \n",
    "    {\n",
    "        'name': \"$m$\",\n",
    "        'unit': \"MeV/$c^2$\"\n",
    "    },\n",
    "    'flight_z':\n",
    "    {\n",
    "        'name': \"$\\Delta z$\",\n",
    "        'unit': \"$\\mu m$\"\n",
    "    },\n",
    "    'flight_zsig':\n",
    "    {\n",
    "        'name': \"$\\Delta z$ significance\",\n",
    "        'unit': \"\"\n",
    "    }\n",
    "    \n",
    "}\n",
    "\n",
    "particle_names = {\n",
    "    'B0':'$D^{*-}\\pi^+\\pi^+\\pi^-$',\n",
    "    'Dst':'$D^*$',\n",
    "    'tau':'$\\pi^+ \\pi^+ \\pi^-$'\n",
    "}\n",
    "\n",
    "def plot_hist_particle(dfs, particle, variable, n_bins = 100, mode_hist = False, \n",
    "                       low = None, high = None):\n",
    "    name_variable = variables[variable]['name']\n",
    "    unit_variable = variables[variable]['unit']\n",
    "    \n",
    "    plot_hist(dfs, f\"{particle}_{variable}\", name_variable, unit_variable, n_bins = n_bins, mode_hist = mode_hist,\n",
    "             low = low, high = high)"
   ]
  },
  {
   "cell_type": "markdown",
   "metadata": {},
   "source": [
    "We define \n",
    "- the flight distance *tau_flight_z*\n",
    "- the error on the flight *distance tau_flight_zerr*\n",
    "- the flight in units of standard deviations (**flight significance**): ratio between those two quantities *tau_flight_zsig*"
   ]
  },
  {
   "cell_type": "code",
   "execution_count": 153,
   "metadata": {},
   "outputs": [],
   "source": [
    "for df_tot_e in df_tot_MC, df_tot:\n",
    "    df_tot_e[\"tau_flight_z\"] = df_tot_e[\"tau_ENDVERTEX_Z\"] - df_tot_e[\"B0_ENDVERTEX_Z\"]\n",
    "    df_tot_e[\"tau_flight_zerr\"] = np.sqrt(df_tot_e[\"tau_ENDVERTEX_ZERR\"]**2 + df_tot_e[\"B0_ENDVERTEX_ZERR\"]**2)\n",
    "    df_tot_e[\"tau_flight_zsig\"] = df_tot_e[\"tau_flight_z\"] / df_tot_e[\"tau_flight_zerr\"]"
   ]
  },
  {
   "cell_type": "markdown",
   "metadata": {},
   "source": [
    "Now, we plot tau_flight_z and tau_flight_zsig"
   ]
  },
  {
   "cell_type": "code",
   "execution_count": 154,
   "metadata": {},
   "outputs": [
    {
     "data": {
      "image/png": "[encoded data removed]",
      "text/plain": [
       "<Figure size 576x432 with 1 Axes>"
      ]
     },
     "metadata": {
      "needs_background": "light"
     },
     "output_type": "display_data"
    },
    {
     "data": {
      "image/png": "[encoded data removed]",
      "text/plain": [
       "<Figure size 576x432 with 1 Axes>"
      ]
     },
     "metadata": {
      "needs_background": "light"
     },
     "output_type": "display_data"
    }
   ],
   "source": [
    "plot_hist_particle({'MC':df_tot_MC}, 'tau', 'flight_z', n_bins = 100, mode_hist = False, low = -4, high = 4)\n",
    "plot_hist_particle({'MC':df_tot_MC}, 'tau', 'flight_zsig', n_bins = 100, mode_hist = False, low = -4, high = 4)\n",
    "#plot_hist_particle({'data':df_tot}, 'tau', 'flight_zsig', n_bins = 100, mode_hist = False, low = -4, high = 4)"
   ]
  },
  {
   "cell_type": "markdown",
   "metadata": {},
   "source": [
    "Now, let's compare the MC and data flight significance"
   ]
  },
  {
   "cell_type": "code",
   "execution_count": 155,
   "metadata": {},
   "outputs": [
    {
     "data": {
      "image/png": "[encoded data removed]",
      "text/plain": [
       "<Figure size 576x432 with 1 Axes>"
      ]
     },
     "metadata": {
      "needs_background": "light"
     },
     "output_type": "display_data"
    }
   ],
   "source": [
    "plot_hist_particle({'MC':df_tot_MC, 'data':df_tot}, 'tau', 'flight_zsig', n_bins = 100, low = -4, high = 4, mode_hist = True)"
   ]
  },
  {
   "cell_type": "markdown",
   "metadata": {},
   "source": [
    "The data is a bit broader. We can check that by dividing one by the other as we did in the notebook 2."
   ]
  },
  {
   "cell_type": "code",
   "execution_count": 159,
   "metadata": {},
   "outputs": [],
   "source": [
    "def plot_divide(dfs, variable, name_variable,unit_variable, n_bins = 100, low = None, high = None):\n",
    "    \"\"\"\n",
    "    dfs={name_data1:df1,name_data2:df2}\n",
    "    plot the (histogram name_data1)/(histogram of namedata2) AFTER NORMALISATION ofc.\n",
    "        \n",
    "    \"\"\"\n",
    "       \n",
    "    fig, ax = plt.subplots(figsize=(8,6))\n",
    "    name_datas = list(dfs.keys())\n",
    "    \n",
    "    # Compute the number of bins\n",
    "    #bin_width = 4\n",
    "    \n",
    "    ##First loop to determine the low and high value\n",
    "    define_low = low is None\n",
    "    define_high = high is None\n",
    "    if define_low or define_high:\n",
    "        if define_low: \n",
    "            low = np.inf\n",
    "        if define_high:\n",
    "            high = -np.inf\n",
    "        for name_data, df in dfs.items():\n",
    "            if define_low:\n",
    "                low = min(low,df[variable].min())\n",
    "            if define_high:\n",
    "                high = max(high,df[variable].max())\n",
    "    \n",
    "    bin_width = (high-low)/n_bins\n",
    "    \n",
    "    labels = []\n",
    "    #Make the histogram, and get the bin centres and error on the counts in each bin\n",
    "    list_dfs = list(dfs.values())\n",
    "    list_type_data = list(dfs.keys())\n",
    "    counts1, bin_edges = np.histogram(list_dfs[0][variable], n_bins, range=(low,high))\n",
    "    counts2, _ = np.histogram(list_dfs[1][variable], n_bins, range=(low,high))\n",
    "    bin_centres = (bin_edges[:-1] + bin_edges[1:])/2.\n",
    "    \n",
    "    err1 = np.sqrt(counts1)\n",
    "    err2 = np.sqrt(counts2)\n",
    "    \n",
    "    #division\n",
    "    \n",
    "    division = counts1*counts2.sum()/(counts2*counts1.sum()) \n",
    "    err = division*np.sqrt((err1/counts1)**2+(err2/counts2)**2)\n",
    "\n",
    "    plt.errorbar(bin_centres, division, yerr=err, fmt='o', color='k')\n",
    "    plt.plot([low,high], [1.,1.], linestyle='--', color='b',marker='')\n",
    "    #Some plot style stuff\n",
    "    #Set the x title\n",
    "    plt.xlabel(\"%s[%s]\" %(name_variable,unit_variable),fontsize=30)\n",
    "    \n",
    "    #Set the y-title, which is number of candidates per bin\n",
    "    plt.ylabel(\"candidates[%s] / candidates[%s] \\n / (%.1g {%s})\"%(list_type_data[0],\n",
    "                                                                   list_type_data[1],\n",
    "                                                                   bin_width,\n",
    "                                                                   unit_variable), \n",
    "               fontsize=30)\n",
    "\n",
    "    #Set lower and upper range of the x-axis\n",
    "    plt.xlim(low,high)\n",
    "    \n",
    "    #Get the default y-limits, then redefine the plot to start at 0 and give it a bit more space on top (with the 1.1x)\n",
    "    ymin, ymax = plt.ylim()\n",
    "    plt.ylim(0.,ymax*1.2)\n",
    "\n",
    "    #Set the font size of the axis numbers\n",
    "    ax.tick_params(axis='both', which='major', labelsize=25)\n",
    "\n",
    "    \n",
    "    #Remove any space not needed around the plot\n",
    "    plt.tight_layout()\n",
    "\n",
    "    plt.show()\n",
    "\n",
    "    #Save the plot as a PDF document into our PLOTS folder (output/plots as defined in bd2dst3pi/locations.py)\n",
    "    fig.savefig(f\"{loc.PLOTS}/{variable}_{list_into_string(name_datas,'_d_')}.pdf\")\n",
    "\n",
    "def plot_divide_particle(dfs, particle, variable, n_bins = 100,low = None, high = None):\n",
    "    name_variable = variables[variable]['name']\n",
    "    unit_variable = variables[variable]['unit']\n",
    "    \n",
    "    plot_divide(dfs, f\"{particle}_{variable}\", name_variable, unit_variable, n_bins = n_bins,\n",
    "             low = low, high = high)   "
   ]
  },
  {
   "cell_type": "code",
   "execution_count": 162,
   "metadata": {},
   "outputs": [
    {
     "data": {
      "image/png": "[encoded data removed]",
      "text/plain": [
       "<Figure size 576x432 with 1 Axes>"
      ]
     },
     "metadata": {
      "needs_background": "light"
     },
     "output_type": "display_data"
    }
   ],
   "source": [
    "plot_divide_particle({'MC':df_tot_MC, 'data':df_tot}, 'tau', 'flight_zsig', \n",
    "                     n_bins = 100, low = -4, high = 4)"
   ]
  },
  {
   "cell_type": "markdown",
   "metadata": {},
   "source": [
    "## Task 2 - Compare the efficiency of the flight cut in data and MC. Which one is higher, and why could that be?"
   ]
  },
  {
   "cell_type": "code",
   "execution_count": 166,
   "metadata": {},
   "outputs": [],
   "source": [
    "def cut_efficiency(df_tot):\n",
    "    df_cut = df_tot.query(\"abs(tau_flight_zsig) >= 2\")\n",
    "    n_pass = len(df_cut)\n",
    "    n_tot = len(df_tot)\n",
    "    print(f\"Number with high flight significance: {n_pass}\")\n",
    "    print(f\"Total number: {n_tot}\")\n",
    "    \n",
    "    eff = n_pass / n_tot\n",
    "    eff_err = binomial_err(n_tot, n_pass)\n",
    "    print(f\"Efficiency of abs(tau_flight_zsig) >= 2 cut: {eff:.3f} +/- {eff_err:.3f}\")\n",
    "    "
   ]
  },
  {
   "cell_type": "code",
   "execution_count": 170,
   "metadata": {},
   "outputs": [
    {
     "name": "stdout",
     "output_type": "stream",
     "text": [
      "======= MC ======= \n",
      "Number with high flight significance: 1800\n",
      "Total number: 23692\n",
      "Efficiency of abs(tau_flight_zsig) >= 2 cut: 0.076 +/- 0.002\n",
      "====== data ====== \n",
      "Number with high flight significance: 3349\n",
      "Total number: 31573\n",
      "Efficiency of abs(tau_flight_zsig) >= 2 cut: 0.106 +/- 0.002\n"
     ]
    }
   ],
   "source": [
    "print(\"======= MC ======= \")\n",
    "cut_efficiency(df_tot_MC)\n",
    "print(\"====== data ====== \")\n",
    "cut_efficiency(df_tot)"
   ]
  },
  {
   "cell_type": "markdown",
   "metadata": {},
   "source": [
    "The efficiency of the cut on the data distribution is higher than the MC simulated distribution.\n",
    "\n",
    "I guess that the MC one is the one we get if we only have signal (no background).\n",
    "The already-reconstructed data has still some remaining background, that makes the flight distribution broaded.\n",
    "By cutting on the data, we get a higher efficiency, that is, the proportion of events that is cut out is higher, since we also cut out background candidates."
   ]
  },
  {
   "cell_type": "markdown",
   "metadata": {},
   "source": [
    "## Task 3 - Can you calculate the 3-dimensional flight distance? You can use Pythagoras theorem to help, so $L = \\sqrt{x^2 + y^2 + z^2}$. How about the 3-dimensional flight significance?"
   ]
  },
  {
   "cell_type": "markdown",
   "metadata": {},
   "source": [
    "3-dimensional flight distance: $L = \\sqrt{x^2+y^2+z^2}$\n",
    "\n",
    "Error on $x^2$: $\\delta(x^2)=2x \\delta x$\\\n",
    "Error on $x^2+y^2+z^2$: $\\delta(x^2+y^2+z^2)=2x \\delta x+2y \\delta y + 2z \\delta z$\\\n",
    "Error on $L=\\sqrt{x^2+y^2+z^2}$: $\\delta L=\\frac{x \\delta x+y \\delta y + z \\delta z}{L}$\n"
   ]
  },
  {
   "cell_type": "code",
   "execution_count": null,
   "metadata": {},
   "outputs": [],
   "source": [
    "# We add some variables to the \"variables\" dictionnary\n",
    "variables['flight']={'name': \"$\\Delta L$\",'unit': \"$\\mu m$\"}\n",
    "variables['flight_sig']={'name': \"$\\Delta L$ significance\",'unit': \"\"}\n",
    "\n",
    "# We define the 3-dimensional flight distance\n",
    "for df_tot_e in df_tot_MC, df_tot:\n",
    "    for axis in 'X','Y','Z':\n",
    "        variable_flight = f\"tau_flight_{axis}\"\n",
    "        df_tot_e[f\"tau_flight_{axis}\"] = df_tot_e[f\"tau_ENDVERTEX_{axis}\"] - df_tot_e[f\"B0_ENDVERTEX_{axis}\"]\n",
    "        df_tot_e[f\"tau_flight_{axis}err\"] = np.sqrt(df_tot_e[f\"tau_ENDVERTEX_{axis}ERR\"]**2 + df_tot_e[f\"B0_ENDVERTEX_{axis}ERR\"]**2)\n",
    "        df_tot_e[f\"tau_flight_{axis}sig\"] = df_tot_e[f\"tau_flight_{axis}\"] / df_tot_e[f\"tau_flight_{axis}err\"]\n",
    "    \n",
    "    df_tot_e[f\"tau_flight\"] = np.sqrt(df_tot_e[f\"tau_flight_X\"]**2+df_tot_e[f\"tau_flight_Y\"]**2+df_tot_e[f\"tau_flight_Z\"]**2)\n",
    "    \n",
    "    df_tot_e[f\"tau_flight_err\"] = df_tot_e[f\"tau_flight_X\"]*df_tot_e[f\"tau_flight_Xerr\"]\n",
    "    df_tot_e[f\"tau_flight_err\"] += df_tot_e[f\"tau_flight_Y\"]*df_tot_e[f\"tau_flight_Yerr\"]\n",
    "    df_tot_e[f\"tau_flight_err\"] += df_tot_e[f\"tau_flight_Z\"]*df_tot_e[f\"tau_flight_Zerr\"]\n",
    "    df_tot_e[f\"tau_flight_err\"] /= df_tot_e[f\"tau_flight\"]\n",
    "    \n",
    "    df_tot_e[f\"tau_flight_sig\"]=f_tot_e[f\"tau_flight\"]/df_tot_e[f\"tau_flight_err\"]\n",
    "    \n",
    "    "
   ]
  },
  {
   "cell_type": "code",
   "execution_count": null,
   "metadata": {},
   "outputs": [],
   "source": []
  },
  {
   "cell_type": "code",
   "execution_count": null,
   "metadata": {},
   "outputs": [],
   "source": []
  }
 ],
 "metadata": {
  "kernelspec": {
   "display_name": "bd2dst3pi_env",
   "language": "python",
   "name": "bd2dst3pi_env"
  },
  "language_info": {
   "codemirror_mode": {
    "name": "ipython",
    "version": 3
   },
   "file_extension": ".py",
   "mimetype": "text/x-python",
   "name": "python",
   "nbconvert_exporter": "python",
   "pygments_lexer": "ipython3",
   "version": "3.7.8"
  }
 },
 "nbformat": 4,
 "nbformat_minor": 4
}
