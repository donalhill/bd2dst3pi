{
 "cells": [
  {
   "cell_type": "markdown",
   "metadata": {},
   "source": [
    "# 1. Loading the data with root_pandas and making a plot with matplotlib\n",
    "\n",
    "In this example, we load the $B^0 \\to D^{*-} \\pi^+ \\pi^+ \\pi^-$ data and make a nice plot of the $B^0$ invariant mass with `matplotlib`.\n",
    "\n",
    "First some imports of stuff we need:"
   ]
  },
  {
   "cell_type": "code",
   "execution_count": 9,
   "metadata": {},
   "outputs": [],
   "source": [
    "from root_pandas import read_root\n",
    "import matplotlib.pyplot as plt\n",
    "from bd2dst3pi.locations import loc\n",
    "from bd2dst3pi.definitions import years, magnets\n",
    "import numpy as np\n",
    "\n",
    "#Gives us nice LaTeX fonts in the plots\n",
    "from matplotlib import rc\n",
    "rc('font',**{'family':'serif','serif':['Roman']})\n",
    "rc('text', usetex=True)"
   ]
  },
  {
   "cell_type": "markdown",
   "metadata": {},
   "source": [
    "Here we load the data for each year and magnet polarity into a `pandas` DataFrame. We specify the variable we want to look at (`B0_M`) - this list can be added to in order to load more variables. You can also run the `read_root` command without giving a `columns` argument, which will load all of the `ROOT` file branches."
   ]
  },
  {
   "cell_type": "code",
   "execution_count": 4,
   "metadata": {},
   "outputs": [],
   "source": [
    "file_list = []\n",
    "for y in years:\n",
    "    for m in magnets:\n",
    "        file_list.append(f\"{loc.DATA}/data_90000000_{y}_{m}.root\")\n",
    "tree_name = \"DecayTree\"\n",
    "vars = [\"B0_M\"]\n",
    "df = read_root(file_list, tree_name, columns=vars)"
   ]
  },
  {
   "cell_type": "markdown",
   "metadata": {},
   "source": [
    "Here we have loaded the `TTree` called `DecayTree` from a collection of `ROOT` files, one for each year and magnet. Note that the years and magnets are specified in `bd2dst3pi/definitions.py`. Loading in this way is similar to `TChain` in `ROOT`.\n",
    "\n",
    "We can calculate some properties of the `B0_M` variable, like the mean and standard deviation:"
   ]
  },
  {
   "cell_type": "code",
   "execution_count": 6,
   "metadata": {},
   "outputs": [
    {
     "name": "stdout",
     "output_type": "stream",
     "text": [
      "B0_M mu = 5275.54, B0_M sigma = 27.87\n"
     ]
    }
   ],
   "source": [
    "mu = df[\"B0_M\"].mean()\n",
    "sigma = df[\"B0_M\"].std()\n",
    "print(f\"B0_M mu = {mu:.2f}, B0_M sigma = {sigma:.2f}\")"
   ]
  },
  {
   "cell_type": "markdown",
   "metadata": {},
   "source": [
    "We are using a nice feature in Python 3 called `f-strings` here when printing. This lets you put a variable directly into a string by doing `{var}`. We specify the number of decimals by doing `{var:2f}`, where `2` gives us two decimal places.\n",
    "\n",
    "Now we can make a plot of the $B^0$ mass. One handy way to quickly check a distribution is by doing:"
   ]
  },
  {
   "cell_type": "code",
   "execution_count": 15,
   "metadata": {
    "scrolled": true
   },
   "outputs": [
    {
     "data": {
      "image/png": "[encoded data removed]",
      "text/plain": [
       "<Figure size 432x288 with 1 Axes>"
      ]
     },
     "metadata": {
      "needs_background": "light"
     },
     "output_type": "display_data"
    }
   ],
   "source": [
    "bin_width = 4\n",
    "low = df[\"B0_M\"].min()\n",
    "high = df[\"B0_M\"].max()\n",
    "n_bins = int((high - low)/bin_width)\n",
    "plt.hist(df[\"B0_M\"], bins=n_bins)\n",
    "plt.show()"
   ]
  },
  {
   "cell_type": "markdown",
   "metadata": {},
   "source": [
    "To make a fancier plot, we can make a `numpy` histogram of the data and then plot it as an errorbar plot:"
   ]
  },
  {
   "cell_type": "code",
   "execution_count": 18,
   "metadata": {},
   "outputs": [
    {
     "data": {
      "image/png": "[encoded data removed]",
      "text/plain": [
       "<Figure size 576x432 with 1 Axes>"
      ]
     },
     "metadata": {
      "needs_background": "light"
     },
     "output_type": "display_data"
    }
   ],
   "source": [
    "fig, ax = plt.subplots(figsize=(8,6))\n",
    "\n",
    "#Make the histogram, and get the bin centres and error on the counts in each bin\n",
    "counts, bin_edges = np.histogram(df[\"B0_M\"], n_bins, range=(low,high))\n",
    "bin_centres = (bin_edges[:-1] + bin_edges[1:])/2.\n",
    "err = np.sqrt(counts)\n",
    "\n",
    "#Plot the bin centres and counts in each bin\n",
    "plt.errorbar(bin_centres, counts, yerr=err, fmt='o', color='k')\n",
    "\n",
    "#Some plot style stuff\n",
    "\n",
    "#Units for the x-axis (B0_M is in MeV)\n",
    "units = \"MeV/$c^2$\"\n",
    "\n",
    "#Set the x title\n",
    "plt.xlabel(\"$m(D^{*-}\\pi^+\\pi^+\\pi^-)$ [%s]\" % units,fontsize=30)\n",
    "\n",
    "#Set the y-title, which is number of candidates per bin\n",
    "plt.ylabel(f\"Candidates / ({bin_width:.1f} {units})\", fontsize=30)\n",
    "\n",
    "#Set lower and upper range of the x-axis\n",
    "plt.xlim(low,high)\n",
    "\n",
    "#Get the default y-limits, then redefine the plot to start at 0 and give it a bit more space on top (with the 1.1x)\n",
    "ymin, ymax = plt.ylim()\n",
    "plt.ylim(0.,ymax*1.1)\n",
    "\n",
    "#Set the font size of the axis numbers\n",
    "ax.tick_params(axis='both', which='major', labelsize=25)\n",
    "\n",
    "#Remove any space not needed around the plot\n",
    "plt.tight_layout()\n",
    "\n",
    "plt.show()\n",
    "\n",
    "#Save the plot as a PDF document into our PLOTS folder (output/plots as defined in bd2dst3pi/locations.py)\n",
    "fig.savefig(f\"{loc.PLOTS}/B0_M_data.pdf\")"
   ]
  },
  {
   "cell_type": "markdown",
   "metadata": {},
   "source": [
    "The data we are working with already has selection cuts applied, so you can see that the peak is very clean. There is some background, and we will work to fit this distribution as part of the project to measure the normalisation mode yield."
   ]
  },
  {
   "cell_type": "markdown",
   "metadata": {},
   "source": [
    "**Follow-up tasks**\n",
    "\n",
    "- Can you add more variables and make plots of those? Try to do this in a nice way using loops and Python dictionaries.\n",
    "\n",
    "- Can you also load the Monte Carlo in a similar way and plot it?\n",
    "\n",
    "- Can you plot the data and MC on the same plots? Try using the `density=True` option in your histograms in order to make normalised data and MC histograms. They will then have the same area, and can be compared directly. "
   ]
  }
 ],
 "metadata": {
  "kernelspec": {
   "display_name": "bd2dst3pi_env",
   "language": "python",
   "name": "bd2dst3pi_env"
  },
  "language_info": {
   "codemirror_mode": {
    "name": "ipython",
    "version": 3
   },
   "file_extension": ".py",
   "mimetype": "text/x-python",
   "name": "python",
   "nbconvert_exporter": "python",
   "pygments_lexer": "ipython3",
   "version": "3.7.8"
  }
 },
 "nbformat": 4,
 "nbformat_minor": 4
}
