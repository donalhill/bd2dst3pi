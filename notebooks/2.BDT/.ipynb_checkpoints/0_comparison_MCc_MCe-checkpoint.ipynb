{
 "cells": [
  {
   "cell_type": "markdown",
   "metadata": {},
   "source": [
    "# MC vs signal peak of data\n",
    "\n",
    "Goal: Compare the training variables for the MCc and the MCe, where\n",
    "- `MCc`: old version of LHCb simulated data\n",
    "- `MCe`: new version of LHCb simulated data\n",
    "\n",
    "The purpose of this is to check if we can use `MCc` for the training of the BDTs."
   ]
  },
  {
   "cell_type": "code",
   "execution_count": 1,
   "metadata": {},
   "outputs": [
    {
     "name": "stdout",
     "output_type": "stream",
     "text": [
      "Welcome to JupyROOT 6.22/02\n"
     ]
    }
   ],
   "source": [
    "from bd2dst3pi.locations import loc\n",
    "from bd2dst3pi.definition import years, magnets\n",
    "from bd2dst3pi.pandas_root import load_data, add_constr_Dst\n",
    "\n",
    "import sys\n",
    "sys.path.append(loc.ROOT + 'library/')\n",
    "\n",
    "from HEA.plot import plot_hist_auto, plot_hist\n",
    "from HEA.tools import show_dictionnary\n",
    "from HEA.plot.tools import save_fig\n",
    "from HEA.pandas_root import save_root, load_saved_root, get_dataframe_from_raw_branches_functions\n",
    "\n",
    "from HEA import (\n",
    "    get_branches_from_raw_branches_functions,\n",
    "    get_raw_branches_from_raw_branches_functions\n",
    ")"
   ]
  },
  {
   "cell_type": "code",
   "execution_count": 2,
   "metadata": {},
   "outputs": [],
   "source": [
    "from numpy import log"
   ]
  },
  {
   "cell_type": "code",
   "execution_count": 3,
   "metadata": {},
   "outputs": [],
   "source": [
    "data_name = 'common_B0TODst3pi_Dst_constr'\n",
    "branch = 'Dst_constr_B0_M'"
   ]
  },
  {
   "cell_type": "markdown",
   "metadata": {},
   "source": [
    "## Load data"
   ]
  },
  {
   "cell_type": "markdown",
   "metadata": {},
   "source": [
    "### Variables"
   ]
  },
  {
   "cell_type": "code",
   "execution_count": 4,
   "metadata": {},
   "outputs": [],
   "source": [
    "raw_branches_functions = [\n",
    "    'B0_ETA',\n",
    "    ('B0_DIRA_OWNPV', 'ln(1-x)'),\n",
    "    (('B0_ENDVERTEX_CHI2', 'B0_ENDVERTEX_NDOF'), 'x/y'),\n",
    "    'B0_PT',\n",
    "    ('B0_FDCHI2_OWNPV', 'ln(x)'),\n",
    "    'B0_IP_OWNPV',\n",
    "    'B0_FD_OWNPV',\n",
    "\n",
    "    'Dst_ETA',\n",
    "    ('Dst_DIRA_OWNPV', 'ln(1-x)'),\n",
    "    'Dst_PT',\n",
    "    ('Dst_FDCHI2_OWNPV', 'ln(x)'),\n",
    "    ('Dst_IPCHI2_OWNPV', 'ln(x)'),\n",
    "    'Dst_IP_OWNPV',\n",
    "    'Dst_FD_OWNPV',\n",
    "\n",
    "    'D0_ETA',\n",
    "    ('D0_DIRA_OWNPV', 'ln(1-x)'),\n",
    "    (('D0_ENDVERTEX_CHI2', 'D0_ENDVERTEX_NDOF'), 'x/y'),\n",
    "    'D0_PT',\n",
    "    ('D0_FDCHI2_OWNPV', 'ln(x)'),\n",
    "    ('D0_IPCHI2_OWNPV', 'ln(x)'),\n",
    "    'D0_IP_OWNPV',\n",
    "    'D0_FD_OWNPV',\n",
    "\n",
    "    'tau_ETA',\n",
    "    ('tau_DIRA_OWNPV', 'ln(1-x)'),\n",
    "    (('tau_ENDVERTEX_CHI2', 'tau_ENDVERTEX_NDOF'), 'x/y'), \n",
    "    'tau_PT',\n",
    "    ('tau_FDCHI2_OWNPV', 'ln(x)'),\n",
    "    ('tau_IPCHI2_OWNPV', 'ln(x)'),\n",
    "    'tau_IP_OWNPV',\n",
    "    'tau_FD_OWNPV',\n",
    "\n",
    "    'Dst_pion_ETA',\n",
    "    'Dst_pion_PT',\n",
    "    ('Dst_pion_IPCHI2_OWNPV', 'ln(x)'),\n",
    "\n",
    "    'D0_kaon_ETA',\n",
    "    'D0_kaon_PT',\n",
    "    ('D0_kaon_IPCHI2_OWNPV', 'ln(x)'),\n",
    "\n",
    "    'D0_pion_ETA',\n",
    "    'D0_pion_PT',\n",
    "    ('D0_pion_IPCHI2_OWNPV', 'ln(x)')\n",
    "]"
   ]
  },
  {
   "cell_type": "code",
   "execution_count": 5,
   "metadata": {},
   "outputs": [],
   "source": [
    "raw_branches = get_raw_branches_from_raw_branches_functions(raw_branches_functions)\n",
    "# print(variables)"
   ]
  },
  {
   "cell_type": "code",
   "execution_count": 6,
   "metadata": {},
   "outputs": [],
   "source": [
    "branches = get_branches_from_raw_branches_functions(raw_branches_functions)"
   ]
  },
  {
   "cell_type": "code",
   "execution_count": 7,
   "metadata": {},
   "outputs": [],
   "source": [
    "add_branches = ['tau_M', 'Dst_M', 'D0_M', 'B0_M']"
   ]
  },
  {
   "cell_type": "code",
   "execution_count": 8,
   "metadata": {},
   "outputs": [],
   "source": [
    "df = {}"
   ]
  },
  {
   "cell_type": "code",
   "execution_count": 9,
   "metadata": {
    "scrolled": false
   },
   "outputs": [
    {
     "name": "stdout",
     "output_type": "stream",
     "text": [
      "Loading /eos/lhcb/wg/semileptonic/RXcHad/B02Dsttaunu/Run2/ntuples//norm/Bd_Dst3pi/Bd_Dst3pi_11266018_2015_up_Sim09c-ReDecay01.root\n",
      "Loading /eos/lhcb/wg/semileptonic/RXcHad/B02Dsttaunu/Run2/ntuples//norm/Bd_Dst3pi/Bd_Dst3pi_11266018_2015_down_Sim09c-ReDecay01.root\n",
      "Loading /eos/lhcb/wg/semileptonic/RXcHad/B02Dsttaunu/Run2/ntuples//norm/Bd_Dst3pi/Bd_Dst3pi_11266018_2016_up_Sim09c-ReDecay01.root\n",
      "Loading /eos/lhcb/wg/semileptonic/RXcHad/B02Dsttaunu/Run2/ntuples//norm/Bd_Dst3pi/Bd_Dst3pi_11266018_2016_down_Sim09c-ReDecay01.root\n",
      "Loading /eos/lhcb/wg/semileptonic/RXcHad/B02Dsttaunu/Run2/ntuples//norm/Bd_Dst3pi/Bd_Dst3pi_11266018_2015_up_Sim09e-ReDecay01.root\n",
      "Loading /eos/lhcb/wg/semileptonic/RXcHad/B02Dsttaunu/Run2/ntuples//norm/Bd_Dst3pi/Bd_Dst3pi_11266018_2015_down_Sim09e-ReDecay01.root\n",
      "Loading /eos/lhcb/wg/semileptonic/RXcHad/B02Dsttaunu/Run2/ntuples//norm/Bd_Dst3pi/Bd_Dst3pi_11266018_2016_up_Sim09e-ReDecay01.root\n",
      "Loading /eos/lhcb/wg/semileptonic/RXcHad/B02Dsttaunu/Run2/ntuples//norm/Bd_Dst3pi/Bd_Dst3pi_11266018_2016_down_Sim09e-ReDecay01.root\n"
     ]
    }
   ],
   "source": [
    "df['MCc'] = load_data(years, magnets, 'MCc', vars=raw_branches+add_branches)\n",
    "df['MCe'] = load_data(years, magnets, 'MC', vars=raw_branches+add_branches)\n",
    "# df['MC']  = add_constr_Dst(df['MC'])"
   ]
  },
  {
   "cell_type": "code",
   "execution_count": 10,
   "metadata": {},
   "outputs": [],
   "source": [
    "df['MCc'] = add_constr_Dst(df['MCc'])"
   ]
  },
  {
   "cell_type": "code",
   "execution_count": 11,
   "metadata": {},
   "outputs": [],
   "source": [
    "df['MCe'] = add_constr_Dst(df['MCe'])"
   ]
  },
  {
   "cell_type": "code",
   "execution_count": 12,
   "metadata": {
    "scrolled": false
   },
   "outputs": [
    {
     "name": "stderr",
     "output_type": "stream",
     "text": [
      "/afs/cern.ch/work/c/correian/miniconda/envs/bd2dst3pi_env/lib/python3.7/site-packages/pandas/core/series.py:726: RuntimeWarning: invalid value encountered in log\n",
      "  result = getattr(ufunc, method)(*inputs, **kwargs)\n"
     ]
    }
   ],
   "source": [
    "df['training_MCc'] = get_dataframe_from_raw_branches_functions(df['MCc'], raw_branches_functions)\n",
    "df['training_MCe'] = get_dataframe_from_raw_branches_functions(df['MCe'], raw_branches_functions)"
   ]
  },
  {
   "cell_type": "markdown",
   "metadata": {},
   "source": [
    "## Compare `MCc` and `MCe`"
   ]
  },
  {
   "cell_type": "markdown",
   "metadata": {},
   "source": [
    "### Range of the variables"
   ]
  },
  {
   "cell_type": "code",
   "execution_count": 13,
   "metadata": {},
   "outputs": [],
   "source": [
    "range_dic = {\n",
    "    'B0_PT': [0,35000],\n",
    "    'Dst_PT':[0,30000],\n",
    "    'tau_PT':[0,18000],\n",
    "    'Dst_pion_PT':[0,2300],\n",
    "    'Dst_kaon_PT':[0,2300],\n",
    "    'D0_pion_PT':[0,20000],\n",
    "    'D0_kaon_PT':[0,20000],\n",
    "    'D0_PT':[0,3000],\n",
    "    'B0_ENDVERTEX_CHI2':[0,60],\n",
    "    'tau_ENDVERTEX_CHI2':[None,None],\n",
    "    'B0_OWNPV_CHI2':[None,None],    \n",
    "    'B0_FDCHI2_OWNPV':[0, 13000], \n",
    "    'B0_DIRA_OWNPV':[0.99996, 1], \n",
    "    'Dst_IPCHI2_OWNPV':[0, 2000], \n",
    "    'D0_kaon_IPCHI2_OWNPV':[0, 20000], \n",
    "    'D0_kaon_IPCHI2_OWNPV':[0, 20000], \n",
    "    'D0_pion_IPCHI2_OWNPV':[0, 20000], \n",
    "    'pion_IPCHI2_OWNPV':[0, 2000], \n",
    "    'tau_FDCHI2_OWNPV':[0, 200000], \n",
    "    'tau_FD_OWNPV':[0, 500], \n",
    "    'tau_pion0_TRACK_CHI2NDOF':[None,None], \n",
    "    'tau_pion1_TRACK_CHI2NDOF':[None,None], \n",
    "    'tau_pion2_TRACK_CHI2NDOF':[None,None],\n",
    "    'D0_ENDVERTEX_CHI2,D0_ENDVERTEX_NDOF:x/y':[0, 10],\n",
    "    'B0_ENDVERTEX_CHI2,B0_ENDVERTEX_NDOF:x/y':[0, 10],\n",
    "    'B0_IP_OWNPV':[0, 0.1], \n",
    "    'D0_IP_OWNPV':[0, 2], \n",
    "    'Dst_IP_OWNPV':[0, 2], \n",
    "    'tau_IP_OWNPV':[0, 4], \n",
    "    'B0_FD_OWNPV':[0, 100], \n",
    "    'Dst_FD_OWNPV':[0, 200], \n",
    "    'tau_FD_OWNPV':[0, 150], \n",
    "    'D0_FD_OWNPV':[0, 200], \n",
    "}"
   ]
  },
  {
   "cell_type": "markdown",
   "metadata": {},
   "source": [
    "### Plots"
   ]
  },
  {
   "cell_type": "code",
   "execution_count": 17,
   "metadata": {
    "scrolled": false
   },
   "outputs": [
    {
     "name": "stdout",
     "output_type": "stream",
     "text": [
      "=====================  B0_DIRA_OWNPV:ln(1-x) =====================\n"
     ]
    },
    {
     "name": "stderr",
     "output_type": "stream",
     "text": [
      "findfont: Font family ['serif'] not found. Falling back to DejaVu Sans.\n"
     ]
    },
    {
     "name": "stdout",
     "output_type": "stream",
     "text": [
      "Figure saved in /afs/cern.ch/user/c/correian/bd2dst3pi/output/plots//MCc_MCe/variables/B0_DIRA_OWNPV:ln(1-x)_Signal_Background\n"
     ]
    },
    {
     "data": {
      "image/png": "[encoded data removed]",
      "text/plain": [
       "<Figure size 576x432 with 1 Axes>"
      ]
     },
     "metadata": {
      "needs_background": "light"
     },
     "output_type": "display_data"
    }
   ],
   "source": [
    "for branch in ['B0_DIRA_OWNPV:ln(1-x)']:\n",
    "    print(f\"=====================  {branch} =====================\")\n",
    "    \n",
    "    if branch in range_dic:\n",
    "        low = range_dic[branch][0]\n",
    "        high = range_dic[branch][1]\n",
    "    else:\n",
    "        low = None\n",
    "        high = None\n",
    "        \n",
    "    fig, ax = plot_hist_auto({'MCc': df['training_MCc'], 'MCe': df['training_MCe']}, branch, alpha=0.5, \n",
    "                         n_bins=40, bar_mode = True, colors=['g', 'r'], low=None, high=None, \n",
    "                         pos_text_LHC=[0.05, 0.95, 'left'], \n",
    "                         show_ncounts=False, save_fig=False)\n",
    "    save_fig(fig, f'{branch}_Signal_Background',folder_name=f'MCc_MCe/variables/')"
   ]
  },
  {
   "cell_type": "code",
   "execution_count": 19,
   "metadata": {
    "scrolled": true
   },
   "outputs": [
    {
     "name": "stdout",
     "output_type": "stream",
     "text": [
      "=====================  B0_ETA =====================\n",
      "Figure saved in /afs/cern.ch/user/c/correian/bd2dst3pi/output/plots//MCc_MCe/B0_ETA_MCc_MCe\n"
     ]
    },
    {
     "data": {
      "image/png": "[encoded data removed]",
      "text/plain": [
       "<Figure size 576x432 with 1 Axes>"
      ]
     },
     "metadata": {
      "needs_background": "light"
     },
     "output_type": "display_data"
    }
   ],
   "source": [
    "for branch in branches:\n",
    "    print(f\"=====================  {branch} =====================\")\n",
    "    \n",
    "    if branch in range_dic:\n",
    "        low = range_dic[branch][0]\n",
    "        high = range_dic[branch][1]\n",
    "    else:\n",
    "        low = None\n",
    "        high = None\n",
    "    \n",
    "    fig, ax = plot_hist_auto({'MCc': df['training_MCc'], 'MCe': df['training_MCe']}, branch, alpha=0.5, \n",
    "                         n_bins=40, bar_mode = True, colors=['g', 'r'], low=low, high=high, \n",
    "                         pos_text_LHC=[0.95, 0.73, 'right'], \n",
    "                         show_ncounts=False)"
   ]
  },
  {
   "cell_type": "code",
   "execution_count": 20,
   "metadata": {},
   "outputs": [
    {
     "name": "stdout",
     "output_type": "stream",
     "text": [
      "Figure saved in /afs/cern.ch/user/c/correian/bd2dst3pi/output/plots//MCc_MCe/B0_ETA_MCc_MCe\n"
     ]
    },
    {
     "data": {
      "image/png": "[encoded data removed]",
      "text/plain": [
       "<Figure size 576x432 with 1 Axes>"
      ]
     },
     "metadata": {
      "needs_background": "light"
     },
     "output_type": "display_data"
    }
   ],
   "source": [
    "fig, ax = plot_hist_auto({'MCc': df['MCc'], 'MCe': df['MCe']}, branch, alpha=0.5, \n",
    "                         n_bins=100, bar_mode = True, colors=['g', 'r'], low=None, high=None, \n",
    "                         show_ncounts=False)"
   ]
  },
  {
   "cell_type": "code",
   "execution_count": null,
   "metadata": {},
   "outputs": [],
   "source": []
  }
 ],
 "metadata": {
  "kernelspec": {
   "display_name": "bd2dst3pi_env",
   "language": "python",
   "name": "bd2dst3pi_env"
  },
  "language_info": {
   "codemirror_mode": {
    "name": "ipython",
    "version": 3
   },
   "file_extension": ".py",
   "mimetype": "text/x-python",
   "name": "python",
   "nbconvert_exporter": "python",
   "pygments_lexer": "ipython3",
   "version": "3.7.8"
  }
 },
 "nbformat": 4,
 "nbformat_minor": 4
}
