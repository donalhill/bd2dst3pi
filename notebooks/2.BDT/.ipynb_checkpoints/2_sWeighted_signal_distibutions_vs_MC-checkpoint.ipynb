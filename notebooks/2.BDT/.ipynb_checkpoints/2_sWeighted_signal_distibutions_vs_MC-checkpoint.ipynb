{
 "cells": [
  {
   "cell_type": "markdown",
   "metadata": {},
   "source": [
    "# MC vs signal peak of data\n",
    "\n",
    "Goal: Compare the training variables for the MC and for the signal component of the LHCb data (using sWeights)"
   ]
  },
  {
   "cell_type": "code",
   "execution_count": 1,
   "metadata": {},
   "outputs": [],
   "source": [
    "data_name = 'common_B0TODst3pi_Dst_constr'\n",
    "branch = 'Dst_constr_B0_M'"
   ]
  },
  {
   "cell_type": "code",
   "execution_count": 2,
   "metadata": {},
   "outputs": [
    {
     "name": "stdout",
     "output_type": "stream",
     "text": [
      "Welcome to JupyROOT 6.22/02\n"
     ]
    }
   ],
   "source": [
    "from bd2dst3pi.locations import loc\n",
    "from bd2dst3pi.definition import years, magnets\n",
    "from bd2dst3pi.pandas_root import load_data, add_constr_Dst\n",
    "\n",
    "import sys\n",
    "sys.path.append(loc.ROOT + 'library/')\n",
    "\n",
    "from HEA.plot import plot_hist_auto, plot_hist\n",
    "from HEA.tools import show_dictionnary\n",
    "from HEA.plot.tools import save_fig\n",
    "from HEA.pandas_root import save_root, load_saved_root, get_dataframe_from_raw_branches_functions\n",
    "\n",
    "from HEA import (\n",
    "    get_branches_from_raw_branches_functions,\n",
    "    get_raw_branches_from_raw_branches_functions\n",
    ")"
   ]
  },
  {
   "cell_type": "code",
   "execution_count": 3,
   "metadata": {},
   "outputs": [],
   "source": [
    "from numpy import log"
   ]
  },
  {
   "cell_type": "markdown",
   "metadata": {},
   "source": [
    "## Load data"
   ]
  },
  {
   "cell_type": "markdown",
   "metadata": {},
   "source": [
    "### Training variables"
   ]
  },
  {
   "cell_type": "code",
   "execution_count": 4,
   "metadata": {},
   "outputs": [],
   "source": [
    "raw_branches_functions = [\n",
    "    ('B0_DIRA_OWNPV', 'ln(1-x)'),\n",
    "    (('B0_ENDVERTEX_CHI2', 'B0_ENDVERTEX_NDOF'), 'x/y'),\n",
    "    'B0_PT',\n",
    "    ('B0_FDCHI2_OWNPV', 'ln(x)'),\n",
    "    'B0_IP_OWNPV', # much better with it\n",
    "#     'B0_FD_OWNPV',\n",
    "\n",
    "    ('Dst_DIRA_OWNPV', 'ln(1-x)'), # better with it\n",
    "    'Dst_PT',\n",
    "#     'Dst_FDCHI2_OWNPV', # worse with it\n",
    "    'Dst_IPCHI2_OWNPV',\n",
    "    'Dst_IP_OWNPV',\n",
    "#     'Dst_FD_OWNPV', # different for sWeighted and MC\n",
    "\n",
    "#     ('D0_DIRA_OWNPV', 'ln(1-x)'), # worst with it # different for sWeighted and MC\n",
    "#     (('D0_ENDVERTEX_CHI2', 'D0_ENDVERTEX_NDOF'), 'x/y'),\n",
    "    'D0_PT',\n",
    "    ('D0_FDCHI2_OWNPV', 'ln(x)'),\n",
    "    ('D0_IPCHI2_OWNPV', 'ln(x)'),\n",
    "    'D0_IP_OWNPV',\n",
    "#     'D0_FD_OWNPV', # different for sWeighted and MC\n",
    "\n",
    "#     ('tau_DIRA_OWNPV', 'ln(1-x)'), # different for sWeighted and MC\n",
    "    (('tau_ENDVERTEX_CHI2', 'tau_ENDVERTEX_NDOF'), 'x/y'), # a bit worse without it \n",
    "    'tau_PT',\n",
    "    ('tau_FDCHI2_OWNPV', 'ln(x)'),\n",
    "    ('tau_IPCHI2_OWNPV', 'ln(x)'),\n",
    "    'tau_IP_OWNPV',\n",
    "#     'tau_FD_OWNPV', # better without it # different for sWeighted and MC\n",
    "\n",
    "    'Dst_pion_PT',\n",
    "    ('Dst_pion_IPCHI2_OWNPV', 'ln(x)'),\n",
    "\n",
    "    'D0_kaon_PT',\n",
    "    ('D0_kaon_IPCHI2_OWNPV', 'ln(x)'),\n",
    "\n",
    "    'D0_pion_PT', # better with it\n",
    "    ('D0_pion_IPCHI2_OWNPV', 'ln(x)'),\n",
    "       \n",
    "#     'B0_ETA', # different for sWeighted and MC\n",
    "#     'Dst_ETA', # different for sWeighted and MC\n",
    "#     'D0_ETA', # different for sWeighted and MC\n",
    "#     'tau_ETA', # different for sWeighted and MC\n",
    "#     'Dst_pion_ETA', # different for sWeighted and MC\n",
    "#     'D0_kaon_ETA', # different for sWeighted and MC\n",
    "#     'D0_pion_ETA', # different for sWeighted and MC\n",
    "]"
   ]
  },
  {
   "cell_type": "code",
   "execution_count": 5,
   "metadata": {},
   "outputs": [],
   "source": [
    "raw_branches = get_raw_branches_from_raw_branches_functions(raw_branches_functions)\n",
    "# print(variables)"
   ]
  },
  {
   "cell_type": "code",
   "execution_count": 8,
   "metadata": {},
   "outputs": [],
   "source": [
    "branches = get_branches_from_raw_branches_functions(raw_branches_functions)"
   ]
  },
  {
   "cell_type": "code",
   "execution_count": 9,
   "metadata": {},
   "outputs": [],
   "source": [
    "add_branches = ['tau_M', 'Dst_M', 'D0_M']"
   ]
  },
  {
   "cell_type": "markdown",
   "metadata": {},
   "source": [
    "### Load `common` (with sWeights) and `MC` dataframes"
   ]
  },
  {
   "cell_type": "code",
   "execution_count": 10,
   "metadata": {},
   "outputs": [],
   "source": [
    "df = {}"
   ]
  },
  {
   "cell_type": "code",
   "execution_count": 11,
   "metadata": {
    "scrolled": false
   },
   "outputs": [
    {
     "name": "stdout",
     "output_type": "stream",
     "text": [
      "Loading /afs/cern.ch/user/c/correian/bd2dst3pi/output//root/common/common_B0TODst3pi_Dst_constr_sWeights.root\n"
     ]
    }
   ],
   "source": [
    "df['common'] = load_saved_root(data_name+'_sWeights', tree_name='DecayTree', folder_name='common', \n",
    "                               vars=raw_branches + add_branches+['sWeight', branch])"
   ]
  },
  {
   "cell_type": "code",
   "execution_count": 12,
   "metadata": {
    "scrolled": false
   },
   "outputs": [
    {
     "name": "stdout",
     "output_type": "stream",
     "text": [
      "Loading /eos/lhcb/wg/semileptonic/RXcHad/B02Dsttaunu/Run2/ntuples//norm/Bd_Dst3pi/Bd_Dst3pi_11266018_2015_up_Sim09e-ReDecay01.root\n",
      "Loading /eos/lhcb/wg/semileptonic/RXcHad/B02Dsttaunu/Run2/ntuples//norm/Bd_Dst3pi/Bd_Dst3pi_11266018_2015_up_Sim09c-ReDecay01.root\n",
      "Loading /eos/lhcb/wg/semileptonic/RXcHad/B02Dsttaunu/Run2/ntuples//norm/Bd_Dst3pi/Bd_Dst3pi_11266018_2015_down_Sim09e-ReDecay01.root\n",
      "Loading /eos/lhcb/wg/semileptonic/RXcHad/B02Dsttaunu/Run2/ntuples//norm/Bd_Dst3pi/Bd_Dst3pi_11266018_2015_down_Sim09c-ReDecay01.root\n",
      "Loading /eos/lhcb/wg/semileptonic/RXcHad/B02Dsttaunu/Run2/ntuples//norm/Bd_Dst3pi/Bd_Dst3pi_11266018_2016_up_Sim09e-ReDecay01.root\n",
      "Loading /eos/lhcb/wg/semileptonic/RXcHad/B02Dsttaunu/Run2/ntuples//norm/Bd_Dst3pi/Bd_Dst3pi_11266018_2016_up_Sim09c-ReDecay01.root\n",
      "Loading /eos/lhcb/wg/semileptonic/RXcHad/B02Dsttaunu/Run2/ntuples//norm/Bd_Dst3pi/Bd_Dst3pi_11266018_2016_down_Sim09e-ReDecay01.root\n",
      "Loading /eos/lhcb/wg/semileptonic/RXcHad/B02Dsttaunu/Run2/ntuples//norm/Bd_Dst3pi/Bd_Dst3pi_11266018_2016_down_Sim09c-ReDecay01.root\n"
     ]
    }
   ],
   "source": [
    "df['MC'] = load_data(years, magnets, 'all_MC', vars=raw_branches+add_branches + ['B0_M'])\n",
    "df['MC'] = add_constr_Dst(df['MC'])\n",
    "# df['MC']  = add_constr_Dst(df['MC'])"
   ]
  },
  {
   "cell_type": "markdown",
   "metadata": {},
   "source": [
    "### Create the `common` and `MC` dataframes with only the training variables"
   ]
  },
  {
   "cell_type": "code",
   "execution_count": 13,
   "metadata": {
    "scrolled": false
   },
   "outputs": [],
   "source": [
    "df['training_common'] = get_dataframe_from_raw_branches_functions(df['common'], raw_branches_functions + ['sWeight', branch])\n",
    "df['training_MC'] = get_dataframe_from_raw_branches_functions(df['MC'], raw_branches_functions + [branch])"
   ]
  },
  {
   "cell_type": "code",
   "execution_count": 14,
   "metadata": {
    "scrolled": true
   },
   "outputs": [
    {
     "name": "stdout",
     "output_type": "stream",
     "text": [
      "Index(['B0_DIRA_OWNPV:ln(1-x)', 'B0_ENDVERTEX_CHI2,B0_ENDVERTEX_NDOF:x/y',\n",
      "       'B0_PT', 'B0_FDCHI2_OWNPV:ln(x)', 'B0_IP_OWNPV',\n",
      "       'Dst_DIRA_OWNPV:ln(1-x)', 'Dst_PT', 'Dst_IPCHI2_OWNPV', 'Dst_IP_OWNPV',\n",
      "       'D0_PT', 'D0_FDCHI2_OWNPV:ln(x)', 'D0_IPCHI2_OWNPV:ln(x)',\n",
      "       'D0_IP_OWNPV', 'tau_ENDVERTEX_CHI2,tau_ENDVERTEX_NDOF:x/y', 'tau_PT',\n",
      "       'tau_FDCHI2_OWNPV:ln(x)', 'tau_IPCHI2_OWNPV:ln(x)', 'tau_IP_OWNPV',\n",
      "       'Dst_pion_PT', 'Dst_pion_IPCHI2_OWNPV:ln(x)', 'D0_kaon_PT',\n",
      "       'D0_kaon_IPCHI2_OWNPV:ln(x)', 'D0_pion_PT',\n",
      "       'D0_pion_IPCHI2_OWNPV:ln(x)', 'sWeight', 'Dst_constr_B0_M'],\n",
      "      dtype='object')\n"
     ]
    }
   ],
   "source": [
    "print(df['training_common'].columns)"
   ]
  },
  {
   "cell_type": "markdown",
   "metadata": {},
   "source": [
    "## Compare MC and sWeighted $B^0 \\to D^{*-}3\\pi$ samples"
   ]
  },
  {
   "cell_type": "markdown",
   "metadata": {},
   "source": [
    "### Range of the variables"
   ]
  },
  {
   "cell_type": "code",
   "execution_count": 15,
   "metadata": {},
   "outputs": [],
   "source": [
    "range_dic = {\n",
    "    'B0_PT': [0,35000],\n",
    "    'Dst_PT':[0,30000],\n",
    "    'tau_PT':[0,18000],\n",
    "    'Dst_pion_PT':[0,2300],\n",
    "    'Dst_kaon_PT':[0,2300],\n",
    "    'D0_pion_PT':[0,20000],\n",
    "    'D0_kaon_PT':[0,20000],\n",
    "    'D0_PT':[0,3000],\n",
    "    'B0_ENDVERTEX_CHI2':[0,60],\n",
    "    'tau_ENDVERTEX_CHI2':[None,None],\n",
    "    'B0_OWNPV_CHI2':[None,None],    \n",
    "    'B0_FDCHI2_OWNPV':[0, 13000], \n",
    "    'B0_DIRA_OWNPV':[0.99996, 1], \n",
    "    'Dst_IPCHI2_OWNPV':[0, 2000], \n",
    "    'D0_kaon_IPCHI2_OWNPV':[0, 20000], \n",
    "    'D0_kaon_IPCHI2_OWNPV':[0, 20000], \n",
    "    'D0_pion_IPCHI2_OWNPV':[0, 20000], \n",
    "    'pion_IPCHI2_OWNPV':[0, 2000], \n",
    "    'tau_FDCHI2_OWNPV':[0, 200000], \n",
    "    'tau_FD_OWNPV':[0, 500], \n",
    "    'tau_pion0_TRACK_CHI2NDOF':[None,None], \n",
    "    'tau_pion1_TRACK_CHI2NDOF':[None,None], \n",
    "    'tau_pion2_TRACK_CHI2NDOF':[None,None],\n",
    "    'D0_ENDVERTEX_CHI2,D0_ENDVERTEX_NDOF:x/y':[0, 10],\n",
    "    'B0_ENDVERTEX_CHI2,B0_ENDVERTEX_NDOF:x/y':[0, 10],\n",
    "    'B0_IP_OWNPV':[0, 0.1], \n",
    "    'D0_IP_OWNPV':[0, 2], \n",
    "    'Dst_IP_OWNPV':[0, 2], \n",
    "    'tau_IP_OWNPV':[0, 4], \n",
    "    'B0_FD_OWNPV':[0, 100], \n",
    "    'Dst_FD_OWNPV':[0, 200], \n",
    "    'tau_FD_OWNPV':[0, 150], \n",
    "    'D0_FD_OWNPV':[0, 200], \n",
    "}"
   ]
  },
  {
   "cell_type": "markdown",
   "metadata": {},
   "source": [
    "### Plots"
   ]
  },
  {
   "cell_type": "code",
   "execution_count": 17,
   "metadata": {
    "scrolled": true
   },
   "outputs": [
    {
     "name": "stdout",
     "output_type": "stream",
     "text": [
      "=====================  B0_DIRA_OWNPV:ln(1-x) =====================\n"
     ]
    },
    {
     "name": "stderr",
     "output_type": "stream",
     "text": [
      "/afs/cern.ch/user/c/correian/bd2dst3pi/library/HEA/plot/histogram.py:84: RuntimeWarning: invalid value encountered in sqrt\n",
      "  err = np.sqrt(counts)\n",
      "findfont: Font family ['serif'] not found. Falling back to DejaVu Sans.\n"
     ]
    },
    {
     "name": "stdout",
     "output_type": "stream",
     "text": [
      "Figure saved in /afs/cern.ch/user/c/correian/bd2dst3pi/output/plots//signal_common_B0TODst3pi_Dst_constr_MC_comparison/B0_DIRA_OWNPV:ln(1-x)_MC_Signal\n"
     ]
    },
    {
     "data": {
      "image/png": "[encoded data removed]",
      "text/plain": [
       "<Figure size 576x432 with 1 Axes>"
      ]
     },
     "metadata": {
      "needs_background": "light"
     },
     "output_type": "display_data"
    }
   ],
   "source": [
    "for sub_branch in branches:\n",
    "    print(f\"=====================  {sub_branch} =====================\")\n",
    "    \n",
    "    if sub_branch in range_dic:\n",
    "        low = range_dic[sub_branch][0]\n",
    "        high = range_dic[sub_branch][1]\n",
    "    else:\n",
    "        low = None\n",
    "        high = None\n",
    "    \n",
    "    fig, ax = plot_hist_auto({'MC': df['training_MC'], 'Signal': df['training_common']}, sub_branch, alpha=0.5, \n",
    "                         n_bins=25, bar_mode = True, colors=['g', 'b'], low=low, high=high, \n",
    "                         pos_text_LHC=[0.95, 0.95, 'right'], folder_name=f'signal_{data_name}_MC_comparison',\n",
    "                         weights=[None, df['training_common']['sWeight']], loc_leg='upper left',\n",
    "                         show_ncounts=False)"
   ]
  },
  {
   "cell_type": "markdown",
   "metadata": {},
   "source": [
    "Result: The $\\eta$ variables aren't that great"
   ]
  },
  {
   "cell_type": "markdown",
   "metadata": {},
   "source": [
    "## Correlations\n",
    "\n",
    "In order to be able to apply the $_s$Weights, computed with the constrained $m(D^*3\\pi)$ ivnariant mass, to the training variables, they need to be independent conditionally to being a signal or background.\n",
    "The best way to check that it might be the case is to check that they are uncorrelated for the:\n",
    "- Signal sample, estimated by doing a cut $5250 < m(D^*3\\pi|m(D^*)=m(D^*)_{PDG}) < 5315$ (around the signal peak, not that pure in signal but that the most we can do at this stage)\n",
    "- Background sample: $5370 < m(D^*3\\pi|m(D^*)=m(D^*)_{PDG})$"
   ]
  },
  {
   "cell_type": "code",
   "execution_count": 18,
   "metadata": {},
   "outputs": [],
   "source": [
    "from scipy.stats import pearsonr"
   ]
  },
  {
   "cell_type": "code",
   "execution_count": 20,
   "metadata": {},
   "outputs": [],
   "source": [
    "df['signal'] = df['training_common'].query(f'{branch} > 5250 and {branch} < 5315')\n",
    "df['background'] = df['training_common'].query(f'{branch} > 5370')"
   ]
  },
  {
   "cell_type": "code",
   "execution_count": 24,
   "metadata": {},
   "outputs": [
    {
     "name": "stdout",
     "output_type": "stream",
     "text": [
      "---------------------------------------------------\n",
      "B0_DIRA_OWNPV:ln(1-x)\n",
      "\n",
      "Signal: 0.03364265481144675\n",
      "Background 0.048382352237983824\n",
      "---------------------------------------------------\n",
      "B0_ENDVERTEX_CHI2,B0_ENDVERTEX_NDOF:x/y\n",
      "\n",
      "Signal: 0.00727940486474905\n",
      "Background -0.002264785690137406\n",
      "---------------------------------------------------\n",
      "B0_PT\n",
      "\n",
      "Signal: -0.0015239038279485431\n",
      "Background -0.023089090655629793\n",
      "---------------------------------------------------\n",
      "B0_FDCHI2_OWNPV:ln(x)\n",
      "\n",
      "Signal: -0.024509365413003824\n",
      "Background -0.018797604227318073\n",
      "---------------------------------------------------\n",
      "B0_IP_OWNPV\n",
      "\n",
      "Signal: 0.031005955722307056\n",
      "Background -0.000840450880500318\n",
      "---------------------------------------------------\n",
      "Dst_DIRA_OWNPV:ln(1-x)\n",
      "\n",
      "Signal: 0.026792863418710147\n",
      "Background 0.022353487313523778\n",
      "---------------------------------------------------\n",
      "Dst_PT\n",
      "\n",
      "Signal: 0.0032642415033138712\n",
      "Background 0.0006959468382982501\n",
      "---------------------------------------------------\n",
      "Dst_IPCHI2_OWNPV\n",
      "\n",
      "Signal: -0.001965416184042668\n",
      "Background -0.012106479104117636\n",
      "---------------------------------------------------\n",
      "Dst_IP_OWNPV\n",
      "\n",
      "Signal: -0.014340164192684891\n",
      "Background -0.016977329885322037\n",
      "---------------------------------------------------\n",
      "D0_PT\n",
      "\n",
      "Signal: 0.003342755018963711\n",
      "Background 0.0004866618726879087\n",
      "---------------------------------------------------\n",
      "D0_FDCHI2_OWNPV:ln(x)\n",
      "\n",
      "Signal: -0.01288383372687673\n",
      "Background -0.01452230358338254\n",
      "---------------------------------------------------\n",
      "D0_IPCHI2_OWNPV:ln(x)\n",
      "\n",
      "Signal: -0.014492168269977313\n",
      "Background -0.022956509944983015\n",
      "---------------------------------------------------\n",
      "D0_IP_OWNPV\n",
      "\n",
      "Signal: -0.013619293050864465\n",
      "Background -0.018999115674540875\n",
      "---------------------------------------------------\n",
      "tau_ENDVERTEX_CHI2,tau_ENDVERTEX_NDOF:x/y\n",
      "\n",
      "Signal: 0.012157845797800347\n",
      "Background 0.010774323005635422\n",
      "---------------------------------------------------\n",
      "tau_PT\n",
      "\n",
      "Signal: -0.004186007252380635\n",
      "Background -0.024416303258132963\n",
      "---------------------------------------------------\n",
      "tau_FDCHI2_OWNPV:ln(x)\n",
      "\n",
      "Signal: -0.005802027171326814\n",
      "Background 0.008909489333742257\n",
      "---------------------------------------------------\n",
      "tau_IPCHI2_OWNPV:ln(x)\n",
      "\n",
      "Signal: -0.017930597456652212\n",
      "Background 0.008712617461852076\n",
      "---------------------------------------------------\n",
      "tau_IP_OWNPV\n",
      "\n",
      "Signal: -0.008873296569248585\n",
      "Background 0.01617332508502527\n",
      "---------------------------------------------------\n",
      "Dst_pion_PT\n",
      "\n",
      "Signal: 0.002134248288362183\n",
      "Background 0.0034675779213938487\n",
      "---------------------------------------------------\n",
      "Dst_pion_IPCHI2_OWNPV:ln(x)\n",
      "\n",
      "Signal: -0.02328117828971367\n",
      "Background -0.028311641739122394\n",
      "---------------------------------------------------\n",
      "D0_kaon_PT\n",
      "\n",
      "Signal: 0.004062768541288971\n",
      "Background 0.007043440323281485\n",
      "---------------------------------------------------\n",
      "D0_kaon_IPCHI2_OWNPV:ln(x)\n",
      "\n",
      "Signal: -0.007703430397040985\n",
      "Background -0.010944467429873823\n",
      "---------------------------------------------------\n",
      "D0_pion_PT\n",
      "\n",
      "Signal: 0.0004636623222239642\n",
      "Background -0.007130378614629412\n",
      "---------------------------------------------------\n",
      "D0_pion_IPCHI2_OWNPV:ln(x)\n",
      "\n",
      "Signal: -0.011116377796841121\n",
      "Background -0.002959018002701755\n"
     ]
    }
   ],
   "source": [
    "for sub_branch in branches:\n",
    "    print(\"---------------------------------------------------\")\n",
    "    print(sub_branch)\n",
    "    print()\n",
    "    print(f\"Signal: {pearsonr(df['signal'][sub_branch], df['signal'][branch])[0]}\")\n",
    "    print(f\"Background {pearsonr(df['background'][sub_branch], df['background'][branch])[0]}\")\n",
    "    "
   ]
  },
  {
   "cell_type": "markdown",
   "metadata": {},
   "source": [
    "The training variables are uncorrelated with $m(D^*3\\pi|m(D^*)=m(D^*)_{PDG})$ so the $_S$Weights can be applied safely to the training variables of the `common` data."
   ]
  },
  {
   "cell_type": "code",
   "execution_count": null,
   "metadata": {},
   "outputs": [],
   "source": []
  }
 ],
 "metadata": {
  "kernelspec": {
   "display_name": "bd2dst3pi_env",
   "language": "python",
   "name": "bd2dst3pi_env"
  },
  "language_info": {
   "codemirror_mode": {
    "name": "ipython",
    "version": 3
   },
   "file_extension": ".py",
   "mimetype": "text/x-python",
   "name": "python",
   "nbconvert_exporter": "python",
   "pygments_lexer": "ipython3",
   "version": "3.7.8"
  }
 },
 "nbformat": 4,
 "nbformat_minor": 4
}
