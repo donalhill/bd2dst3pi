{
 "cells": [
  {
   "cell_type": "markdown",
   "metadata": {},
   "source": [
    "#  `gradient`\n",
    "\n",
    "\n",
    "- Samples:\n",
    "    - background sample : high $m(D^*3\\pi)|m(D^*)=m(D^*)_{PDG})$ of `common` sample: `common` sample with $5400\\ Mev/c^2 < m(D^*3\\pi|m(D^*)=m(D^*)_{PDG}) < 5570\\ MeV/c^2$, chosen in `notebooks/BDT/1_background_training.ipynb`\n",
    "    - signal sample : `MC`\n",
    "    \n",
    "- For all the samples, `143. < Delta_M < 148.`\n",
    "- Sample weight balancing (in `BDT.py`)\n",
    "- Use `Gradient Boosting` classifier\n",
    "\n",
    "What is done:\n",
    "- Load the `MC` and `common` data\n",
    "- Split them in two in some randomly, with some `random_state`\n",
    "- Define the 2 background samples\n",
    "- Plot the distributions of the variables for the signal and background sample (to compare the distributions and choose the one that are the most different for signal and background sample)\n",
    "- Plot the correlation matrix\n",
    "- Train the two BDTs (there is 2 background samples and 2 signal samples as we split these samples in 2)\n",
    "- Plot the ROC curve and the overtraining check (with computation of the KS test to compare the BDT distributions for the training and test data)\n",
    "- Apply the BDT 1 to the `common` data 2 and the BDT 2 to the `common` data 1\n",
    "- Merge the two `BDT` outputs and `common` datasamples\n",
    "- Plot some histograms to check that the BDT output is ok, in particular\n",
    "    - 2D histograms of $(m(D^*3\\pi|m(D^*)=m(D^*)_{PDG}), BDT)$ for the `common` and `MC` signal\n",
    "    - BDT output\n",
    "    - Distribution of $m(D^*3\\pi|m(D^*)=m(D^*)_{PDG})$ when cutting on the $BDT$ variable\n",
    "- Save the dataframe with all the variables and the BDT ouput.\n",
    "- Save the MC BDT"
   ]
  },
  {
   "cell_type": "code",
   "execution_count": 1,
   "metadata": {},
   "outputs": [],
   "source": [
    "name_BDT = 'gradient'\n",
    "cstr_B0_M = 'Dst_constr_B0_M'"
   ]
  },
  {
   "cell_type": "code",
   "execution_count": 2,
   "metadata": {},
   "outputs": [],
   "source": [
    "low_bkg = 5400.\n",
    "high_bkg = 5570."
   ]
  },
  {
   "cell_type": "code",
   "execution_count": 3,
   "metadata": {
    "scrolled": true
   },
   "outputs": [
    {
     "name": "stdout",
     "output_type": "stream",
     "text": [
      "Welcome to JupyROOT 6.22/02\n"
     ]
    }
   ],
   "source": [
    "from bd2dst3pi.definitions import years, magnets\n",
    "from bd2dst3pi.locations import loc\n",
    "from copy import deepcopy\n",
    "import pandas as pd\n",
    "import numpy as np\n",
    "\n",
    "import sys\n",
    "sys.path.append(loc.SCRIPTS)\n",
    "from load_save_data import load_data, save_dataframe, save_json, get_real_vars, get_needed_vars, get_df_variables, add_constr_Dst\n",
    "from plot.tool import save_file, set_text_LHCb, get_name_unit_particule_var\n",
    "import plot.histogram as h\n",
    "import BDT.BDT as bt\n"
   ]
  },
  {
   "cell_type": "markdown",
   "metadata": {},
   "source": [
    "## Training variables"
   ]
  },
  {
   "cell_type": "code",
   "execution_count": 4,
   "metadata": {},
   "outputs": [],
   "source": [
    "variables_functions = [\n",
    "    ('B0_DIRA_OWNPV', 'ln(1-x)'),\n",
    "    (('B0_ENDVERTEX_CHI2', 'B0_ENDVERTEX_NDOF'), 'x/y'),\n",
    "    'B0_PT',\n",
    "    ('B0_FDCHI2_OWNPV', 'ln(x)'),\n",
    "    'B0_IP_OWNPV', # much better with it\n",
    "#     'B0_FD_OWNPV',\n",
    "\n",
    "    ('Dst_DIRA_OWNPV', 'ln(1-x)'), # better with it\n",
    "    'Dst_PT',\n",
    "#     'Dst_FDCHI2_OWNPV', # worse with it\n",
    "    'Dst_IPCHI2_OWNPV',\n",
    "    'Dst_IP_OWNPV',\n",
    "#     'Dst_FD_OWNPV', # different for sWeighted and MC\n",
    "\n",
    "#     ('D0_DIRA_OWNPV', 'ln(1-x)'), # worst with it # different for sWeighted and MC\n",
    "#     (('D0_ENDVERTEX_CHI2', 'D0_ENDVERTEX_NDOF'), 'x/y'),\n",
    "    'D0_PT', # a bit bitter with it\n",
    "    ('D0_FDCHI2_OWNPV', 'ln(x)'),\n",
    "    ('D0_IPCHI2_OWNPV', 'ln(x)'),\n",
    "    'D0_IP_OWNPV',\n",
    "#     'D0_FD_OWNPV', # different for sWeighted and MC\n",
    "\n",
    "#     ('tau_DIRA_OWNPV', 'ln(1-x)'), # different for sWeighted and MC\n",
    "    (('tau_ENDVERTEX_CHI2', 'tau_ENDVERTEX_NDOF'), 'x/y'), # a bit worse without it \n",
    "    'tau_PT',\n",
    "    ('tau_FDCHI2_OWNPV', 'ln(x)'),\n",
    "    ('tau_IPCHI2_OWNPV', 'ln(x)'),\n",
    "    'tau_IP_OWNPV',\n",
    "#     'tau_FD_OWNPV', # better without it # different for sWeighted and MC\n",
    "\n",
    "    'Dst_pion_PT',\n",
    "    ('Dst_pion_IPCHI2_OWNPV', 'ln(x)'),\n",
    "\n",
    "    'D0_kaon_PT',\n",
    "    ('D0_kaon_IPCHI2_OWNPV', 'ln(x)'),\n",
    "\n",
    "    'D0_pion_PT', # better with it\n",
    "    ('D0_pion_IPCHI2_OWNPV', 'ln(x)'),\n",
    "       \n",
    "#     'B0_ETA', # different for sWeighted and MC\n",
    "#     'Dst_ETA', # different for sWeighted and MC\n",
    "#     'D0_ETA', # different for sWeighted and MC\n",
    "#     'tau_ETA', # different for sWeighted and MC\n",
    "#     'Dst_pion_ETA', # different for sWeighted and MC\n",
    "#     'D0_kaon_ETA', # different for sWeighted and MC\n",
    "#     'D0_pion_ETA', # different for sWeighted and MC\n",
    "]\n",
    "\n",
    "add_variables = ['B0_M', 'tau_M', 'Dst_M', 'D0_M']"
   ]
  },
  {
   "cell_type": "code",
   "execution_count": 5,
   "metadata": {},
   "outputs": [
    {
     "data": {
      "text/plain": [
       "24"
      ]
     },
     "execution_count": 5,
     "metadata": {},
     "output_type": "execute_result"
    }
   ],
   "source": [
    "len(variables_functions)"
   ]
  },
  {
   "cell_type": "code",
   "execution_count": 6,
   "metadata": {},
   "outputs": [],
   "source": [
    "needed_variables = get_needed_vars(variables_functions)\n",
    "variables = get_real_vars(variables_functions)"
   ]
  },
  {
   "cell_type": "code",
   "execution_count": 7,
   "metadata": {},
   "outputs": [
    {
     "data": {
      "text/plain": [
       "('$D^{*}3\\\\pi$',\n",
       " '$ln(1-x)$ of the cosine of the DIRA angle w.r.t. the PV',\n",
       " None)"
      ]
     },
     "execution_count": 7,
     "metadata": {},
     "output_type": "execute_result"
    }
   ],
   "source": [
    "get_name_unit_particule_var('B0_DIRA_OWNPV:ln(1-x)', get_particle=True)"
   ]
  },
  {
   "cell_type": "code",
   "execution_count": 8,
   "metadata": {},
   "outputs": [],
   "source": [
    "def create_sub_table(L):\n",
    "    if isinstance(L, tuple) or isinstance(L, set):\n",
    "        latex_table = '\\\\begin{tabular}[c]{@{}l@{}} '\n",
    "        for i, l in enumerate(L):\n",
    "            latex_table += l\n",
    "            if i != len(L) - 1:\n",
    "                latex_table += ' \\\\\\\\ '\n",
    "        latex_table+= '\\\\end{tabular}'\n",
    "    else:\n",
    "        assert isinstance(L, str), print(f'\\n \\n {L}')\n",
    "        latex_table = L\n",
    "    return latex_table"
   ]
  },
  {
   "cell_type": "code",
   "execution_count": 9,
   "metadata": {},
   "outputs": [
    {
     "name": "stdout",
     "output_type": "stream",
     "text": [
      "\\begin{tabular}{ll}\n",
      "Particle & Variable \\\\ \\hline \\hline\n",
      "$D^{*}3\\pi$ & \\begin{tabular}[c]{@{}l@{}} Transverse momentum $p_T$ \\\\ Impact parameter w.r.t. the PV \\\\ $\\chi^2$ of the EV per d.o.f. \\\\ $ln(x)$ of the $\\chi^2$ of the flight distance w.r.t. the PV \\\\ $ln(1-x)$ of the cosine of the DIRA angle w.r.t. the PV\\end{tabular} \\\\ \\hline\n",
      "$D^*$ & \\begin{tabular}[c]{@{}l@{}} $ln(1-x)$ of the cosine of the DIRA angle w.r.t. the PV \\\\ Transverse momentum $p_T$ \\\\ Impact parameter w.r.t. the PV \\\\ $\\chi^2$ of the impact parameter w.r.t. the PV\\end{tabular} \\\\ \\hline\n",
      "$D^0$ & \\begin{tabular}[c]{@{}l@{}} Transverse momentum $p_T$ \\\\ Impact parameter w.r.t. the PV \\\\ $ln(x)$ of the $\\chi^2$ of the impact parameter w.r.t. the PV \\\\ $ln(x)$ of the $\\chi^2$ of the flight distance w.r.t. the PV\\end{tabular} \\\\ \\hline\n",
      "$3\\pi$ & \\begin{tabular}[c]{@{}l@{}} Transverse momentum $p_T$ \\\\ Impact parameter w.r.t. the PV \\\\ $\\chi^2$ of the EV per d.o.f. \\\\ $ln(x)$ of the $\\chi^2$ of the impact parameter w.r.t. the PV \\\\ $ln(x)$ of the $\\chi^2$ of the flight distance w.r.t. the PV\\end{tabular} \\\\ \\hline\n",
      "\\begin{tabular}[c]{@{}l@{}} $\\pi$ from $D^*$ \\\\ $K$ from $D^0$ \\\\ $\\pi$ of $D^0$\\end{tabular} & \\begin{tabular}[c]{@{}l@{}} Transverse momentum $p_T$ \\\\ $ln(x)$ of the $\\chi^2$ of the impact parameter w.r.t. the PV\\end{tabular} \\\\ \\hline\n",
      "\\end{tabular}\n"
     ]
    }
   ],
   "source": [
    "variables_acc_particles = {}\n",
    "\n",
    "# Retrieve the variables in the form of a dictionnary particle : list of variables\n",
    "for v in variables:\n",
    "    name_particle, name_var, unit_var = get_name_unit_particule_var(v, get_particle=True)\n",
    "    if name_var == '$p_T$':\n",
    "        name_var = 'Transverse momentum ' + name_var\n",
    "    if name_particle not in variables_acc_particles:\n",
    "        variables_acc_particles[name_particle] = set()\n",
    "    variables_acc_particles[name_particle] = variables_acc_particles[name_particle] | {name_var}\n",
    "\n",
    "    \n",
    "# gather the particles that have the same set of variables\n",
    "variables_acc_particles_short = {}\n",
    "    \n",
    "for particle, variables_part in variables_acc_particles.items():\n",
    "    saved = False\n",
    "    for particle_saved, variables_part_saved in variables_acc_particles_short.items():\n",
    "        if variables_part == variables_part_saved:\n",
    "            if not isinstance(particle_saved, tuple):\n",
    "                particle_saved_tuple = tuple([particle_saved])\n",
    "            else:\n",
    "                particle_saved_tuple = particle_saved\n",
    "            variables_acc_particles_short[particle_saved_tuple + tuple([particle])] = variables_part\n",
    "            del variables_acc_particles_short[particle_saved]\n",
    "            saved = True\n",
    "            break\n",
    "    if not saved:\n",
    "        variables_acc_particles_short[particle] = variables_part\n",
    "\n",
    "# Built the table\n",
    "print('\\\\begin{tabular}{ll}')\n",
    "print('Particle & Variable \\\\\\\\ \\\\hline \\\\hline')\n",
    "for particle, variables_part in variables_acc_particles_short.items():\n",
    "    row_latex = create_sub_table(particle)\n",
    "    row_latex+= ' & '\n",
    "    row_latex+= create_sub_table(variables_part)\n",
    "    row_latex+= ' \\\\\\\\ \\hline'\n",
    "    print(row_latex)\n",
    "print('\\\\end{tabular}')"
   ]
  },
  {
   "cell_type": "code",
   "execution_count": 10,
   "metadata": {},
   "outputs": [
    {
     "name": "stdout",
     "output_type": "stream",
     "text": [
      "=================================================================\n",
      "    \\begin{minipage}[t]{0.32\\textwidth}\n",
      "        \\centering\n",
      "        \\includegraphics[width=6.1 cm]{BDT/variables/B0_DIRA_OWNPV ln(1-x)_MC_Background.pdf}\n",
      "    \\end{minipage}\n",
      "    \\hfill%\n",
      "    \\begin{minipage}[t]{0.32\\textwidth}\n",
      "        \\centering\n",
      "        \\includegraphics[width=6.1 cm]{BDT/variables/B0_ENDVERTEX_CHI2,B0_ENDVERTEX_NDOF xdy_MC_Background.pdf}\n",
      "    \\end{minipage}\n",
      "    \\hfill%\n",
      "    \\begin{minipage}[t]{0.32\\textwidth}\n",
      "        \\centering\n",
      "        \\includegraphics[width=6.1 cm]{BDT/variables/B0_PT_MC_Background.pdf}\n",
      "    \\end{minipage}\n",
      "    \\hfill%\n",
      "    \\begin{minipage}[t]{0.32\\textwidth}\n",
      "        \\centering\n",
      "        \\includegraphics[width=6.1 cm]{BDT/variables/B0_FDCHI2_OWNPV ln(x)_MC_Background.pdf}\n",
      "    \\end{minipage}\n",
      "    \\hfill%\n",
      "    \\begin{minipage}[t]{0.32\\textwidth}\n",
      "        \\centering\n",
      "        \\includegraphics[width=6.1 cm]{BDT/variables/B0_IP_OWNPV_MC_Background.pdf}\n",
      "    \\end{minipage}\n",
      "    \\hfill%\n",
      "    \\begin{minipage}[t]{0.32\\textwidth}\n",
      "        \\centering\n",
      "        \\includegraphics[width=6.1 cm]{BDT/variables/Dst_DIRA_OWNPV ln(1-x)_MC_Background.pdf}\n",
      "    \\end{minipage}\n",
      "    \\hfill%\n",
      "    \\begin{minipage}[t]{0.32\\textwidth}\n",
      "        \\centering\n",
      "        \\includegraphics[width=6.1 cm]{BDT/variables/Dst_PT_MC_Background.pdf}\n",
      "    \\end{minipage}\n",
      "    \\hfill%\n",
      "    \\begin{minipage}[t]{0.32\\textwidth}\n",
      "        \\centering\n",
      "        \\includegraphics[width=6.1 cm]{BDT/variables/Dst_IPCHI2_OWNPV_MC_Background.pdf}\n",
      "    \\end{minipage}\n",
      "    \\hfill%\n",
      "    \\begin{minipage}[t]{0.32\\textwidth}\n",
      "        \\centering\n",
      "        \\includegraphics[width=6.1 cm]{BDT/variables/Dst_IP_OWNPV_MC_Background.pdf}\n",
      "    \\end{minipage}\n",
      "    \\hfill%\n",
      "    \\begin{minipage}[t]{0.32\\textwidth}\n",
      "        \\centering\n",
      "        \\includegraphics[width=6.1 cm]{BDT/variables/D0_PT_MC_Background.pdf}\n",
      "    \\end{minipage}\n",
      "    \\hfill%\n",
      "    \\begin{minipage}[t]{0.32\\textwidth}\n",
      "        \\centering\n",
      "        \\includegraphics[width=6.1 cm]{BDT/variables/D0_FDCHI2_OWNPV ln(x)_MC_Background.pdf}\n",
      "    \\end{minipage}\n",
      "    \\hfill%\n",
      "    \\begin{minipage}[t]{0.32\\textwidth}\n",
      "        \\centering\n",
      "        \\includegraphics[width=6.1 cm]{BDT/variables/D0_IPCHI2_OWNPV ln(x)_MC_Background.pdf}\n",
      "    \\end{minipage}\n",
      "    \\hfill%\n",
      "=================================================================\n",
      "    \\begin{minipage}[t]{0.32\\textwidth}\n",
      "        \\centering\n",
      "        \\includegraphics[width=6.1 cm]{BDT/variables/D0_IP_OWNPV_MC_Background.pdf}\n",
      "    \\end{minipage}\n",
      "    \\hfill%\n",
      "    \\begin{minipage}[t]{0.32\\textwidth}\n",
      "        \\centering\n",
      "        \\includegraphics[width=6.1 cm]{BDT/variables/tau_ENDVERTEX_CHI2,tau_ENDVERTEX_NDOF xdy_MC_Background.pdf}\n",
      "    \\end{minipage}\n",
      "    \\hfill%\n",
      "    \\begin{minipage}[t]{0.32\\textwidth}\n",
      "        \\centering\n",
      "        \\includegraphics[width=6.1 cm]{BDT/variables/tau_PT_MC_Background.pdf}\n",
      "    \\end{minipage}\n",
      "    \\hfill%\n",
      "    \\begin{minipage}[t]{0.32\\textwidth}\n",
      "        \\centering\n",
      "        \\includegraphics[width=6.1 cm]{BDT/variables/tau_FDCHI2_OWNPV ln(x)_MC_Background.pdf}\n",
      "    \\end{minipage}\n",
      "    \\hfill%\n",
      "    \\begin{minipage}[t]{0.32\\textwidth}\n",
      "        \\centering\n",
      "        \\includegraphics[width=6.1 cm]{BDT/variables/tau_IPCHI2_OWNPV ln(x)_MC_Background.pdf}\n",
      "    \\end{minipage}\n",
      "    \\hfill%\n",
      "    \\begin{minipage}[t]{0.32\\textwidth}\n",
      "        \\centering\n",
      "        \\includegraphics[width=6.1 cm]{BDT/variables/tau_IP_OWNPV_MC_Background.pdf}\n",
      "    \\end{minipage}\n",
      "    \\hfill%\n",
      "    \\begin{minipage}[t]{0.32\\textwidth}\n",
      "        \\centering\n",
      "        \\includegraphics[width=6.1 cm]{BDT/variables/Dst_pion_PT_MC_Background.pdf}\n",
      "    \\end{minipage}\n",
      "    \\hfill%\n",
      "    \\begin{minipage}[t]{0.32\\textwidth}\n",
      "        \\centering\n",
      "        \\includegraphics[width=6.1 cm]{BDT/variables/Dst_pion_IPCHI2_OWNPV ln(x)_MC_Background.pdf}\n",
      "    \\end{minipage}\n",
      "    \\hfill%\n",
      "    \\begin{minipage}[t]{0.32\\textwidth}\n",
      "        \\centering\n",
      "        \\includegraphics[width=6.1 cm]{BDT/variables/D0_kaon_PT_MC_Background.pdf}\n",
      "    \\end{minipage}\n",
      "    \\hfill%\n",
      "    \\begin{minipage}[t]{0.32\\textwidth}\n",
      "        \\centering\n",
      "        \\includegraphics[width=6.1 cm]{BDT/variables/D0_kaon_IPCHI2_OWNPV ln(x)_MC_Background.pdf}\n",
      "    \\end{minipage}\n",
      "    \\hfill%\n",
      "    \\begin{minipage}[t]{0.32\\textwidth}\n",
      "        \\centering\n",
      "        \\includegraphics[width=6.1 cm]{BDT/variables/D0_pion_PT_MC_Background.pdf}\n",
      "    \\end{minipage}\n",
      "    \\hfill%\n",
      "    \\begin{minipage}[t]{0.32\\textwidth}\n",
      "        \\centering\n",
      "        \\includegraphics[width=6.1 cm]{BDT/variables/D0_pion_IPCHI2_OWNPV ln(x)_MC_Background.pdf}\n",
      "    \\end{minipage}\n",
      "    \\hfill%\n"
     ]
    }
   ],
   "source": [
    "ind = \"    \"\n",
    "for i, v in enumerate(variables):\n",
    "    v_f = v.replace(':',' ').replace('/','d')\n",
    "    if i%12==0:\n",
    "        print('=================================================================')\n",
    "    print(ind + \"\\\\begin{minipage}[t]{0.32\\\\textwidth}\")\n",
    "    print(2*ind + \"\\\\centering\")\n",
    "    print(2*ind + \"\\\\includegraphics[width=6.1 cm]{BDT/variables/%s_MC_Background.pdf}\"%v_f)\n",
    "    print(ind + \"\\\\end{minipage}\")\n",
    "    print(ind + \"\\\\hfill%\")\n",
    "    "
   ]
  },
  {
   "cell_type": "code",
   "execution_count": 11,
   "metadata": {},
   "outputs": [
    {
     "name": "stdout",
     "output_type": "stream",
     "text": [
      "=================================================================\n",
      "    \\begin{minipage}[t]{0.32\\textwidth}\n",
      "        \\centering\n",
      "        \\includegraphics[width=6.1 cm]{BDT/variables_signal_vs_MC/B0_DIRA_OWNPV ln(1-x)_MC_Signal.pdf}\n",
      "    \\end{minipage}\n",
      "    \\hfill%\n",
      "    \\begin{minipage}[t]{0.32\\textwidth}\n",
      "        \\centering\n",
      "        \\includegraphics[width=6.1 cm]{BDT/variables_signal_vs_MC/B0_ENDVERTEX_CHI2,B0_ENDVERTEX_NDOF xdy_MC_Signal.pdf}\n",
      "    \\end{minipage}\n",
      "    \\hfill%\n",
      "    \\begin{minipage}[t]{0.32\\textwidth}\n",
      "        \\centering\n",
      "        \\includegraphics[width=6.1 cm]{BDT/variables_signal_vs_MC/B0_PT_MC_Signal.pdf}\n",
      "    \\end{minipage}\n",
      "    \\hfill%\n",
      "    \\begin{minipage}[t]{0.32\\textwidth}\n",
      "        \\centering\n",
      "        \\includegraphics[width=6.1 cm]{BDT/variables_signal_vs_MC/B0_FDCHI2_OWNPV ln(x)_MC_Signal.pdf}\n",
      "    \\end{minipage}\n",
      "    \\hfill%\n",
      "    \\begin{minipage}[t]{0.32\\textwidth}\n",
      "        \\centering\n",
      "        \\includegraphics[width=6.1 cm]{BDT/variables_signal_vs_MC/B0_IP_OWNPV_MC_Signal.pdf}\n",
      "    \\end{minipage}\n",
      "    \\hfill%\n",
      "    \\begin{minipage}[t]{0.32\\textwidth}\n",
      "        \\centering\n",
      "        \\includegraphics[width=6.1 cm]{BDT/variables_signal_vs_MC/Dst_DIRA_OWNPV ln(1-x)_MC_Signal.pdf}\n",
      "    \\end{minipage}\n",
      "    \\hfill%\n",
      "    \\begin{minipage}[t]{0.32\\textwidth}\n",
      "        \\centering\n",
      "        \\includegraphics[width=6.1 cm]{BDT/variables_signal_vs_MC/Dst_PT_MC_Signal.pdf}\n",
      "    \\end{minipage}\n",
      "    \\hfill%\n",
      "    \\begin{minipage}[t]{0.32\\textwidth}\n",
      "        \\centering\n",
      "        \\includegraphics[width=6.1 cm]{BDT/variables_signal_vs_MC/Dst_IPCHI2_OWNPV_MC_Signal.pdf}\n",
      "    \\end{minipage}\n",
      "    \\hfill%\n",
      "    \\begin{minipage}[t]{0.32\\textwidth}\n",
      "        \\centering\n",
      "        \\includegraphics[width=6.1 cm]{BDT/variables_signal_vs_MC/Dst_IP_OWNPV_MC_Signal.pdf}\n",
      "    \\end{minipage}\n",
      "    \\hfill%\n",
      "    \\begin{minipage}[t]{0.32\\textwidth}\n",
      "        \\centering\n",
      "        \\includegraphics[width=6.1 cm]{BDT/variables_signal_vs_MC/D0_PT_MC_Signal.pdf}\n",
      "    \\end{minipage}\n",
      "    \\hfill%\n",
      "    \\begin{minipage}[t]{0.32\\textwidth}\n",
      "        \\centering\n",
      "        \\includegraphics[width=6.1 cm]{BDT/variables_signal_vs_MC/D0_FDCHI2_OWNPV ln(x)_MC_Signal.pdf}\n",
      "    \\end{minipage}\n",
      "    \\hfill%\n",
      "    \\begin{minipage}[t]{0.32\\textwidth}\n",
      "        \\centering\n",
      "        \\includegraphics[width=6.1 cm]{BDT/variables_signal_vs_MC/D0_IPCHI2_OWNPV ln(x)_MC_Signal.pdf}\n",
      "    \\end{minipage}\n",
      "    \\hfill%\n",
      "=================================================================\n",
      "    \\begin{minipage}[t]{0.32\\textwidth}\n",
      "        \\centering\n",
      "        \\includegraphics[width=6.1 cm]{BDT/variables_signal_vs_MC/D0_IP_OWNPV_MC_Signal.pdf}\n",
      "    \\end{minipage}\n",
      "    \\hfill%\n",
      "    \\begin{minipage}[t]{0.32\\textwidth}\n",
      "        \\centering\n",
      "        \\includegraphics[width=6.1 cm]{BDT/variables_signal_vs_MC/tau_ENDVERTEX_CHI2,tau_ENDVERTEX_NDOF xdy_MC_Signal.pdf}\n",
      "    \\end{minipage}\n",
      "    \\hfill%\n",
      "    \\begin{minipage}[t]{0.32\\textwidth}\n",
      "        \\centering\n",
      "        \\includegraphics[width=6.1 cm]{BDT/variables_signal_vs_MC/tau_PT_MC_Signal.pdf}\n",
      "    \\end{minipage}\n",
      "    \\hfill%\n",
      "    \\begin{minipage}[t]{0.32\\textwidth}\n",
      "        \\centering\n",
      "        \\includegraphics[width=6.1 cm]{BDT/variables_signal_vs_MC/tau_FDCHI2_OWNPV ln(x)_MC_Signal.pdf}\n",
      "    \\end{minipage}\n",
      "    \\hfill%\n",
      "    \\begin{minipage}[t]{0.32\\textwidth}\n",
      "        \\centering\n",
      "        \\includegraphics[width=6.1 cm]{BDT/variables_signal_vs_MC/tau_IPCHI2_OWNPV ln(x)_MC_Signal.pdf}\n",
      "    \\end{minipage}\n",
      "    \\hfill%\n",
      "    \\begin{minipage}[t]{0.32\\textwidth}\n",
      "        \\centering\n",
      "        \\includegraphics[width=6.1 cm]{BDT/variables_signal_vs_MC/tau_IP_OWNPV_MC_Signal.pdf}\n",
      "    \\end{minipage}\n",
      "    \\hfill%\n",
      "    \\begin{minipage}[t]{0.32\\textwidth}\n",
      "        \\centering\n",
      "        \\includegraphics[width=6.1 cm]{BDT/variables_signal_vs_MC/Dst_pion_PT_MC_Signal.pdf}\n",
      "    \\end{minipage}\n",
      "    \\hfill%\n",
      "    \\begin{minipage}[t]{0.32\\textwidth}\n",
      "        \\centering\n",
      "        \\includegraphics[width=6.1 cm]{BDT/variables_signal_vs_MC/Dst_pion_IPCHI2_OWNPV ln(x)_MC_Signal.pdf}\n",
      "    \\end{minipage}\n",
      "    \\hfill%\n",
      "    \\begin{minipage}[t]{0.32\\textwidth}\n",
      "        \\centering\n",
      "        \\includegraphics[width=6.1 cm]{BDT/variables_signal_vs_MC/D0_kaon_PT_MC_Signal.pdf}\n",
      "    \\end{minipage}\n",
      "    \\hfill%\n",
      "    \\begin{minipage}[t]{0.32\\textwidth}\n",
      "        \\centering\n",
      "        \\includegraphics[width=6.1 cm]{BDT/variables_signal_vs_MC/D0_kaon_IPCHI2_OWNPV ln(x)_MC_Signal.pdf}\n",
      "    \\end{minipage}\n",
      "    \\hfill%\n",
      "    \\begin{minipage}[t]{0.32\\textwidth}\n",
      "        \\centering\n",
      "        \\includegraphics[width=6.1 cm]{BDT/variables_signal_vs_MC/D0_pion_PT_MC_Signal.pdf}\n",
      "    \\end{minipage}\n",
      "    \\hfill%\n",
      "    \\begin{minipage}[t]{0.32\\textwidth}\n",
      "        \\centering\n",
      "        \\includegraphics[width=6.1 cm]{BDT/variables_signal_vs_MC/D0_pion_IPCHI2_OWNPV ln(x)_MC_Signal.pdf}\n",
      "    \\end{minipage}\n",
      "    \\hfill%\n"
     ]
    }
   ],
   "source": [
    "ind = \"    \"\n",
    "for i, v in enumerate(variables):\n",
    "    v_f = v.replace(':',' ').replace('/','d')\n",
    "    if i%12==0:\n",
    "        print('=================================================================')\n",
    "    print(ind + \"\\\\begin{minipage}[t]{0.32\\\\textwidth}\")\n",
    "    print(2*ind + \"\\\\centering\")\n",
    "    print(2*ind + \"\\\\includegraphics[width=6.1 cm]{BDT/variables_signal_vs_MC/%s_MC_Signal.pdf}\"%v_f)\n",
    "    print(ind + \"\\\\end{minipage}\")\n",
    "    print(ind + \"\\\\hfill%\")"
   ]
  },
  {
   "cell_type": "markdown",
   "metadata": {},
   "source": [
    "## Load data"
   ]
  },
  {
   "cell_type": "markdown",
   "metadata": {},
   "source": [
    "### Full datasets"
   ]
  },
  {
   "cell_type": "code",
   "execution_count": 12,
   "metadata": {
    "scrolled": true
   },
   "outputs": [
    {
     "name": "stdout",
     "output_type": "stream",
     "text": [
      "retrieve MC\n",
      "/eos/lhcb/wg/semileptonic/RXcHad/B02Dsttaunu/Run2/ntuples//norm/Bd_Dst3pi/Bd_Dst3pi_11266018_2015_up_Sim09e-ReDecay01.root\n",
      "/eos/lhcb/wg/semileptonic/RXcHad/B02Dsttaunu/Run2/ntuples//norm/Bd_Dst3pi/Bd_Dst3pi_11266018_2015_up_Sim09c-ReDecay01.root\n",
      "/eos/lhcb/wg/semileptonic/RXcHad/B02Dsttaunu/Run2/ntuples//norm/Bd_Dst3pi/Bd_Dst3pi_11266018_2015_down_Sim09e-ReDecay01.root\n",
      "/eos/lhcb/wg/semileptonic/RXcHad/B02Dsttaunu/Run2/ntuples//norm/Bd_Dst3pi/Bd_Dst3pi_11266018_2015_down_Sim09c-ReDecay01.root\n",
      "/eos/lhcb/wg/semileptonic/RXcHad/B02Dsttaunu/Run2/ntuples//norm/Bd_Dst3pi/Bd_Dst3pi_11266018_2016_up_Sim09e-ReDecay01.root\n",
      "/eos/lhcb/wg/semileptonic/RXcHad/B02Dsttaunu/Run2/ntuples//norm/Bd_Dst3pi/Bd_Dst3pi_11266018_2016_up_Sim09c-ReDecay01.root\n",
      "/eos/lhcb/wg/semileptonic/RXcHad/B02Dsttaunu/Run2/ntuples//norm/Bd_Dst3pi/Bd_Dst3pi_11266018_2016_down_Sim09e-ReDecay01.root\n",
      "/eos/lhcb/wg/semileptonic/RXcHad/B02Dsttaunu/Run2/ntuples//norm/Bd_Dst3pi/Bd_Dst3pi_11266018_2016_down_Sim09c-ReDecay01.root\n",
      "retrieve common data\n",
      "/eos/lhcb/wg/semileptonic/RXcHad/B02Dsttaunu/Run2/ntuples//common/data/data_90000000_2015_up.root\n",
      "/eos/lhcb/wg/semileptonic/RXcHad/B02Dsttaunu/Run2/ntuples//common/data/data_90000000_2015_down.root\n",
      "/eos/lhcb/wg/semileptonic/RXcHad/B02Dsttaunu/Run2/ntuples//common/data/data_90000000_2016_up.root\n",
      "/eos/lhcb/wg/semileptonic/RXcHad/B02Dsttaunu/Run2/ntuples//common/data/data_90000000_2016_down.root\n",
      "cut on DeltaM has removed 425088 over 935261 events\n"
     ]
    }
   ],
   "source": [
    "df = {}\n",
    "print(\"retrieve MC\")\n",
    "df['MC'] = load_data(years,magnets, type_data = 'all_MC',vars = add_variables + needed_variables) # already cut on DeltaM\n",
    "print(\"retrieve common data\")\n",
    "df['common'] = load_data(years, magnets, type_data = 'common', vars = add_variables + needed_variables, cut_DeltaM=True)"
   ]
  },
  {
   "cell_type": "code",
   "execution_count": 13,
   "metadata": {},
   "outputs": [],
   "source": [
    "df['common'] = get_df_variables(df['common'], variables_functions+add_variables)\n",
    "df['MC'] = get_df_variables(df['MC'], variables_functions+add_variables)\n",
    "df['common'] = add_constr_Dst(df['common'])\n",
    "# df['MC'] = add_constr_Dst(df['common'])\n",
    "add_variables += [cstr_B0_M]\n"
   ]
  },
  {
   "cell_type": "markdown",
   "metadata": {},
   "source": [
    "#### Check NaN values"
   ]
  },
  {
   "cell_type": "code",
   "execution_count": 14,
   "metadata": {},
   "outputs": [],
   "source": [
    "columns_common = list(df['common'].columns)\n",
    "columns_MC = list(df['MC'].columns)"
   ]
  },
  {
   "cell_type": "code",
   "execution_count": 15,
   "metadata": {},
   "outputs": [],
   "source": [
    "columns_common_noNaN = list(df['common'].dropna(axis='columns').columns)\n",
    "columns_MC_noNaN = list(df['MC'].dropna(axis='columns').columns)"
   ]
  },
  {
   "cell_type": "code",
   "execution_count": 16,
   "metadata": {},
   "outputs": [
    {
     "name": "stdout",
     "output_type": "stream",
     "text": [
      "Columns of NaN values\n",
      "== common ==\n",
      "== MC ==\n"
     ]
    }
   ],
   "source": [
    "print(\"Columns of NaN values\")\n",
    "print(\"== common ==\")\n",
    "for c in columns_common:\n",
    "    if c not in columns_common_noNaN:\n",
    "        print(c)\n",
    "        \n",
    "print(\"== MC ==\")\n",
    "for c in columns_MC:\n",
    "    if c not in columns_MC_noNaN:\n",
    "        print(c)"
   ]
  },
  {
   "cell_type": "code",
   "execution_count": 17,
   "metadata": {
    "scrolled": true
   },
   "outputs": [
    {
     "data": {
      "text/plain": [
       "True"
      ]
     },
     "execution_count": 17,
     "metadata": {},
     "output_type": "execute_result"
    }
   ],
   "source": [
    "list(df['common'].columns) == variables + add_variables"
   ]
  },
  {
   "cell_type": "markdown",
   "metadata": {},
   "source": [
    "### Splitting of the `common` data"
   ]
  },
  {
   "cell_type": "markdown",
   "metadata": {},
   "source": [
    "We randomly split the `common` data into two samples of same size"
   ]
  },
  {
   "cell_type": "code",
   "execution_count": 18,
   "metadata": {},
   "outputs": [],
   "source": [
    "df['common1'] = df['common'].sample(frac=0.5, random_state=150)\n",
    "df['common2'] = df['common'].drop(df['common1'].sort_index().index,0).sample(frac=1., random_state=150)\n",
    "\n",
    "df['MC1'] = df['MC'].sample(frac=0.5, random_state=150).sort_index()\n",
    "df['MC2'] = df['MC'].drop(df['MC1'].sort_index().index,0).sample(frac=1., random_state=150)"
   ]
  },
  {
   "cell_type": "markdown",
   "metadata": {},
   "source": [
    "Some checks that they have the same size and are randomly separated"
   ]
  },
  {
   "cell_type": "code",
   "execution_count": 19,
   "metadata": {
    "scrolled": true
   },
   "outputs": [
    {
     "name": "stdout",
     "output_type": "stream",
     "text": [
      "255086 255087\n"
     ]
    }
   ],
   "source": [
    "print(len(df['common1']), len(df['common2']))"
   ]
  },
  {
   "cell_type": "code",
   "execution_count": 20,
   "metadata": {
    "scrolled": true
   },
   "outputs": [],
   "source": [
    "# h.plot_hist_particle({'data 1': df['common1'], 'data 2':df['common2']}, cstr_B0_M,\n",
    "#               n_bins = 100, mode_hist = True, colors=['orange', 'cyan'], density=False)\n",
    "# low=5150\n",
    "# high=5570\n",
    "# h.plot_hist_particle({'data 1': df['common1'], 'data 2':df['common2']}, cstr_B0_M,\n",
    "#               n_bins = 100, mode_hist = True, colors=['orange', 'cyan'],\n",
    "#                     low=low, high=high)"
   ]
  },
  {
   "cell_type": "markdown",
   "metadata": {},
   "source": [
    "### Background samples"
   ]
  },
  {
   "cell_type": "markdown",
   "metadata": {},
   "source": [
    "#### Create the background samples"
   ]
  },
  {
   "cell_type": "code",
   "execution_count": 21,
   "metadata": {
    "scrolled": true
   },
   "outputs": [
    {
     "name": "stdout",
     "output_type": "stream",
     "text": [
      "bgk1:  5479 events\n",
      "bgk2:  5537 events\n"
     ]
    }
   ],
   "source": [
    "df['bkg1'] = df['common1'].query(f'{cstr_B0_M} > {low_bkg} and {cstr_B0_M} < {high_bkg}')\n",
    "df['bkg2'] = df['common2'].query(f'{cstr_B0_M} > {low_bkg} and {cstr_B0_M} < {high_bkg}')\n",
    "print('bgk1: ', len(df['bkg1']), 'events')\n",
    "print('bgk2: ', len(df['bkg2']), 'events')"
   ]
  },
  {
   "cell_type": "code",
   "execution_count": 22,
   "metadata": {},
   "outputs": [],
   "source": [
    "# h.plot_hist_particle({'bkg 1': df['bkg1'], 'bkg 2':df['bkg2']},cstr_B0_M,\n",
    "#               n_bins = 100, mode_hist = True, colors=['orange', 'cyan'], density=False)"
   ]
  },
  {
   "cell_type": "markdown",
   "metadata": {},
   "source": [
    "#### Remove unwanted variables (keep only the training variables)"
   ]
  },
  {
   "cell_type": "code",
   "execution_count": 23,
   "metadata": {},
   "outputs": [],
   "source": [
    "for data in 'common1', 'common2', 'bkg1', 'bkg2', 'MC1', 'MC2': # with training variables\n",
    "    df[data+'_t'] = deepcopy(df[data])\n",
    "    for add_var in add_variables+['index']:\n",
    "        try:\n",
    "            df[data+'_t'] = df[data+'_t'].drop(add_var, 1)\n",
    "        except KeyError:\n",
    "            pass"
   ]
  },
  {
   "cell_type": "markdown",
   "metadata": {},
   "source": [
    "#### Create the samples that will be used for the training-test, with a new variable `y`\n",
    "- = 1 if signal\n",
    "- = 0 if backgrond"
   ]
  },
  {
   "cell_type": "code",
   "execution_count": 24,
   "metadata": {},
   "outputs": [],
   "source": [
    "X = {}\n",
    "y = {}"
   ]
  },
  {
   "cell_type": "code",
   "execution_count": 25,
   "metadata": {},
   "outputs": [],
   "source": [
    "for i in '1', '2':\n",
    "    X[i], y[i], df[f'train_test{i}'] = bt.concatenate(df[f'MC{i}_t'], df[f'bkg{i}_t'])\n"
   ]
  },
  {
   "cell_type": "markdown",
   "metadata": {},
   "source": [
    "#### Create the training and test sample"
   ]
  },
  {
   "cell_type": "code",
   "execution_count": 26,
   "metadata": {},
   "outputs": [],
   "source": [
    "Xt = {'train': {}, 'test': {}}\n",
    "yt = {'train': {}, 'test': {}}"
   ]
  },
  {
   "cell_type": "code",
   "execution_count": 27,
   "metadata": {},
   "outputs": [],
   "source": [
    "for i in '1', '2':\n",
    "    Xt['train'][i], Xt['test'][i], yt['train'][i], yt['test'][i] = bt.get_train_test(X[i], y[i])"
   ]
  },
  {
   "cell_type": "markdown",
   "metadata": {},
   "source": [
    "#### Separate the `y` variable from the other variables"
   ]
  },
  {
   "cell_type": "code",
   "execution_count": 28,
   "metadata": {},
   "outputs": [],
   "source": [
    "assert len(Xt['test']['1'].T) == len(variables)\n",
    "assert len(Xt['test']['2'].T) == len(variables)\n",
    "assert len(Xt['train']['1'].T) == len(variables)\n",
    "assert len(Xt['train']['2'].T) == len(variables)\n",
    "\n",
    "assert len(Xt['test']['1'])==len(yt['test']['1'])\n",
    "assert len(Xt['test']['2'])==len(yt['test']['2'])\n",
    "assert len(Xt['train']['1'])==len(yt['train']['1'])\n",
    "assert len(Xt['train']['2'])==len(yt['train']['2'])"
   ]
  },
  {
   "cell_type": "markdown",
   "metadata": {},
   "source": [
    "#### Create the training and test sample"
   ]
  },
  {
   "cell_type": "markdown",
   "metadata": {},
   "source": [
    "## Training"
   ]
  },
  {
   "cell_type": "code",
   "execution_count": 29,
   "metadata": {
    "scrolled": true
   },
   "outputs": [
    {
     "name": "stdout",
     "output_type": "stream",
     "text": [
      "hyperparameters:\n",
      "n_estimators: 400\n",
      "learning_rate: 0.1\n",
      "      Iter       Train Loss   Remaining Time \n",
      "         1           1.2734           44.14s\n",
      "         2           1.1810           31.25s\n",
      "         3           1.1039           26.93s\n",
      "         4           1.0374           24.72s\n",
      "         5           0.9810           23.33s\n",
      "         6           0.9321           22.40s\n",
      "         7           0.8900           21.72s\n",
      "         8           0.8531           21.20s\n",
      "         9           0.8203           20.79s\n",
      "        10           0.7928           20.45s\n",
      "        20           0.6158           18.63s\n",
      "        30           0.5276           17.73s\n",
      "        40           0.4760           17.06s\n",
      "        50           0.4435           16.45s\n",
      "        60           0.4189           15.93s\n",
      "        70           0.4017           15.41s\n",
      "        80           0.3885           14.89s\n",
      "        90           0.3783           14.40s\n",
      "       100           0.3694           13.91s\n",
      "       200           0.3282            9.18s\n",
      "       300           0.3097            4.57s\n",
      "       400           0.2978            0.00s\n"
     ]
    }
   ],
   "source": [
    "bdt1 = bt.BDT(Xt['train']['1'], yt['train']['1'], classifier = 'gradientboosting', n_estimators=400, \n",
    "              learning_rate=0.1)"
   ]
  },
  {
   "cell_type": "code",
   "execution_count": 30,
   "metadata": {},
   "outputs": [
    {
     "name": "stdout",
     "output_type": "stream",
     "text": [
      "hyperparameters:\n",
      "n_estimators: 400\n",
      "learning_rate: 0.1\n",
      "      Iter       Train Loss   Remaining Time \n",
      "         1           1.2777           22.23s\n",
      "         2           1.1865           20.26s\n",
      "         3           1.1100           19.58s\n",
      "         4           1.0445           19.20s\n",
      "         5           0.9875           18.96s\n",
      "         6           0.9389           18.79s\n",
      "         7           0.8970           18.68s\n",
      "         8           0.8606           18.55s\n",
      "         9           0.8276           18.45s\n",
      "        10           0.7995           18.37s\n",
      "        20           0.6310           17.64s\n",
      "        30           0.5433           17.14s\n",
      "        40           0.4917           16.63s\n",
      "        50           0.4564           16.14s\n",
      "        60           0.4312           15.68s\n",
      "        70           0.4125           15.20s\n",
      "        80           0.3988           14.73s\n",
      "        90           0.3874           14.26s\n",
      "       100           0.3783           13.79s\n",
      "       200           0.3343            9.20s\n",
      "       300           0.3157            4.59s\n",
      "       400           0.3035            0.00s\n"
     ]
    }
   ],
   "source": [
    "bdt2 = bt.BDT(Xt['train']['2'], yt['train']['2'], classifier='gradientboosting', n_estimators=400, \n",
    "              learning_rate=0.1)"
   ]
  },
  {
   "cell_type": "markdown",
   "metadata": {},
   "source": [
    "## Testing"
   ]
  },
  {
   "cell_type": "markdown",
   "metadata": {},
   "source": [
    "### Report"
   ]
  },
  {
   "cell_type": "code",
   "execution_count": 31,
   "metadata": {
    "scrolled": true
   },
   "outputs": [
    {
     "name": "stdout",
     "output_type": "stream",
     "text": [
      "              precision    recall  f1-score   support\n",
      "\n",
      "  background       0.85      0.91      0.88      2782\n",
      "      signal       0.98      0.96      0.97     11148\n",
      "\n",
      "    accuracy                           0.95     13930\n",
      "   macro avg       0.91      0.93      0.92     13930\n",
      "weighted avg       0.95      0.95      0.95     13930\n",
      "\n",
      "Area under ROC curve: 0.9814\n",
      "              precision    recall  f1-score   support\n",
      "\n",
      "  background       0.85      0.92      0.88      2808\n",
      "      signal       0.98      0.96      0.97     11151\n",
      "\n",
      "    accuracy                           0.95     13959\n",
      "   macro avg       0.92      0.94      0.93     13959\n",
      "weighted avg       0.95      0.95      0.95     13959\n",
      "\n",
      "Area under ROC curve: 0.9813\n"
     ]
    }
   ],
   "source": [
    "# bt.classification_report_print(X_test1, y_test1, bdt1,name_BDT+'1')\n",
    "# bt.classification_report_print(X_test2, y_test2, bdt2,name_BDT+'2')\n",
    "bt.classification_report_print(Xt['test']['1'], yt['test']['1'], bdt1,name_BDT+'1')\n",
    "bt.classification_report_print(Xt['test']['2'], yt['test']['2'], bdt2,name_BDT+'2')"
   ]
  },
  {
   "cell_type": "markdown",
   "metadata": {},
   "source": [
    "### Roc curve"
   ]
  },
  {
   "cell_type": "code",
   "execution_count": 32,
   "metadata": {},
   "outputs": [
    {
     "name": "stderr",
     "output_type": "stream",
     "text": [
      "findfont: Font family ['serif'] not found. Falling back to DejaVu Sans.\n"
     ]
    },
    {
     "name": "stdout",
     "output_type": "stream",
     "text": [
      "/afs/cern.ch/user/c/correian/bd2dst3pi/output/plots/BDT/gradient1/ROC_gradient1\n",
      "/afs/cern.ch/user/c/correian/bd2dst3pi/output/plots/BDT/gradient2/ROC_gradient2\n"
     ]
    },
    {
     "data": {
      "text/plain": [
       "(<Figure size 576x432 with 1 Axes>,\n",
       " <AxesSubplot:xlabel='False Positive Rate', ylabel='True Positive Rate'>)"
      ]
     },
     "execution_count": 32,
     "metadata": {},
     "output_type": "execute_result"
    },
    {
     "data": {
      "image/png": "[encoded data removed]",
      "text/plain": [
       "<Figure size 576x432 with 1 Axes>"
      ]
     },
     "metadata": {
      "needs_background": "light"
     },
     "output_type": "display_data"
    },
    {
     "data": {
      "image/png": "[encoded data removed]",
      "text/plain": [
       "<Figure size 576x432 with 1 Axes>"
      ]
     },
     "metadata": {
      "needs_background": "light"
     },
     "output_type": "display_data"
    }
   ],
   "source": [
    "# bt.plot_roc(X_test1, y_test1, bdt1, name_BDT+'1', name_folder = name_BDT+'1')\n",
    "# bt.plot_roc(X_test2, y_test2, bdt2, name_BDT+'2', name_folder = name_BDT+'2')\n",
    "bt.plot_roc(Xt['test']['1'], yt['test']['1'], bdt1, name_BDT+'1', name_folder = name_BDT+'1')\n",
    "bt.plot_roc(Xt['test']['2'], yt['test']['2'], bdt2, name_BDT+'2', name_folder = name_BDT+'2')"
   ]
  },
  {
   "cell_type": "markdown",
   "metadata": {},
   "source": [
    "### Overtraining check"
   ]
  },
  {
   "cell_type": "code",
   "execution_count": 33,
   "metadata": {},
   "outputs": [
    {
     "name": "stdout",
     "output_type": "stream",
     "text": [
      "/afs/cern.ch/user/c/correian/bd2dst3pi/output/plots/BDT/gradient1/overtraining_gradient1\n",
      "Kolmogorov-Smirnov statistic\n",
      "signal    : 0.012506799334870311\n",
      "Background: 0.021964522713017926\n",
      "p-value\n",
      "signal    : 0.34278760887912607\n",
      "Background: 0.5134691071299634\n",
      "/afs/cern.ch/user/c/correian/bd2dst3pi/output/plots/BDT/gradient2/overtraining_gradient2\n",
      "Kolmogorov-Smirnov statistic\n",
      "signal    : 0.00786916554609024\n",
      "Background: 0.012324495056264935\n",
      "p-value\n",
      "signal    : 0.8761990794486847\n",
      "Background: 0.9821906998262088\n"
     ]
    },
    {
     "data": {
      "image/png": "[encoded data removed]",
      "text/plain": [
       "<Figure size 576x432 with 1 Axes>"
      ]
     },
     "metadata": {
      "needs_background": "light"
     },
     "output_type": "display_data"
    },
    {
     "data": {
      "image/png": "[encoded data removed]",
      "text/plain": [
       "<Figure size 576x432 with 1 Axes>"
      ]
     },
     "metadata": {
      "needs_background": "light"
     },
     "output_type": "display_data"
    }
   ],
   "source": [
    "# _,_,ks_2samp_sig1,ks_2samp_bkg1 = bt.compare_train_test(bdt1, X_train1, y_train1, X_test1, y_test1, name_BDT = name_BDT+'1', name_folder = name_BDT+'1')\n",
    "# _,_,ks_2samp_sig2,ks_2samp_bkg2 = bt.compare_train_test(bdt2, X_train2, y_train2, X_test2, y_test2, name_BDT = name_BDT+'2', name_folder = name_BDT+'2')\n",
    "\n",
    "\n",
    "_, _,ks_2samp_sig1,ks_2samp_bkg1, p_value_sig1, pvalue_2samp_bkg1 = bt.compare_train_test(bdt1, Xt['train']['1'], yt['train']['1'], \n",
    "                                                        Xt['test']['1'], yt['test']['1'], \n",
    "                                                        name_BDT = name_BDT+'1', name_folder = name_BDT+'1',\n",
    "                                                       colors=['g', 'y'])\n",
    "_, _,ks_2samp_sig2,ks_2samp_bkg2, p_value_sig2, pvalue_2samp_bkg2 = bt.compare_train_test(bdt2, Xt['train']['2'], yt['train']['2'], \n",
    "                                                        Xt['test']['2'], yt['test']['2'], \n",
    "                                                        colors=['g', 'y'],\n",
    "                                                        name_BDT = name_BDT+'2', name_folder = name_BDT+'2')"
   ]
  },
  {
   "cell_type": "code",
   "execution_count": 28,
   "metadata": {},
   "outputs": [
    {
     "name": "stdout",
     "output_type": "stream",
     "text": [
      "parameters saved in /afs/cern.ch/user/c/correian/bd2dst3pi/output/json/gradient/ks_2samp_params.json\n"
     ]
    }
   ],
   "source": [
    "save_json({'sig1':ks_2samp_sig1,'bkg1':ks_2samp_bkg1, 'sig2':ks_2samp_sig2, 'bkg2':ks_2samp_bkg2}, name_data='ks_2samp', name_folder=name_BDT)"
   ]
  },
  {
   "cell_type": "markdown",
   "metadata": {},
   "source": [
    "## Importance of the variables"
   ]
  },
  {
   "cell_type": "code",
   "execution_count": 30,
   "metadata": {},
   "outputs": [],
   "source": [
    "imps = {}\n",
    "imps['1'] = bdt1.feature_importances_\n",
    "imps['2'] = bdt2.feature_importances_"
   ]
  },
  {
   "cell_type": "code",
   "execution_count": 42,
   "metadata": {},
   "outputs": [],
   "source": [
    "branch_names = list(df[f'train_test1'].columns)\n",
    "branch_titles = {}\n",
    "for branch in branch_names:\n",
    "    branch_titles[branch] = get_name_unit_particule_var(branch)[0]"
   ]
  },
  {
   "cell_type": "code",
   "execution_count": 43,
   "metadata": {
    "scrolled": false
   },
   "outputs": [
    {
     "data": {
      "text/plain": [
       "{'B0_DIRA_OWNPV:ln(1-x)': '$ln(1-x)$ of the cosine of the DIRA angle($D^{*}3\\\\pi$)',\n",
       " 'B0_ENDVERTEX_CHI2,B0_ENDVERTEX_NDOF:x/y': '$\\\\chi^2$ of the end vertex per d.o.f.($D^{*}3\\\\pi$)',\n",
       " 'B0_PT': '$p_T$($D^{*}3\\\\pi$)',\n",
       " 'B0_FDCHI2_OWNPV:ln(x)': '$ln(x)$ of the $\\\\chi^2$ of the flight distance($D^{*}3\\\\pi$)',\n",
       " 'B0_IP_OWNPV': 'Impact parameter($D^{*}3\\\\pi$)',\n",
       " 'Dst_DIRA_OWNPV:ln(1-x)': '$ln(1-x)$ of the cosine of the DIRA angle($D^*$)',\n",
       " 'Dst_PT': '$p_T$($D^*$)',\n",
       " 'Dst_IPCHI2_OWNPV': '$\\\\chi^2$ of the impact parameter($D^*$)',\n",
       " 'Dst_IP_OWNPV': 'Impact parameter($D^*$)',\n",
       " 'D0_PT': '$p_T$($D^0$)',\n",
       " 'D0_FDCHI2_OWNPV:ln(x)': '$ln(x)$ of the $\\\\chi^2$ of the flight distance($D^0$)',\n",
       " 'D0_IPCHI2_OWNPV:ln(x)': '$ln(x)$ of the $\\\\chi^2$ of the impact parameter($D^0$)',\n",
       " 'D0_IP_OWNPV': 'Impact parameter($D^0$)',\n",
       " 'tau_ENDVERTEX_CHI2,tau_ENDVERTEX_NDOF:x/y': '$\\\\chi^2$ of the end vertex per d.o.f.($3\\\\pi$)',\n",
       " 'tau_PT': '$p_T$($3\\\\pi$)',\n",
       " 'tau_FDCHI2_OWNPV:ln(x)': '$ln(x)$ of the $\\\\chi^2$ of the flight distance($3\\\\pi$)',\n",
       " 'tau_IPCHI2_OWNPV:ln(x)': '$ln(x)$ of the $\\\\chi^2$ of the impact parameter($3\\\\pi$)',\n",
       " 'tau_IP_OWNPV': 'Impact parameter($3\\\\pi$)',\n",
       " 'Dst_pion_PT': '$p_T$($\\\\pi$ from $D^*$)',\n",
       " 'Dst_pion_IPCHI2_OWNPV:ln(x)': '$ln(x)$ of the $\\\\chi^2$ of the impact parameter($\\\\pi$ from $D^*$)',\n",
       " 'D0_kaon_PT': '$p_T$($K$ from $D^0$)',\n",
       " 'D0_kaon_IPCHI2_OWNPV:ln(x)': '$ln(x)$ of the $\\\\chi^2$ of the impact parameter($K$ from $D^0$)',\n",
       " 'D0_pion_PT': '$p_T$($\\\\pi$ of $D^0$)',\n",
       " 'D0_pion_IPCHI2_OWNPV:ln(x)': '$ln(x)$ of the $\\\\chi^2$ of the impact parameter($\\\\pi$ of $D^0$)',\n",
       " 'y': 'y'}"
      ]
     },
     "execution_count": 43,
     "metadata": {},
     "output_type": "execute_result"
    }
   ],
   "source": [
    "branch_titles"
   ]
  },
  {
   "cell_type": "code",
   "execution_count": 44,
   "metadata": {},
   "outputs": [],
   "source": [
    "from collections import OrderedDict"
   ]
  },
  {
   "cell_type": "code",
   "execution_count": 47,
   "metadata": {},
   "outputs": [
    {
     "data": {
      "text/plain": [
       "2"
      ]
     },
     "execution_count": 47,
     "metadata": {},
     "output_type": "execute_result"
    }
   ],
   "source": [
    "len(imps)"
   ]
  },
  {
   "cell_type": "code",
   "execution_count": 48,
   "metadata": {},
   "outputs": [
    {
     "name": "stdout",
     "output_type": "stream",
     "text": [
      "BDT 1\n",
      "\\begin{table}[!h]\n",
      "\\begin{center}\n",
      "\\begin{tabular}{l c}\n",
      "Variable & Importance \\\\ \\hline\n",
      "Impact parameter($D^{*}3\\pi$) & 0.598 \\\\\n",
      "$ln(1-x)$ of the cosine of the DIRA angle($D^{*}3\\pi$) & 0.203 \\\\\n",
      "$ln(x)$ of the $\\chi^2$ of the flight distance($D^{*}3\\pi$) & 0.071 \\\\\n",
      "$\\chi^2$ of the end vertex per d.o.f.($D^{*}3\\pi$) & 0.070 \\\\\n",
      "$ln(x)$ of the $\\chi^2$ of the impact parameter($\\pi$ from $D^*$) & 0.026 \\\\\n",
      "$ln(1-x)$ of the cosine of the DIRA angle($D^*$) & 0.007 \\\\\n",
      "$p_T$($3\\pi$) & 0.006 \\\\\n",
      "$ln(x)$ of the $\\chi^2$ of the impact parameter($3\\pi$) & 0.005 \\\\\n",
      "$p_T$($\\pi$ from $D^*$) & 0.004 \\\\\n",
      "$p_T$($D^0$) & 0.003 \\\\\n",
      "Impact parameter($3\\pi$) & 0.002 \\\\\n",
      "$ln(x)$ of the $\\chi^2$ of the impact parameter($D^0$) & 0.002 \\\\\n",
      "$\\chi^2$ of the end vertex per d.o.f.($3\\pi$) & 0.002 \\\\\n",
      "$ln(x)$ of the $\\chi^2$ of the flight distance($3\\pi$) & 0.001 \\\\\n",
      "$ln(x)$ of the $\\chi^2$ of the flight distance($D^0$) & 0.000 \\\\\n",
      "$\\chi^2$ of the impact parameter($D^*$) & 0.000 \\\\\n",
      "$p_T$($D^{*}3\\pi$) & 0.000 \\\\\n",
      "$ln(x)$ of the $\\chi^2$ of the impact parameter($\\pi$ of $D^0$) & 0.000 \\\\\n",
      "$p_T$($\\pi$ of $D^0$) & 0.000 \\\\\n",
      "$p_T$($K$ from $D^0$) & 0.000 \\\\\n",
      "$ln(x)$ of the $\\chi^2$ of the impact parameter($K$ from $D^0$) & 0.000 \\\\\n",
      "Impact parameter($D^0$) & 0.000 \\\\\n",
      "$p_T$($D^*$) & 0.000 \\\\\n",
      "Impact parameter($D^*$) & 0.000 \\\\\n",
      "\\end{tabular}\n",
      "\\caption{Variables used in the BDT training, ranked by their importance.\\label{tab:BDTVars}}\n",
      "\\end{center}\n",
      "\\end{table}\n",
      "BDT 2\n",
      "\\begin{table}[!h]\n",
      "\\begin{center}\n",
      "\\begin{tabular}{l c}\n",
      "Variable & Importance \\\\ \\hline\n",
      "Impact parameter($D^{*}3\\pi$) & 0.485 \\\\\n",
      "$ln(1-x)$ of the cosine of the DIRA angle($D^{*}3\\pi$) & 0.318 \\\\\n",
      "$\\chi^2$ of the end vertex per d.o.f.($D^{*}3\\pi$) & 0.065 \\\\\n",
      "$ln(x)$ of the $\\chi^2$ of the flight distance($D^{*}3\\pi$) & 0.047 \\\\\n",
      "$ln(x)$ of the $\\chi^2$ of the impact parameter($\\pi$ from $D^*$) & 0.037 \\\\\n",
      "$ln(x)$ of the $\\chi^2$ of the impact parameter($3\\pi$) & 0.013 \\\\\n",
      "$ln(1-x)$ of the cosine of the DIRA angle($D^*$) & 0.009 \\\\\n",
      "$p_T$($3\\pi$) & 0.006 \\\\\n",
      "$p_T$($D^0$) & 0.005 \\\\\n",
      "$p_T$($D^*$) & 0.003 \\\\\n",
      "Impact parameter($3\\pi$) & 0.003 \\\\\n",
      "$p_T$($\\pi$ from $D^*$) & 0.002 \\\\\n",
      "$ln(x)$ of the $\\chi^2$ of the impact parameter($D^0$) & 0.002 \\\\\n",
      "$\\chi^2$ of the end vertex per d.o.f.($3\\pi$) & 0.002 \\\\\n",
      "$p_T$($D^{*}3\\pi$) & 0.001 \\\\\n",
      "$ln(x)$ of the $\\chi^2$ of the flight distance($D^0$) & 0.000 \\\\\n",
      "$p_T$($K$ from $D^0$) & 0.000 \\\\\n",
      "$ln(x)$ of the $\\chi^2$ of the flight distance($3\\pi$) & 0.000 \\\\\n",
      "$ln(x)$ of the $\\chi^2$ of the impact parameter($K$ from $D^0$) & 0.000 \\\\\n",
      "$\\chi^2$ of the impact parameter($D^*$) & 0.000 \\\\\n",
      "Impact parameter($D^*$) & 0.000 \\\\\n",
      "$ln(x)$ of the $\\chi^2$ of the impact parameter($\\pi$ of $D^0$) & 0.000 \\\\\n",
      "$p_T$($\\pi$ of $D^0$) & 0.000 \\\\\n",
      "Impact parameter($D^0$) & 0.000 \\\\\n",
      "\\end{tabular}\n",
      "\\caption{Variables used in the BDT training, ranked by their importance.\\label{tab:BDTVars}}\n",
      "\\end{center}\n",
      "\\end{table}\n"
     ]
    }
   ],
   "source": [
    "#Link the branch names and the importances\n",
    "for bdt in ['1', '2']:\n",
    "    print(f\"BDT {bdt}\")\n",
    "    d = {}\n",
    "\n",
    "    for i in range(0,len(imps[bdt])):\n",
    "        d[branch_names[i]] = imps[bdt][i]\n",
    "\n",
    "    sorted_dict = OrderedDict(sorted(d.items(), key=lambda x: x[1]))\n",
    "    #Reverse order it\n",
    "    sorted_dict = OrderedDict(reversed(list(sorted_dict.items())))\n",
    "\n",
    "    print(\"\\\\begin{table}[!h]\")\n",
    "    print(\"\\\\begin{center}\")\n",
    "    print(\"\\\\begin{tabular}{l c}\")\n",
    "    print(\"Variable & Importance \\\\\\\\ \\\\hline\")\n",
    "\n",
    "    for item in sorted_dict:\n",
    "        print(\"%s & %.3f \\\\\\\\\" % (branch_titles[item],sorted_dict[item]))\n",
    "\n",
    "    print(\"\\\\end{tabular}\")\n",
    "    print(\"\\\\caption{Variables used in the BDT training, ranked by their importance.\\\\label{tab:BDTVars}}\")\n",
    "    print(\"\\\\end{center}\")\n",
    "    print(\"\\\\end{table}\")"
   ]
  },
  {
   "cell_type": "markdown",
   "metadata": {},
   "source": [
    "## Save the BDT output in MC"
   ]
  },
  {
   "cell_type": "code",
   "execution_count": 87,
   "metadata": {},
   "outputs": [],
   "source": [
    "low = 5150.\n",
    "high = 5570."
   ]
  },
  {
   "cell_type": "code",
   "execution_count": 88,
   "metadata": {},
   "outputs": [],
   "source": [
    "BDT2 = bdt1.decision_function(df['MC2_t'])\n",
    "BDT1 = bdt2.decision_function(df['MC1_t'])"
   ]
  },
  {
   "cell_type": "code",
   "execution_count": 89,
   "metadata": {},
   "outputs": [],
   "source": [
    "df_MC_test = pd.DataFrame()\n",
    "df_MC_test['BDT'] = np.concatenate([BDT1,BDT2])"
   ]
  },
  {
   "cell_type": "code",
   "execution_count": 90,
   "metadata": {},
   "outputs": [],
   "source": [
    "df['MC1']['BDT'] = BDT1\n",
    "df['MC2']['BDT'] = BDT2\n",
    "\n",
    "df['MC_concat'] = pd.concat([df['MC1'],df['MC2']])\n",
    "df['MC_concat'] = add_constr_Dst(df['MC_concat'])"
   ]
  },
  {
   "cell_type": "code",
   "execution_count": 91,
   "metadata": {},
   "outputs": [
    {
     "name": "stdout",
     "output_type": "stream",
     "text": [
      "/afs/cern.ch/user/c/correian/bd2dst3pi/output/plots/gradient/BDTvsB0_M_MC\n"
     ]
    },
    {
     "data": {
      "image/png": "[encoded data removed]",
      "text/plain": [
       "<Figure size 576x432 with 2 Axes>"
      ]
     },
     "metadata": {
      "needs_background": "light"
     },
     "output_type": "display_data"
    }
   ],
   "source": [
    "fig, ax = h.plot_hist2d_particle(df['MC_concat'],[cstr_B0_M,'BDT'], low=[low,-10],high=[high,6.],\n",
    "            name_folder = name_BDT, log_scale = True, save_fig=False, \n",
    "                                 pos_text_LHC={'x':0.95, 'y':0.1, 'ha':'right', 'text':'LHCb simulation'})\n",
    "ax.axvline(x=5279.53, color='green', linewidth=5.)\n",
    "save_file(fig, \"BDTvsB0_M_MC\", name_BDT)"
   ]
  },
  {
   "cell_type": "code",
   "execution_count": 42,
   "metadata": {},
   "outputs": [],
   "source": [
    "for var in variables:\n",
    "    try:\n",
    "        df['MC_concat'] = df['MC_concat'].drop(var, 1)\n",
    "    except KeyError:\n",
    "        pass"
   ]
  },
  {
   "cell_type": "code",
   "execution_count": 43,
   "metadata": {},
   "outputs": [
    {
     "data": {
      "text/plain": [
       "Index(['B0_M', 'tau_M', 'Dst_M', 'D0_M', 'BDT', 'Dst_constr_B0_M'], dtype='object')"
      ]
     },
     "execution_count": 43,
     "metadata": {},
     "output_type": "execute_result"
    }
   ],
   "source": [
    "df['MC_concat'].columns"
   ]
  },
  {
   "cell_type": "code",
   "execution_count": 44,
   "metadata": {},
   "outputs": [
    {
     "name": "stdout",
     "output_type": "stream",
     "text": [
      "/afs/cern.ch/user/c/correian/bd2dst3pi/output/root/MC/MC_gradient.root\n"
     ]
    }
   ],
   "source": [
    "save_dataframe(df['MC_concat'], f'MC_{name_BDT}', 'DecayTree', name_folder = 'MC')"
   ]
  },
  {
   "cell_type": "markdown",
   "metadata": {},
   "source": [
    "## Apply to the data"
   ]
  },
  {
   "cell_type": "code",
   "execution_count": 92,
   "metadata": {
    "scrolled": true
   },
   "outputs": [],
   "source": [
    "df['common1']['BDT'] = bdt2.decision_function(df['common1_t'])\n",
    "df['common2']['BDT'] = bdt1.decision_function(df['common2_t'])"
   ]
  },
  {
   "cell_type": "code",
   "execution_count": 93,
   "metadata": {},
   "outputs": [
    {
     "name": "stdout",
     "output_type": "stream",
     "text": [
      "/afs/cern.ch/user/c/correian/bd2dst3pi/output/plots/BDT_data_1_data_2\n"
     ]
    },
    {
     "data": {
      "text/plain": [
       "(<Figure size 576x432 with 1 Axes>,\n",
       " <AxesSubplot:xlabel='BDT', ylabel='Proportion of candidates / (0.187)'>)"
      ]
     },
     "execution_count": 93,
     "metadata": {},
     "output_type": "execute_result"
    },
    {
     "data": {
      "image/png": "[encoded data removed]",
      "text/plain": [
       "<Figure size 576x432 with 1 Axes>"
      ]
     },
     "metadata": {
      "needs_background": "light"
     },
     "output_type": "display_data"
    }
   ],
   "source": [
    "h.plot_hist_particle({'data 1': df['common1'], 'data 2':df['common2']}, 'BDT',\n",
    "              n_bins = 100, mode_hist = True, colors=['orange', 'cyan'], pos_text_LHC=[0.1,0.8,'left'])"
   ]
  },
  {
   "cell_type": "code",
   "execution_count": 94,
   "metadata": {
    "scrolled": true
   },
   "outputs": [
    {
     "data": {
      "text/plain": [
       "True"
      ]
     },
     "execution_count": 94,
     "metadata": {},
     "output_type": "execute_result"
    }
   ],
   "source": [
    "df['common_withBDT'] = pd.concat([df['common1'],df['common2']])\n",
    "len(df['common_withBDT']) == len(df['common1']) + len(df['common2'])"
   ]
  },
  {
   "cell_type": "code",
   "execution_count": 95,
   "metadata": {},
   "outputs": [
    {
     "name": "stdout",
     "output_type": "stream",
     "text": [
      "/afs/cern.ch/user/c/correian/bd2dst3pi/output/plots/BDT_data\n"
     ]
    },
    {
     "data": {
      "text/plain": [
       "(<Figure size 576x432 with 1 Axes>,\n",
       " <AxesSubplot:xlabel='BDT', ylabel='Candidates / (0.187)'>)"
      ]
     },
     "execution_count": 95,
     "metadata": {},
     "output_type": "execute_result"
    },
    {
     "data": {
      "image/png": "[encoded data removed]",
      "text/plain": [
       "<Figure size 576x432 with 1 Axes>"
      ]
     },
     "metadata": {
      "needs_background": "light"
     },
     "output_type": "display_data"
    }
   ],
   "source": [
    "h.plot_hist_particle({'data': df['common_withBDT']},'BDT',\n",
    "              n_bins = 100, mode_hist = False, colors=['orange', 'cyan'], pos_text_LHC=[0.05,0.95,'left'])"
   ]
  },
  {
   "cell_type": "code",
   "execution_count": 96,
   "metadata": {},
   "outputs": [
    {
     "name": "stdout",
     "output_type": "stream",
     "text": [
      "/afs/cern.ch/user/c/correian/bd2dst3pi/output/plots/gradient/BDT_cut_B0_M\n"
     ]
    },
    {
     "data": {
      "text/plain": [
       "(<Figure size 576x432 with 1 Axes>,\n",
       " <AxesSubplot:xlabel='$m$($D^*3\\\\pi|m(D^*)$=2010.26 MeV/$c^2$) [MeV/$c^2$]', ylabel='Candidates / (4.2 MeV/$c^2$)'>)"
      ]
     },
     "execution_count": 96,
     "metadata": {},
     "output_type": "execute_result"
    },
    {
     "data": {
      "image/png": "[encoded data removed]",
      "text/plain": [
       "<Figure size 576x432 with 1 Axes>"
      ]
     },
     "metadata": {
      "needs_background": "light"
     },
     "output_type": "display_data"
    }
   ],
   "source": [
    "h.plot_hist_particle({'no cut':df['common_withBDT'], '$BDT>-0.8$':df['common_withBDT'].query('BDT>-0.8')},\n",
    "          cstr_B0_M, n_bins = 100,low = low,high=high,mode_hist=True, \n",
    "                       colors=['b', 'g', 'r'], pos_text_LHC=[0.95, 0.70, 'right'],\n",
    "            name_file = 'BDT_cut_B0_M',name_folder = name_BDT, density=False)"
   ]
  },
  {
   "cell_type": "code",
   "execution_count": 97,
   "metadata": {
    "scrolled": true
   },
   "outputs": [
    {
     "name": "stdout",
     "output_type": "stream",
     "text": [
      "/afs/cern.ch/user/c/correian/bd2dst3pi/output/plots/gradient/BDT_cut_on_B0_M\n"
     ]
    },
    {
     "data": {
      "text/plain": [
       "(<Figure size 576x432 with 1 Axes>,\n",
       " <AxesSubplot:xlabel='$m$($D^*3\\\\pi|m(D^*)$=2010.26 MeV/$c^2$) [MeV/$c^2$]', ylabel='Candidates / (3.95 MeV/$c^2$)'>)"
      ]
     },
     "execution_count": 97,
     "metadata": {},
     "output_type": "execute_result"
    },
    {
     "data": {
      "image/png": "[encoded data removed]",
      "text/plain": [
       "<Figure size 576x432 with 1 Axes>"
      ]
     },
     "metadata": {
      "needs_background": "light"
     },
     "output_type": "display_data"
    }
   ],
   "source": [
    "h.plot_hist_particle({'no cut':df['common_withBDT'], '$BDT>-2.5$':df['common_withBDT'].query('BDT>-2.5')},\n",
    "          cstr_B0_M, n_bins = 100,low = low,high=5545,mode_hist=True, \n",
    "                       colors=['b', 'g', 'r'], pos_text_LHC=[0.95, 0.70, 'right'],\n",
    "            name_file = 'BDT_cut_on_B0_M',name_folder = name_BDT, density=False)"
   ]
  },
  {
   "cell_type": "code",
   "execution_count": 98,
   "metadata": {},
   "outputs": [
    {
     "name": "stdout",
     "output_type": "stream",
     "text": [
      "/afs/cern.ch/user/c/correian/bd2dst3pi/output/plots/gradient/BDTvsB0_M\n"
     ]
    },
    {
     "data": {
      "image/png": "[encoded data removed]",
      "text/plain": [
       "<Figure size 576x432 with 2 Axes>"
      ]
     },
     "metadata": {
      "needs_background": "light"
     },
     "output_type": "display_data"
    }
   ],
   "source": [
    "fig, ax = h.plot_hist2d_particle(df['common_withBDT'],[cstr_B0_M,'BDT'], low=[low,-10],high=[high,6.],\n",
    "            name_folder = name_BDT, log_scale = True, save_fig=False)\n",
    "ax.axvline(x=5279.53, color='green', linewidth=5.)\n",
    "t = set_text_LHCb(ax, pos=[0.95, 0.95, 'right'], fontsize=18)\n",
    "t.set_bbox(dict(facecolor='white', alpha=1, edgecolor='black', boxstyle='round'))\n",
    "save_file(fig, \"BDTvsB0_M\",name_BDT)"
   ]
  },
  {
   "cell_type": "code",
   "execution_count": 99,
   "metadata": {
    "scrolled": false
   },
   "outputs": [
    {
     "name": "stdout",
     "output_type": "stream",
     "text": [
      "/afs/cern.ch/user/c/correian/bd2dst3pi/output/plots/gradient/background_BDT_cut_B0_M\n"
     ]
    },
    {
     "data": {
      "text/plain": [
       "(<Figure size 576x432 with 1 Axes>,\n",
       " <AxesSubplot:xlabel='$m$($D^*3\\\\pi|m(D^*)$=2010.26 MeV/$c^2$) [MeV/$c^2$]', ylabel='Candidates / (3.95 MeV/$c^2$)'>)"
      ]
     },
     "execution_count": 99,
     "metadata": {},
     "output_type": "execute_result"
    },
    {
     "data": {
      "image/png": "[encoded data removed]",
      "text/plain": [
       "<Figure size 576x432 with 1 Axes>"
      ]
     },
     "metadata": {
      "needs_background": "light"
     },
     "output_type": "display_data"
    }
   ],
   "source": [
    "h.plot_hist_particle({'no cut':df['common_withBDT'], 'BDT$<-2.5$':df['common_withBDT'].query('BDT<-2.5')},\n",
    "          cstr_B0_M, n_bins = 100,low = low, high=5545,mode_hist=True, \n",
    "                       colors=['b', 'g', 'r'], pos_text_LHC=[0.95, 0.70, 'right'],\n",
    "            name_file = 'background_BDT_cut_B0_M',name_folder = name_BDT, density=False)"
   ]
  },
  {
   "cell_type": "code",
   "execution_count": 494,
   "metadata": {},
   "outputs": [],
   "source": [
    "# for var in variables:\n",
    "#     try:\n",
    "#         df['common_withBDT'] = df['common_withBDT'].drop(var, 1)\n",
    "#     except KeyError:\n",
    "#         pass"
   ]
  },
  {
   "cell_type": "code",
   "execution_count": 495,
   "metadata": {
    "scrolled": true
   },
   "outputs": [
    {
     "name": "stdout",
     "output_type": "stream",
     "text": [
      "/afs/cern.ch/user/c/correian/bd2dst3pi/output/root/common/common_gradient.root\n"
     ]
    }
   ],
   "source": [
    "save_dataframe(df['common_withBDT'], f'common_{name_BDT}', 'DecayTree', name_folder = 'common')"
   ]
  },
  {
   "cell_type": "markdown",
   "metadata": {},
   "source": [
    "## Visualisation of a cut"
   ]
  },
  {
   "cell_type": "code",
   "execution_count": null,
   "metadata": {},
   "outputs": [],
   "source": [
    "var1 = 'B0_FDCHI2_OWNPV:ln(x)'\n",
    "var2 = 'D0_IPCHI2_OWNPV:ln(x)'\n",
    "dfs = {'background':df['bkg'], 'signal':df['training_MC']}"
   ]
  },
  {
   "cell_type": "code",
   "execution_count": null,
   "metadata": {},
   "outputs": [],
   "source": [
    "fig, ax = h.plot_scatter2d_particle(dfs, [var1, var2], name_folder='signal_vs_background', marker='.', s=1,\n",
    "                        low=[None, 2], high=[None, 12.5],\n",
    "                       colors = ['r', 'g'])"
   ]
  },
  {
   "cell_type": "code",
   "execution_count": 34,
   "metadata": {},
   "outputs": [
    {
     "ename": "KeyError",
     "evalue": "2",
     "output_type": "error",
     "traceback": [
      "\u001b[0;31m---------------------------------------------------------------------------\u001b[0m",
      "\u001b[0;31mKeyError\u001b[0m                                  Traceback (most recent call last)",
      "\u001b[0;32m<ipython-input-34-e55caffa91a1>\u001b[0m in \u001b[0;36m<module>\u001b[0;34m\u001b[0m\n\u001b[0;32m----> 1\u001b[0;31m \u001b[0mXt\u001b[0m\u001b[0;34m[\u001b[0m\u001b[0;34m'test'\u001b[0m\u001b[0;34m]\u001b[0m\u001b[0;34m[\u001b[0m\u001b[0;36m2\u001b[0m\u001b[0;34m]\u001b[0m\u001b[0;34m\u001b[0m\u001b[0;34m\u001b[0m\u001b[0m\n\u001b[0m",
      "\u001b[0;31mKeyError\u001b[0m: 2"
     ]
    }
   ],
   "source": [
    "Xt['test'][2]"
   ]
  },
  {
   "cell_type": "code",
   "execution_count": null,
   "metadata": {},
   "outputs": [],
   "source": []
  }
 ],
 "metadata": {
  "kernelspec": {
   "display_name": "bd2dst3pi_env",
   "language": "python",
   "name": "bd2dst3pi_env"
  },
  "language_info": {
   "codemirror_mode": {
    "name": "ipython",
    "version": 3
   },
   "file_extension": ".py",
   "mimetype": "text/x-python",
   "name": "python",
   "nbconvert_exporter": "python",
   "pygments_lexer": "ipython3",
   "version": "3.7.8"
  }
 },
 "nbformat": 4,
 "nbformat_minor": 4
}
