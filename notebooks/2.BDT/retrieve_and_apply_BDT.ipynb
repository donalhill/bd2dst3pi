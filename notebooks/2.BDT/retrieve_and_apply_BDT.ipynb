{
 "cells": [
  {
   "cell_type": "markdown",
   "metadata": {},
   "source": [
    "## Import"
   ]
  },
  {
   "cell_type": "code",
   "execution_count": 2,
   "metadata": {
    "scrolled": true
   },
   "outputs": [],
   "source": [
    "import pickle\n",
    "\n",
    "from bd2dst3pi.locations import loc\n",
    "from bd2dst3pi.definitions import years, magnets\n",
    "\n",
    "import sys\n",
    "sys.path.append(loc.SCRIPTS)\n",
    "import functions as fct\n",
    "from fit import launch_fit, save_params, plot_hist_fit, plot_hist_fit_particle\n",
    "import BDT.BDT as BDT"
   ]
  },
  {
   "cell_type": "markdown",
   "metadata": {},
   "source": [
    "## Retrieve the pandas dataframes"
   ]
  },
  {
   "cell_type": "markdown",
   "metadata": {},
   "source": [
    "### Variables"
   ]
  },
  {
   "cell_type": "code",
   "execution_count": 3,
   "metadata": {},
   "outputs": [],
   "source": [
    "df = {}\n",
    "variables = ['B0_M','tau_M']"
   ]
  },
  {
   "cell_type": "code",
   "execution_count": 4,
   "metadata": {},
   "outputs": [
    {
     "name": "stdout",
     "output_type": "stream",
     "text": [
      "variables:  ['B0_PT', 'Dst_PT', 'tau_pion0_PT', 'tau_pion1_PT', 'tau_pion2_PT', 'B0_ENDVERTEX_CHI2', 'Dst_ENDVERTEX_CHI2', 'tau_ENDVERTEX_CHI2', 'tau_pion0_TRACK_CHI2NDOF', 'tau_pion1_TRACK_CHI2NDOF', 'tau_pion2_TRACK_CHI2NDOF']\n"
     ]
    }
   ],
   "source": [
    "part_variables_to_plot = [] # particle,variable\n",
    "\n",
    "for particle in ['B0', 'Dst', 'tau_pion0', 'tau_pion1', 'tau_pion2']:\n",
    "    #part_variables_to_plot.append((particle,'P'))\n",
    "    part_variables_to_plot.append((particle,'PT'))\n",
    "\n",
    "for particle in ['B0', 'Dst', 'tau']:\n",
    "    part_variables_to_plot.append((particle,'ENDVERTEX_CHI2'))\n",
    "\n",
    "for particle in ['tau_pion0', 'tau_pion1', 'tau_pion2']:\n",
    "    part_variables_to_plot.append((particle,'TRACK_CHI2NDOF'))\n",
    "\n",
    "variables = []\n",
    "\n",
    "for particle,variable in part_variables_to_plot:\n",
    "    variables.append(f\"{particle}_{variable}\")\n",
    "\n",
    "##variables = ['B0_P']\n",
    "print('variables: ', variables)"
   ]
  },
  {
   "cell_type": "markdown",
   "metadata": {},
   "source": [
    "## Dataframes with cut on $\\Delta M$"
   ]
  },
  {
   "cell_type": "code",
   "execution_count": 5,
   "metadata": {
    "scrolled": false
   },
   "outputs": [
    {
     "name": "stdout",
     "output_type": "stream",
     "text": [
      "/eos/lhcb/wg/semileptonic/RXcHad/B02Dsttaunu/Run2/ntuples//common/data/data_90000000_2015_up.root\n",
      "/eos/lhcb/wg/semileptonic/RXcHad/B02Dsttaunu/Run2/ntuples//common/data/data_90000000_2015_down.root\n",
      "/eos/lhcb/wg/semileptonic/RXcHad/B02Dsttaunu/Run2/ntuples//common/data/data_90000000_2016_up.root\n",
      "/eos/lhcb/wg/semileptonic/RXcHad/B02Dsttaunu/Run2/ntuples//common/data/data_90000000_2016_down.root\n",
      "cut on Delta_M\n"
     ]
    }
   ],
   "source": [
    "df_train = fct.load_data(years, magnets, type_data='data_strip', vars=variables,\n",
    "                            cut_DeltaM=True)"
   ]
  },
  {
   "cell_type": "code",
   "execution_count": 6,
   "metadata": {
    "scrolled": false
   },
   "outputs": [
    {
     "name": "stdout",
     "output_type": "stream",
     "text": [
      "/eos/lhcb/wg/semileptonic/RXcHad/B02Dsttaunu/Run2/ntuples//common/data/data_90000000_2015_up.root\n",
      "/eos/lhcb/wg/semileptonic/RXcHad/B02Dsttaunu/Run2/ntuples//common/data/data_90000000_2015_down.root\n",
      "/eos/lhcb/wg/semileptonic/RXcHad/B02Dsttaunu/Run2/ntuples//common/data/data_90000000_2016_up.root\n",
      "/eos/lhcb/wg/semileptonic/RXcHad/B02Dsttaunu/Run2/ntuples//common/data/data_90000000_2016_down.root\n",
      "cut on Delta_M\n"
     ]
    }
   ],
   "source": [
    "df_tot = fct.load_data(years, magnets, type_data='data_strip', vars=['B0_M','tau_M'],\n",
    "                            cut_DeltaM=True)"
   ]
  },
  {
   "cell_type": "code",
   "execution_count": 7,
   "metadata": {},
   "outputs": [],
   "source": [
    "## We remove the variables that have been added because of the cut on DeltaM\n",
    "for var in 'Dst_M', 'D0_M', 'Delta_M':\n",
    "    df_train=df_train.drop(var, 1)"
   ]
  },
  {
   "cell_type": "markdown",
   "metadata": {},
   "source": [
    "## Retrieve and apply the BDT"
   ]
  },
  {
   "cell_type": "code",
   "execution_count": 8,
   "metadata": {},
   "outputs": [],
   "source": [
    "name_BDT = 'adaboost_0.8_without_P_cutDeltaM'"
   ]
  },
  {
   "cell_type": "code",
   "execution_count": 9,
   "metadata": {},
   "outputs": [],
   "source": [
    "with open(f'{loc.OUT}/pickle/bdt_{name_BDT}.pickle','br') as file:\n",
    "    bdt = pickle.load(file)"
   ]
  },
  {
   "cell_type": "code",
   "execution_count": 10,
   "metadata": {
    "scrolled": true
   },
   "outputs": [],
   "source": [
    "BDT.apply_BDT(df_tot,df_train, bdt,name_BDT=name_BDT)"
   ]
  },
  {
   "cell_type": "code",
   "execution_count": 19,
   "metadata": {},
   "outputs": [
    {
     "name": "stdout",
     "output_type": "stream",
     "text": [
      "Index(['B0_PT', 'Dst_PT', 'tau_pion0_PT', 'tau_pion1_PT', 'tau_pion2_PT',\n",
      "       'B0_ENDVERTEX_CHI2', 'Dst_ENDVERTEX_CHI2', 'tau_ENDVERTEX_CHI2',\n",
      "       'tau_pion0_TRACK_CHI2NDOF', 'tau_pion1_TRACK_CHI2NDOF',\n",
      "       'tau_pion2_TRACK_CHI2NDOF', 'Delta_M'],\n",
      "      dtype='object')\n"
     ]
    }
   ],
   "source": [
    "print(df_train.columns)"
   ]
  },
  {
   "cell_type": "code",
   "execution_count": null,
   "metadata": {},
   "outputs": [],
   "source": []
  }
 ],
 "metadata": {
  "kernelspec": {
   "display_name": "bd2dst3pi_env",
   "language": "python",
   "name": "bd2dst3pi_env"
  },
  "language_info": {
   "codemirror_mode": {
    "name": "ipython",
    "version": 3
   },
   "file_extension": ".py",
   "mimetype": "text/x-python",
   "name": "python",
   "nbconvert_exporter": "python",
   "pygments_lexer": "ipython3",
   "version": "3.7.8"
  }
 },
 "nbformat": 4,
 "nbformat_minor": 4
}
