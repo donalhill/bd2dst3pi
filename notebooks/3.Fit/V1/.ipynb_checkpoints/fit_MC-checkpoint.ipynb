{
 "cells": [
  {
   "cell_type": "markdown",
   "metadata": {},
   "source": [
    "# Fit of `B0_M` with the MC data\n",
    "- cut on $\\Delta M$ : $143 MeV < \\Delta M < 148 MeV$\n",
    "- Double CB fit on the MC data"
   ]
  },
  {
   "cell_type": "markdown",
   "metadata": {},
   "source": [
    "## Libraries"
   ]
  },
  {
   "cell_type": "code",
   "execution_count": 1,
   "metadata": {
    "scrolled": true
   },
   "outputs": [
    {
     "name": "stdout",
     "output_type": "stream",
     "text": [
      "Welcome to JupyROOT 6.22/02\n"
     ]
    }
   ],
   "source": [
    "import numpy as np\n",
    "import zfit\n",
    "import matplotlib.pyplot as plt\n",
    "import json\n",
    "#Gives us nice LaTeX fonts in the plots\n",
    "from matplotlib import rc\n",
    "rc('font',**{'family':'serif','serif':['Roman']})\n",
    "rc('text', usetex=True)\n",
    "\n",
    "\n",
    "from bd2dst3pi.locations import loc\n",
    "from bd2dst3pi.definitions import years, magnets\n",
    "\n",
    "\n",
    "import sys\n",
    "sys.path.append(loc.SCRIPTS)\n",
    "import functions as f\n",
    "from fit import launch_fit, plot_hist_fit, save_params, plot_hist_fit_particle"
   ]
  },
  {
   "cell_type": "markdown",
   "metadata": {},
   "source": [
    "## Retrieve data"
   ]
  },
  {
   "cell_type": "code",
   "execution_count": null,
   "metadata": {
    "scrolled": true
   },
   "outputs": [
    {
     "name": "stdout",
     "output_type": "stream",
     "text": [
      "/eos/lhcb/wg/semileptonic/RXcHad/B02Dsttaunu/Run2/ntuples//norm/Bd_Dst3pi/Bd_Dst3pi_11266018_2015_up_Sim09e-ReDecay01.root\n",
      "/eos/lhcb/wg/semileptonic/RXcHad/B02Dsttaunu/Run2/ntuples//norm/Bd_Dst3pi/Bd_Dst3pi_11266018_2015_down_Sim09e-ReDecay01.root\n",
      "/eos/lhcb/wg/semileptonic/RXcHad/B02Dsttaunu/Run2/ntuples//norm/Bd_Dst3pi/Bd_Dst3pi_11266018_2016_up_Sim09e-ReDecay01.root"
     ]
    }
   ],
   "source": [
    "df_MC = f.load_data(years,magnets,type_data = 'MC',vars = ['B0_M','tau_M'],cut_DeltaM = True)"
   ]
  },
  {
   "cell_type": "markdown",
   "metadata": {},
   "source": [
    "## Plot 1D histograms"
   ]
  },
  {
   "cell_type": "code",
   "execution_count": null,
   "metadata": {},
   "outputs": [],
   "source": [
    "f.plot_hist_particle({'MC':df_MC},'B0_M', n_bins = 100, colors='black')"
   ]
  },
  {
   "cell_type": "code",
   "execution_count": null,
   "metadata": {
    "scrolled": false
   },
   "outputs": [],
   "source": [
    "f.plot_hist_particle({'MC':df_MC},'tau_M', n_bins = 100, colors='black')"
   ]
  },
  {
   "cell_type": "markdown",
   "metadata": {},
   "source": [
    "## A function to launch the fit"
   ]
  },
  {
   "cell_type": "markdown",
   "metadata": {},
   "source": [
    "This function has been implemented in `scripts/fit.py`"
   ]
  },
  {
   "cell_type": "markdown",
   "metadata": {},
   "source": [
    "## Double CB Fit of `B0_M` of the MC data"
   ]
  },
  {
   "cell_type": "code",
   "execution_count": null,
   "metadata": {},
   "outputs": [],
   "source": [
    "low = 5050.\n",
    "high = 5550.\n",
    "obs = zfit.Space(\"x\", limits=(low, high))"
   ]
  },
  {
   "cell_type": "code",
   "execution_count": null,
   "metadata": {},
   "outputs": [],
   "source": [
    "mu_MC = zfit.Parameter(\"mu_MC\", 5280., 5250., 5300.)\n",
    "sigma_MC = zfit.Parameter(\"sigma_MC\", 20., 10., 60.)\n",
    "alphaL_MC = zfit.Parameter(\"alphaL_MC\", 2., 0.1, 5.)\n",
    "alphaR_MC = zfit.Parameter(\"alphaR_MC\", 2., 0.1, 5.)\n",
    "nL_MC = zfit.Parameter(\"nL_MC\", 2., 0.01, 10.)\n",
    "nR_MC = zfit.Parameter(\"nR_MC\", 2., 0.01, 10.)\n"
   ]
  },
  {
   "cell_type": "code",
   "execution_count": null,
   "metadata": {},
   "outputs": [],
   "source": [
    "name_params = {\n",
    "    'mu_MC':'$\\mu$',\n",
    "    'sigma_MC':'$\\sigma$',\n",
    "    'alphaL_MC':'$\\\\alpha_L$',\n",
    "    'alphaR_MC':'$\\\\alpha_R$',\n",
    "    'nL_MC':'$n_L$',\n",
    "    'nR_MC':'$n_R$',\n",
    "}"
   ]
  },
  {
   "cell_type": "code",
   "execution_count": null,
   "metadata": {},
   "outputs": [],
   "source": [
    "doubleCB_MC = zfit.pdf.DoubleCB(mu_MC, sigma_MC, alphaL_MC, alphaR_MC, nL_MC, nR_MC, obs=obs)\n",
    "data_MC = zfit.Data.from_pandas(df_MC['B0_M'],obs=obs)"
   ]
  },
  {
   "cell_type": "code",
   "execution_count": null,
   "metadata": {
    "scrolled": false
   },
   "outputs": [],
   "source": [
    "result, params = launch_fit(doubleCB_MC, data_MC)\n",
    "#save_params(params,'MC')"
   ]
  },
  {
   "cell_type": "code",
   "execution_count": null,
   "metadata": {
    "scrolled": false
   },
   "outputs": [],
   "source": [
    "plot_hist_fit_particle(df_MC,'B0_M', models = doubleCB_MC, obs=obs, n_bins = 100, mode_hist = False,\n",
    "              name_data = 'MC', params=params, name_params=name_params)   "
   ]
  },
  {
   "cell_type": "code",
   "execution_count": null,
   "metadata": {},
   "outputs": [],
   "source": []
  },
  {
   "cell_type": "code",
   "execution_count": null,
   "metadata": {},
   "outputs": [],
   "source": []
  }
 ],
 "metadata": {
  "kernelspec": {
   "display_name": "bd2dst3pi_env",
   "language": "python",
   "name": "bd2dst3pi_env"
  },
  "language_info": {
   "codemirror_mode": {
    "name": "ipython",
    "version": 3
   },
   "file_extension": ".py",
   "mimetype": "text/x-python",
   "name": "python",
   "nbconvert_exporter": "python",
   "pygments_lexer": "ipython3",
   "version": "3.7.8"
  }
 },
 "nbformat": 4,
 "nbformat_minor": 4
}
