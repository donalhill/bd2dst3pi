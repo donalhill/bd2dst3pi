{
 "cells": [
  {
   "cell_type": "markdown",
   "metadata": {},
   "source": [
    "# Compute the sWeights \n",
    "For a given cut on the `BDT` value, with the starting value of the fit chosen as the result of the previous fit, specified by `cut_BDT_ref`, manually chosen to be `cut_BDT - 0.05`.\n",
    "1. Fit on $m(3\\pi)$ for $|m(3\\pi) - 1968|<50$\n",
    "    - Signal shape: Gaussian\n",
    "    - Background shape: Exponential\n",
    "2. Compute the associated probability and sWeights, save the sWeights in a Pickle file.\n",
    "3. Plot some interesting things for checking\n",
    "4. Save the full dataframe in a root file. It will be the input of `fit_all_data_V8_2_files_BDTs_recomputed_sWeights.ipynb`.\n",
    "\n",
    "The saved root file is already cut on the `BDT` output, and has a new column `sWeight`."
   ]
  },
  {
   "cell_type": "code",
   "execution_count": 2,
   "metadata": {},
   "outputs": [
    {
     "name": "stderr",
     "output_type": "stream",
     "text": [
      "/afs/cern.ch/work/c/correian/miniconda/envs/bd2dst3pi_env/lib/python3.7/site-packages/sklearn/utils/deprecation.py:143: FutureWarning: The sklearn.neighbors.unsupervised module is  deprecated in version 0.22 and will be removed in version 0.24. The corresponding classes / functions should instead be imported from sklearn.neighbors. Anything that cannot be imported from sklearn.neighbors is now part of the private API.\n",
      "  warnings.warn(message, FutureWarning)\n"
     ]
    },
    {
     "name": "stdout",
     "output_type": "stream",
     "text": [
      "Welcome to JupyROOT 6.22/02\n"
     ]
    }
   ],
   "source": [
    "import zfit\n",
    "import json\n",
    "import numpy as np\n",
    "import pandas as pd\n",
    "import matplotlib.pyplot as plt\n",
    "import pickle\n",
    "from hep_ml import splot\n",
    "import timeit\n",
    "from scipy.stats import pearsonr\n",
    "\n",
    "from bd2dst3pi.locations import loc\n",
    "from bd2dst3pi.definitions import years, magnets\n",
    "\n",
    "import sys\n",
    "sys.path.append(loc.SCRIPTS)\n",
    "import functions as fct\n",
    "from fit import launch_fit, save_params, plot_hist_fit, plot_hist_fit_particle"
   ]
  },
  {
   "cell_type": "markdown",
   "metadata": {},
   "source": [
    "## Retrieve data"
   ]
  },
  {
   "cell_type": "code",
   "execution_count": 3,
   "metadata": {
    "scrolled": true
   },
   "outputs": [
    {
     "name": "stdout",
     "output_type": "stream",
     "text": [
      "/afs/cern.ch/user/c/correian/bd2dst3pi/output/root/common/common_B0toDstDs.root\n"
     ]
    }
   ],
   "source": [
    "# load_data does the cut on DeltaM and tau_M (around m(Ds)).\n",
    "df_common_Ds = fct.load_data(years, magnets, type_data='common', vars=['B0_M', 'tau_M', 'BDT'],\n",
    "                            cut_DeltaM=True, cut_tau_Ds=True)"
   ]
  },
  {
   "cell_type": "code",
   "execution_count": 4,
   "metadata": {},
   "outputs": [],
   "source": [
    "name_data = 'all_common_cutDeltaM_Ds23pi_V8'"
   ]
  },
  {
   "cell_type": "markdown",
   "metadata": {},
   "source": [
    "## Cut on BDT"
   ]
  },
  {
   "cell_type": "code",
   "execution_count": 29,
   "metadata": {},
   "outputs": [],
   "source": [
    "cut_BDT = -0.45\n",
    "k = str(cut_BDT)"
   ]
  },
  {
   "cell_type": "code",
   "execution_count": 30,
   "metadata": {},
   "outputs": [],
   "source": [
    "df_Ds = df_common_Ds.query(f\"BDT > {cut_BDT}\")"
   ]
  },
  {
   "cell_type": "code",
   "execution_count": 31,
   "metadata": {},
   "outputs": [],
   "source": [
    "cut_BDT_ref = None\n",
    "\n",
    "def format_previous_params(df_params_recup):\n",
    "    \"\"\" Remove the element in the dictionnary that ends with '_err'.\n",
    "    For the other ones, removes what is after | in the keys.\n",
    "    In particular: variable|BDT-0.2 will become variable\n",
    "    \n",
    "    @df_params_recup  :: dataframe with the result of the file \n",
    "                            this is the df saved in .json after the fit.\n",
    "                            \n",
    "    @returns          :: new dataframe\n",
    "    \"\"\"\n",
    "    df_params_recup_formatted = {}\n",
    "    for key, value in df_params_recup.items():\n",
    "        if not key.endswith('_err'):\n",
    "            index = key.find('|')\n",
    "            df_params_recup_formatted[key[:index]] = value\n",
    "    \n",
    "    return df_params_recup_formatted"
   ]
  },
  {
   "cell_type": "code",
   "execution_count": 32,
   "metadata": {},
   "outputs": [],
   "source": [
    "if cut_BDT_ref is None:\n",
    "    with open(f'{loc.JSON}/{name_data}_params.json', 'r') as f:\n",
    "        params_r = json.load(f)\n",
    "    \n",
    "else:\n",
    "    with open(f'{loc.JSON}/{name_data}_BDT{cut_BDT_ref}_params.json', 'r') as f:\n",
    "        params_recup = json.load(f)\n",
    "\n",
    "    params_r = format_previous_params(params_recup)"
   ]
  },
  {
   "cell_type": "code",
   "execution_count": 33,
   "metadata": {},
   "outputs": [],
   "source": [
    "size_tau_M = 50.\n",
    "mean_tau_M = 1969.\n",
    "low_tau_M = mean_tau_M - size_tau_M\n",
    "high_tau_M = mean_tau_M + size_tau_M"
   ]
  },
  {
   "cell_type": "markdown",
   "metadata": {},
   "source": [
    "## Histogram"
   ]
  },
  {
   "cell_type": "code",
   "execution_count": 34,
   "metadata": {
    "scrolled": false
   },
   "outputs": [
    {
     "data": {
      "image/png": "[encoded data removed]",
      "text/plain": [
       "<Figure size 576x432 with 1 Axes>"
      ]
     },
     "metadata": {
      "needs_background": "light"
     },
     "output_type": "display_data"
    },
    {
     "name": "stdout",
     "output_type": "stream",
     "text": [
      "/afs/cern.ch/user/c/correian/bd2dst3pi/output/plots/tau_M_all_common_cutDeltaM_Ds23pi_V8_BDT-0.45.pdf\n"
     ]
    }
   ],
   "source": [
    "fct.plot_hist_particle({name_data:df_Ds},'tau_M', cut_BDT=cut_BDT,\n",
    "              n_bins = 100, mode_hist = False, colors='black')"
   ]
  },
  {
   "cell_type": "markdown",
   "metadata": {},
   "source": [
    "## Fit on $m(3\\pi)$ = gaussian (signal) + exponential (background)"
   ]
  },
  {
   "cell_type": "markdown",
   "metadata": {},
   "source": [
    "### Initial conditions"
   ]
  },
  {
   "cell_type": "code",
   "execution_count": 35,
   "metadata": {},
   "outputs": [],
   "source": [
    "n_events_tau_M = len(df_Ds)\n",
    "initial_values_tau = {\n",
    "    'mu_tau': {\n",
    "        'value' : params_r['mu_tau'],\n",
    "        'low': 1965.,\n",
    "        'high': 1975.,     \n",
    "    },\n",
    "    'sigma_tau': {\n",
    "        'value' : params_r['sigma_tau'],\n",
    "        'low': 5.,\n",
    "        'high': 15.,\n",
    "    },\n",
    "    'n_bkg_tau': {\n",
    "        'value' : params_r['n_bkg_tau'],\n",
    "        'low': 0,\n",
    "        'high': n_events_tau_M,  \n",
    "    },\n",
    "    'n_sig_tau': {\n",
    "        'value' : params_r['n_sig_tau'],\n",
    "        'low': 0,\n",
    "        'high': n_events_tau_M,  \n",
    "    },\n",
    "    'lambda_tau': {\n",
    "        'value' : params_r['lambda_tau'],\n",
    "        'low': -0.01,\n",
    "        'high': -0.000001  \n",
    "    }\n",
    "}"
   ]
  },
  {
   "cell_type": "markdown",
   "metadata": {},
   "source": [
    "### Parameters and pdf"
   ]
  },
  {
   "cell_type": "code",
   "execution_count": 36,
   "metadata": {},
   "outputs": [],
   "source": [
    "obs_tau = zfit.Space(\"x\", limits=(low_tau_M, high_tau_M))\n",
    "zparams_tau = {}\n",
    "\n",
    "for var_tau in initial_values_tau.keys():\n",
    "    zparams_tau[var_tau] = zfit.Parameter(f\"{var_tau}|BDT{cut_BDT}\", initial_values_tau[var_tau]['value'], \n",
    "                                     initial_values_tau[var_tau]['low'], initial_values_tau[var_tau]['high'])"
   ]
  },
  {
   "cell_type": "code",
   "execution_count": 37,
   "metadata": {},
   "outputs": [],
   "source": [
    "name_params_tau = {\n",
    "    # Signal\n",
    "    f'mu_tau|BDT{cut_BDT}'     :'$\\mu_{S}$',\n",
    "    f'sigma_tau|BDT{cut_BDT}'  :'$\\sigma_{S}$',\n",
    "    f'n_sig_tau|BDT{cut_BDT}'  :'$n_{S}$',\n",
    "    # Combinatorial background\n",
    "    f'n_bkg_tau|BDT{cut_BDT}'  :'$n_{B,c}$',\n",
    "    f'lambda_tau|BDT{cut_BDT}' :'$\\\\lambda_{B,c}$',\n",
    "}"
   ]
  },
  {
   "cell_type": "code",
   "execution_count": 38,
   "metadata": {},
   "outputs": [],
   "source": [
    "gaussian_tau = zfit.pdf.Gauss(zparams_tau[\"mu_tau\"],zparams_tau[\"sigma_tau\"],obs=obs_tau)\n",
    "exponential_tau = zfit.pdf.Exponential(zparams_tau[\"lambda_tau\"], obs=obs_tau)\n",
    "\n",
    "gaussian_ext_tau = gaussian_tau.create_extended(zparams_tau[\"n_sig_tau\"])\n",
    "exp_ext_tau = exponential_tau.create_extended(zparams_tau[\"n_bkg_tau\"])\n",
    "model_tau = zfit.pdf.SumPDF([gaussian_ext_tau, exp_ext_tau]) # gauss is folded by frac\n",
    "\n",
    "data_tau = zfit.Data.from_pandas(df_Ds['tau_M'],obs=obs_tau)"
   ]
  },
  {
   "cell_type": "markdown",
   "metadata": {},
   "source": [
    "### Launch fit"
   ]
  },
  {
   "cell_type": "code",
   "execution_count": 39,
   "metadata": {
    "scrolled": false
   },
   "outputs": [
    {
     "name": "stdout",
     "output_type": "stream",
     "text": [
      "------------------------------------------------------------------\n",
      "| FCN = -6.486e+04              |     Ncalls=114 (114 total)     |\n",
      "| EDM = 0.000195 (Goal: 0.001)  |            up = 0.5            |\n",
      "------------------------------------------------------------------\n",
      "|  Valid Min.   | Valid Param.  | Above EDM | Reached call limit |\n",
      "------------------------------------------------------------------\n",
      "|     True      |     True      |   False   |       False        |\n",
      "------------------------------------------------------------------\n",
      "| Hesse failed  |   Has cov.    | Accurate  | Pos. def. | Forced |\n",
      "------------------------------------------------------------------\n",
      "|     False     |     True      |   True    |   True    | False  |\n",
      "------------------------------------------------------------------\n",
      "name                     value    minuit_hesse    at limit\n",
      "-------------------  ---------  --------------  ----------\n",
      "n_sig_tau|BDT-0.45        6642     +/- 1.3e+02       False\n",
      "n_bkg_tau|BDT-0.45        8783     +/- 1.4e+02       False\n",
      "mu_tau|BDT-0.45           1969     +/-    0.17       False\n",
      "sigma_tau|BDT-0.45       9.259     +/-    0.17       False\n",
      "lambda_tau|BDT-0.45  -0.003688     +/- 0.00039       False\n",
      "------------------------------------------------------------------\n",
      "| FCN = -6.486e+04              |      Ncalls=68 (68 total)      |\n",
      "| EDM = 5.2e-06 (Goal: 0.001)   |            up = 0.5            |\n",
      "------------------------------------------------------------------\n",
      "|  Valid Min.   | Valid Param.  | Above EDM | Reached call limit |\n",
      "------------------------------------------------------------------\n",
      "|     True      |     True      |   False   |       False        |\n",
      "------------------------------------------------------------------\n",
      "| Hesse failed  |   Has cov.    | Accurate  | Pos. def. | Forced |\n",
      "------------------------------------------------------------------\n",
      "|     False     |     True      |   True    |   True    | False  |\n",
      "------------------------------------------------------------------\n",
      "name                     value    minuit_hesse    at limit\n",
      "-------------------  ---------  --------------  ----------\n",
      "n_sig_tau|BDT-0.45        6642     +/- 1.3e+02       False\n",
      "n_bkg_tau|BDT-0.45        8782     +/- 1.4e+02       False\n",
      "mu_tau|BDT-0.45           1969     +/-    0.17       False\n",
      "sigma_tau|BDT-0.45       9.259     +/-    0.17       False\n",
      "lambda_tau|BDT-0.45  -0.003683     +/- 0.00039       False\n",
      "Time to do the fit:  1.9859095589999924\n"
     ]
    }
   ],
   "source": [
    "start = timeit.default_timer()\n",
    "result_tau, params_tau = launch_fit(model_tau, data_tau, extended=True)\n",
    "result_tau, params_tau = launch_fit(model_tau, data_tau, extended=True)\n",
    "stop = timeit.default_timer()\n",
    "print('Time to do the fit: ', stop - start) \n"
   ]
  },
  {
   "cell_type": "code",
   "execution_count": null,
   "metadata": {},
   "outputs": [],
   "source": [
    "plot_hist_fit_particle(df_Ds,'tau_M',models = [model_tau,gaussian_ext_tau,exp_ext_tau], \n",
    "                       name_models = [\"\", '$D_S \\\\to 3\\pi$','(combinatorial)'], \n",
    "                       colors = ['b','r','y'], cut_BDT=cut_BDT,\n",
    "                       obs=obs_tau, n_bins = 100,mode_hist = False, name_data=name_data, \n",
    "                      params=params_tau,name_params=name_params_tau, fontsize_leg=15.)"
   ]
  },
  {
   "cell_type": "code",
   "execution_count": null,
   "metadata": {},
   "outputs": [],
   "source": [
    "corr_B0_M_tau_M = pearsonr(df_Ds['tau_M'], df_Ds['B0_M'])[0]\n",
    "print(corr_B0_M_tau_M)"
   ]
  },
  {
   "cell_type": "code",
   "execution_count": null,
   "metadata": {
    "scrolled": true
   },
   "outputs": [],
   "source": [
    "save_params(params_tau,name_data + f'_BDT{cut_BDT}', True, {'corr_B0_M_tau_M': corr_B0_M_tau_M})"
   ]
  },
  {
   "cell_type": "markdown",
   "metadata": {},
   "source": [
    "## Calculate sWeights"
   ]
  },
  {
   "cell_type": "markdown",
   "metadata": {},
   "source": [
    "We get\n",
    "- $f_g(m)$, the signal Ds PDF\n",
    "- $f_e(m)$, the background Ds PDF\n",
    "Besides, our dataset is given by a list of events, each event is characterised by $m_{3\\pi})$\n",
    "\n",
    "We define the probability of the event $e$ being a $D_s$ by:\n",
    "$$P\\left(e = D_s\\right)=\\frac{f_g(m_{e, 3\\pi})}{\\sum_{event\\ k}{\\left(f_g(m_{k,3\\pi})+f_e(m_{k, 3\\pi})\\right)}}$$"
   ]
  },
  {
   "cell_type": "code",
   "execution_count": null,
   "metadata": {},
   "outputs": [],
   "source": [
    "# Probability that the candidate is actually a Ds particle.\n",
    "mass = df_Ds['tau_M']\n",
    "probs = pd.DataFrame(dict(sig=gaussian_ext_tau.pdf(mass), bkg=exp_ext_tau.pdf(mass)))\n",
    "probs = probs.div(probs.sum(axis=1), axis=0) # normalisation.......3"
   ]
  },
  {
   "cell_type": "code",
   "execution_count": null,
   "metadata": {},
   "outputs": [],
   "source": [
    "sWeights = splot.compute_sweights(probs)"
   ]
  },
  {
   "cell_type": "markdown",
   "metadata": {},
   "source": [
    "## Analyse of the sWeigth"
   ]
  },
  {
   "cell_type": "code",
   "execution_count": null,
   "metadata": {},
   "outputs": [],
   "source": [
    "fig, ax = plt.subplots(figsize=(8,6))\n",
    "\n",
    "ax.plot(mass, probs.sig,'.', label='Signal')\n",
    "ax.plot(mass, probs.bkg,'.', label='Background')\n",
    "\n",
    "plt.xlim(low_tau_M, high_tau_M) \n",
    "plt.xlabel('$m(3\\pi)$',fontsize=20)\n",
    "plt.ylabel('Probability',fontsize=20)\n",
    "\n",
    "fct.fix_plot(ax)\n",
    "\n",
    "\n",
    "plt.show()\n",
    "plt.close()"
   ]
  },
  {
   "cell_type": "code",
   "execution_count": null,
   "metadata": {},
   "outputs": [],
   "source": [
    "fig, ax = plt.subplots(figsize=(8,6))\n",
    "\n",
    "ax.plot(mass, sWeights.sig,'.', label='Signal')\n",
    "ax.plot(mass, sWeights.bkg,'.', label='Background')\n",
    "\n",
    "plt.xlim(low_tau_M, high_tau_M) \n",
    "fct.fix_plot(ax, ymax=None)\n",
    "\n",
    "plt.xlabel('$m(3\\pi)$',fontsize=20)\n",
    "plt.ylabel('sWeights',fontsize=20)\n",
    "\n",
    "ymin, ymax = ax.get_ylim()\n",
    "ax.set_ylim(ymin, ymax*1.1)\n",
    "\n",
    "plt.show()\n",
    "plt.close()"
   ]
  },
  {
   "cell_type": "markdown",
   "metadata": {},
   "source": [
    "## Save weights in a .root file\n",
    "New column named `sWeight`"
   ]
  },
  {
   "cell_type": "code",
   "execution_count": null,
   "metadata": {},
   "outputs": [],
   "source": [
    "fct.save_dataframe(sWeights, f'common_B0toDstDs_sWeights_BDT{cut_BDT}', 'sWeights', name_folder='common')"
   ]
  },
  {
   "cell_type": "code",
   "execution_count": null,
   "metadata": {
    "scrolled": true
   },
   "outputs": [],
   "source": [
    "df_Ds['sWeight'] = sWeights.sig.to_numpy()"
   ]
  },
  {
   "cell_type": "code",
   "execution_count": null,
   "metadata": {},
   "outputs": [],
   "source": [
    "save_dataframe(df_Ds, f'common_B0toDstDs_BDT{cut_BDT}', 'DecayTree', name_folder='common')"
   ]
  },
  {
   "cell_type": "code",
   "execution_count": null,
   "metadata": {},
   "outputs": [],
   "source": []
  }
 ],
 "metadata": {
  "kernelspec": {
   "display_name": "bd2dst3pi_env",
   "language": "python",
   "name": "bd2dst3pi_env"
  },
  "language_info": {
   "codemirror_mode": {
    "name": "ipython",
    "version": 3
   },
   "file_extension": ".py",
   "mimetype": "text/x-python",
   "name": "python",
   "nbconvert_exporter": "python",
   "pygments_lexer": "ipython3",
   "version": "3.7.8"
  }
 },
 "nbformat": 4,
 "nbformat_minor": 4
}
