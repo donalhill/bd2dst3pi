{
 "cells": [
  {
   "cell_type": "markdown",
   "metadata": {},
   "source": [
    "# Fit the complete data (V6 with the data with the wanted cuts)\n",
    "- New:\n",
    "    - We take into account the component $B^0 \\to D^{*-} K^+ \\pi^+ \\pi^-$\n",
    "    - No additive cuts (only the cun $143<\\Delta M < 148$)\n",
    "\n",
    "- Fit on $m(B^0_s)$ with:\n",
    "    - Signal $B^0 \\to D^{*-} \\pi^+ \\pi^+ \\pi^-$\n",
    "    - Background $B^0 \\to D^{*-} D_s^+$ with simultaneous fit on $m(D_s\\to 3\\pi)$\n",
    "    - Background of misidentified pions: $B^0 \\to D^{*-} K^+ \\pi^+ \\pi^-$\n",
    "    - Background of partially reconstructed decays $B^0 \\to D^{*-} \\pi^+ \\pi^+ \\pi^- h$\n",
    "    - Combinatorial background (exponential)"
   ]
  },
  {
   "cell_type": "markdown",
   "metadata": {},
   "source": [
    "## Import"
   ]
  },
  {
   "cell_type": "code",
   "execution_count": 7,
   "metadata": {},
   "outputs": [],
   "source": [
    "import zfit\n",
    "import json\n",
    "import numpy as np\n",
    "\n",
    "from bd2dst3pi.locations import loc\n",
    "from bd2dst3pi.definitions import years, magnets\n",
    "\n",
    "import sys\n",
    "sys.path.append(loc.SCRIPTS)\n",
    "import functions as fct\n",
    "from fit import launch_fit, save_params, plot_hist_fit, plot_hist_fit_particle"
   ]
  },
  {
   "cell_type": "markdown",
   "metadata": {},
   "source": [
    "## Load"
   ]
  },
  {
   "cell_type": "code",
   "execution_count": 8,
   "metadata": {},
   "outputs": [],
   "source": [
    "with open(f'{loc.JSON}/MC_cutallPIDK_params.json', 'r') as f:\n",
    "    MC_param_results = json.load(f)\n",
    "\n",
    "with open(f'{loc.JSON}/data_KPiPi_2_params.json', 'r') as f:\n",
    "    data_KPiPi_params = json.load(f)\n",
    "\n",
    "with open(f'{loc.JSON}/data_strip_p/all_data_strip_params.json', 'r') as f:\n",
    "    mu2_p = json.load(f)['mu2']\n",
    "    \n",
    "with open(f'{loc.JSON}/all_data_strip_cutDeltaM_Ds_weighted_V8_params.json', 'r') as f:\n",
    "    data_B0Ds_params = json.load(f)\n",
    "\n",
    "weights =  fct.retrieve_pickle(name_data)\n",
    "    \n",
    "for var in 'muL', 'muR', 'sigmaL', 'sigmaR': # conversion GeV -> MeV\n",
    "    data_KPiPi_params[var] = data_KPiPi_params[var]*1000\n",
    "    data_KPiPi_params[f\"{var}_err\"] = data_KPiPi_params[f\"{var}_err\"]*1000"
   ]
  },
  {
   "cell_type": "code",
   "execution_count": 9,
   "metadata": {
    "scrolled": false
   },
   "outputs": [
    {
     "name": "stdout",
     "output_type": "stream",
     "text": [
      "/afs/cern.ch/user/c/correian/bd2dst3pi/output/root/data_strip/all_data_strip.root\n"
     ]
    }
   ],
   "source": [
    "df = fct.load_data(years, magnets, type_data='data_strip', vars=['B0_M','tau_M'],\n",
    "                            cut_DeltaM=True)"
   ]
  },
  {
   "cell_type": "code",
   "execution_count": null,
   "metadata": {},
   "outputs": [],
   "source": [
    "size_tau_M = 50.\n",
    "mean_tau_M = 1969.\n",
    "low_tau_M = mean_tau_M - size_tau_M\n",
    "high_tau_M = mean_tau_M + size_tau_M\n",
    "\n",
    "df_Ds = df.query(f\"abs(tau_M-{mean_tau_M})<={size_tau_M}\")"
   ]
  },
  {
   "cell_type": "code",
   "execution_count": 10,
   "metadata": {},
   "outputs": [],
   "source": [
    "name_data = 'all_data_strip_cutDeltaM_V8_sim'"
   ]
  },
  {
   "cell_type": "markdown",
   "metadata": {},
   "source": [
    "## Distributions"
   ]
  },
  {
   "cell_type": "markdown",
   "metadata": {},
   "source": [
    "### Init"
   ]
  },
  {
   "cell_type": "markdown",
   "metadata": {},
   "source": [
    "#### Full `B0_M`"
   ]
  },
  {
   "cell_type": "code",
   "execution_count": 12,
   "metadata": {},
   "outputs": [],
   "source": [
    "low = 5150.\n",
    "high = 5550."
   ]
  },
  {
   "cell_type": "code",
   "execution_count": null,
   "metadata": {},
   "outputs": [],
   "source": [
    "#### Weighted `B0_M` with `|tau_M-1969|<50`"
   ]
  },
  {
   "cell_type": "code",
   "execution_count": null,
   "metadata": {},
   "outputs": [],
   "source": [
    "name_data_B0Ds = 'all_data_strip_cutDeltaM_Ds_weighted_V8'\n",
    "low_B0Ds = 5150.\n",
    "high_B0Ds = 5360."
   ]
  },
  {
   "cell_type": "markdown",
   "metadata": {},
   "source": [
    "#### Weighted `B0_M` with `|tau_M-1969|<50`"
   ]
  },
  {
   "cell_type": "markdown",
   "metadata": {},
   "source": [
    "### Distributions"
   ]
  },
  {
   "cell_type": "markdown",
   "metadata": {},
   "source": [
    "#### Full `B0_M`"
   ]
  },
  {
   "cell_type": "code",
   "execution_count": 8,
   "metadata": {
    "scrolled": true
   },
   "outputs": [
    {
     "data": {
      "image/png": "[encoded data removed]",
      "text/plain": [
       "<Figure size 576x432 with 1 Axes>"
      ]
     },
     "metadata": {
      "needs_background": "light"
     },
     "output_type": "display_data"
    },
    {
     "name": "stdout",
     "output_type": "stream",
     "text": [
      "/afs/cern.ch/user/c/correian/bd2dst3pi/output/plots/B0_M_all_data_strip_cutDeltaM_V8_alphaL_B0_cut.pdf\n"
     ]
    }
   ],
   "source": [
    "fct.plot_hist_particle({name_data+'_B0_cut':df},'B0_M',\n",
    "              low = low, high = high,\n",
    "              n_bins = 100, mode_hist = False, colors='black')"
   ]
  },
  {
   "cell_type": "markdown",
   "metadata": {},
   "source": [
    "#### Weighted `B0_M` with `|tau_M-1969|<50`"
   ]
  },
  {
   "cell_type": "code",
   "execution_count": null,
   "metadata": {},
   "outputs": [],
   "source": [
    "fct.plot_hist_particle({name_data_B0Ds:df_Ds},'B0_M',\n",
    "              low = low_B0Ds, high = high_B0Ds,\n",
    "              n_bins = 100, mode_hist = False, colors='black', weights=weights.sig)"
   ]
  },
  {
   "cell_type": "markdown",
   "metadata": {},
   "source": [
    "## Fit on $m(B^0)$"
   ]
  },
  {
   "cell_type": "markdown",
   "metadata": {},
   "source": [
    "### Intial values"
   ]
  },
  {
   "cell_type": "markdown",
   "metadata": {},
   "source": [
    "#### Weighted `B0_M` with `|tau_M-1969|<50`"
   ]
  },
  {
   "cell_type": "code",
   "execution_count": null,
   "metadata": {},
   "outputs": [],
   "source": [
    "n_events_B0Ds = len(df_Ds.query(f'B0_M > {low_B0Ds} and B0_M < {high_B0Ds}'))\n",
    "\n",
    "n_sig_k = 1600\n",
    "n_bkg_k = 300\n",
    "n_bkg2_k = 800\n",
    "\n",
    "\n",
    "\n",
    "\n",
    "initial_values_B0Ds = {\n",
    "    # Signal\n",
    "    'mu_B0Ds'       :{ 'value': 5279.                         , 'low': 5279.-4.       , 'high': 5279.+4.             , 'floating': True},\n",
    "    'sigma_B0Ds'    :{ 'value': 15.                           , 'low': 15.-5.        , 'high': 15.+5.              , 'floating': True},\n",
    "    'n_sig_B0Ds'    :{ 'value': n_sig_k                       , 'low': 0              , 'high': n_events_B0Ds        , 'floating': True},\n",
    "    # Combinatorial background\n",
    "    'lambda_B0Ds'   :{ 'value': -0.0001                       , 'low': -0.1           , 'high': -0.000001            , 'floating': True},\n",
    "    'n_bkg_B0Ds'    :{ 'value': n_bkg_k                       , 'low': 0              , 'high': n_events_B0Ds        , 'floating': True},\n",
    "    # Partially reconstructed particles\n",
    "    'mu2_B0Ds'      :{ 'value': mu2_p                         , 'low': 4800.          , 'high': 5150.                , 'floating': False},\n",
    "    'sigma2_B0Ds'   :{ 'value': 80.                           , 'low': 20.            , 'high': 5150.-mu2_p          , 'floating': True},\n",
    "    'n_bkg2_B0Ds'   :{ 'value': n_bkg2_k                      , 'low': 0              , 'high': n_events_B0Ds        , 'floating': True},\n",
    "}\n"
   ]
  },
  {
   "cell_type": "markdown",
   "metadata": {},
   "source": [
    "#### Full `B0_M`"
   ]
  },
  {
   "cell_type": "code",
   "execution_count": 13,
   "metadata": {},
   "outputs": [],
   "source": [
    "n_events_B0_M = len(df.query(f'B0_M > {low} and B0_M < {high}'))\n",
    "\n",
    "n_sig_k = 52000\n",
    "n_bkg_k = 28000\n",
    "n_bkg2_k = 500\n",
    "n_bkgK_k = 3000\n",
    "\n",
    "initial_values = {\n",
    "    # Signal\n",
    "    'mu'       :{ 'value': 5279.                         , 'low': 5279.-5.       , 'high': 5279.+5.             , 'floating': True},\n",
    "    'sigmaL'   :{ 'value': 13.                           , 'low': 10.            , 'high': 25.                  , 'floating': True},\n",
    "    'sigmaR'   :{ 'value': 22.                           , 'low': 10.            , 'high': 30.                  , 'floating': True},\n",
    "    'alphaL'   :{ 'value': MC_param_results['alphaL_MC'] , 'low': 0.1            , 'high': 10.                  , 'floating': True},\n",
    "    'alphaR'   :{ 'value': -MC_param_results['alphaR_MC'], 'low': -10.           , 'high': -0.1                 , 'floating': True},\n",
    "    'nL'       :{ 'value': MC_param_results['nL_MC']     , 'low': 20.            , 'high': 180.                 , 'floating': False},\n",
    "    'nR'       :{ 'value': MC_param_results['nR_MC']     , 'low': 1.             , 'high': 200.                 , 'floating': False},\n",
    "    'n_sig'    :{ 'value': n_sig_k                       , 'low': n_sig_k*0.5    , 'high': n_events_B0_M        , 'floating': True},\n",
    "    'frac'     :{ 'value': 0.5                           , 'low': 0.1              , 'high': 1.                 , 'floating': True},    \n",
    "    # Combinatorial background\n",
    "    'lambda'   :{ 'value': -0.001                        , 'low': -0.008         , 'high': -0.00001             , 'floating': True},\n",
    "    'n_bkg'    :{ 'value': n_bkg_k                       , 'low': n_bkg_k*0.5    , 'high': n_events_B0_M        , 'floating': True},\n",
    "    # Partially reconstructed particles\n",
    "    'mu2'      :{ 'value': mu2_p                         , 'low': 4800.          , 'high': 5150.                , 'floating': False},\n",
    "    'sigma2'   :{ 'value': 40.                           , 'low': 20.            , 'high': 50.                  , 'floating': True},\n",
    "    'n_bkg2'   :{ 'value': n_bkg2_k                      , 'low': 0              , 'high': n_events_B0_M        , 'floating': True},\n",
    "    # Background decay D*Kpipi\n",
    "    'n_bkgK'   :{ 'value': n_bkgK_k                      , 'low': 0              , 'high': n_events_B0_M        , 'floating': True},\n",
    "}\n",
    "\n",
    "for var in 'muL', 'muR', 'sigmaL', 'sigmaR', 'nL', 'nR', 'alphaL', 'alphaR', 'nL', 'nR', 'fraction':\n",
    "    initial_values[f'{var}_K'] = {'value': data_KPiPi_params[var], 'low': None, 'high': None, 'floating': False}\n"
   ]
  },
  {
   "cell_type": "markdown",
   "metadata": {},
   "source": [
    "## Simultaneous fit"
   ]
  },
  {
   "cell_type": "markdown",
   "metadata": {},
   "source": [
    "### Observables and variables"
   ]
  },
  {
   "cell_type": "markdown",
   "metadata": {},
   "source": [
    "#### Weighted `B0_M` with `|tau_M-1969|<50`"
   ]
  },
  {
   "cell_type": "code",
   "execution_count": null,
   "metadata": {},
   "outputs": [],
   "source": [
    "obs_B0Ds = zfit.Space(\"x\", limits=(low_B0Ds, high_B0Ds))\n",
    "\n",
    "zparams_B0Ds = {}\n",
    "for var in initial_values_B0Ds.keys():\n",
    "    zparams_B0Ds[var] = zfit.Parameter(var,\n",
    "                                      initial_values_B0Ds[var]['value'], \n",
    "                                      initial_values_B0Ds[var]['low'], \n",
    "                                      initial_values_B0Ds[var]['high'],\n",
    "                                      floating = initial_values_B0Ds[var]['floating'])"
   ]
  },
  {
   "cell_type": "code",
   "execution_count": null,
   "metadata": {},
   "outputs": [],
   "source": [
    "name_params_B0Ds = {\n",
    "    f'mu_B0Ds'      : '$\\mu$',\n",
    "    f'sigma_B0Ds'   : '$\\\\sigma_L$',\n",
    "    f'sigma_B0Ds'   : '$\\\\sigma_R$',    \n",
    "    f'alphaL_B0Ds'  : '$\\\\alpha_L$',\n",
    "    f'alphaR_B0Ds'  : '$\\\\alpha_R$',\n",
    "    f'nL_B0Ds'      : '$n_L$',\n",
    "    f'nR_B0Ds'      : '$n_R$',\n",
    "    f'n_bkg_B0Ds'   : '$n_{bkg,c}$',\n",
    "    f'n_sig_B0Ds'   : '$n_{sig,D^*D_s}$',\n",
    "    f'lambda_B0Ds'  : '$\\\\lambda$',\n",
    "    f'mu2_B0Ds'     : '$\\\\mu_2$',\n",
    "    f'sigma2_B0Ds'  : '$\\\\sigma_2$',\n",
    "    f'n_bkg2_B0Ds'  : '$n_{bkg,D^*3 D_s h}$',\n",
    "}"
   ]
  },
  {
   "cell_type": "markdown",
   "metadata": {},
   "source": [
    "#### Full `B0_M`"
   ]
  },
  {
   "cell_type": "code",
   "execution_count": 14,
   "metadata": {},
   "outputs": [],
   "source": [
    "obs = zfit.Space(\"x\", limits=(low, high))\n",
    "\n",
    "zparams = {}\n",
    "for var in initial_values.keys():\n",
    "    zparams[var] = zfit.Parameter(var,\n",
    "                                  initial_values[var]['value'], \n",
    "                                  initial_values[var]['low'], \n",
    "                                  initial_values[var]['high'],\n",
    "                                  floating = initial_values[var]['floating'])\n",
    "    #print(zparams[var])"
   ]
  },
  {
   "cell_type": "code",
   "execution_count": 15,
   "metadata": {},
   "outputs": [],
   "source": [
    "name_params = {\n",
    "    f'mu'      : '$\\mu$',\n",
    "    f'sigmaL'  : '$\\\\sigma_L$',\n",
    "    f'sigmaR'  : '$\\\\sigma_R$',    \n",
    "    f'alphaL'  : '$\\\\alpha_L$',\n",
    "    f'alphaR'  : '$\\\\alpha_R$',\n",
    "    f'nL'      : '$n_L$',\n",
    "    f'nR'      : '$n_R$',\n",
    "    f'n_bkg'   : '$n_{bkg,c}$',\n",
    "    f'n_sig'   : '$n_{sig,D^*3\\pi}$',\n",
    "    f'lambda'  : '$\\\\lambda$',\n",
    "    f'mu2'     : '$\\\\mu_2$',\n",
    "    f'sigma2'  : '$\\\\sigma_2$',\n",
    "    f'n_bkg2'  : '$n_{bkg,D^*3\\pi h}$',\n",
    "    f'n_bkgK'  : '$n_{bkg,D^*K\\pi\\pi}$',\n",
    "    'frac'     : '$f_{S, \\\\frac{L}{R}}$'\n",
    "}\n"
   ]
  },
  {
   "cell_type": "markdown",
   "metadata": {},
   "source": [
    "### PDFs"
   ]
  },
  {
   "cell_type": "markdown",
   "metadata": {},
   "source": [
    "#### Weighted `B0_M` with `|tau_M-1969|<50`"
   ]
  },
  {
   "cell_type": "code",
   "execution_count": 16,
   "metadata": {},
   "outputs": [],
   "source": [
    "def crystall_ball_gaussian(mu, sigma, obs, alpha=None, n=None):\n",
    "    if alpha is None or n is None:\n",
    "        pdf = zfit.pdf.Gauss(mu, sigma, obs=obs)\n",
    "    else:\n",
    "        pdf = zfit.pdf.CrystalBall(mu, sigma, alpha, n, obs=obs)\n",
    "    return pdf\n",
    "\n",
    "def sum_crystalball(muL, muR, sigmaL, sigmaR, frac, obs, alphaL=None, alphaR=None, nL=None, nR=None):\n",
    "    \"\"\" Return the sum of 2 crystall ball PDFs.\n",
    "    If the alpha or n is None, the corresponding distribution is a gaussian.\n",
    "    \"\"\"\n",
    "    pdfL = crystall_ball_gaussian(muL, sigmaL, obs,\n",
    "                                         alphaL,nL)\n",
    "    pdfR = crystall_ball_gaussian(muR, sigmaR, obs,\n",
    "                                         alphaR, nR)\n",
    "    \n",
    "    model = zfit.pdf.SumPDF([pdfL, pdfR], fracs=frac)\n",
    "    \n",
    "    return model, pdfL, pdfR"
   ]
  },
  {
   "cell_type": "code",
   "execution_count": null,
   "metadata": {},
   "outputs": [],
   "source": [
    "gaussianS_B0Ds = zfit.pdf.Gauss(zparams_B0Ds['mu_B0Ds'],zparams_B0Ds['sigma_B0Ds'],obs=obs_B0Ds)\n",
    "exponential_B0Ds = zfit.pdf.Exponential(zparams_B0Ds['lambda_B0Ds'], obs=obs_B0Ds)\n",
    "gaussian_B0Ds = zfit.pdf.Gauss(zparams_B0Ds['mu2_B0Ds'],zparams_B0Ds['sigma2_B0Ds'],obs=obs_B0Ds)\n",
    "\n",
    "\n",
    "gaussianS_B0Ds_ext = gaussianS_B0Ds.create_extended(zparams_B0Ds['n_sig_B0Ds'])\n",
    "exponential_B0Ds_ext = exponential_B0Ds.create_extended(zparams_B0Ds['n_bkg_B0Ds'])\n",
    "gaussian_B0Ds_ext = gaussian_B0Ds.create_extended(zparams_B0Ds['n_bkg2_B0Ds'])\n",
    "\n",
    "model_B0Ds = zfit.pdf.SumPDF([gaussianS_B0Ds_ext, exponential_B0Ds_ext, gaussian_B0Ds_ext])\n",
    "data_B0Ds = zfit.Data.from_pandas(df_Ds['B0_M'], obs=obs_B0Ds, weights=weights.sig)"
   ]
  },
  {
   "cell_type": "markdown",
   "metadata": {},
   "source": [
    "#### Full `B0_M`"
   ]
  },
  {
   "cell_type": "code",
   "execution_count": 17,
   "metadata": {},
   "outputs": [],
   "source": [
    "model_S, crystalBallL_S, crystalBallR_S = sum_crystalball(zparams['mu'], zparams['mu'],\n",
    "                                                          zparams['sigmaL'], zparams['sigmaR'],\n",
    "                                                          zparams['frac'], obs,                                                          \n",
    "                                                          zparams['alphaL'], zparams['alphaR'], \n",
    "                                                          zparams['nL'], zparams['nR']\n",
    "                                                         )\n",
    "\n",
    "\n",
    "gaussian_B0Ds = zfit.pdf.Gauss(zparams_B0Ds['mu_B0Ds'],zparams_B0Ds['sigma_B0Ds'],obs=obs)\n",
    "\n",
    "model_K, crystalBallL_K, crystalBallR_K = sum_crystalball(zparams['muL_K'], zparams['muR_K'], \n",
    "                                                          zparams['sigmaL_K'], zparams['sigmaR_K'],\n",
    "                                                          zparams['fraction_K'], obs,\n",
    "                                                          zparams['alphaL_K'], zparams['alphaR_K'], \n",
    "                                                          zparams['nL_K'], zparams['nR_K'])\n",
    "\n",
    "exponential = zfit.pdf.Exponential(zparams['lambda'], obs=obs)\n",
    "gaussian = zfit.pdf.Gauss(zparams['mu2'],zparams['sigma2'],obs=obs)\n",
    "\n",
    "\n",
    "\n",
    "# sum of the two PDFs\n",
    "model_S_ext = model_S.create_extended(zparams['n_sig'])\n",
    "\n",
    "#doubleCB_Ds_ext = doubleCB_Ds.create_extended(zparams['n_sigb_B0Ds'])\n",
    "\n",
    "exp_ext = exponential.create_extended(zparams['n_bkg'])\n",
    "gaussian_ext = gaussian.create_extended(zparams['n_bkg2'])\n",
    "gaussian_B0Ds_ext = gaussian_B0Ds.create_extended(zparams_B0Ds['n_sig_B0Ds'])\n",
    "model_K_ext = model_K.create_extended(zparams['n_bkgK'])\n",
    "\n",
    "model = zfit.pdf.SumPDF([model_S_ext, gaussian_B0Ds_ext, gaussian_ext, model_K_ext, exp_ext]) # gauss is folded by frac\n",
    "data = zfit.Data.from_pandas(df['B0_M'], obs=obs)"
   ]
  },
  {
   "cell_type": "markdown",
   "metadata": {},
   "source": [
    "### Fitting"
   ]
  },
  {
   "cell_type": "code",
   "execution_count": 15,
   "metadata": {
    "scrolled": false
   },
   "outputs": [
    {
     "name": "stdout",
     "output_type": "stream",
     "text": [
      "------------------------------------------------------------------\n",
      "| FCN = -4.257e+05              |     Ncalls=202 (202 total)     |\n",
      "| EDM = 0.000194 (Goal: 0.001)  |            up = 0.5            |\n",
      "------------------------------------------------------------------\n",
      "|  Valid Min.   | Valid Param.  | Above EDM | Reached call limit |\n",
      "------------------------------------------------------------------\n",
      "|     True      |     True      |   False   |       False        |\n",
      "------------------------------------------------------------------\n",
      "| Hesse failed  |   Has cov.    | Accurate  | Pos. def. | Forced |\n",
      "------------------------------------------------------------------\n",
      "|     False     |     True      |   True    |   True    | False  |\n",
      "------------------------------------------------------------------\n",
      "name      value    minuit_hesse         minuit_minos    at limit\n",
      "------  -------  --------------  -------------------  ----------\n",
      "n_sig     51970     +/-   4e+02  -  4e+02   +4.1e+02       False\n",
      "n_bkg2    513.4     +/- 1.2e+02  -1.1e+02   +1.2e+02       False\n",
      "n_bkgK     4011     +/- 3.6e+02  -4.3e+02   +3.7e+02       False\n",
      "n_bkg     27750     +/- 6.4e+02  -6.8e+02   +6.4e+02       False\n",
      "frac     0.4072     +/-   0.066  -  0.063   +  0.071       False\n",
      "alphaL    1.369     +/-    0.13  -   0.16   +   0.16       False\n",
      "mu         5279     +/-    0.14  -   0.14   +   0.16       False\n",
      "sigmaL    13.76     +/-    0.67  -   0.69   +   0.67       False\n",
      "alphaR   -1.758     +/-    0.13  -   0.17   +   0.12       False\n",
      "sigmaR    23.02     +/-    0.76  -   0.85   +    1.1       False\n",
      "sigma2    36.06     +/-       5  -    4.6   +    4.9       False\n",
      "lambda  -0.0004     +/- 0.00017  -0.00017   +0.00019       False\n",
      "Time to do the fit:  124.22780557628721\n"
     ]
    }
   ],
   "source": [
    "import timeit\n",
    "start = timeit.default_timer()\n",
    "result, params = launch_fit([model, model_B0Ds], [data, data_B0Ds], extended=True)\n",
    "stop = timeit.default_timer()\n",
    "print('Time to do the fit: ', stop - start) "
   ]
  },
  {
   "cell_type": "markdown",
   "metadata": {},
   "source": [
    "Fixed tail parameters\n",
    "\n",
    "    ------------------------------------------------------------------\n",
    "    | FCN = -4.257e+05              |     Ncalls=524 (524 total)     |\n",
    "    | EDM = 0.000491 (Goal: 0.001)  |            up = 0.5            |\n",
    "    ------------------------------------------------------------------\n",
    "    |  Valid Min.   | Valid Param.  | Above EDM | Reached call limit |\n",
    "    ------------------------------------------------------------------\n",
    "    |     True      |     True      |   False   |       False        |\n",
    "    ------------------------------------------------------------------\n",
    "    | Hesse failed  |   Has cov.    | Accurate  | Pos. def. | Forced |\n",
    "    ------------------------------------------------------------------\n",
    "    |     False     |     True      |   True    |   True    | False  |\n",
    "    ------------------------------------------------------------------\n",
    "    name         value    minuit_hesse         minuit_minos    at limit\n",
    "    ------  ----------  --------------  -------------------  ----------\n",
    "    n_sig        51950     +/- 3.9e+02  -3.9e+02   +  4e+02       False\n",
    "    n_bkg2       375.6     +/-      98  -     95   +     98       False\n",
    "    n_bkgK        1701     +/-   4e+02  -3.9e+02   +3.8e+02       False\n",
    "    n_bkg        30220     +/- 4.9e+02  -4.9e+02   +5.1e+02       False\n",
    "    frac        0.3676     +/-   0.045  -  0.043   +  0.045       False\n",
    "    mu            5280     +/-    0.11  -   0.11   +   0.11       False\n",
    "    sigmaL       12.95     +/-    0.54  -   0.54   +   0.52       False\n",
    "    sigmaR       21.85     +/-    0.38  -   0.36   +    0.4       False\n",
    "    sigma2       33.52     +/-     5.1  -      5   +    5.9       False\n",
    "    lambda  -0.0009755     +/- 0.00013  -0.00014   +0.00013       False\n",
    "\n",
    "Unfixed $\\alpha_L$ and $\\alpha_R$\n",
    "- First Fit:\n",
    "\n",
    "\n",
    "    ------------------------------------------------------------------\n",
    "    | FCN = -4.257e+05              |     Ncalls=939 (939 total)     |\n",
    "    | EDM = 0.000223 (Goal: 0.001)  |            up = 0.5            |\n",
    "    ------------------------------------------------------------------\n",
    "    |  Valid Min.   | Valid Param.  | Above EDM | Reached call limit |\n",
    "    ------------------------------------------------------------------\n",
    "    |     True      |     True      |   False   |       False        |\n",
    "    ------------------------------------------------------------------\n",
    "    | Hesse failed  |   Has cov.    | Accurate  | Pos. def. | Forced |\n",
    "    ------------------------------------------------------------------\n",
    "    |     False     |     True      |   True    |   True    | False  |\n",
    "    ------------------------------------------------------------------\n",
    "    name         value    minuit_hesse         minuit_minos    at limit\n",
    "    ------  ----------  --------------  -------------------  ----------\n",
    "    n_sig        51970     +/- 3.9e+02  -3.9e+02   +4.1e+02       False\n",
    "    n_bkg2       513.4     +/- 1.1e+02  -1.1e+02   +1.1e+02       False\n",
    "    n_bkgK        4011     +/- 3.5e+02  -4.3e+02   +3.7e+02       False\n",
    "    n_bkg        27750     +/- 6.2e+02  -6.8e+02   +6.2e+02       False\n",
    "    frac        0.4072     +/-   0.062  -  0.063   +  0.071       False\n",
    "    alphaL        1.37     +/-    0.13  -   0.16   +   0.16       False\n",
    "    mu            5279     +/-    0.14  -   0.14   +   0.16       False\n",
    "    sigmaL       13.76     +/-    0.63  -   0.69   +   0.63       False\n",
    "    alphaR      -1.758     +/-    0.13  -   0.17   +   0.12       False\n",
    "    sigmaR       23.02     +/-    0.73  -   0.85   +    1.1       False\n",
    "    sigma2       36.07     +/-     4.7  -    4.6   +    4.6       False\n",
    "    lambda  -0.0004003     +/- 0.00017  -0.00017   +0.00019       False\n",
    "    Time to do the fit:  142.80274926498532\n",
    "\n",
    "    Info: VariableMetricBuilder: Tolerance is not sufficient, continue the minimization\n",
    "    Info in Current  Edm is : edm = 0.0412732\n",
    "    Info in Required Edm is : edmval = 0.001\n",
    "\n",
    "\n",
    "- Second fit:\n",
    "\n",
    "\n",
    "    ------------------------------------------------------------------\n",
    "    | FCN = -4.257e+05              |     Ncalls=202 (202 total)     |\n",
    "    | EDM = 0.000194 (Goal: 0.001)  |            up = 0.5            |\n",
    "    ------------------------------------------------------------------\n",
    "    |  Valid Min.   | Valid Param.  | Above EDM | Reached call limit |\n",
    "    ------------------------------------------------------------------\n",
    "    |     True      |     True      |   False   |       False        |\n",
    "    ------------------------------------------------------------------\n",
    "    | Hesse failed  |   Has cov.    | Accurate  | Pos. def. | Forced |\n",
    "    ------------------------------------------------------------------\n",
    "    |     False     |     True      |   True    |   True    | False  |\n",
    "    ------------------------------------------------------------------\n",
    "    name      value    minuit_hesse         minuit_minos    at limit\n",
    "    ------  -------  --------------  -------------------  ----------\n",
    "    n_sig     51970     +/-   4e+02  -  4e+02   +4.1e+02       False\n",
    "    n_bkg2    513.4     +/- 1.2e+02  -1.1e+02   +1.2e+02       False\n",
    "    n_bkgK     4011     +/- 3.6e+02  -4.3e+02   +3.7e+02       False\n",
    "    n_bkg     27750     +/- 6.4e+02  -6.8e+02   +6.4e+02       False\n",
    "    frac     0.4072     +/-   0.066  -  0.063   +  0.071       False\n",
    "    alphaL    1.369     +/-    0.13  -   0.16   +   0.16       False\n",
    "    mu         5279     +/-    0.14  -   0.14   +   0.16       False\n",
    "    sigmaL    13.76     +/-    0.67  -   0.69   +   0.67       False\n",
    "    alphaR   -1.758     +/-    0.13  -   0.17   +   0.12       False\n",
    "    sigmaR    23.02     +/-    0.76  -   0.85   +    1.1       False\n",
    "    sigma2    36.06     +/-       5  -    4.6   +    4.9       False\n",
    "    lambda  -0.0004     +/- 0.00017  -0.00017   +0.00019       False\n",
    "    Time to do the fit:  124.22780557628721\n",
    "\n",
    "\n",
    "Left tail parameters free:\n",
    "    \n",
    "    ------------------------------------------------------------------\n",
    "    | FCN = -4.257e+05              |    Ncalls=1448 (1448 total)    |\n",
    "    | EDM = 0.000922 (Goal: 0.001)  |            up = 0.5            |\n",
    "    ------------------------------------------------------------------\n",
    "    |  Valid Min.   | Valid Param.  | Above EDM | Reached call limit |\n",
    "    ------------------------------------------------------------------\n",
    "    |     True      |     True      |   False   |       False        |\n",
    "    ------------------------------------------------------------------\n",
    "    | Hesse failed  |   Has cov.    | Accurate  | Pos. def. | Forced |\n",
    "    ------------------------------------------------------------------\n",
    "    |     False     |     True      |   False   |   False   |  True  |\n",
    "    ------------------------------------------------------------------\n",
    "    name         value    minuit_hesse         minuit_minos    at limit\n",
    "    ------  ----------  --------------  -------------------  ----------\n",
    "    n_sig        51460     +/-      27  -     27   +     27       False\n",
    "    n_bkg2       488.7     +/-     6.4  -    6.4   +    6.4       False\n",
    "    n_bkgK        3108     +/-      13  -     13   +     13       False\n",
    "    n_bkg        29200     +/-      22  -     22   +     22       False\n",
    "    frac        0.5668     +/-   0.001  -  0.001   +  0.001       False\n",
    "    alphaL       1.461     +/-  0.0062  - 0.0062   + 0.0062       False\n",
    "    mu            5279     +/-   0.011  -  0.011   +  0.011       False\n",
    "    nL           113.6     +/-      12  -     12   +     12       False\n",
    "    sigmaL       14.89     +/-   0.013  -  0.013   +  0.013       False\n",
    "    sigmaR       25.63     +/-    0.18  -   0.18   +   0.18       False\n",
    "    sigma2       37.24     +/-     4.5  -    4.4   +    8.3       False\n",
    "    lambda  -0.0007432     +/- 0.00011  -0.00011   +0.00015       False\n",
    "\n",
    "    Info: VariableMetricBuilder: no improvement in line search\n",
    "    Info: VariableMetricBuilder: iterations finish without convergence.\n",
    "    Info in VariableMetricBuilder : edm = 44446.1\n",
    "    Info in             requested : edmval = 0.001\n",
    "    Info in matrix forced pos-def by adding to diagonal : padd = 82.7435\n",
    "    Info: MnHesse: matrix was forced pos. def. \n",
    "    Info: VariableMetricBuilder: Edm has been re-computed after Hesse\n",
    "    Info in new value is now smaller than the required tolerance, : edm = 0.000922477\n",
    "    \n",
    "    ------------------------------------------------------------------\n",
    "    | FCN = -4.257e+05              |     Ncalls=361 (361 total)     |\n",
    "    | EDM = 0.000716 (Goal: 0.001)  |            up = 0.5            |\n",
    "    ------------------------------------------------------------------\n",
    "    |  Valid Min.   | Valid Param.  | Above EDM | Reached call limit |\n",
    "    ------------------------------------------------------------------\n",
    "    |     True      |     True      |   False   |       False        |\n",
    "    ------------------------------------------------------------------\n",
    "    | Hesse failed  |   Has cov.    | Accurate  | Pos. def. | Forced |\n",
    "    ------------------------------------------------------------------\n",
    "    |     False     |     True      |   False   |   False   |  True  |\n",
    "    ------------------------------------------------------------------\n",
    "    name         value    minuit_hesse         minuit_minos    at limit\n",
    "    ------  ----------  --------------  -------------------  ----------\n",
    "    n_sig        51420     +/-      27  -     27   +     27       False\n",
    "    n_bkg2       476.6     +/-     6.4  -    6.4   +    6.4       False\n",
    "    n_bkgK        3114     +/-      13  -     13   +     13       False\n",
    "    n_bkg        29240     +/-      23  -     23   +     23       False\n",
    "    frac        0.5579     +/-   0.001  -  0.001   +  0.001       False\n",
    "    alphaL       1.449     +/-  0.0061  - 0.0061   + 0.0061       False\n",
    "    mu            5279     +/-   0.011  -  0.011   +  0.011       False\n",
    "    nL           136.6     +/-     8.7  -    8.6   +    8.6       False\n",
    "    sigmaL       14.81     +/-   0.014  -  0.014   +  0.014       False\n",
    "    sigmaR       25.45     +/-    0.17  -   0.17   +   0.17       False\n",
    "    sigma2       36.88     +/-     4.5  -    4.5   +    4.5       False\n",
    "    lambda  -0.0007536     +/- 0.00011  -0.00011   +0.00011       False\n",
    "\n",
    "    Info: VariableMetricBuilder: no improvement in line search\n",
    "    Info: VariableMetricBuilder: iterations finish without convergence.\n",
    "    Info in VariableMetricBuilder : edm = 1318.75\n",
    "    Info in             requested : edmval = 0.001\n",
    "    Info in matrix forced pos-def by adding to diagonal : padd = 82.1783\n",
    "    Info: MnHesse: matrix was forced pos. def. \n",
    "    Info: VariableMetricBuilder: Edm has been re-computed after Hesse\n",
    "    Info in new value is now smaller than the required tolerance, : edm = 0.000716499\n",
    "\n",
    "\n",
    "\n",
    "\n",
    "$\\alpha_L$ let free:\n",
    " \n",
    "    ------------------------------------------------------------------\n",
    "    | FCN = -4.257e+05              |     Ncalls=179 (179 total)     |\n",
    "    | EDM = 0.000925 (Goal: 0.001)  |            up = 0.5            |\n",
    "    ------------------------------------------------------------------\n",
    "    |  Valid Min.   | Valid Param.  | Above EDM | Reached call limit |\n",
    "    ------------------------------------------------------------------\n",
    "    |     True      |     True      |   False   |       False        |\n",
    "    ------------------------------------------------------------------\n",
    "    | Hesse failed  |   Has cov.    | Accurate  | Pos. def. | Forced |\n",
    "    ------------------------------------------------------------------\n",
    "    |     False     |     True      |   True    |   True    | False  |\n",
    "    ------------------------------------------------------------------\n",
    "    name         value    minuit_hesse         minuit_minos    at limit\n",
    "    ------  ----------  --------------  -------------------  ----------\n",
    "    n_sig        51840     +/- 4.9e+02  -4.3e+02   +4.8e+02       False\n",
    "    n_bkg2       469.8     +/- 1.5e+02  -1.5e+02   +1.8e+02       False\n",
    "    n_bkgK        2451     +/- 5.5e+02  -4.7e+02   +4.5e+02       False\n",
    "    n_bkg        29490     +/- 6.5e+02  -5.6e+02   +6.5e+02       False\n",
    "    frac        0.4891     +/-   0.072  -  0.066   +  0.068       False\n",
    "    alphaL       1.846     +/-    0.15  -   0.15   +   0.16       False\n",
    "    mu            5279     +/-    0.12  -   0.12   +   0.13       False\n",
    "    sigmaL       14.37     +/-    0.64  -   0.63   +   0.57       False\n",
    "    sigmaR       24.24     +/-    0.95  -   0.95   +    1.1       False\n",
    "    sigma2       36.56     +/-     6.6  -    5.6   +    7.8       False\n",
    "    lambda  -0.0008137     +/- 0.00018  -0.00015   +0.00016       False\n",
    "\n",
    "\n",
    "\n",
    "Gaussian on the right\n",
    "    \n",
    "    ------------------------------------------------------------------\n",
    "    | FCN = -4.257e+05              |     Ncalls=299 (299 total)     |\n",
    "    | EDM = 0.00232 (Goal: 0.001)   |            up = 0.5            |\n",
    "    ------------------------------------------------------------------\n",
    "    |  Valid Min.   | Valid Param.  | Above EDM | Reached call limit |\n",
    "    ------------------------------------------------------------------\n",
    "    |     True      |     True      |   False   |       False        |\n",
    "    ------------------------------------------------------------------\n",
    "    | Hesse failed  |   Has cov.    | Accurate  | Pos. def. | Forced |\n",
    "    ------------------------------------------------------------------\n",
    "    |     False     |     True      |   False   |   False   |  True  |\n",
    "    ------------------------------------------------------------------\n",
    "    name         value    minuit_hesse         minuit_minos    at limit\n",
    "    ------  ----------  --------------  -------------------  ----------\n",
    "    n_sig        51470     +/-      27  -     27   +     27       False\n",
    "    n_bkg2       498.2     +/-     6.5  -    6.5   +    6.5       False\n",
    "    n_bkgK        3101     +/-      13  -     13   +     13       False\n",
    "    n_bkg        29170     +/-      23  -     23   +     23       False\n",
    "    frac        0.5724     +/-   0.001  -  0.001   +  0.001       False\n",
    "    alphaL       1.453     +/-   0.006  -  0.006   +  0.006       False\n",
    "    mu            5279     +/-   0.011  -  0.011   +  0.011       False\n",
    "    nL           118.2     +/-      11  -  1e+02   +     11       False\n",
    "    sigmaL       14.93     +/-   0.013  -  0.013   +  0.013       False\n",
    "    sigmaR       25.73     +/-    0.17  -   0.17   +   0.17       False\n",
    "    sigma2       37.64     +/-     4.6  -    4.5   +    4.5       False\n",
    "    lambda  -0.0007381     +/- 0.00011  -0.00011   +0.00015       False\n",
    " \n",
    "\n",
    "All tail parameters let free: \n",
    " \n",
    "     ------------------------------------------------------------------\n",
    "    | FCN = -4.257e+05              |    Ncalls=1342 (1342 total)    |\n",
    "    | EDM = 0.000723 (Goal: 0.001)  |            up = 0.5            |\n",
    "    ------------------------------------------------------------------\n",
    "    |  Valid Min.   | Valid Param.  | Above EDM | Reached call limit |\n",
    "    ------------------------------------------------------------------\n",
    "    |     True      |     True      |   False   |       False        |\n",
    "    ------------------------------------------------------------------\n",
    "    | Hesse failed  |   Has cov.    | Accurate  | Pos. def. | Forced |\n",
    "    ------------------------------------------------------------------\n",
    "    |     False     |     True      |   True    |   True    | False  |\n",
    "    ------------------------------------------------------------------\n",
    "    name         value    minuit_hesse         minuit_minos    at limit\n",
    "    ------  ----------  --------------  -------------------  ----------\n",
    "    n_sig        51560     +/- 4.1e+02  -4.1e+02   +4.1e+02       False\n",
    "    n_bkg2       484.4     +/- 1.4e+02  -1.8e+02   +1.4e+02       False\n",
    "    n_bkgK        2794     +/- 4.1e+02  -4.1e+02   +4.1e+02       False\n",
    "    n_bkg        29410     +/- 5.3e+02  -5.3e+02   +5.3e+02       False\n",
    "    frac        0.5023     +/-   0.067  -  0.067   +  0.067       False\n",
    "    alphaL       1.721     +/-    0.14  -   0.14   +   0.14       False\n",
    "    mu            5279     +/-    0.14  -   0.17   +   0.14       False\n",
    "    nL           3.228     +/-    0.36  -   0.96   +   0.35       False\n",
    "    sigmaL       14.46     +/-     0.6  -    0.6   +    0.6       False\n",
    "    alphaR      -4.971     +/-    0.38  -    2.9   +    2.9       False\n",
    "    nR           39.67     +/-      79  -1.2e+02   +1.2e+02       False\n",
    "    sigmaR       24.49     +/-       1  -      1   +      1       False\n",
    "    sigma2       37.02     +/-     6.1  -      6   +      6       False\n",
    "    lambda  -0.0007941     +/- 0.00014  -0.00014   +0.00014       False\n",
    "    \n",
    "    ------------------------------------------------------------------\n",
    "    | FCN = -4.257e+05              |     Ncalls=475 (475 total)     |\n",
    "    | EDM = 0.00108 (Goal: 0.001)   |            up = 0.5            |\n",
    "    ------------------------------------------------------------------\n",
    "    |  Valid Min.   | Valid Param.  | Above EDM | Reached call limit |\n",
    "    ------------------------------------------------------------------\n",
    "    |     True      |     True      |   False   |       False        |\n",
    "    ------------------------------------------------------------------\n",
    "    | Hesse failed  |   Has cov.    | Accurate  | Pos. def. | Forced |\n",
    "    ------------------------------------------------------------------\n",
    "    |     False     |     True      |   False   |   False   |  True  |\n",
    "    ------------------------------------------------------------------\n",
    "    name         value    minuit_hesse         minuit_minos    at limit\n",
    "    ------  ----------  --------------  -------------------  ----------\n",
    "    n_sig        51920     +/-      35  -     35   +     35       False\n",
    "    n_bkg2       505.3     +/-     8.3  -    8.3   +    8.3       False\n",
    "    n_bkgK        3679     +/-      17  -     17   +     17       False\n",
    "    n_bkg        28140     +/-      29  -     29   +     29       False\n",
    "    frac        0.3895     +/-  0.0014  - 0.0014   + 0.0014       False\n",
    "    alphaL       1.439     +/-  0.0075  - 0.0075   + 0.0075       False\n",
    "    mu            5279     +/-   0.015  -  0.015   +  0.015       False\n",
    "    nL           4.849     +/-    0.11  -   0.11   +   0.11       False\n",
    "    sigmaL       13.67     +/-   0.024  -  0.024   +  0.024       False\n",
    "    alphaR      -1.646     +/-  0.0089  - 0.0089   + 0.0089       False\n",
    "    nR           150.9     +/-     2.3  -    2.3   +    2.3       False\n",
    "    sigmaR       22.52     +/-   0.024  -  0.024   +  0.024       False\n",
    "    sigma2          36     +/-     4.3  -    4.3   +    4.3       False\n",
    "    lambda  -0.0004872     +/- 0.00017  -0.00017   +0.00017       False\n",
    "\n",
    "    Info: VariableMetricBuilder: no improvement in line search\n",
    "    Info: VariableMetricBuilder: iterations finish without convergence.\n",
    "    Info in VariableMetricBuilder : edm = 1870.55\n",
    "    Info in             requested : edmval = 0.001\n",
    "    Info in matrix forced pos-def by adding to diagonal : padd = 48.6568\n",
    "    Info: MnHesse: matrix was forced pos. def. \n",
    "    Info: VariableMetricBuilder: Stop the minimization - reached machine accuracy limit\n",
    "    Info in Edm is smaller than machine accuracy : machineLimit = 0.0253765\n",
    "    Info in Current  Edm is : edm = 0.0010771\n",
    "    Info in Required Edm is : edmval = 0.001\n",
    "    Info: VariableMetricBuilder: Edm has been re-computed after Hesse\n",
    "    Info in new value is now smaller than the required tolerance, : edm = 0.0010771\n"
   ]
  },
  {
   "cell_type": "code",
   "execution_count": 17,
   "metadata": {},
   "outputs": [
    {
     "ename": "NameError",
     "evalue": "name 'frac' is not defined",
     "output_type": "error",
     "traceback": [
      "\u001b[0;31m---------------------------------------------------------------------------\u001b[0m",
      "\u001b[0;31mNameError\u001b[0m                                 Traceback (most recent call last)",
      "\u001b[0;32m<ipython-input-17-94382d265fbc>\u001b[0m in \u001b[0;36m<module>\u001b[0;34m\u001b[0m\n\u001b[1;32m      4\u001b[0m                        \u001b[0mobs\u001b[0m\u001b[0;34m=\u001b[0m\u001b[0mobs\u001b[0m\u001b[0;34m,\u001b[0m \u001b[0mn_bins\u001b[0m \u001b[0;34m=\u001b[0m \u001b[0;36m100\u001b[0m\u001b[0;34m,\u001b[0m\u001b[0mmode_hist\u001b[0m \u001b[0;34m=\u001b[0m \u001b[0;32mFalse\u001b[0m\u001b[0;34m,\u001b[0m\u001b[0;34m\u001b[0m\u001b[0;34m\u001b[0m\u001b[0m\n\u001b[1;32m      5\u001b[0m                        \u001b[0mname_data\u001b[0m \u001b[0;34m=\u001b[0m \u001b[0mname_data\u001b[0m\u001b[0;34m,\u001b[0m\u001b[0;34m\u001b[0m\u001b[0;34m\u001b[0m\u001b[0m\n\u001b[0;32m----> 6\u001b[0;31m                        \u001b[0mcolors\u001b[0m\u001b[0;34m=\u001b[0m\u001b[0;34m[\u001b[0m\u001b[0;34m'b'\u001b[0m\u001b[0;34m,\u001b[0m\u001b[0;34m'g'\u001b[0m\u001b[0;34m,\u001b[0m\u001b[0;34m'r'\u001b[0m\u001b[0;34m,\u001b[0m\u001b[0;34m'm'\u001b[0m\u001b[0;34m,\u001b[0m\u001b[0;34m'cyan'\u001b[0m\u001b[0;34m,\u001b[0m\u001b[0;34m'y'\u001b[0m\u001b[0;34m]\u001b[0m\u001b[0;34m,\u001b[0m \u001b[0mfrac\u001b[0m\u001b[0;34m=\u001b[0m\u001b[0mfrac\u001b[0m\u001b[0;34m,\u001b[0m\u001b[0;34m\u001b[0m\u001b[0;34m\u001b[0m\u001b[0m\n\u001b[0m\u001b[1;32m      7\u001b[0m                        \u001b[0mparams\u001b[0m\u001b[0;34m=\u001b[0m\u001b[0mparams\u001b[0m\u001b[0;34m,\u001b[0m\u001b[0mname_params\u001b[0m\u001b[0;34m=\u001b[0m\u001b[0mname_params\u001b[0m\u001b[0;34m,\u001b[0m \u001b[0mfontsize_leg\u001b[0m\u001b[0;34m=\u001b[0m\u001b[0;36m13.5\u001b[0m\u001b[0;34m,\u001b[0m\u001b[0;34m\u001b[0m\u001b[0;34m\u001b[0m\u001b[0m\n\u001b[1;32m      8\u001b[0m                        colWidths=[0.06,0.01,0.05,0.06])\n",
      "\u001b[0;31mNameError\u001b[0m: name 'frac' is not defined"
     ]
    }
   ],
   "source": [
    "plot_hist_fit_particle(df,'B0_M', models = [model,model_S_ext, gaussian_B0Ds_ext, gaussian_ext, model_K_ext,exp_ext],\n",
    "                       name_models = [None, '\\n $B^0\\\\to D^* 3\\pi$','\\n $B^0\\\\to D^*D_s$','\\n $B^0\\\\to D^*3\\pi h$',\n",
    "                                      '\\n $B^0\\\\to D^* K \\pi^+\\pi^-$','\\n (combinatorial)'],\n",
    "                       obs=obs, n_bins = 100,mode_hist = False,\n",
    "                       name_data = name_data,\n",
    "                       colors=['b','g','r','m','cyan','y'],\n",
    "                       params=params,name_params=name_params, fontsize_leg=13.5,\n",
    "                       colWidths=[0.06,0.01,0.05,0.06])"
   ]
  },
  {
   "cell_type": "code",
   "execution_count": null,
   "metadata": {},
   "outputs": [],
   "source": [
    "name_data_save = name_data + '_chi2'\n",
    "plot_hist_fit_particle(df,'B0_M', models = [model,model_S_ext, gaussian_B0Ds_ext, gaussian_ext, model_K_ext,exp_ext],\n",
    "                       name_models = [None, '\\n $B^0\\\\to D^* 3\\pi$','\\n $B^0\\\\to D^*D_s$','\\n $B^0\\\\to D^*3\\pi h$',\n",
    "                                      '\\n $B^0\\\\to D^* K \\pi^+\\pi^-$','\\n (combinatorial)'],\n",
    "                       obs=obs, n_bins = 100,mode_hist = False,\n",
    "                       name_data = name_data_save,\n",
    "                       colors=['b','g','r','m','cyan','y'], show_chi2=True,\n",
    "                       params=params,name_params=name_params, fontsize_leg=13.5,\n",
    "                       colWidths=[0.06,0.01,0.05,0.06])"
   ]
  },
  {
   "cell_type": "code",
   "execution_count": 23,
   "metadata": {},
   "outputs": [
    {
     "name": "stdout",
     "output_type": "stream",
     "text": [
      "parameters saved in /afs/cern.ch/user/c/correian/bd2dst3pi/output/json/all_data_strip_cutDeltaM_V8_fixedTails_params.json\n"
     ]
    }
   ],
   "source": [
    "#save_params(params,name_data,True)"
   ]
  },
  {
   "cell_type": "code",
   "execution_count": null,
   "metadata": {},
   "outputs": [],
   "source": []
  }
 ],
 "metadata": {
  "kernelspec": {
   "display_name": "bd2dst3pi_env",
   "language": "python",
   "name": "bd2dst3pi_env"
  },
  "language_info": {
   "codemirror_mode": {
    "name": "ipython",
    "version": 3
   },
   "file_extension": ".py",
   "mimetype": "text/x-python",
   "name": "python",
   "nbconvert_exporter": "python",
   "pygments_lexer": "ipython3",
   "version": "3.7.8"
  }
 },
 "nbformat": 4,
 "nbformat_minor": 4
}
