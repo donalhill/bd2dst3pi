{
 "cells": [
  {
   "cell_type": "markdown",
   "metadata": {},
   "source": [
    "# Fit the complete data (With sWeights and without sWeights)\n",
    "- Fit on $m(B^0_s)$ with $m(3\\pi)$ around $m(D_s)$ and sWeights\n",
    "    - Signal $B^0 \\to D^{*-} \\pi^+ \\pi^+ \\pi^-$ (gaussian)\n",
    "    - Background of partially reconstructed decays (gaussian)\n",
    "    - Combinatorial background (exponential)\n",
    "- Fit on $m(B^0_s)$ with:\n",
    "    - Signal $B^0 \\to D^{*-} \\pi^+ \\pi^+ \\pi^-$ (sum of two Crystall ball PDF)\n",
    "    - Background $B^0 \\to D^{*-} D_s^+$ from the other fit of the simultaneous fit\n",
    "    - Background with a misidentified pion: $B^0 \\to D^{*-} K^+ \\pi^+ \\pi^-$ (sum of two crystall ball PDF)\n",
    "    - Background of partially reconstructed decays $B^0 \\to D^{*-} \\pi^+ \\pi^+ \\pi^- h$ (gaussian)\n",
    "    - Combinatorial background (exponential)\n",
    "\n",
    "Those two fits are not simultaneous"
   ]
  },
  {
   "cell_type": "markdown",
   "metadata": {},
   "source": [
    "## Import"
   ]
  },
  {
   "cell_type": "code",
   "execution_count": 1,
   "metadata": {},
   "outputs": [
    {
     "name": "stdout",
     "output_type": "stream",
     "text": [
      "Welcome to JupyROOT 6.22/02\n"
     ]
    }
   ],
   "source": [
    "import zfit\n",
    "import json\n",
    "import numpy as np\n",
    "\n",
    "from bd2dst3pi.locations import loc\n",
    "from bd2dst3pi.definitions import years, magnets\n",
    "\n",
    "import sys\n",
    "sys.path.append(loc.SCRIPTS)\n",
    "import functions as fct\n",
    "from fit import launch_fit, save_params, plot_hist_fit, plot_hist_fit_particle"
   ]
  },
  {
   "cell_type": "markdown",
   "metadata": {},
   "source": [
    "## Load"
   ]
  },
  {
   "cell_type": "code",
   "execution_count": 2,
   "metadata": {},
   "outputs": [],
   "source": [
    "# Mean of the distribution of the partially reconstructed data\n",
    "with open(f'{loc.JSON}/data_strip_p/all_data_strip_params.json', 'r') as f:\n",
    "    mu2_p = json.load(f)['mu2']\n"
   ]
  },
  {
   "cell_type": "code",
   "execution_count": 3,
   "metadata": {
    "scrolled": false
   },
   "outputs": [
    {
     "name": "stdout",
     "output_type": "stream",
     "text": [
      "/afs/cern.ch/user/c/correian/bd2dst3pi/output/root/data_strip/all_data_strip.root\n"
     ]
    }
   ],
   "source": [
    "df = fct.load_data(years, magnets, type_data='data_strip', vars=['B0_M','tau_M'],\n",
    "                            cut_DeltaM=True)"
   ]
  },
  {
   "cell_type": "code",
   "execution_count": 4,
   "metadata": {},
   "outputs": [],
   "source": [
    "name_data = 'all_data_strip_cutDeltaM_V8_fixedTails'\n",
    "name_data_B0Ds = 'all_data_strip_cutDeltaM_Ds_weighted_V8'"
   ]
  },
  {
   "cell_type": "markdown",
   "metadata": {},
   "source": [
    "## Fit on weighted `B0_M` with `|tau_M-1969|<50`"
   ]
  },
  {
   "cell_type": "markdown",
   "metadata": {},
   "source": [
    "### Data"
   ]
  },
  {
   "cell_type": "code",
   "execution_count": null,
   "metadata": {},
   "outputs": [],
   "source": [
    "size_tau_M = 50.\n",
    "mean_tau_M = 1969.\n",
    "low_tau_M = mean_tau_M - size_tau_M\n",
    "high_tau_M = mean_tau_M + size_tau_M\n",
    "\n",
    "df_Ds = df.query(f\"abs(tau_M-{mean_tau_M})<={size_tau_M}\")"
   ]
  },
  {
   "cell_type": "code",
   "execution_count": null,
   "metadata": {},
   "outputs": [],
   "source": [
    "name_data_B0Ds = 'all_data_strip_cutDeltaM_Ds_weighted_V8'\n",
    "low_B0Ds = 5150.\n",
    "high_B0Ds = 5360.\n",
    "\n",
    "weights =  fct.retrieve_pickle('all_data_strip_cutDeltaM_Ds_V8')"
   ]
  },
  {
   "cell_type": "markdown",
   "metadata": {},
   "source": [
    "### Distributions"
   ]
  },
  {
   "cell_type": "code",
   "execution_count": 8,
   "metadata": {},
   "outputs": [
    {
     "name": "stderr",
     "output_type": "stream",
     "text": [
      "/afs/cern.ch/user/c/correian/bd2dst3pi/scripts/functions.py:579: RuntimeWarning: invalid value encountered in sqrt\n",
      "  err = np.sqrt(counts)\n"
     ]
    },
    {
     "data": {
      "image/png": "[encoded data removed]",
      "text/plain": [
       "<Figure size 576x432 with 1 Axes>"
      ]
     },
     "metadata": {
      "needs_background": "light"
     },
     "output_type": "display_data"
    },
    {
     "name": "stdout",
     "output_type": "stream",
     "text": [
      "/afs/cern.ch/user/c/correian/bd2dst3pi/output/plots/B0_M_all_data_strip_cutDeltaM_Ds_weighted_V8.pdf\n"
     ]
    }
   ],
   "source": [
    "fct.plot_hist_particle({name_data_B0Ds:df_Ds},'B0_M',\n",
    "              low = low_B0Ds, high = high_B0Ds,\n",
    "              n_bins = 100, mode_hist = False, colors='black', weights=weights.sig)"
   ]
  },
  {
   "cell_type": "markdown",
   "metadata": {},
   "source": [
    "### Intial values"
   ]
  },
  {
   "cell_type": "code",
   "execution_count": 7,
   "metadata": {},
   "outputs": [],
   "source": [
    "n_events_B0Ds = len(df_Ds.query(f'B0_M > {low_B0Ds} and B0_M < {high_B0Ds}'))\n",
    "\n",
    "n_sig_k = 1600\n",
    "n_bkg_k = 200\n",
    "n_bkg2_k = 800\n",
    "\n",
    "initial_values_B0Ds = {\n",
    "    # Signal\n",
    "    'mu_B0Ds'       :{ 'value': 5279.                         , 'low': 5279.-4.       , 'high': 5279.+4.             , 'floating': True},\n",
    "    'sigma_B0Ds'    :{ 'value': 15.                           , 'low': 15.-5.        , 'high': 15.+5.                , 'floating': True},\n",
    "    'n_sig_B0Ds'    :{ 'value': n_sig_k                       , 'low': 0              , 'high': n_events_B0Ds        , 'floating': True},\n",
    "    # Combinatorial background\n",
    "    'lambda_B0Ds'   :{ 'value': -0.000001                     , 'low': -0.1           , 'high': -0.0000001           , 'floating': True},\n",
    "    'n_bkg_B0Ds'    :{ 'value': n_bkg_k                       , 'low': 0              , 'high': n_events_B0Ds        , 'floating': True},\n",
    "    # Partially reconstructed particles\n",
    "    'mu2_B0Ds'      :{ 'value': mu2_p                         , 'low': 4800.          , 'high': 5150.                , 'floating': False},\n",
    "    'sigma2_B0Ds'   :{ 'value': 80.                           , 'low': 50.            , 'high': 90.                  , 'floating': True},\n",
    "    'n_bkg2_B0Ds'   :{ 'value': n_bkg2_k                      , 'low': 0              , 'high': n_events_B0Ds        , 'floating': True},\n",
    "}"
   ]
  },
  {
   "cell_type": "markdown",
   "metadata": {},
   "source": [
    "### Observables and variables"
   ]
  },
  {
   "cell_type": "code",
   "execution_count": 8,
   "metadata": {},
   "outputs": [],
   "source": [
    "obs_B0Ds = zfit.Space(\"x\", limits=(low_B0Ds, high_B0Ds))\n",
    "\n",
    "zparams_B0Ds = {}\n",
    "for var in initial_values_B0Ds.keys():\n",
    "    zparams_B0Ds[var] = zfit.Parameter(var,\n",
    "                                      initial_values_B0Ds[var]['value'], \n",
    "                                      initial_values_B0Ds[var]['low'], \n",
    "                                      initial_values_B0Ds[var]['high'],\n",
    "                                      floating = initial_values_B0Ds[var]['floating'])"
   ]
  },
  {
   "cell_type": "code",
   "execution_count": 15,
   "metadata": {},
   "outputs": [],
   "source": [
    "name_params_B0Ds = {\n",
    "    # Signal\n",
    "    f'mu_B0Ds'      : '$\\mu_S$',\n",
    "    f'sigma_B0Ds'   : '$\\\\sigma_S$',\n",
    "    f'n_sig_B0Ds'   : '$n_S$',\n",
    "    # Combinatorial background\n",
    "    f'n_bkg_B0Ds'   : '$n_{B,c}$',\n",
    "    f'lambda_B0Ds'  : '$\\\\lambda_{B,c}$',\n",
    "    # Partially reconstructed background\n",
    "    f'mu2_B0Ds'     : '$\\\\mu_{B, D^*3 D_s h}$',\n",
    "    f'sigma2_B0Ds'  : '$\\\\sigma_{B, D^* D_s h}$',\n",
    "    f'n_bkg2_B0Ds'  : '$n_{B, D^* D_s h}$',\n",
    "}"
   ]
  },
  {
   "cell_type": "markdown",
   "metadata": {},
   "source": [
    "### PDFs"
   ]
  },
  {
   "cell_type": "code",
   "execution_count": 10,
   "metadata": {},
   "outputs": [],
   "source": [
    "gaussianS_B0Ds = zfit.pdf.Gauss(zparams_B0Ds['mu_B0Ds'],zparams_B0Ds['sigma_B0Ds'],obs=obs_B0Ds)\n",
    "exponential_B0Ds = zfit.pdf.Exponential(zparams_B0Ds['lambda_B0Ds'], obs=obs_B0Ds)\n",
    "gaussian_B0Ds = zfit.pdf.Gauss(zparams_B0Ds['mu2_B0Ds'],zparams_B0Ds['sigma2_B0Ds'],obs=obs_B0Ds)\n",
    "\n",
    "gaussianS_B0Ds_ext = gaussianS_B0Ds.create_extended(zparams_B0Ds['n_sig_B0Ds'])\n",
    "exponential_B0Ds_ext = exponential_B0Ds.create_extended(zparams_B0Ds['n_bkg_B0Ds'])\n",
    "gaussian_B0Ds_ext = gaussian_B0Ds.create_extended(zparams_B0Ds['n_bkg2_B0Ds'])\n",
    "\n",
    "model_B0Ds = zfit.pdf.SumPDF([gaussianS_B0Ds_ext, exponential_B0Ds_ext, gaussian_B0Ds_ext])\n",
    "data_B0Ds = zfit.Data.from_pandas(df_Ds['B0_M'], obs=obs_B0Ds, weights=weights.sig)"
   ]
  },
  {
   "cell_type": "markdown",
   "metadata": {},
   "source": [
    "### Fitting"
   ]
  },
  {
   "cell_type": "code",
   "execution_count": 17,
   "metadata": {},
   "outputs": [
    {
     "name": "stdout",
     "output_type": "stream",
     "text": [
      "------------------------------------------------------------------\n",
      "| FCN = -4938                   |      Ncalls=99 (99 total)      |\n",
      "| EDM = 0.000371 (Goal: 0.001)  |            up = 0.5            |\n",
      "------------------------------------------------------------------\n",
      "|  Valid Min.   | Valid Param.  | Above EDM | Reached call limit |\n",
      "------------------------------------------------------------------\n",
      "|     True      |     True      |   False   |       False        |\n",
      "------------------------------------------------------------------\n",
      "| Hesse failed  |   Has cov.    | Accurate  | Pos. def. | Forced |\n",
      "------------------------------------------------------------------\n",
      "|     False     |     True      |   True    |   True    | False  |\n",
      "------------------------------------------------------------------\n"
     ]
    },
    {
     "name": "stderr",
     "output_type": "stream",
     "text": [
      "/afs/cern.ch/work/c/correian/miniconda/envs/bd2dst3pi_env/lib/python3.7/site-packages/zfit/minimizers/fitresult.py:46: ExperimentalFeatureWarning: The computation of the covariance matrix with weights is still experimental.\n",
      "  ExperimentalFeatureWarning)\n"
     ]
    },
    {
     "name": "stdout",
     "output_type": "stream",
     "text": [
      "name              value    minuit_hesse         minuit_minos    at limit\n",
      "-----------  ----------  --------------  -------------------  ----------\n",
      "n_sig_B0Ds         1564     +/-      45  -     45   +     45       False\n",
      "n_bkg_B0Ds        200.1     +/-      72  -     36   +1.6e+02       False\n",
      "n_bkg2_B0Ds         813     +/-      59  -1.4e+02   +     41       False\n",
      "mu_B0Ds            5280     +/-    0.59  -   0.44   +   0.45       False\n",
      "sigma_B0Ds        15.24     +/-    0.54  -   0.38   +   0.39       False\n",
      "lambda_B0Ds  -1.241e-07     +/- 2.7e-05  - 0.0059   +  0.016       False\n",
      "sigma2_B0Ds       76.26     +/-       4  -    4.6   +    3.3       False\n",
      "Time to do the fit:  31.78154041012749\n"
     ]
    }
   ],
   "source": [
    "import timeit\n",
    "start = timeit.default_timer()\n",
    "result_B0Ds, params_B0Ds = launch_fit( model_B0Ds, data_B0Ds, extended=True)\n",
    "stop = timeit.default_timer()\n",
    "print('Time to do the fit: ', stop - start) "
   ]
  },
  {
   "cell_type": "markdown",
   "metadata": {},
   "source": [
    "Result of the 1st fit\n",
    "\n",
    "    ------------------------------------------------------------------\n",
    "    | FCN = -4938                   |     Ncalls=163 (163 total)     |\n",
    "    | EDM = 0.000956 (Goal: 0.001)  |            up = 0.5            |\n",
    "    ------------------------------------------------------------------\n",
    "    |  Valid Min.   | Valid Param.  | Above EDM | Reached call limit |\n",
    "    ------------------------------------------------------------------\n",
    "    |     True      |     True      |   False   |       False        |\n",
    "    ------------------------------------------------------------------\n",
    "    | Hesse failed  |   Has cov.    | Accurate  | Pos. def. | Forced |\n",
    "    ------------------------------------------------------------------\n",
    "    |     False     |     True      |   True    |   True    | False  |\n",
    "    ------------------------------------------------------------------\n",
    "    name              value    minuit_hesse         minuit_minos    at limit\n",
    "    -----------  ----------  --------------  -------------------  ----------\n",
    "    n_sig_B0Ds         1564     +/-      45  -     45   +     45       False\n",
    "    n_bkg_B0Ds        200.8     +/-      73  -     37   +1.6e+02       False\n",
    "    n_bkg2_B0Ds       812.9     +/-      60  -1.5e+02   +     41       False\n",
    "    mu_B0Ds            5280     +/-    0.59  -   0.45   +   0.44       False\n",
    "    sigma_B0Ds        15.24     +/-    0.54  -   0.38   +   0.39       False\n",
    "    lambda_B0Ds  -2.289e-07     +/- 8.2e-05  - 0.0059   +   0.02       False\n",
    "    sigma2_B0Ds       76.21     +/-       4  -    4.6   +    3.4       False\n",
    "    Time to do the fit:  28.78929978515953\n",
    "\n",
    "Result of the 2nd fit\n",
    "\n",
    "    ------------------------------------------------------------------\n",
    "    | FCN = -4938                   |      Ncalls=99 (99 total)      |\n",
    "    | EDM = 0.000371 (Goal: 0.001)  |            up = 0.5            |\n",
    "    ------------------------------------------------------------------\n",
    "    |  Valid Min.   | Valid Param.  | Above EDM | Reached call limit |\n",
    "    ------------------------------------------------------------------\n",
    "    |     True      |     True      |   False   |       False        |\n",
    "    ------------------------------------------------------------------\n",
    "    | Hesse failed  |   Has cov.    | Accurate  | Pos. def. | Forced |\n",
    "    ------------------------------------------------------------------\n",
    "    |     False     |     True      |   True    |   True    | False  |\n",
    "    ------------------------------------------------------------------\n",
    "    name              value    minuit_hesse         minuit_minos    at limit\n",
    "    -----------  ----------  --------------  -------------------  ----------\n",
    "    n_sig_B0Ds         1564     +/-      45  -     45   +     45       False\n",
    "    n_bkg_B0Ds        200.1     +/-      72  -     36   +1.6e+02       False\n",
    "    n_bkg2_B0Ds         813     +/-      59  -1.4e+02   +     41       False\n",
    "    mu_B0Ds            5280     +/-    0.59  -   0.44   +   0.45       False\n",
    "    sigma_B0Ds        15.24     +/-    0.54  -   0.38   +   0.39       False\n",
    "    lambda_B0Ds  -1.241e-07     +/- 2.7e-05  - 0.0059   +  0.016       False\n",
    "    sigma2_B0Ds       76.26     +/-       4  -    4.6   +    3.3       False\n",
    "    Time to do the fit:  26.363226884044707\n",
    "\n"
   ]
  },
  {
   "cell_type": "code",
   "execution_count": 14,
   "metadata": {
    "scrolled": false
   },
   "outputs": [
    {
     "ename": "NameError",
     "evalue": "name 'df_Ds' is not defined",
     "output_type": "error",
     "traceback": [
      "\u001b[0;31m---------------------------------------------------------------------------\u001b[0m",
      "\u001b[0;31mNameError\u001b[0m                                 Traceback (most recent call last)",
      "\u001b[0;32m<ipython-input-14-88932a59b711>\u001b[0m in \u001b[0;36m<module>\u001b[0;34m\u001b[0m\n\u001b[0;32m----> 1\u001b[0;31m plot_hist_fit_particle(df_Ds,'B0_M', models = [model_B0Ds, gaussianS_B0Ds_ext, gaussian_B0Ds_ext, exponential_B0Ds_ext],\n\u001b[0m\u001b[1;32m      2\u001b[0m                        name_models = [\"\", '\\n $B^0\\\\to D^*D_s$','\\n $B^0\\\\to D^*D_s h$',\n\u001b[1;32m      3\u001b[0m                                       '\\n (combinatorial)'],\n\u001b[1;32m      4\u001b[0m                        \u001b[0mobs\u001b[0m\u001b[0;34m=\u001b[0m\u001b[0mobs_B0Ds\u001b[0m\u001b[0;34m,\u001b[0m \u001b[0mn_bins\u001b[0m \u001b[0;34m=\u001b[0m \u001b[0;36m100\u001b[0m\u001b[0;34m,\u001b[0m\u001b[0mmode_hist\u001b[0m \u001b[0;34m=\u001b[0m \u001b[0;32mFalse\u001b[0m\u001b[0;34m,\u001b[0m\u001b[0;34m\u001b[0m\u001b[0;34m\u001b[0m\u001b[0m\n\u001b[1;32m      5\u001b[0m                        \u001b[0mname_data\u001b[0m \u001b[0;34m=\u001b[0m \u001b[0mname_data_B0Ds\u001b[0m\u001b[0;34m,\u001b[0m \u001b[0mname_folder\u001b[0m\u001b[0;34m=\u001b[0m\u001b[0mname_data\u001b[0m\u001b[0;34m,\u001b[0m\u001b[0;34m\u001b[0m\u001b[0;34m\u001b[0m\u001b[0m\n",
      "\u001b[0;31mNameError\u001b[0m: name 'df_Ds' is not defined"
     ]
    }
   ],
   "source": [
    "plot_hist_fit_particle(df_Ds,'B0_M', models = [model_B0Ds, gaussianS_B0Ds_ext, gaussian_B0Ds_ext, exponential_B0Ds_ext],\n",
    "                       name_models = [\"\", '\\n $B^0\\\\to D^*D_s$','\\n $B^0\\\\to D^*D_s h$',\n",
    "                                      '\\n (combinatorial)'],\n",
    "                       obs=obs_B0Ds, n_bins = 100,mode_hist = False,\n",
    "                       name_data = name_data_B0Ds, name_folder=name_data,\n",
    "                       colors=['b','r','magenta','y'], weights=weights.sig,\n",
    "                       params=params_B0Ds,name_params=name_params_B0Ds,\n",
    "                       colWidths=[0.05,0.01,0.05,0.04],\n",
    "                       fontsize_res = 18.,\n",
    "                       fontsize_leg=15)"
   ]
  },
  {
   "cell_type": "code",
   "execution_count": 19,
   "metadata": {},
   "outputs": [
    {
     "name": "stdout",
     "output_type": "stream",
     "text": [
      "parameters saved in /afs/cern.ch/user/c/correian/bd2dst3pi/output/json/all_data_strip_cutDeltaM_Ds_weighted_V8_params.json\n"
     ]
    }
   ],
   "source": [
    "save_params(params_B0Ds, name_data_B0Ds, True)"
   ]
  },
  {
   "cell_type": "markdown",
   "metadata": {},
   "source": [
    "## Fit on the full `B0_M`"
   ]
  },
  {
   "cell_type": "code",
   "execution_count": 5,
   "metadata": {},
   "outputs": [],
   "source": [
    "low = 5150.\n",
    "high = 5550."
   ]
  },
  {
   "cell_type": "markdown",
   "metadata": {},
   "source": [
    "### Data"
   ]
  },
  {
   "cell_type": "code",
   "execution_count": 6,
   "metadata": {},
   "outputs": [],
   "source": [
    "# Result of the fit on the MC D0S->D*pipipi data with one of the pi misidentified as a kaon\n",
    "with open(f'{loc.JSON}/data_KPiPi_2_params.json', 'r') as f:\n",
    "    data_KPiPi_params = json.load(f)\n",
    "\n",
    "for var in 'muL', 'muR', 'sigmaL', 'sigmaR': # conversion GeV -> MeV\n",
    "    data_KPiPi_params[var] = data_KPiPi_params[var]*1000\n",
    "    data_KPiPi_params[f\"{var}_err\"] = data_KPiPi_params[f\"{var}_err\"]*1000    \n",
    "    \n",
    "# Result of the previous fit on the B0_M sWeighted distribution with cut on tau_M around m(Ds)\n",
    "with open(f'{loc.JSON}/{name_data_B0Ds}_params.json', 'r') as f:\n",
    "    data_B0Ds_params = json.load(f)\n",
    "    \n",
    "# Result of the fit on the MC signal data\n",
    "with open(f'{loc.JSON}/MC_params.json', 'r') as f:\n",
    "    MC_param_results = json.load(f)"
   ]
  },
  {
   "cell_type": "markdown",
   "metadata": {},
   "source": [
    "### Distribution"
   ]
  },
  {
   "cell_type": "code",
   "execution_count": 7,
   "metadata": {
    "scrolled": false
   },
   "outputs": [
    {
     "data": {
      "image/png": "[encoded data removed]",
      "text/plain": [
       "<Figure size 576x432 with 1 Axes>"
      ]
     },
     "metadata": {
      "needs_background": "light"
     },
     "output_type": "display_data"
    },
    {
     "name": "stdout",
     "output_type": "stream",
     "text": [
      "/afs/cern.ch/user/c/correian/bd2dst3pi/output/plots/B0_M_all_data_strip_cutDeltaM_V8_fixedTails_B0_cut.pdf\n"
     ]
    }
   ],
   "source": [
    "fct.plot_hist_particle({name_data+'_B0_cut':df},'B0_M',\n",
    "              low = low, high = high,\n",
    "              n_bins = 100, mode_hist = False, colors='black')"
   ]
  },
  {
   "cell_type": "markdown",
   "metadata": {},
   "source": [
    "### Initial values"
   ]
  },
  {
   "cell_type": "code",
   "execution_count": 5,
   "metadata": {},
   "outputs": [
    {
     "ename": "NameError",
     "evalue": "name 'low' is not defined",
     "output_type": "error",
     "traceback": [
      "\u001b[0;31m---------------------------------------------------------------------------\u001b[0m",
      "\u001b[0;31mNameError\u001b[0m                                 Traceback (most recent call last)",
      "\u001b[0;32m<ipython-input-5-5bc30b9f2d0c>\u001b[0m in \u001b[0;36m<module>\u001b[0;34m\u001b[0m\n\u001b[0;32m----> 1\u001b[0;31m \u001b[0mn_events_B0_M\u001b[0m \u001b[0;34m=\u001b[0m \u001b[0mlen\u001b[0m\u001b[0;34m(\u001b[0m\u001b[0mdf\u001b[0m\u001b[0;34m.\u001b[0m\u001b[0mquery\u001b[0m\u001b[0;34m(\u001b[0m\u001b[0;34mf'B0_M > {low} and B0_M < {high}'\u001b[0m\u001b[0;34m)\u001b[0m\u001b[0;34m)\u001b[0m\u001b[0;34m\u001b[0m\u001b[0;34m\u001b[0m\u001b[0m\n\u001b[0m\u001b[1;32m      2\u001b[0m \u001b[0;34m\u001b[0m\u001b[0m\n\u001b[1;32m      3\u001b[0m \u001b[0mn_sig_k\u001b[0m \u001b[0;34m=\u001b[0m \u001b[0;36m58000\u001b[0m\u001b[0;34m\u001b[0m\u001b[0;34m\u001b[0m\u001b[0m\n\u001b[1;32m      4\u001b[0m \u001b[0mn_bkg_k\u001b[0m \u001b[0;34m=\u001b[0m \u001b[0;36m28000\u001b[0m\u001b[0;34m\u001b[0m\u001b[0;34m\u001b[0m\u001b[0m\n\u001b[1;32m      5\u001b[0m \u001b[0mn_bkg2_k\u001b[0m \u001b[0;34m=\u001b[0m \u001b[0;36m590\u001b[0m\u001b[0;34m\u001b[0m\u001b[0;34m\u001b[0m\u001b[0m\n",
      "\u001b[0;31mNameError\u001b[0m: name 'low' is not defined"
     ]
    }
   ],
   "source": [
    "n_events_B0_M = len(df.query(f'B0_M > {low} and B0_M < {high}'))\n",
    "\n",
    "n_sig_k = 58000\n",
    "n_bkg_k = 28000\n",
    "n_bkg2_k = 590\n",
    "n_bkgK_k = 3000\n",
    "\n",
    "initial_values = {\n",
    "    # Signal        \n",
    "    'mu'       :{ 'value': 5279.                         , 'low': 5279.-5.       , 'high': 5279.+5.             , 'floating': True},\n",
    "    'sigmaL'   :{ 'value': 17.9                          , 'low': 17.-15.        , 'high': 17.+15.              , 'floating': True},\n",
    "    'sigmaR'   :{ 'value': 17.9                          , 'low': 17.-15.        , 'high': 17+15.               , 'floating': True},\n",
    "    'alphaL'   :{ 'value': MC_param_results['alphaL_MC'] , 'low': 0.1            , 'high': 10.                  , 'floating': False},\n",
    "    'alphaR'   :{ 'value': -MC_param_results['alphaR_MC'], 'low': -10.            , 'high': -0.1                , 'floating': False},\n",
    "    'nL'       :{ 'value': MC_param_results['nL_MC']     , 'low': 0.1            , 'high': 200.                 , 'floating': False},\n",
    "    'nR'       :{ 'value': MC_param_results['nR_MC']     , 'low': 1.             , 'high': 200.                 , 'floating': False},\n",
    "    'frac'     :{ 'value': 0.5                           , 'low': 0.1              , 'high': 1.                 , 'floating': True},\n",
    "    'n_sig'    :{ 'value': n_sig_k                       , 'low': n_sig_k*0.5    , 'high': n_events_B0_M        , 'floating': True},\n",
    "    # Combinatorial background        \n",
    "    'lambda'   :{ 'value': -0.0008                       , 'low': -0.01          , 'high': -0.00001             , 'floating': True},\n",
    "    'n_bkg'    :{ 'value': n_bkg_k                       , 'low': n_bkg_k*0.5    , 'high': n_events_B0_M        , 'floating': True},\n",
    "    # Partially reconstructed particles        \n",
    "    'mu2'      :{ 'value': mu2_p                         , 'low': 4800.          , 'high': 5150.                , 'floating': False},\n",
    "    'sigma2'   :{ 'value': 80.                           , 'low': 10.            , 'high': 5150.-mu2_p          , 'floating': True},\n",
    "    'n_bkg2'   :{ 'value': n_bkg2_k                      , 'low': 0              , 'high': n_events_B0_M        , 'floating': True},\n",
    "    # Background decay D*Kpipi    \n",
    "#     'n_bkgK'   :{ 'value': n_bkgK_k                      , 'low': 0              , 'high': n_events_B0_M        , 'floating': True},\n",
    "    'r_bkgK'   :{ 'value': n_bkgK_k/n_sig_k              , 'low': 0.0001          , 'high': 0.5                   , 'floating': True},\n",
    "}\n",
    "\n",
    "## More narrow initial conditions\n",
    "# A very little bit faster\n",
    "# initial_values = {\n",
    "#     # Signal        \n",
    "#     'mu'       :{ 'value': 5279.                         , 'low': 5279.-5.       , 'high': 5279.+5.             , 'floating': True},\n",
    "#     'sigmaL'   :{ 'value': 17.9                          , 'low': 10.            , 'high': 25.                  , 'floating': True},\n",
    "#     'sigmaR'   :{ 'value': 17.9                          , 'low': 15.            , 'high': 30.                  , 'floating': True},\n",
    "#     'alphaL'   :{ 'value': MC_param_results['alphaL_MC'] , 'low': 0.1            , 'high': 10.                  , 'floating': False},\n",
    "#     'alphaR'   :{ 'value': -MC_param_results['alphaR_MC'], 'low': -10.           , 'high': -0.1                 , 'floating': False},\n",
    "#     'nL'       :{ 'value': MC_param_results['nL_MC']     , 'low': 0.1            , 'high': 200.                 , 'floating': False},\n",
    "#     'nR'       :{ 'value': MC_param_results['nR_MC']     , 'low': 1.             , 'high': 200.                 , 'floating': False},\n",
    "#     'frac'     :{ 'value': 0.5                           , 'low': 0.1              , 'high': 1.                 , 'floating': True},\n",
    "#     'n_sig'    :{ 'value': n_sig_k                       , 'low': n_sig_k*0.5    , 'high': n_events_B0_M        , 'floating': True},\n",
    "#     # Combinatorial background        \n",
    "#     'lambda'   :{ 'value': -0.0008                       , 'low': -0.001         , 'high': -0.0001             , 'floating': True},\n",
    "#     'n_bkg'    :{ 'value': n_bkg_k                       , 'low': n_bkg_k*0.5    , 'high': n_events_B0_M        , 'floating': True},\n",
    "#     # Partially reconstructed particles        \n",
    "#     'mu2'      :{ 'value': mu2_p                         , 'low': 4800.          , 'high': 5150.                , 'floating': False},\n",
    "#     'sigma2'   :{ 'value': 36.                           , 'low': 10.            , 'high': 60.                  , 'floating': True},\n",
    "#     'n_bkg2'   :{ 'value': n_bkg2_k                      , 'low': 0              , 'high': n_events_B0_M        , 'floating': True},\n",
    "#     # Background decay D*Kpipi    \n",
    "# #     'n_bkgK'   :{ 'value': n_bkgK_k                      , 'low': 0              , 'high': n_events_B0_M        , 'floating': True},\n",
    "#     'r_bkgK'   :{ 'value': n_bkgK_k/n_sig_k              , 'low': 0.001          , 'high': 0.5                   , 'floating': True},\n",
    "# }\n",
    "\n",
    "\n",
    "for var in 'muL', 'muR', 'sigmaL', 'sigmaR', 'nL', 'nR', 'alphaL', 'alphaR', 'nL', 'nR', 'fraction':\n",
    "    initial_values[f'{var}_K'] = {'value': data_KPiPi_params[var], 'low': None, 'high': None, 'floating': False}\n",
    "\n",
    "for var in 'mu', 'sigma', 'n_sig' :\n",
    "    initial_values[f'{var}_B0Ds'] = {'value': data_B0Ds_params[f'{var}_B0Ds'], 'low': None, 'high': None, 'floating': False}"
   ]
  },
  {
   "cell_type": "markdown",
   "metadata": {},
   "source": [
    "### Observables and variables"
   ]
  },
  {
   "cell_type": "code",
   "execution_count": null,
   "metadata": {},
   "outputs": [],
   "source": [
    "obs = zfit.Space(\"x\", limits=(low, high))\n",
    "\n",
    "zparams = {}\n",
    "for var in initial_values.keys():\n",
    "    zparams[var] = zfit.Parameter(var,\n",
    "                                  initial_values[var]['value'], \n",
    "                                  initial_values[var]['low'], \n",
    "                                  initial_values[var]['high'],\n",
    "                                  floating = initial_values[var]['floating'])\n",
    "\n",
    "# Composed parameter\n",
    "mult = lambda r, n: r*n\n",
    "zparams[\"n_bkgK\"] = zfit.ComposedParameter(\"n_bkgK\", mult, params=[zparams['r_bkgK'],zparams['n_sig']])"
   ]
  },
  {
   "cell_type": "code",
   "execution_count": null,
   "metadata": {},
   "outputs": [],
   "source": [
    "name_params = {\n",
    "    # Signal\n",
    "    'mu'      : '$\\mu_S$',\n",
    "    'sigmaL'  : '$\\\\sigma_{L_S}$',\n",
    "    'sigmaR'  : '$\\\\sigma_{R_S}$',    \n",
    "    'alphaL'  : '$\\\\alpha_{L_S}$',\n",
    "    'alphaR'  : '$\\\\alpha_{R_S}$',\n",
    "    'nL'      : '$n_L_S$',\n",
    "    'nR'      : '$n_R_S$',\n",
    "    'frac'    : '$f_{S, \\\\frac{L}{R}}$',\n",
    "    'n_sig'   : '$n_S$',\n",
    "    # Combinatorial background\n",
    "    'n_bkg'   : '$n_{B,c}$',\n",
    "    'lambda'  : '$\\\\lambda_{B,c}$',\n",
    "    # Partially reconstructed brackground\n",
    "    'mu2'     : '$\\\\mu_{B,D^*3\\pi h}$',\n",
    "    'sigma2'  : '$\\\\sigma_{B,D^*3\\pi h}$',\n",
    "    'n_bkg2'  : '$n_{B,D^*3\\pi h}$',\n",
    "    # Background decay D*Kpipi    \n",
    "    'n_bkgK'  : '$n_{B,D^*K\\pi\\pi}$',\n",
    "    'r_bkgK'  : '$\\\\frac{n_{B,D^*K\\pi\\pi}}{n_S}$',\n",
    "}\n"
   ]
  },
  {
   "cell_type": "markdown",
   "metadata": {},
   "source": [
    "### PDFs"
   ]
  },
  {
   "cell_type": "code",
   "execution_count": null,
   "metadata": {},
   "outputs": [],
   "source": [
    "def crystall_ball_gaussian(mu, sigma, obs, alpha=None, n=None):\n",
    "    if alpha is None or n is None:\n",
    "        pdf = zfit.pdf.Gauss(mu, sigma, obs=obs)\n",
    "    else:\n",
    "        pdf = zfit.pdf.CrystalBall(mu, sigma, alpha, n, obs=obs)\n",
    "    return pdf\n",
    "\n",
    "def sum_crystalball(muL, muR, sigmaL, sigmaR, frac, obs, alphaL=None, alphaR=None, nL=None, nR=None):\n",
    "    \"\"\" Return the sum of 2 crystall ball PDFs.\n",
    "    If the alpha or n is None, the corresponding distribution is a gaussian.\n",
    "    \"\"\"\n",
    "    pdfL = crystall_ball_gaussian(muL, sigmaL, obs,\n",
    "                                         alphaL,nL)\n",
    "    pdfR = crystall_ball_gaussian(muR, sigmaR, obs,\n",
    "                                         alphaR, nR)\n",
    "    \n",
    "    model = zfit.pdf.SumPDF([pdfL, pdfR], fracs=frac)\n",
    "    \n",
    "    return model, pdfL, pdfR"
   ]
  },
  {
   "cell_type": "code",
   "execution_count": null,
   "metadata": {},
   "outputs": [],
   "source": [
    "model_S, crystalBallL_S, crystalBallR_S = sum_crystalball(zparams['mu'], zparams['mu'],\n",
    "                                                          zparams['sigmaL'], zparams['sigmaR'],\n",
    "                                                          zparams['frac'], obs,                                                          \n",
    "                                                          zparams['alphaL'], zparams['alphaR'], \n",
    "                                                          zparams['nL'], zparams['nR']\n",
    "                                                         )\n",
    "\n",
    "\n",
    "gaussian_B0Ds = zfit.pdf.Gauss(zparams['mu_B0Ds'],zparams['sigma_B0Ds'],obs=obs)\n",
    "\n",
    "model_K, crystalBallL_K, crystalBallR_K = sum_crystalball(zparams['muL_K'], zparams['muR_K'], \n",
    "                                                          zparams['sigmaL_K'], zparams['sigmaR_K'],\n",
    "                                                          zparams['fraction_K'], obs,\n",
    "                                                          zparams['alphaL_K'], zparams['alphaR_K'], \n",
    "                                                          zparams['nL_K'], zparams['nR_K'])\n",
    "\n",
    "exponential = zfit.pdf.Exponential(zparams['lambda'], obs=obs)\n",
    "gaussian = zfit.pdf.Gauss(zparams['mu2'],zparams['sigma2'],obs=obs)\n",
    "\n",
    "\n",
    "model_S_ext = model_S.create_extended(zparams['n_sig'])\n",
    "exp_ext = exponential.create_extended(zparams['n_bkg'])\n",
    "gaussian_ext = gaussian.create_extended(zparams['n_bkg2'])\n",
    "gaussian_B0Ds_ext = gaussian_B0Ds.create_extended(zparams['n_sig_B0Ds'])\n",
    "model_K_ext = model_K.create_extended(zparams['n_bkgK'])\n",
    "\n",
    "model = zfit.pdf.SumPDF([model_S_ext, gaussian_B0Ds_ext, gaussian_ext, model_K_ext, exp_ext]) # gauss is folded by frac\n",
    "data = zfit.Data.from_pandas(df['B0_M'], obs=obs)"
   ]
  },
  {
   "cell_type": "markdown",
   "metadata": {},
   "source": [
    "### Fit"
   ]
  },
  {
   "cell_type": "code",
   "execution_count": null,
   "metadata": {
    "scrolled": false
   },
   "outputs": [],
   "source": [
    "import timeit\n",
    "start = timeit.default_timer()\n",
    "result, params = launch_fit(model, data, extended=True)\n",
    "stop = timeit.default_timer()\n",
    "print('Time to do the fit: ', stop - start) "
   ]
  },
  {
   "cell_type": "markdown",
   "metadata": {},
   "source": [
    "**$\\alpha_R$ can vary**\n",
    "\n",
    "    ------------------------------------------------------------------\n",
    "    | FCN = -4.257e+05              |    Ncalls=1248 (1248 total)    |\n",
    "    | EDM = 0.00017 (Goal: 0.001)   |            up = 0.5            |\n",
    "    ------------------------------------------------------------------\n",
    "    |  Valid Min.   | Valid Param.  | Above EDM | Reached call limit |\n",
    "    ------------------------------------------------------------------\n",
    "    |     True      |     True      |   False   |       False        |\n",
    "    ------------------------------------------------------------------\n",
    "    | Hesse failed  |   Has cov.    | Accurate  | Pos. def. | Forced |\n",
    "    ------------------------------------------------------------------\n",
    "    |     False     |     True      |   True    |   True    | False  |\n",
    "    ------------------------------------------------------------------\n",
    "    name         value    minuit_hesse         minuit_minos    at limit\n",
    "    ------  ----------  --------------  -------------------  ----------\n",
    "    n_sig        52920     +/- 4.6e+02  -4.6e+02   +4.8e+02       False\n",
    "    n_bkg2       529.3     +/- 1.1e+02  -1.1e+02   +1.3e+02       False\n",
    "    r_bkgK     0.06047     +/-  0.0076  - 0.0081   + 0.0077       False\n",
    "    n_bkg        27600     +/- 5.9e+02  -6.6e+02   +6.8e+02       False\n",
    "    frac        0.3079     +/-   0.045  -  0.042   +  0.046       False\n",
    "    mu            5280     +/-    0.11  -   0.12   +   0.11       False\n",
    "    sigmaL       12.82     +/-     0.7  -   0.67   +    0.7       False\n",
    "    alphaR      -1.666     +/-   0.093  -  0.094   +  0.093       False\n",
    "    sigmaR       21.16     +/-    0.34  -   0.32   +   0.35       False\n",
    "    sigma2       36.08     +/-     4.5  -    4.3   +    5.1       False\n",
    "    lambda  -0.0003618     +/- 0.00016  -0.00019   +0.00019       False\n",
    "    Time to do the fit:  109.48165091499686\n",
    "\n",
    "\n",
    "**$\\alpha_L$ and $\\alpha_R$ can vary**\n",
    "\n",
    "Result of the 1st fit\n",
    "\n",
    "    ------------------------------------------------------------------\n",
    "    | FCN = -4.257e+05              |    Ncalls=1291 (1291 total)    |\n",
    "    | EDM = 0.000767 (Goal: 0.001)  |            up = 0.5            |\n",
    "    ------------------------------------------------------------------\n",
    "    |  Valid Min.   | Valid Param.  | Above EDM | Reached call limit |\n",
    "    ------------------------------------------------------------------\n",
    "    |     True      |     True      |   False   |       False        |\n",
    "    ------------------------------------------------------------------\n",
    "    | Hesse failed  |   Has cov.    | Accurate  | Pos. def. | Forced |\n",
    "    ------------------------------------------------------------------\n",
    "    |     False     |     True      |   True    |   True    | False  |\n",
    "    ------------------------------------------------------------------\n",
    "    name         value    minuit_hesse         minuit_minos    at limit\n",
    "    ------  ----------  --------------  -------------------  ----------\n",
    "    n_sig        56520     +/- 5.2e+02  -5.9e+02   +5.2e+02       False\n",
    "    n_bkg2       739.8     +/- 1.7e+02  -1.6e+02   +1.9e+02       False\n",
    "    r_bkgK   3.793e-07     +/- 0.00011  - 0.0076   + 0.0063       False\n",
    "    n_bkg        26990     +/- 5.3e+02  -5.3e+02   +6.5e+02       False\n",
    "    frac        0.4716     +/-   0.078  -  0.055   +  0.078       False\n",
    "    alphaL      0.8723     +/-    0.15  -   0.11   +   0.15       False\n",
    "    mu            5279     +/-    0.16  -   0.17   +   0.17       False\n",
    "    sigmaL       17.46     +/-    0.65  -   0.65   +   0.65       False\n",
    "    alphaR      -1.193     +/-   0.084  -  0.069   +  0.084       False\n",
    "    sigmaR       17.38     +/-    0.43  -   0.35   +   0.43       False\n",
    "    sigma2       41.38     +/-     5.4  -      5   +    5.4       False\n",
    "    lambda  -0.0002177     +/- 0.00015  -0.00018   +0.00018       False\n",
    "    Time to do the fit:  274.34758268200676\n",
    "\n",
    "Result of the 2nd fit\n",
    "\n",
    "    ------------------------------------------------------------------\n",
    "    | FCN = -4.257e+05              |     Ncalls=202 (202 total)     |\n",
    "    | EDM = 0.000487 (Goal: 0.001)  |            up = 0.5            |\n",
    "    ------------------------------------------------------------------\n",
    "    |  Valid Min.   | Valid Param.  | Above EDM | Reached call limit |\n",
    "    ------------------------------------------------------------------\n",
    "    |     True      |     True      |   False   |       False        |\n",
    "    ------------------------------------------------------------------\n",
    "    | Hesse failed  |   Has cov.    | Accurate  | Pos. def. | Forced |\n",
    "    ------------------------------------------------------------------\n",
    "    |     False     |     True      |   True    |   True    | False  |\n",
    "    ------------------------------------------------------------------\n",
    "    name         value    minuit_hesse         minuit_minos    at limit\n",
    "    ------  ----------  --------------  -------------------  ----------\n",
    "    n_sig        56520     +/- 5.2e+02  -5.2e+02   +5.2e+02       False\n",
    "    n_bkg2       740.2     +/- 1.8e+02  -1.6e+02   +1.8e+02       False\n",
    "    r_bkgK   2.981e-08     +/- 2.9e-05  - 0.0071   + 0.0062       False\n",
    "    n_bkg        26990     +/- 5.4e+02  -5.4e+02   +6.5e+02       False\n",
    "    frac        0.4716     +/-   0.073  -  0.055   +  0.061       False\n",
    "    alphaL      0.8723     +/-    0.14  -   0.11   +   0.14       False\n",
    "    mu            5279     +/-    0.17  -   0.17   +   0.17       False\n",
    "    sigmaL       17.46     +/-    0.62  -   0.62   +   0.65       False\n",
    "    alphaR      -1.193     +/-    0.08  -  0.069   +   0.08       False\n",
    "    sigmaR       17.38     +/-     0.4  -   0.35   +    0.4       False\n",
    "    sigma2       41.35     +/-     5.5  -      5   +    5.8       False\n",
    "    lambda  -0.0002176     +/- 0.00015  -0.00018   +0.00018       False\n",
    "    Time to do the fit:  205.58939155300322\n",
    "\n",
    "**All the left tail parameters are fixed**\n",
    "\n",
    "    ------------------------------------------------------------------\n",
    "    | FCN = -4.257e+05              |     Ncalls=901 (901 total)     |\n",
    "    | EDM = 0.000406 (Goal: 0.001)  |            up = 0.5            |\n",
    "    ------------------------------------------------------------------\n",
    "    |  Valid Min.   | Valid Param.  | Above EDM | Reached call limit |\n",
    "    ------------------------------------------------------------------\n",
    "    |     True      |     True      |   False   |       False        |\n",
    "    ------------------------------------------------------------------\n",
    "    | Hesse failed  |   Has cov.    | Accurate  | Pos. def. | Forced |\n",
    "    ------------------------------------------------------------------\n",
    "    |     False     |     True      |   True    |   True    | False  |\n",
    "    ------------------------------------------------------------------\n",
    "    name         value    minuit_hesse    at limit\n",
    "    ------  ----------  --------------  ----------\n",
    "    n_sig        51950     +/- 3.9e+02       False\n",
    "    n_bkg2       374.4     +/-      98       False\n",
    "    r_bkgK     0.03279     +/-  0.0077       False\n",
    "    n_bkg        30230     +/- 4.9e+02       False\n",
    "    frac         0.366     +/-   0.045       False\n",
    "    mu            5280     +/-    0.11       False\n",
    "    sigmaL       12.93     +/-    0.54       False\n",
    "    sigmaR       21.82     +/-    0.38       False\n",
    "    sigma2       33.46     +/-     5.1       False\n",
    "    lambda  -0.0009778     +/- 0.00013       False\n",
    "    Time to do the fit:  21.091739206109196\n",
    "\n"
   ]
  },
  {
   "cell_type": "code",
   "execution_count": null,
   "metadata": {
    "scrolled": false
   },
   "outputs": [],
   "source": [
    "name_data_plot = name_data + '_details'\n",
    "plot_hist_fit_particle(df,'B0_M', models = [model,[model_S_ext, crystalBallL_S, crystalBallR_S], gaussian_B0Ds_ext, gaussian_ext, model_K_ext,exp_ext],\n",
    "                       name_models = [\"\", '\\n $B^0\\\\to D^* 3\\pi$','\\n $B^0\\\\to D^*D_s$','\\n $B^0\\\\to D^*3\\pi h$',\n",
    "                                      '\\n $B^0\\\\to D^* K \\pi^+\\pi^-$','\\n (combinatorial)'],\n",
    "                       obs=obs, n_bins = 100,mode_hist = False,\n",
    "                       name_data = name_data_plot, name_folder=name_data,\n",
    "                       colors=['b','g','r','m','cyan','y'],\n",
    "                       params=params,name_params=name_params,\n",
    "                       fontsize_leg=13.5,\n",
    "                       colWidths=[0.06,0.01,0.05,0.06]\n",
    "                      )\n",
    "name_data_plot = name_data\n",
    "plot_hist_fit_particle(df,'B0_M', models = [model,model_S_ext, gaussian_B0Ds_ext, gaussian_ext, model_K_ext,exp_ext],\n",
    "                       name_models = [\"\", '\\n $B^0\\\\to D^* 3\\pi$','\\n $B^0\\\\to D^*D_s$','\\n $B^0\\\\to D^*3\\pi h$',\n",
    "                                      '\\n $B^0\\\\to D^* K \\pi^+\\pi^-$','\\n (combinatorial)'],\n",
    "                       obs=obs, n_bins = 100,mode_hist = False,\n",
    "                       name_data = name_data_plot, name_folder=name_data,\n",
    "                       colors=['b','g','r','m','cyan','y'],\n",
    "                       params=params,name_params=name_params,\n",
    "                       fontsize_leg=13.5,\n",
    "                       colWidths=[0.06,0.01,0.05,0.06]\n",
    "                      )"
   ]
  },
  {
   "cell_type": "code",
   "execution_count": null,
   "metadata": {
    "scrolled": false
   },
   "outputs": [],
   "source": [
    "save_params(params,name_data, True)"
   ]
  },
  {
   "cell_type": "code",
   "execution_count": null,
   "metadata": {},
   "outputs": [],
   "source": []
  }
 ],
 "metadata": {
  "kernelspec": {
   "display_name": "bd2dst3pi_env",
   "language": "python",
   "name": "bd2dst3pi_env"
  },
  "language_info": {
   "codemirror_mode": {
    "name": "ipython",
    "version": 3
   },
   "file_extension": ".py",
   "mimetype": "text/x-python",
   "name": "python",
   "nbconvert_exporter": "python",
   "pygments_lexer": "ipython3",
   "version": "3.7.8"
  }
 },
 "nbformat": 4,
 "nbformat_minor": 4
}
