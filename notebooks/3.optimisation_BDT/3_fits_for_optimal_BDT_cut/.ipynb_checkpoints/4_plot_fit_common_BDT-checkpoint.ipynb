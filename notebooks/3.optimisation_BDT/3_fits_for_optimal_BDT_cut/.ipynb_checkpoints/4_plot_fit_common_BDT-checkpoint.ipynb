{
 "cells": [
  {
   "cell_type": "markdown",
   "metadata": {},
   "source": [
    "# Without sWeights: `common_B0TODst3pi_Dst_constr_BDT-1.25`\n",
    "\n",
    "# Plot the fit\n",
    "    \n",
    "I just want to recreate the figure of the fit to $m(3\\pi)$ around $m(D^*)_{PDG}$ with BDT > -1.25, with the colors I cherish.\n"
   ]
  },
  {
   "cell_type": "code",
   "execution_count": 12,
   "metadata": {},
   "outputs": [],
   "source": [
    "name_data = 'common_B0TODst3pi_Dst_constr'\n",
    "name_data_B0toDstDs = 'common_B0TODstDs_Dst_constr'\n",
    "\n",
    "name_data_Dstto3pi = 'common_DstTO3pi' # same as sWeights as the unconstrained case\n",
    "\n",
    "name_BDT = 'gradient'\n",
    "\n",
    "name_data_MC = 'MC_constr_opposedCB_sharedMean'\n",
    "name_data_KPiPi = \"data_KPiPi_constr\"\n",
    "\n",
    "BDT = -1.25\n",
    "\n",
    "name_data_BDT = name_data + f'_BDT{BDT}'\n",
    "name_data_B0toDstDs_BDT = name_data_B0toDstDs + f'_BDT{BDT}'"
   ]
  },
  {
   "cell_type": "markdown",
   "metadata": {},
   "source": [
    "## Import"
   ]
  },
  {
   "cell_type": "code",
   "execution_count": 13,
   "metadata": {
    "scrolled": false
   },
   "outputs": [],
   "source": [
    "import zfit\n",
    "import json\n",
    "import numpy as np\n",
    "import timeit\n",
    "\n",
    "from numpy.random import normal\n",
    "\n",
    "from math import sqrt\n",
    "\n",
    "from bd2dst3pi.locations import loc\n",
    "from bd2dst3pi.definitions import years, magnets\n",
    "\n",
    "import sys\n",
    "sys.path.append(loc.SCRIPTS)\n",
    "\n",
    "import sys\n",
    "sys.path.append(loc.SCRIPTS)\n",
    "from load_save_data import load_saved_root, load_data, add_constr_Dst, json_to_latex_table, retrieve_params, format_previous_params\n",
    "import plot.histogram as h\n",
    "from plot.fit import plot_hist_fit_particle\n",
    "from fit import define_zparams, sum_crystalball\n",
    "from variables import name_params, name_params_KPiPi"
   ]
  },
  {
   "cell_type": "code",
   "execution_count": 3,
   "metadata": {},
   "outputs": [],
   "source": [
    "name_params_KPiPi_print = {}\n",
    "for key, value in name_params_KPiPi.items():\n",
    "    name_params_KPiPi_print[key+'_Kpipi'] = name_params_KPiPi[key]"
   ]
  },
  {
   "cell_type": "markdown",
   "metadata": {},
   "source": [
    "## Load"
   ]
  },
  {
   "cell_type": "markdown",
   "metadata": {},
   "source": [
    "### Json files"
   ]
  },
  {
   "cell_type": "code",
   "execution_count": 4,
   "metadata": {},
   "outputs": [],
   "source": [
    "name_data_BDT = f\"{name_data}_BDT{BDT}\"\n",
    "name_data_B0toDstDs_BDT = f\"{name_data_B0toDstDs}_BDT{BDT}\"\n",
    "\n",
    "# Fixed alphaL, alphaR and nL\n",
    "common_params = retrieve_params(name_data, name_folder=name_data)\n",
    "# Fixed nR\n",
    "MC_params = retrieve_params(name_data_MC, name_folder='MC')\n",
    "\n",
    "# B0->DstKPiPi\n",
    "Kpipi_params = retrieve_params(name_data_KPiPi, name_folder='data_KPiPi') # already in MeV \n",
    "\n",
    "# common with BDT cut (for startning values of the fit)\n",
    "pipipi_params = format_previous_params(retrieve_params(name_data_BDT, name_folder=name_data), True)\n",
    "# B0->DstDs with BDT cut (for the B0->DstDs PDF shape)\n",
    "DstDs_params = format_previous_params(retrieve_params(name_data_B0toDstDs_BDT, name_folder=name_data_B0toDstDs), True) "
   ]
  },
  {
   "cell_type": "markdown",
   "metadata": {},
   "source": [
    "Load \n",
    "- `f_params_dict['1']` - the fixed parameters that will be changed in **mode 1**\n",
    "- `f_params_dict['2']`  - the fixed parameters that will be changed in **mode 2**"
   ]
  },
  {
   "cell_type": "code",
   "execution_count": 5,
   "metadata": {},
   "outputs": [],
   "source": [
    "f_params = {} # fixed parameters\n",
    "\n",
    "for param in 'alphaL', 'alphaR', 'nL', 'r_bkgK':\n",
    "    f_params[param] = common_params[param] # nominal value\n",
    "\n",
    "f_params['nR'] = {}\n",
    "f_params['nR']= MC_params['nR_MC']\n",
    "\n",
    "for param in 'muL', 'muR', 'nL', 'nR', 'alphaR', 'alphaL', 'sigmaL', 'sigmaR', 'fraction':\n",
    "    f_params[param+'_Kpipi'] = Kpipi_params[param]\n"
   ]
  },
  {
   "cell_type": "code",
   "execution_count": 6,
   "metadata": {
    "scrolled": true
   },
   "outputs": [
    {
     "name": "stdout",
     "output_type": "stream",
     "text": [
      "/afs/cern.ch/user/c/correian/bd2dst3pi/output//root/common/common_gradient.root\n"
     ]
    }
   ],
   "source": [
    "df = load_saved_root('common_'+name_BDT, name_folder='common', vars=['B0_M', 'Dst_M', 'BDT'])\n",
    "df = df.query(f\"BDT > {BDT}\")\n",
    "df = add_constr_Dst(df)"
   ]
  },
  {
   "cell_type": "code",
   "execution_count": 7,
   "metadata": {},
   "outputs": [
    {
     "name": "stdout",
     "output_type": "stream",
     "text": [
      "/afs/cern.ch/user/c/correian/bd2dst3pi/output/plots/BDT_data_cut_-1.25\n"
     ]
    },
    {
     "data": {
      "text/plain": [
       "(<Figure size 576x432 with 1 Axes>,\n",
       " <AxesSubplot:xlabel='BDT', ylabel='Candidates / (0.07)'>)"
      ]
     },
     "execution_count": 7,
     "metadata": {},
     "output_type": "execute_result"
    },
    {
     "data": {
      "image/png": "[encoded data removed]",
      "text/plain": [
       "<Figure size 576x432 with 1 Axes>"
      ]
     },
     "metadata": {
      "needs_background": "light"
     },
     "output_type": "display_data"
    }
   ],
   "source": [
    "h.plot_hist_particle({'data\\_cut\\_-1.25': df},'BDT',\n",
    "              n_bins = 100, mode_hist = False, colors=['orange', 'cyan'], pos_text_LHC=[0.1,0.2,'left'])"
   ]
  },
  {
   "cell_type": "markdown",
   "metadata": {},
   "source": [
    "## Range of the variables"
   ]
  },
  {
   "cell_type": "markdown",
   "metadata": {},
   "source": [
    "### Constrained $m(D^* 3\\pi)$ of the `common` data"
   ]
  },
  {
   "cell_type": "code",
   "execution_count": 7,
   "metadata": {},
   "outputs": [],
   "source": [
    "var = 'Dst_constr_B0_M'\n",
    "low = 5150.\n",
    "high = 5545."
   ]
  },
  {
   "cell_type": "markdown",
   "metadata": {},
   "source": [
    "## PLOT"
   ]
  },
  {
   "cell_type": "markdown",
   "metadata": {},
   "source": [
    "### Values"
   ]
  },
  {
   "cell_type": "code",
   "execution_count": 8,
   "metadata": {},
   "outputs": [],
   "source": [
    "initial_values = {\n",
    "    # Signal        \n",
    "    'mu'       :{ 'value': pipipi_params['mu']       , 'floating': True},\n",
    "    'sigmaL'   :{ 'value': pipipi_params['sigmaL']   , 'floating': True},\n",
    "    'sigmaR'   :{ 'value': pipipi_params['sigmaR']   , 'floating': True},\n",
    "    'frac'     :{ 'value': pipipi_params['frac']     , 'floating': True},\n",
    "    'n_sig'    :{ 'value': pipipi_params['n_sig']    , 'floating': True},\n",
    "    # Combinatorial background        \n",
    "    'lambda'   :{ 'value': pipipi_params['lambda']   , 'floating': True},\n",
    "    'n_bkg'    :{ 'value': pipipi_params['n_bkg']    , 'floating': True},\n",
    "    # Background decay D*Kpipi    \n",
    "}\n",
    "\n",
    "# Fixed parameters:\n",
    "for param, value_param in f_params.items():\n",
    "    initial_values[param] = {}\n",
    "    initial_values[param]['value'] = value_param\n",
    "    initial_values[param]['floating'] = False\n",
    "\n",
    "# B0 -> D* Ds distribution\n",
    "for vari in 'mu', 'sigma', 'n_sig' :\n",
    "    initial_values[f'{vari}_Ds'] = {'value': DstDs_params[f'{vari}_DstDs'], 'floating': False}"
   ]
  },
  {
   "cell_type": "markdown",
   "metadata": {},
   "source": [
    "### Observables and variables"
   ]
  },
  {
   "cell_type": "code",
   "execution_count": 9,
   "metadata": {},
   "outputs": [],
   "source": [
    "obs = zfit.Space(\"x\", limits=(low, high))\n",
    "\n",
    "zparams = define_zparams(initial_values)\n",
    "\n",
    "mult = lambda r, n: r*n\n",
    "zparams[\"n_bkgK\"] = zfit.ComposedParameter(f\"n_bkgK\", mult, params=[zparams['r_bkgK'],zparams['n_sig']])    "
   ]
  },
  {
   "cell_type": "markdown",
   "metadata": {},
   "source": [
    "### PDFs"
   ]
  },
  {
   "cell_type": "code",
   "execution_count": 10,
   "metadata": {},
   "outputs": [],
   "source": [
    "model_S, crystalBallL_S, crystalBallR_S = sum_crystalball(zparams['mu'], zparams['mu'],\n",
    "                                                          zparams['sigmaL'], zparams['sigmaR'],\n",
    "                                                          zparams['frac'], obs,                                                          \n",
    "                                                          zparams['alphaL'], zparams['alphaR'], \n",
    "                                                          zparams['nL'], zparams['nR']\n",
    "                                                         )\n",
    "\n",
    "\n",
    "gaussian_Ds = zfit.pdf.Gauss(zparams['mu_Ds'],zparams['sigma_Ds'],obs=obs)\n",
    "\n",
    "model_K, crystalBallL_K, crystalBallR_K = sum_crystalball(zparams['muL_Kpipi'], zparams['muR_Kpipi'], \n",
    "                                                          zparams['sigmaL_Kpipi'], zparams['sigmaR_Kpipi'],\n",
    "                                                          zparams['fraction_Kpipi'], obs,\n",
    "                                                          zparams['alphaL_Kpipi'], zparams['alphaR_Kpipi'], \n",
    "                                                          zparams['nL_Kpipi'], zparams['nR_Kpipi'])\n",
    "\n",
    "exponential = zfit.pdf.Exponential(zparams['lambda'], obs=obs)\n",
    "\n",
    "\n",
    "model_S_ext = model_S.create_extended(zparams['n_sig'])\n",
    "exp_ext = exponential.create_extended(zparams['n_bkg'])\n",
    "gaussian_Ds_ext = gaussian_Ds.create_extended(zparams['n_sig_Ds'])\n",
    "model_K_ext = model_K.create_extended(zparams['n_bkgK'])\n",
    "\n",
    "model = zfit.pdf.SumPDF([model_S_ext, gaussian_Ds_ext, model_K_ext, exp_ext]) # gauss is folded by frac"
   ]
  },
  {
   "cell_type": "markdown",
   "metadata": {},
   "source": [
    "### Plotting"
   ]
  },
  {
   "cell_type": "code",
   "execution_count": 11,
   "metadata": {},
   "outputs": [
    {
     "name": "stderr",
     "output_type": "stream",
     "text": [
      "/afs/cern.ch/user/c/correian/bd2dst3pi/scripts/plot/fit.py:539: UserWarning: The function <function Space.limits at 0x7f6c7ad3a710> may does not return the actual area/limits but rather the rectangular limits. <zfit Space obs=('x',), axes=None, limits=(array([[5150.]]), array([[5545.]]))> can also have functional limits that are arbitrarily defined and lay inside the rect_limits. To test if a value is inside, use `inside` or `filter`.\n",
      "  low = float(obs.limits[0])\n",
      "/afs/cern.ch/user/c/correian/bd2dst3pi/scripts/plot/fit.py:45: UserWarning: The function <function Space.area at 0x7f6c7ad3fb00> may does not return the actual area/limits but rather the rectangular limits. <zfit Space obs=('x',), axes=None, limits=(array([[5150.]]), array([[5545.]]))> can also have functional limits that are arbitrarily defined and lay inside the rect_limits. To test if a value is inside, use `inside` or `filter`.\n",
      "  return counts.sum() * obs.area() / n_bins\n"
     ]
    },
    {
     "name": "stdout",
     "output_type": "stream",
     "text": [
      "WARNING:tensorflow:5 out of the last 9 calls to <function crystalball_func at 0x7f6c74769050> triggered tf.function retracing. Tracing is expensive and the excessive number of tracings could be due to (1) creating @tf.function repeatedly in a loop, (2) passing tensors with different shapes, (3) passing Python objects instead of tensors. For (1), please define your @tf.function outside of the loop. For (2), @tf.function has experimental_relax_shapes=True option that relaxes argument shapes that can avoid unnecessary retracing. For (3), please refer to https://www.tensorflow.org/tutorials/customization/performance#python_or_tensor_args and https://www.tensorflow.org/api_docs/python/tf/function for  more details.\n",
      "WARNING:tensorflow:6 out of the last 10 calls to <function crystalball_func at 0x7f6c74769050> triggered tf.function retracing. Tracing is expensive and the excessive number of tracings could be due to (1) creating @tf.function repeatedly in a loop, (2) passing tensors with different shapes, (3) passing Python objects instead of tensors. For (1), please define your @tf.function outside of the loop. For (2), @tf.function has experimental_relax_shapes=True option that relaxes argument shapes that can avoid unnecessary retracing. For (3), please refer to https://www.tensorflow.org/tutorials/customization/performance#python_or_tensor_args and https://www.tensorflow.org/api_docs/python/tf/function for  more details.\n",
      "WARNING:tensorflow:7 out of the last 11 calls to <function crystalball_func at 0x7f6c74769050> triggered tf.function retracing. Tracing is expensive and the excessive number of tracings could be due to (1) creating @tf.function repeatedly in a loop, (2) passing tensors with different shapes, (3) passing Python objects instead of tensors. For (1), please define your @tf.function outside of the loop. For (2), @tf.function has experimental_relax_shapes=True option that relaxes argument shapes that can avoid unnecessary retracing. For (3), please refer to https://www.tensorflow.org/tutorials/customization/performance#python_or_tensor_args and https://www.tensorflow.org/api_docs/python/tf/function for  more details.\n",
      "WARNING:tensorflow:7 out of the last 11 calls to <function crystalball_func at 0x7f6c74769050> triggered tf.function retracing. Tracing is expensive and the excessive number of tracings could be due to (1) creating @tf.function repeatedly in a loop, (2) passing tensors with different shapes, (3) passing Python objects instead of tensors. For (1), please define your @tf.function outside of the loop. For (2), @tf.function has experimental_relax_shapes=True option that relaxes argument shapes that can avoid unnecessary retracing. For (3), please refer to https://www.tensorflow.org/tutorials/customization/performance#python_or_tensor_args and https://www.tensorflow.org/api_docs/python/tf/function for  more details.\n",
      "Number of d.o.f. in the model:  7\n",
      "Reduced chi2:  1.7177543588766973\n"
     ]
    },
    {
     "name": "stderr",
     "output_type": "stream",
     "text": [
      "findfont: Font family ['serif'] not found. Falling back to DejaVu Sans.\n"
     ]
    },
    {
     "name": "stdout",
     "output_type": "stream",
     "text": [
      "/afs/cern.ch/user/c/correian/bd2dst3pi/output/plots/common_B0TODst3pi_Dst_constr/Dst_constr_B0_M_common_B0TODst3pi_Dst_constr_BDT-1.25_fit\n"
     ]
    },
    {
     "data": {
      "text/plain": [
       "(<Figure size 864x720 with 2 Axes>,\n",
       " <AxesSubplot:xlabel='$m$($D^*3\\\\pi|m(D_s)$=2010.26 MeV/$c^2$) [MeV/$c^2$]', ylabel='Candidates / (4 MeV/$c^2$)'>,\n",
       " <AxesSubplot:ylabel='residuals / $\\\\sigma$'>)"
      ]
     },
     "execution_count": 11,
     "metadata": {},
     "output_type": "execute_result"
    },
    {
     "data": {
      "image/png": "[encoded data removed]",
      "text/plain": [
       "<Figure size 864x720 with 2 Axes>"
      ]
     },
     "metadata": {
      "needs_background": "light"
     },
     "output_type": "display_data"
    }
   ],
   "source": [
    "name_data_plot = name_data + f'_BDT{BDT}'\n",
    "plot_hist_fit_particle(df,var, models = [model, model_S_ext, gaussian_Ds_ext, model_K_ext,exp_ext],\n",
    "                      name_models = [\"\", '\\n $B^0\\\\to D^{*-} 3\\pi$','\\n $B^0\\\\to D^{*-}D_s^+$',\n",
    "                                      '\\n $B^0\\\\to D^{*-} K^+ \\pi^+\\pi^-$','\\n Combinatorial'],\n",
    "                       obs=obs, n_bins = 90,mode_hist = False,\n",
    "                       name_data = name_data_plot, name_folder=name_data,\n",
    "                       colors=['b','g','r','saddlebrown','y'], loc_leg='best',\n",
    "                       fontsize_leg=20., pos_text_LHC=[0.95, 0.30, 'right'],\n",
    "                      )"
   ]
  },
  {
   "cell_type": "markdown",
   "metadata": {},
   "source": [
    "### Params"
   ]
  },
  {
   "cell_type": "code",
   "execution_count": 14,
   "metadata": {},
   "outputs": [],
   "source": [
    "fitted_params = retrieve_params(name_data_BDT, name_folder=name_data)"
   ]
  },
  {
   "cell_type": "code",
   "execution_count": 15,
   "metadata": {},
   "outputs": [
    {
     "data": {
      "text/plain": [
       "{'frac|BDT-1.25': 0.42610994233365423,\n",
       " 'frac|BDT-1.25_err': 0.020566239640029654,\n",
       " 'info_fit': '------------------------------------------------------------------\\n| FCN = -3.199e+05              |     Ncalls=103 (103 total)     |\\n| EDM = 4.67e-06 (Goal: 0.001)  |            up = 0.5            |\\n------------------------------------------------------------------\\n|  Valid Min.   | Valid Param.  | Above EDM | Reached call limit |\\n------------------------------------------------------------------\\n|     True      |     True      |   False   |       False        |\\n------------------------------------------------------------------\\n| Hesse failed  |   Has cov.    | Accurate  | Pos. def. | Forced |\\n------------------------------------------------------------------\\n|     False     |     True      |   True    |   True    | False  |\\n------------------------------------------------------------------',\n",
       " 'lambda|BDT-1.25': -0.0019334669508350583,\n",
       " 'lambda|BDT-1.25_err': 0.00027050125600959577,\n",
       " 'mu|BDT-1.25': 5278.8655455420985,\n",
       " 'mu|BDT-1.25_err': 0.07745126008761984,\n",
       " 'n_B': 1299.3368040978603,\n",
       " 'n_B_err': 46.96862750342899,\n",
       " 'n_bkg|BDT-1.25': 5002.2528783066455,\n",
       " 'n_bkg|BDT-1.25_err': 180.82220974435282,\n",
       " 'n_sig|BDT-1.25': 52321.955341015375,\n",
       " 'n_sig|BDT-1.25_err': 278.8860881796209,\n",
       " 'sigmaL|BDT-1.25': 10.95029253332899,\n",
       " 'sigmaL|BDT-1.25_err': 0.21699937408119077,\n",
       " 'sigmaR|BDT-1.25': 18.113778760801935,\n",
       " 'sigmaR|BDT-1.25_err': 0.2240581613986566}"
      ]
     },
     "execution_count": 15,
     "metadata": {},
     "output_type": "execute_result"
    }
   ],
   "source": [
    "fitted_params"
   ]
  },
  {
   "cell_type": "code",
   "execution_count": 16,
   "metadata": {},
   "outputs": [
    {
     "name": "stdout",
     "output_type": "stream",
     "text": [
      "/afs/cern.ch/user/c/correian/bd2dst3pi/output/tables/common_B0TODst3pi_Dst_constr/common_B0TODst3pi_Dst_constr_BDT-1.25_params.tex\n",
      "\\begin{tabular}[t]{lc}\n",
      "\\hline\n",
      "Variable &Fitted Value\\\\\n",
      "\\hline\\hline\n",
      "$f_{\\frac{L}{R}}$&$0.426\\pm0.021$\\\\\n",
      "\\hline\n",
      "$\\lambda_{B,c}$&$-0.00193\\pm0.00027$\\\\\n",
      "\\hline\n",
      "$\\mu_S$&$5278.866\\pm0.077$\\\\\n",
      "\\hline\n",
      "B&$1299\\pm47$\\\\\n",
      "\\hline\n",
      "$n_{B,c}$&$(5.00\\pm0.18)\\times 10^3$\\\\\n",
      "\\hline\n",
      "$n_S$&$(5.232\\pm0.028)\\times 10^4$\\\\\n",
      "\\hline\n",
      "$\\sigma_{L, S}$&$10.95\\pm0.22$\\\\\n",
      "\\hline\n",
      "$\\sigma_{R, S}$&$18.11\\pm0.22$\\\\\n",
      "\\hline\n",
      "\\end{tabular}\n"
     ]
    }
   ],
   "source": [
    "json_to_latex_table(name_data_BDT, name_data, name_params)"
   ]
  },
  {
   "cell_type": "markdown",
   "metadata": {},
   "source": [
    "### Compare $B^0 \\to D^* D_s$ and $B^0 \\to D^* (D_s \\to 3\\pi)$\n",
    "$$\\mathcal{B}\\left(B^0 \\to D^{*-} D_s \\right) = (8.0 \\pm 1.1)\\times 10^{-3}$$\n",
    "$$\\mathcal{B}\\left(D_{s}^+ \\to \\pi^+ \\pi^+ \\pi^- \\right) = (1.08 \\pm 0.04)\\times 10^{-2}$$"
   ]
  },
  {
   "cell_type": "code",
   "execution_count": 17,
   "metadata": {},
   "outputs": [],
   "source": [
    "from uncertainties import ufloat"
   ]
  },
  {
   "cell_type": "markdown",
   "metadata": {},
   "source": [
    "### $\\frac{\\mathcal{B}(B^0\\to D^*D_s)}{\\mathcal{B}(B^0\\to D^*3\\pi)}$, from the PDG"
   ]
  },
  {
   "cell_type": "code",
   "execution_count": 18,
   "metadata": {},
   "outputs": [],
   "source": [
    "normal_mode_br = ufloat(7.21e-3, 0.29e-3)"
   ]
  },
  {
   "cell_type": "code",
   "execution_count": 20,
   "metadata": {},
   "outputs": [
    {
     "name": "stdout",
     "output_type": "stream",
     "text": [
      "0.0120+/-0.0018\n"
     ]
    }
   ],
   "source": [
    "bkgDs_br = ufloat(8.0e-3, 1.1e-3)*ufloat(1.08e-2, 0.04e-2)\n",
    "print(bkgDs_br/normal_mode_br)\n",
    "r_br_Ds = bkgDs_br/normal_mode_br"
   ]
  },
  {
   "cell_type": "markdown",
   "metadata": {},
   "source": [
    "### $\\frac{n_{B^0\\to D^*D_s}}{n_{B^0\\to D^*3\\pi}}$, from the fit"
   ]
  },
  {
   "cell_type": "code",
   "execution_count": 21,
   "metadata": {},
   "outputs": [],
   "source": [
    "fitted_params_Ds = retrieve_params(name_data_B0toDstDs_BDT, name_folder=name_data_B0toDstDs)\n",
    "n_bkgDs = ufloat(fitted_params_Ds['n_sig_DstDs|BDT-1.25'], fitted_params_Ds['n_sig_DstDs|BDT-1.25_err'])"
   ]
  },
  {
   "cell_type": "code",
   "execution_count": 22,
   "metadata": {
    "scrolled": true
   },
   "outputs": [],
   "source": [
    "n_normal_mode = ufloat(fitted_params['n_sig|BDT-1.25'],fitted_params['n_sig|BDT-1.25_err'])"
   ]
  },
  {
   "cell_type": "code",
   "execution_count": 23,
   "metadata": {},
   "outputs": [
    {
     "name": "stdout",
     "output_type": "stream",
     "text": [
      "0.0264+/-0.0010\n"
     ]
    }
   ],
   "source": [
    "r_bkgDs = n_bkgDs/n_normal_mode\n",
    "print(r_bkgDs)"
   ]
  },
  {
   "cell_type": "code",
   "execution_count": 24,
   "metadata": {},
   "outputs": [
    {
     "name": "stdout",
     "output_type": "stream",
     "text": [
      "2.20+/-0.34\n"
     ]
    }
   ],
   "source": [
    "print(r_bkgDs/r_br_Ds)"
   ]
  },
  {
   "cell_type": "code",
   "execution_count": null,
   "metadata": {},
   "outputs": [],
   "source": []
  }
 ],
 "metadata": {
  "kernelspec": {
   "display_name": "bd2dst3pi_env",
   "language": "python",
   "name": "bd2dst3pi_env"
  },
  "language_info": {
   "codemirror_mode": {
    "name": "ipython",
    "version": 3
   },
   "file_extension": ".py",
   "mimetype": "text/x-python",
   "name": "python",
   "nbconvert_exporter": "python",
   "pygments_lexer": "ipython3",
   "version": "3.7.8"
  }
 },
 "nbformat": 4,
 "nbformat_minor": 4
}
