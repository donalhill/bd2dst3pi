{
 "cells": [
  {
   "cell_type": "markdown",
   "metadata": {},
   "source": [
    "# Evolution of $n_{sig}$ and $n_{bkg}$ according to the cut on the BDT (fit V5)"
   ]
  },
  {
   "cell_type": "markdown",
   "metadata": {},
   "source": [
    "## Import"
   ]
  },
  {
   "cell_type": "code",
   "execution_count": 1,
   "metadata": {},
   "outputs": [],
   "source": [
    "import numpy as np\n",
    "import json\n",
    "\n",
    "from bd2dst3pi.locations import loc\n",
    "#from bd2dst3pi.definitions import years, magnets\n",
    "\n",
    "import sys\n",
    "sys.path.append(loc.SCRIPTS)\n",
    "from plot.line import plot_x_list_ys\n",
    "\n",
    "from uncertainties import ufloat, unumpy, umath"
   ]
  },
  {
   "cell_type": "markdown",
   "metadata": {},
   "source": [
    "## Load data"
   ]
  },
  {
   "cell_type": "code",
   "execution_count": 2,
   "metadata": {},
   "outputs": [],
   "source": [
    "name_data = \"data_strip_cutDeltaM_allPIDK\""
   ]
  },
  {
   "cell_type": "code",
   "execution_count": 3,
   "metadata": {},
   "outputs": [
    {
     "ename": "FileNotFoundError",
     "evalue": "[Errno 2] No such file or directory: '/afs/cern.ch/user/c/correian/bd2dst3pi/output/json/cut_allPIDK_BDT-0.2_params.json'",
     "output_type": "error",
     "traceback": [
      "\u001b[0;31m---------------------------------------------------------------------------\u001b[0m",
      "\u001b[0;31mFileNotFoundError\u001b[0m                         Traceback (most recent call last)",
      "\u001b[0;32m<ipython-input-3-085b518219e3>\u001b[0m in \u001b[0;36m<module>\u001b[0;34m\u001b[0m\n\u001b[1;32m     12\u001b[0m \u001b[0;34m\u001b[0m\u001b[0m\n\u001b[1;32m     13\u001b[0m \u001b[0;32mfor\u001b[0m \u001b[0mi\u001b[0m\u001b[0;34m,\u001b[0m \u001b[0mBDT\u001b[0m \u001b[0;32min\u001b[0m \u001b[0menumerate\u001b[0m\u001b[0;34m(\u001b[0m\u001b[0ml_BDT\u001b[0m\u001b[0;34m)\u001b[0m\u001b[0;34m:\u001b[0m\u001b[0;34m\u001b[0m\u001b[0;34m\u001b[0m\u001b[0m\n\u001b[0;32m---> 14\u001b[0;31m     \u001b[0;32mwith\u001b[0m \u001b[0mopen\u001b[0m\u001b[0;34m(\u001b[0m\u001b[0;34mf'{loc.JSON}/cut_allPIDK_BDT{BDT}_params.json'\u001b[0m\u001b[0;34m,\u001b[0m \u001b[0;34m'r'\u001b[0m\u001b[0;34m)\u001b[0m \u001b[0;32mas\u001b[0m \u001b[0mf\u001b[0m\u001b[0;34m:\u001b[0m\u001b[0;34m\u001b[0m\u001b[0;34m\u001b[0m\u001b[0m\n\u001b[0m\u001b[1;32m     15\u001b[0m         \u001b[0mparams\u001b[0m \u001b[0;34m=\u001b[0m \u001b[0mjson\u001b[0m\u001b[0;34m.\u001b[0m\u001b[0mload\u001b[0m\u001b[0;34m(\u001b[0m\u001b[0mf\u001b[0m\u001b[0;34m)\u001b[0m\u001b[0;34m\u001b[0m\u001b[0;34m\u001b[0m\u001b[0m\n\u001b[1;32m     16\u001b[0m \u001b[0;34m\u001b[0m\u001b[0m\n",
      "\u001b[0;31mFileNotFoundError\u001b[0m: [Errno 2] No such file or directory: '/afs/cern.ch/user/c/correian/bd2dst3pi/output/json/cut_allPIDK_BDT-0.2_params.json'"
     ]
    }
   ],
   "source": [
    "l_BDT = [-0.2, -0.1, -0.05, 0, 0.05, 0.1, 0.15, 0.2] # list of the cuts on the BDT which the data has been fit on\n",
    "\n",
    "lB_K = []\n",
    "lB_Ds = []\n",
    "lB_pr = [] # partially reconstructed\n",
    "lB = [] # Combi + K + Ds\n",
    "lS = []\n",
    "\n",
    "ltot = [] # S + B\n",
    "\n",
    "squareRootlSplusB = []\n",
    "\n",
    "for i, BDT in enumerate(l_BDT):   \n",
    "    with open(f'{loc.JSON}/cut_allPIDK_BDT{BDT}_params.json', 'r') as f:\n",
    "        params = json.load(f)\n",
    "    \n",
    "    LB_Ds.append(ufloat(params[f'n_sig_tau|{BDT}'],params[f'n_sig_tau|{BDT}_err'])) # sig\n",
    "    \n",
    "    lB.append(ufloat(params[f'n_bkg|{BDT}'],params[f'n_bkg|{BDT}_err'])) # combinatorial\n",
    "    lB_pr.append(ufloat(params[f'n_bkg2|{BDT}'],params[f'n_bkg2|{BDT}_err'])) # partially reconstructed\n",
    "    lB_K.append(ufloat(params[f'n_bkgK|{BDT}'],params[f'n_bkgK|{BDT}_err'])) # 2DstK2pi\n",
    "\n",
    "    lB[i] += LB_Ds[i] + lB_pr[i] + lB_K[i]\n",
    "    \n",
    "    lS.append(ufloat(params[f'n_sig|{BDT}'],params[f'n_sig|{BDT}_err']))\n",
    "    \n",
    "    ltot.append(lS[i]+lB[i])\n",
    "    squareRootlSplusB.append(umath.sqrt(ltot[i]))\n",
    "    \n",
    "lS = np.array(lS)\n",
    "lB = np.array(lB)"
   ]
  },
  {
   "cell_type": "markdown",
   "metadata": {},
   "source": [
    "## Define FoM"
   ]
  },
  {
   "cell_type": "code",
   "execution_count": 4,
   "metadata": {
    "scrolled": false
   },
   "outputs": [
    {
     "ename": "TypeError",
     "evalue": "unsupported operand type(s) for /: 'list' and 'list'",
     "output_type": "error",
     "traceback": [
      "\u001b[0;31m---------------------------------------------------------------------------\u001b[0m",
      "\u001b[0;31mTypeError\u001b[0m                                 Traceback (most recent call last)",
      "\u001b[0;32m<ipython-input-4-fe9321b0d105>\u001b[0m in \u001b[0;36m<module>\u001b[0;34m\u001b[0m\n\u001b[0;32m----> 1\u001b[0;31m \u001b[0msignal_purity\u001b[0m \u001b[0;34m=\u001b[0m \u001b[0mlS\u001b[0m\u001b[0;34m/\u001b[0m\u001b[0mltot\u001b[0m\u001b[0;34m\u001b[0m\u001b[0;34m\u001b[0m\u001b[0m\n\u001b[0m\u001b[1;32m      2\u001b[0m \u001b[0msignal_significance\u001b[0m \u001b[0;34m=\u001b[0m \u001b[0mlS\u001b[0m\u001b[0;34m/\u001b[0m\u001b[0msquareRootlSplusB\u001b[0m\u001b[0;34m\u001b[0m\u001b[0;34m\u001b[0m\u001b[0m\n\u001b[1;32m      3\u001b[0m \u001b[0mFoM\u001b[0m \u001b[0;34m=\u001b[0m \u001b[0msignal_purity\u001b[0m\u001b[0;34m*\u001b[0m\u001b[0msignal_significance\u001b[0m\u001b[0;34m\u001b[0m\u001b[0;34m\u001b[0m\u001b[0m\n",
      "\u001b[0;31mTypeError\u001b[0m: unsupported operand type(s) for /: 'list' and 'list'"
     ]
    }
   ],
   "source": [
    "signal_purity = lS/ltot\n",
    "signal_significance = lS/squareRootlSplusB\n",
    "FoM = signal_purity*signal_significance"
   ]
  },
  {
   "cell_type": "markdown",
   "metadata": {},
   "source": [
    "## Plot"
   ]
  },
  {
   "cell_type": "code",
   "execution_count": 5,
   "metadata": {
    "scrolled": true
   },
   "outputs": [
    {
     "ename": "IndexError",
     "evalue": "list index out of range",
     "output_type": "error",
     "traceback": [
      "\u001b[0;31m---------------------------------------------------------------------------\u001b[0m",
      "\u001b[0;31mIndexError\u001b[0m                                Traceback (most recent call last)",
      "\u001b[0;32m<ipython-input-5-1ea9484b6feb>\u001b[0m in \u001b[0;36m<module>\u001b[0;34m\u001b[0m\n\u001b[1;32m      1\u001b[0m plot_x_list_ys(l_BDT, [lS,lB], 'BDT', \n\u001b[1;32m      2\u001b[0m                \u001b[0;34m[\u001b[0m\u001b[0;34m'S'\u001b[0m\u001b[0;34m,\u001b[0m\u001b[0;34m'B'\u001b[0m\u001b[0;34m]\u001b[0m\u001b[0;34m,\u001b[0m\u001b[0;34m\u001b[0m\u001b[0;34m\u001b[0m\u001b[0m\n\u001b[0;32m----> 3\u001b[0;31m                name_folder='data_strip_cutDeltaM')\n\u001b[0m",
      "\u001b[0;32m~/bd2dst3pi/scripts/plot/line.py\u001b[0m in \u001b[0;36mplot_x_list_ys\u001b[0;34m(x, y, name_x, names_y, surname_x, surnames_y, annotations, markersize, linewidth, fontsize, name_file, name_folder, factor_ymax, linestyle, fontsize_annot, space_x, space_y, log_scale)\u001b[0m\n\u001b[1;32m    124\u001b[0m \u001b[0;34m\u001b[0m\u001b[0m\n\u001b[1;32m    125\u001b[0m         \u001b[0;31m# In the same groups_ly, we plot the curves in the same plot\u001b[0m\u001b[0;34m\u001b[0m\u001b[0;34m\u001b[0m\u001b[0;34m\u001b[0m\u001b[0m\n\u001b[0;32m--> 126\u001b[0;31m         plot_xys (ax, x, ly, xlabel=name_x, labels=groups_surnames_y[k], \n\u001b[0m\u001b[1;32m    127\u001b[0m                   \u001b[0mannotations\u001b[0m\u001b[0;34m=\u001b[0m\u001b[0mannotations\u001b[0m\u001b[0;34m,\u001b[0m \u001b[0mmarkersize\u001b[0m\u001b[0;34m=\u001b[0m\u001b[0mmarkersize\u001b[0m\u001b[0;34m,\u001b[0m\u001b[0;34m\u001b[0m\u001b[0;34m\u001b[0m\u001b[0m\n\u001b[1;32m    128\u001b[0m                   \u001b[0mfontsize\u001b[0m\u001b[0;34m=\u001b[0m\u001b[0mfontsize\u001b[0m\u001b[0;34m,\u001b[0m \u001b[0mlinewidth\u001b[0m\u001b[0;34m=\u001b[0m\u001b[0mlinewidth\u001b[0m\u001b[0;34m,\u001b[0m \u001b[0mlinestyle\u001b[0m\u001b[0;34m=\u001b[0m\u001b[0mlinestyle\u001b[0m\u001b[0;34m,\u001b[0m\u001b[0;34m\u001b[0m\u001b[0;34m\u001b[0m\u001b[0m\n",
      "\u001b[0;31mIndexError\u001b[0m: list index out of range"
     ]
    },
    {
     "data": {
      "image/png": "[encoded data removed]",
      "text/plain": [
       "<Figure size 576x576 with 2 Axes>"
      ]
     },
     "metadata": {
      "needs_background": "light"
     },
     "output_type": "display_data"
    }
   ],
   "source": [
    "plot_x_list_ys(l_BDT, [lS,lB], 'BDT', \n",
    "               ['S','B'],\n",
    "               name_folder='data_strip_cutDeltaM')"
   ]
  },
  {
   "cell_type": "code",
   "execution_count": 15,
   "metadata": {
    "scrolled": false
   },
   "outputs": [
    {
     "data": {
      "image/png": "[encoded data removed]",
      "text/plain": [
       "<Figure size 576x648 with 3 Axes>"
      ]
     },
     "metadata": {
      "needs_background": "light"
     },
     "output_type": "display_data"
    },
    {
     "name": "stdout",
     "output_type": "stream",
     "text": [
      "/afs/cern.ch/user/c/correian/bd2dst3pi/output/plots/data_strip_cutDeltaM/BDT_vs_signal_purity_signal_significance_FoM.pdf\n"
     ]
    }
   ],
   "source": [
    "plot_x_list_ys(l_BDT, [[signal_purity],[signal_significance],[FoM]], 'BDT', \n",
    "               [['signal purity'],['signal significance'],['FoM']],\n",
    "               [['$\\\\frac{S}{S+B}$'],['$\\\\frac{S}{\\\\sqrt{S+B}}$'],['$\\\\frac{S}{S+B}\\\\frac{S}{\\\\sqrt{S+B}}$']], \n",
    "               name_folder='data_strip_cutDeltaM')"
   ]
  },
  {
   "cell_type": "code",
   "execution_count": null,
   "metadata": {},
   "outputs": [],
   "source": []
  }
 ],
 "metadata": {
  "kernelspec": {
   "display_name": "bd2dst3pi_env",
   "language": "python",
   "name": "bd2dst3pi_env"
  },
  "language_info": {
   "codemirror_mode": {
    "name": "ipython",
    "version": 3
   },
   "file_extension": ".py",
   "mimetype": "text/x-python",
   "name": "python",
   "nbconvert_exporter": "python",
   "pygments_lexer": "ipython3",
   "version": "3.7.8"
  }
 },
 "nbformat": 4,
 "nbformat_minor": 4
}
