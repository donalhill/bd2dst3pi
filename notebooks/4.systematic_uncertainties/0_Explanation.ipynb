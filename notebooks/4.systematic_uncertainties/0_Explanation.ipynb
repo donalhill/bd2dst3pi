{
 "cells": [
  {
   "cell_type": "markdown",
   "metadata": {},
   "source": [
    "THREE TASKS: (\\# iterations: $\\approx$ 1000)\n",
    "- **Mode 1**: The fixed (=tail) parameters of the $D^*\\pi\\pi\\pi$ are randomly changed within their uncertainty.\n",
    "For the fixed parameters $p\\in\\{\\alpha_L, \\alpha_R, n_L, n_R\\}$ of uncertainty $\\Delta p$ and nominal value $p_0$:\n",
    "$$p=p_0+\\mathcal{N}(\\mu=0, \\sigma = \\Delta p)$$\n",
    "    The ratio of yield $\\frac{n_{B^0 \\to D^{*-} K^+ \\pi^+ \\pi^-}}{n_{B^0 \\to D^{*-} \\pi^+ \\pi^+ \\pi^-}}$ and the parameters of the $D^*Kpipi$ fit are still fixed. The fit on is performed again with those values.\n",
    "    The results of the fits are stored in a JSON file, in particular the signal yield $n_{sig}$.\n",
    "\n",
    "- **Mode 2**: The same is done with the ratio of yield $\\frac{n_{B^0 \\to D^{*-} K^+ \\pi^+ \\pi^-}}{n_{B^0 \\to D^{*-} \\pi^+ \\pi^+ \\pi^-}}$ and the parameters of the $D^*Kpipi$ fit. A  fit is performed on $m(D^*3\\pi)$.\n",
    "The results of the fits are stored in a JSON file, in particular the signal yield $n_{sig}$.\n",
    "\n",
    "- **Mode 3**: The same is done with the parameters of the sWeighted $D^*D_s$ fit. A  fit is performed on $m(D^*3\\pi)$.\n",
    "The results of the fits are stored in a JSON file, in particular the signal yield $n_{sig}$.\n",
    "\n",
    "Fit on $m(D^* 3_pi)$ with:\n",
    "- Signal $B^0 \\to D^{*-} \\pi^+ \\pi^+ \\pi^-$ (sum of two Crystall ball PDF)\n",
    "- Background $B^0 \\to D^{*-} D_s^+$ from the other fit of the simultaneous fit\n",
    "- Background with a misidentified pion: $B^0 \\to D^{*-} K^+ \\pi^+ \\pi^-$ (sum of two crystall ball PDF)\n",
    "- Combinatorial background (exponential)"
   ]
  },
  {
   "cell_type": "code",
   "execution_count": null,
   "metadata": {},
   "outputs": [],
   "source": []
  }
 ],
 "metadata": {
  "kernelspec": {
   "display_name": "bd2dst3pi_env",
   "language": "python",
   "name": "bd2dst3pi_env"
  },
  "language_info": {
   "codemirror_mode": {
    "name": "ipython",
    "version": 3
   },
   "file_extension": ".py",
   "mimetype": "text/x-python",
   "name": "python",
   "nbconvert_exporter": "python",
   "pygments_lexer": "ipython3",
   "version": "3.7.8"
  }
 },
 "nbformat": 4,
 "nbformat_minor": 4
}
