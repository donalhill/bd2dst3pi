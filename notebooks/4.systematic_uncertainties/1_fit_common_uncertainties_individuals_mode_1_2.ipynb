{
 "cells": [
  {
   "cell_type": "markdown",
   "metadata": {},
   "source": [
    "# Without sWeights: `common_Dst_constr_B0toDstDsWithmu2Free_BDT-1.25`\n",
    "\n",
    "# Fit the complete data\n",
    "    \n",
    "TWO TASKS: (\\# iterations: $\\approx$1000)\n",
    "- **Mode 1**: The fixed (=tail) parameters of the $D^*\\pi\\pi\\pi$ are randomly changed within their uncertainty.\n",
    "For the fixed parameters $p\\in\\{\\alpha_L, \\alpha_R, n_L, n_R\\}$ of uncertainty $\\Delta p$ and nominal value $p_0$:\n",
    "$$p=p_0+\\mathcal{N}(\\mu=0, \\sigma = \\Delta p)$$\n",
    "    The ratio of yield $\\frac{n_{B^0 \\to D^{*-} K^+ \\pi^+ \\pi^-}}{n_{B^0 \\to D^{*-} \\pi^+ \\pi^+ \\pi^-}}$ and the parameters of the $D^*Kpipi$ fit are still fixed. The fit on is performed again with those values.\n",
    "    The results of the fits are stored in a JSON file, in particular the signal yield $n_{sig}$.\n",
    "\n",
    "- **Mode 2**: The same is done with the ratio of yield $\\frac{n_{B^0 \\to D^{*-} K^+ \\pi^+ \\pi^-}}{n_{B^0 \\to D^{*-} \\pi^+ \\pi^+ \\pi^-}}$ and the parameters of the $D^*Kpipi$ fit. A  fit is performed on $D^*\\pi\\pi\\pi$.\n",
    "The results of the fits are stored in a JSON file, in particular the signal yield $n_{sig}$.\n",
    "\n",
    "\n",
    "Fit on $m(B^0_s)$ with:\n",
    "- Signal $B^0 \\to D^{*-} \\pi^+ \\pi^+ \\pi^-$ (sum of two Crystall ball PDF)\n",
    "- Background $B^0 \\to D^{*-} D_s^+$ from the other fit of the simultaneous fit\n",
    "- Background with a misidentified pion: $B^0 \\to D^{*-} K^+ \\pi^+ \\pi^-$ (sum of two crystall ball PDF)\n",
    "- Combinatorial background (exponential)"
   ]
  },
  {
   "cell_type": "code",
   "execution_count": 1,
   "metadata": {},
   "outputs": [],
   "source": [
    "name_data_MC = 'MC_constr_opposedCB_sharedMean'\n",
    "name_data_KPiPi = \"data_KPiPi_constr\"\n",
    "name_BDT = 'gradient'\n",
    "\n",
    "name_data = 'common_B0TODst3pi_Dst_constr'\n",
    "name_data_B0toDstDs = 'common_B0TODstDs_Dst_constr'\n",
    "name_data_Dstto3pi = 'common_DstTO3pi'\n",
    "\n",
    "BDT = -1.25"
   ]
  },
  {
   "cell_type": "code",
   "execution_count": 2,
   "metadata": {},
   "outputs": [],
   "source": [
    "var = 'Dst_constr_B0_M'\n",
    "low = 5150.\n",
    "high = 5545."
   ]
  },
  {
   "cell_type": "markdown",
   "metadata": {},
   "source": [
    "## Import"
   ]
  },
  {
   "cell_type": "code",
   "execution_count": 3,
   "metadata": {
    "scrolled": false
   },
   "outputs": [
    {
     "name": "stdout",
     "output_type": "stream",
     "text": [
      "Welcome to JupyROOT 6.22/02\n"
     ]
    }
   ],
   "source": [
    "import zfit\n",
    "import json\n",
    "import numpy as np\n",
    "import timeit\n",
    "\n",
    "from numpy.random import normal\n",
    "\n",
    "from math import sqrt\n",
    "\n",
    "from bd2dst3pi.locations import loc\n",
    "from bd2dst3pi.definitions import years, magnets\n",
    "\n",
    "import sys\n",
    "sys.path.append(loc.SCRIPTS)\n",
    "\n",
    "import sys\n",
    "sys.path.append(loc.SCRIPTS)\n",
    "from load_save_data import load_saved_root, load_data, add_constr_Dst, json_to_latex_table, retrieve_params, format_previous_params\n",
    "import plot.histogram as h\n",
    "from plot.fit import plot_hist_fit_particle\n",
    "from plot.tool import save_file, set_text_LHCb\n",
    "from fit import launch_fit, define_zparams, save_params, sum_crystalball, check_fit\n",
    "from variables import name_params, name_params_KPiPi"
   ]
  },
  {
   "cell_type": "code",
   "execution_count": 4,
   "metadata": {},
   "outputs": [],
   "source": [
    "name_params_KPiPi_print = {}\n",
    "for key, value in name_params_KPiPi.items():\n",
    "    name_params_KPiPi_print[key+'_Kpipi'] = name_params_KPiPi[key]"
   ]
  },
  {
   "cell_type": "markdown",
   "metadata": {},
   "source": [
    "## Load"
   ]
  },
  {
   "cell_type": "markdown",
   "metadata": {},
   "source": [
    "### Json files"
   ]
  },
  {
   "cell_type": "code",
   "execution_count": 5,
   "metadata": {},
   "outputs": [],
   "source": [
    "name_data_BDT = f\"{name_data}_BDT{BDT}\"\n",
    "name_data_B0toDstDs_BDT = f\"{name_data_B0toDstDs}_BDT{BDT}\"\n",
    "\n",
    "# Fixed alphaL, alphaR and nL\n",
    "common_params = retrieve_params(name_data, name_folder=name_data)\n",
    "# Fixed nR\n",
    "MC_params = retrieve_params(name_data_MC, name_folder='MC')\n",
    "\n",
    "# B0->DstKPiPi\n",
    "Kpipi_params = retrieve_params(name_data_KPiPi, name_folder='data_KPiPi') # already in MeV \n",
    "\n",
    "# common with BDT cut (for startning values of the fit)\n",
    "pipipi_params = format_previous_params(retrieve_params(name_data_BDT, name_folder=name_data), True)\n",
    "# B0->DstDs with BDT cut (for the B0->DstDs PDF shape)\n",
    "DstDs_params = format_previous_params(retrieve_params(name_data_B0toDstDs_BDT, name_folder=name_data_B0toDstDs), True) "
   ]
  },
  {
   "cell_type": "markdown",
   "metadata": {},
   "source": [
    "Load \n",
    "- `f_params_dict['1']` - the fixed parameters that will be changed in **mode 1**\n",
    "- `f_params_dict['2']`  - the fixed parameters that will be changed in **mode 2**"
   ]
  },
  {
   "cell_type": "code",
   "execution_count": 6,
   "metadata": {},
   "outputs": [],
   "source": [
    "f_params_dict = {}\n",
    "f_params_dict['1'] = ['alphaL', 'alphaR', 'nL', 'nR']\n",
    "f_params_dict['2'] = ['r_bkgK', \n",
    "                      'muL_Kpipi', 'muR_Kpipi', 'nL_Kpipi', 'nR_Kpipi',\n",
    "                      'alphaL_Kpipi', 'alphaR_Kpipi',\n",
    "                      'sigmaL_Kpipi', 'sigmaR_Kpipi', 'fraction_Kpipi']\n"
   ]
  },
  {
   "cell_type": "code",
   "execution_count": 7,
   "metadata": {},
   "outputs": [],
   "source": [
    "f_params = {} # fixed parameters\n",
    "\n",
    "for param in 'alphaL', 'alphaR', 'nL', 'r_bkgK':\n",
    "    f_params[param] = {}\n",
    "    f_params[param]['val'] = common_params[param] # nominal value\n",
    "    f_params[param]['std'] = common_params[param + '_err'] # standard deviation\n",
    "\n",
    "f_params['nR'] = {}\n",
    "f_params['nR']['val'] = MC_params['nR_MC']\n",
    "f_params['nR']['std']  = MC_params['nR_MC_err']\n",
    "\n",
    "for param in 'muL', 'muR', 'nL', 'nR', 'alphaR', 'alphaL', 'sigmaL', 'sigmaR', 'fraction':\n",
    "    f_params[param+'_Kpipi'] = {}\n",
    "    f_params[param+'_Kpipi']['val'] = Kpipi_params[param]\n",
    "    f_params[param+'_Kpipi']['std'] = Kpipi_params[param+'_err']\n"
   ]
  },
  {
   "cell_type": "code",
   "execution_count": 8,
   "metadata": {
    "scrolled": true
   },
   "outputs": [
    {
     "name": "stdout",
     "output_type": "stream",
     "text": [
      "/afs/cern.ch/user/c/correian/bd2dst3pi/output//root/common/common_gradient.root\n"
     ]
    }
   ],
   "source": [
    "df = load_saved_root('common_'+name_BDT, name_folder='common', vars=['B0_M', 'Dst_M', 'BDT'])\n",
    "df = df.query(f\"BDT > {BDT}\")\n",
    "df = add_constr_Dst(df)"
   ]
  },
  {
   "cell_type": "code",
   "execution_count": 9,
   "metadata": {},
   "outputs": [],
   "source": [
    "def same_sign(a, b):\n",
    "    return (a>0 and b>0) or (a<0 and b<0)"
   ]
  },
  {
   "cell_type": "markdown",
   "metadata": {},
   "source": [
    "## Redo some fits"
   ]
  },
  {
   "cell_type": "code",
   "execution_count": 10,
   "metadata": {},
   "outputs": [],
   "source": [
    "mode = 1\n",
    "indexes = [580, 1397]\n",
    "show_index_list = []\n",
    "\n",
    "# mode = 2\n",
    "# indexes = [56, 110, 182, 220, 307, 319, 406, 409, 604, 631, 773, 786, 904, 906, 1023, 1063, 1078, 1095]\n",
    "\n",
    "m = str(mode)"
   ]
  },
  {
   "cell_type": "code",
   "execution_count": 11,
   "metadata": {
    "scrolled": false
   },
   "outputs": [
    {
     "name": "stdout",
     "output_type": "stream",
     "text": [
      "iter: 580\n",
      "Time to do the fit:  9.524339844938368\n",
      "parameters saved in /afs/cern.ch/user/c/correian/bd2dst3pi/output/json/common_B0TODst3pi_Dst_constr_BDT-1.25/common_B0TODst3pi_Dst_constr_BDT-1.25u1;580_params.json\n",
      "iter: 1397\n",
      "Time to do the fit:  8.834291943116114\n",
      "parameters saved in /afs/cern.ch/user/c/correian/bd2dst3pi/output/json/common_B0TODst3pi_Dst_constr_BDT-1.25/common_B0TODst3pi_Dst_constr_BDT-1.25u1;1397_params.json\n"
     ]
    }
   ],
   "source": [
    "for i in indexes:\n",
    "    verbose = i in show_index_list\n",
    "    name_iter = name_data_BDT + f'u{mode};{i}'\n",
    "\n",
    "    print('iter:', i)\n",
    "\n",
    "    r_params = retrieve_params(f\"{name_data_BDT}u{m};{i}\", name_folder=name_data_BDT)['r_params']\n",
    "\n",
    "\n",
    "    ### FIT ON DstPiPiPi ============================================================     \n",
    "    ## Starting point of the fit ...............\n",
    "\n",
    "    n_events_B0_M = len(df.query(f'{var} > {low} and {var} < {high}'))   \n",
    "\n",
    "    initial_values = {\n",
    "        # Signal        \n",
    "        'mu'       :{ 'value': pipipi_params['mu']           , 'low': 5279.-3.                      , 'high': 5279.+3.             , 'floating': True},\n",
    "        'sigmaL'   :{ 'value': pipipi_params['sigmaL']       , 'low': 5.                            , 'high': 20.                 , 'floating': True},\n",
    "        'sigmaR'   :{ 'value': pipipi_params['sigmaR']       , 'low': 10.                           , 'high': 30.               , 'floating': True},\n",
    "        'frac'     :{ 'value': pipipi_params['frac']         , 'low': 0.1                           , 'high': 1.                   , 'floating': True},\n",
    "        'n_sig'    :{ 'value': pipipi_params['n_sig']        , 'low': pipipi_params['n_sig']*0.1    , 'high': n_events_B0_M        , 'floating': True},\n",
    "        # Combinatorial background        \n",
    "        'lambda'   :{ 'value': pipipi_params['lambda']       , 'low': -1.                           , 'high': 0.                   , 'floating': True},\n",
    "        'n_bkg'    :{ 'value': pipipi_params['n_bkg']        , 'low': 0                             , 'high': n_events_B0_M        , 'floating': True},\n",
    "        # Background decay D*Kpipi    \n",
    "    }\n",
    "\n",
    "    # Fixed parameters:\n",
    "    for param, value_param in r_params.items():\n",
    "        initial_values[param] = {}\n",
    "        initial_values[param]['value'] = value_param\n",
    "        initial_values[param]['floating'] = False\n",
    "\n",
    "    # B0 -> D* Ds distribution\n",
    "    for vari in 'mu', 'sigma', 'n_sig' :\n",
    "        initial_values[f'{vari}_Ds'] = {'value': DstDs_params[f'{vari}_DstDs'], 'low': None, 'high': None, 'floating': False}\n",
    "\n",
    "    ## Observable and variables .................\n",
    "    obs = zfit.Space(\"x\", limits=(low, high))\n",
    "\n",
    "    zparams = define_zparams(initial_values, num=i)\n",
    "\n",
    "    mult = lambda r, n: r*n\n",
    "    zparams[\"n_bkgK\"] = zfit.ComposedParameter(f\"n_bkgK{i}\", mult, params=[zparams['r_bkgK'],zparams['n_sig']])    \n",
    "\n",
    "    ## PDFs .....................................\n",
    "    model_S, crystalBallL_S, crystalBallR_S = sum_crystalball(zparams['mu'], zparams['mu'],\n",
    "                                                              zparams['sigmaL'], zparams['sigmaR'],\n",
    "                                                              zparams['frac'], obs,                                                          \n",
    "                                                              zparams['alphaL'], zparams['alphaR'], \n",
    "                                                              zparams['nL'], zparams['nR']\n",
    "                                                             )\n",
    "\n",
    "\n",
    "    gaussian_Ds = zfit.pdf.Gauss(zparams['mu_Ds'],zparams['sigma_Ds'],obs=obs)\n",
    "\n",
    "    model_K, crystalBallL_K, crystalBallR_K = sum_crystalball(zparams['muL_Kpipi'], zparams['muR_Kpipi'], \n",
    "                                                              zparams['sigmaL_Kpipi'], zparams['sigmaR_Kpipi'],\n",
    "                                                              zparams['fraction_Kpipi'], obs,\n",
    "                                                              zparams['alphaL_Kpipi'], zparams['alphaR_Kpipi'], \n",
    "                                                              zparams['nL_Kpipi'], zparams['nR_Kpipi'])\n",
    "\n",
    "    exponential = zfit.pdf.Exponential(zparams['lambda'], obs=obs)\n",
    "\n",
    "\n",
    "    model_S_ext = model_S.create_extended(zparams['n_sig'])\n",
    "    exp_ext = exponential.create_extended(zparams['n_bkg'])\n",
    "    gaussian_Ds_ext = gaussian_Ds.create_extended(zparams['n_sig_Ds'])\n",
    "    model_K_ext = model_K.create_extended(zparams['n_bkgK'])\n",
    "\n",
    "    model = zfit.pdf.SumPDF([model_S_ext, gaussian_Ds_ext, model_K_ext, exp_ext]) # gauss is folded by frac\n",
    "    data = zfit.Data.from_pandas(df[var], obs=obs)\n",
    "\n",
    "    ## Do the fit ...............................\n",
    "    start = timeit.default_timer()\n",
    "    result, params = launch_fit(model, data, extended=True, verbose=verbose)\n",
    "    result, params = launch_fit(model, data, extended=True, verbose=verbose)\n",
    "    stop = timeit.default_timer()\n",
    "    print('Time to do the fit: ', stop - start) \n",
    "    fit_ok = check_fit(result)\n",
    "\n",
    "    ## Plot and save the fit ....................\n",
    "    if verbose:\n",
    "        name_data_plot = name_data + f'{i}_details'\n",
    "        plot_hist_fit_particle(df, var, models = [model,[model_S_ext, crystalBallL_S, crystalBallR_S], gaussian_Ds_ext,\n",
    "                                                  model_K_ext,exp_ext],\n",
    "                               name_models = [\"\", '\\n $B^0\\\\to D^{*-} 3\\pi$','\\n $B^0\\\\to D^{*-}D_s^+$',\n",
    "                                              '\\n $B^0\\\\to D^{*-} K^+ \\pi^+\\pi^-$','\\n Combinatorial'],\n",
    "                               obs=obs, n_bins = 100,mode_hist = False,\n",
    "                               name_data = name_data_plot, name_folder=name_data,\n",
    "                               colors=['b','g','r','saddlebrown','y'],\n",
    "                                params=params,name_params=name_params,\n",
    "                               fontsize_leg=13.5, show_chi2=True,\n",
    "                               colWidths=[0.06,0.01,0.05,0.06], \n",
    "                              )\n",
    "\n",
    "        name_data_plot = name_data + f'{i}'\n",
    "        plot_hist_fit_particle(df,var, models = [model, model_S_ext, gaussian_Ds_ext, model_K_ext,exp_ext],\n",
    "                              name_models = [\"\", '\\n $B^0\\\\to D^{*-} 3\\pi$','\\n $B^0\\\\to D^{*-}D_s^+$',\n",
    "                                              '\\n $B^0\\\\to D^{*-} K^+ \\pi^+\\pi^-$','\\n Combinatorial'],\n",
    "                               obs=obs, n_bins = 100,mode_hist = False,\n",
    "                               name_data = name_data_plot, name_folder=name_data,\n",
    "                               colors=['b','g','r','saddlebrown','y'], loc_leg='best',\n",
    "                               fontsize_leg=20., pos_text_LHC=[0.95, 0.30, 'right'],\n",
    "                              )\n",
    "\n",
    "\n",
    "\n",
    "    save_params(params, name_iter, True, \n",
    "                {'fit_ok': fit_ok, 'info_fit':str(result.info['original']), 'info_params': str(params),\n",
    "                 'r_params': r_params}, \n",
    "                name_folder=name_data_BDT)"
   ]
  },
  {
   "cell_type": "code",
   "execution_count": null,
   "metadata": {},
   "outputs": [],
   "source": []
  },
  {
   "cell_type": "code",
   "execution_count": null,
   "metadata": {},
   "outputs": [],
   "source": []
  }
 ],
 "metadata": {
  "kernelspec": {
   "display_name": "bd2dst3pi_env",
   "language": "python",
   "name": "bd2dst3pi_env"
  },
  "language_info": {
   "codemirror_mode": {
    "name": "ipython",
    "version": 3
   },
   "file_extension": ".py",
   "mimetype": "text/x-python",
   "name": "python",
   "nbconvert_exporter": "python",
   "pygments_lexer": "ipython3",
   "version": "3.7.8"
  }
 },
 "nbformat": 4,
 "nbformat_minor": 4
}
