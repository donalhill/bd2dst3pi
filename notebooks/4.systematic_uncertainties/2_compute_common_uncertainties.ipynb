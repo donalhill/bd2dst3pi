{
 "cells": [
  {
   "cell_type": "markdown",
   "metadata": {},
   "source": [
    "# Without sWeights: `common_B0TODst3pi_Dst_constr_BDT-1.25u{1,2};{i}`\n",
    "\n",
    "# Fit the complete data\n",
    "WITH A LOOP IMPLEMENTED\n",
    "This file is fitting for different cuts on the BDT variable\n",
    "\n",
    "In the `fit_common_uncertainties.ipynb`, the fixed parameters of the (1) $D^*\\pi\\pi\\pi$ and (2) $D^*K\\pi\\pi$  distributions have been changed within their uncertainty intervals, according to a gaussian. $n_sig$ have been computed for each of this variation.\n",
    "\n",
    "The goal of this documend is \n",
    "- plotting the two $n_{sig}$ distributions.\n",
    "    - **Mode 1**: $n_{sig}$ distribution by varying the tail parameters of $D^*\\pi\\pi\\pi$\n",
    "    - **Mode 2**: $n_{sig}$ distribution by varying all the parameters of $D^*K\\pi\\pi$ \n",
    "    - **Mode 2**: $n_{sig}$ distribution by varying all the parameters of $D^*D_s$ \n",
    "- plotting the changed parameters in these 2 modes\n",
    "- computed the systematic uncertainty, which is the quadratic sum of the standard deviation of the $n_{sig}$ distributionobtained with the 2 modes"
   ]
  },
  {
   "cell_type": "code",
   "execution_count": 1,
   "metadata": {},
   "outputs": [],
   "source": [
    "data_name_common = 'common_B0TODst3pi_Dst_constr'\n",
    "data_name_B0toDstDs_common = 'common_B0TODstDs_Dst_constr'\n",
    "\n",
    "BDT = -1.25\n",
    "\n",
    "data_name_MC = 'MC_constr_opposedCB_sharedMean'\n",
    "data_name_KPiPi = \"data_KPiPi_constr\"\n",
    "\n",
    "data_name = f'{data_name_common}_BDT{BDT}'\n",
    "data_name_B0toDstDs = f'{data_name_B0toDstDs_common}_BDT{BDT}'"
   ]
  },
  {
   "cell_type": "markdown",
   "metadata": {},
   "source": [
    "## Import"
   ]
  },
  {
   "cell_type": "code",
   "execution_count": 2,
   "metadata": {
    "scrolled": true
   },
   "outputs": [],
   "source": [
    "from uncertainties import unumpy as unp\n",
    "from uncertainties import ufloat\n",
    "import zfit\n",
    "\n",
    "from math import sqrt\n",
    "import numpy as np\n",
    "\n",
    "from bd2dst3pi.locations import loc\n",
    "\n",
    "import sys\n",
    "sys.path.append(loc.ROOT + '/library')\n",
    "\n",
    "from HEA.fit import retrieve_params, get_params_without_BDT\n",
    "from HEA.plot.tools import save_fig\n",
    "from HEA.plot import plot_hist_var\n",
    "from HEA.plot.fit import plot_hist_fit_var\n",
    "from HEA.fit.fit import define_zparams, sum_crystalball_or_gaussian"
   ]
  },
  {
   "cell_type": "markdown",
   "metadata": {},
   "source": [
    "## Names of the datasets"
   ]
  },
  {
   "cell_type": "markdown",
   "metadata": {},
   "source": [
    "## Load data"
   ]
  },
  {
   "cell_type": "markdown",
   "metadata": {},
   "source": [
    "### Name of the parameters"
   ]
  },
  {
   "cell_type": "code",
   "execution_count": 3,
   "metadata": {},
   "outputs": [],
   "source": [
    "latex_params_KPiPi = {\n",
    "    'alphaL_Kpipi'           : '$\\\\alpha_{L, D^* K\\\\pi\\\\pi}$',\n",
    "    'alphaR_Kpipi'           : '$\\\\alpha_{R, D^* K\\\\pi\\\\pi}$',\n",
    "    'nL_Kpipi'               : '$n_{L, D^* K\\\\pi\\\\pi}$',\n",
    "    'nR_Kpipi'               : '$n_{R, D^* K\\\\pi\\\\pi}$',\n",
    "    'fraction_Kpipi'         : '$f_{\\\\frac{L}{R},D^* K\\\\pi\\\\pi}$',\n",
    "    'muL_Kpipi'              : '$\\\\mu_{L, D^* K\\\\pi\\\\pi}$',\n",
    "    'sigmaL_Kpipi'           : '$\\\\sigma_{L, D^* K\\\\pi\\\\pi}$',\n",
    "    'muR_Kpipi'              : '$\\\\mu_{R, D^* K\\\\pi\\\\pi}$',\n",
    "    'sigmaR_Kpipi'           : '$\\\\sigma_{R, D^* K\\\\pi\\\\pi}$',\n",
    "}\n",
    "\n",
    "latex_params = {\n",
    "    # Signal\n",
    "    'mu'      : '$\\\\mu_S$',\n",
    "    'sigmaL'  : '$\\\\sigma_{L,S}$',\n",
    "    'sigmaR'  : '$\\\\sigma_{R,S}$',    \n",
    "    'alphaL'  : '$\\\\alpha_{L,S}$',\n",
    "    'alphaR'  : '$\\\\alpha_{R,S}$',\n",
    "    'nL'      : '$n_{L,S}$',\n",
    "    'nR'      : '$n_{R,S}$',\n",
    "    'fraction': '$f_{\\\\frac{L}{R},S}$',\n",
    "    'n_sig'   : '$n_{B^0 \\\\to D^* 3\\\\pi}$',\n",
    "    'frac': '$f_{\\\\frac{L}{R},S}$',\n",
    "    'r_bkgK'  : '$\\\\frac{n_{B^0 \\\\to D^*K\\\\pi\\\\pi}}{n_{B^0 \\\\to D^* 3\\\\pi}}$',\n",
    "}\n",
    "\n",
    "latex_params_Ds = {\n",
    "    # Signal\n",
    "    f'mu_Ds'      : '$\\mu_{D^*D_s}$',\n",
    "    f'sigma_Ds'   : '$\\\\sigma_{D^*D_s}$',\n",
    "    f'n_sig_Ds'   : '$n_{D^*D_s}$',\n",
    "}"
   ]
  },
  {
   "cell_type": "code",
   "execution_count": 4,
   "metadata": {},
   "outputs": [],
   "source": [
    "latex_params_dic = {}\n",
    "latex_params_dic['1'] = latex_params\n",
    "latex_params_dic['2'] = latex_params_KPiPi\n",
    "latex_params_dic['2']['r_bkgK'] = latex_params_dic['1']['r_bkgK']\n",
    "latex_params_dic['3'] = latex_params_Ds\n"
   ]
  },
  {
   "cell_type": "markdown",
   "metadata": {},
   "source": [
    "### Start and end indices of mode 1 and mode 2"
   ]
  },
  {
   "cell_type": "code",
   "execution_count": 5,
   "metadata": {},
   "outputs": [],
   "source": [
    "modes = ['1', '2', '3']"
   ]
  },
  {
   "cell_type": "code",
   "execution_count": 6,
   "metadata": {},
   "outputs": [],
   "source": [
    "starts = {}\n",
    "ends = {}\n",
    "# Mode 1\n",
    "starts['1'] = 0\n",
    "ends['1'] = 1539\n",
    "\n",
    "# Mode 2\n",
    "starts['2'] = 0\n",
    "ends['2'] = 1662\n",
    "\n",
    "# Mode 3\n",
    "starts['3'] = 0\n",
    "ends['3'] = 1392"
   ]
  },
  {
   "cell_type": "markdown",
   "metadata": {},
   "source": [
    "### Statistical uncertainty"
   ]
  },
  {
   "cell_type": "code",
   "execution_count": 7,
   "metadata": {
    "scrolled": true
   },
   "outputs": [
    {
     "name": "stdout",
     "output_type": "stream",
     "text": [
      "optimal n_sig = 52321.955341015375\n"
     ]
    }
   ],
   "source": [
    "n_sig_opt = retrieve_params(f\"{data_name}\", folder_name=data_name_common)[f'n_sig|BDT{BDT}']\n",
    "n_sig_opt_err = retrieve_params(f\"{data_name}\", folder_name=data_name_common)[f'n_sig|BDT{BDT}_err']\n",
    "print('optimal n_sig =', n_sig_opt)"
   ]
  },
  {
   "cell_type": "markdown",
   "metadata": {},
   "source": [
    "### Nominal values of the parameters that were changed in mode 1 and 2"
   ]
  },
  {
   "cell_type": "markdown",
   "metadata": {},
   "source": [
    "Create 2 dictionnaries:\n",
    "- `saved_params`:\n",
    "    - key: `'Kpipi'`, `'pipipi'` or `'MC'`\n",
    "    - value: dictionnary of the fitted values\n",
    "        - key: name of the *optimal* fitted variable. Error if `_err` at the end of the name\n",
    "        - value: value\n",
    "- `params_mode`:\n",
    "    - key: mode, '1' or '2'\n",
    "    - value: dictionnary\n",
    "        - key: parameter\n",
    "        - value: type of data in which the nominal value is saved, 'Kpipi', 'pipipi' or 'MC'"
   ]
  },
  {
   "cell_type": "code",
   "execution_count": 8,
   "metadata": {},
   "outputs": [],
   "source": [
    "saved_params = {}\n",
    "\n",
    "## Retrieve the nominal value of the floated parameters in mode 1 and 2 (saved_params) ===========================\n",
    "# Fixed nR\n",
    "MC_params = retrieve_params(data_name_MC, folder_name='MC')\n",
    "saved_params['MC'] = {}\n",
    "for key, value in MC_params.items():\n",
    "    saved_params['MC'][key.replace('_MC','')] = value\n",
    "\n",
    "# fixed B0->DstKPiPi\n",
    "Kpipi_params = get_params_without_BDT(retrieve_params(data_name_KPiPi, folder_name='data_KPiPi'),\n",
    "                                     retrieve_err=True) # already in MeV \n",
    "saved_params['Kpipi'] = {}\n",
    "for key, value in Kpipi_params.items():\n",
    "    if '_err' in key:\n",
    "        key = key.replace('_err', '') + '_Kpipi' + '_err'\n",
    "    else:\n",
    "        key+= '_Kpipi'\n",
    "    saved_params['Kpipi'][key] = value\n",
    "\n",
    "# fixed B0->DstDs\n",
    "Ds_params = get_params_without_BDT(retrieve_params(data_name_B0toDstDs, folder_name=data_name_B0toDstDs_common),\n",
    "                                     retrieve_err=True) # already in MeV \n",
    "saved_params['Ds'] = {}\n",
    "for key, value in Ds_params.items():\n",
    "    if key != 'info_fit':\n",
    "        key = key.replace('_DstDs', '_Ds')\n",
    "        saved_params['Ds'][key] = value\n",
    "    \n",
    "# common with BDT cut (for starting values of the fit)\n",
    "saved_params['pipipi'] = get_params_without_BDT(retrieve_params(data_name_common, folder_name=data_name_common),\n",
    "                                               retrieve_err=True)\n",
    "\n",
    "# key = Parameters that were changed in modes 1 and 2\n",
    "# value = corresponding PDF ('pipipi' = B0->Dst 3pi and 'Kpipi' = B0-> Dst K pi pi)\n",
    "params_mode = {}\n",
    "\n",
    "params_mode['1'] = {'alphaR': 'pipipi', 'nR':'MC', 'alphaL': 'pipipi', 'nL':'pipipi'}\n",
    "\n",
    "params_mode['2'] = {'r_bkgK': 'pipipi'}\n",
    "for key in saved_params['Kpipi'].keys():\n",
    "    if '_err' not in key:\n",
    "        params_mode['2'][key] = 'Kpipi'\n",
    "\n",
    "params_mode['3'] = {'mu_Ds': 'Ds', 'sigma_Ds': 'Ds', 'n_sig_Ds': 'Ds'}\n",
    "\n",
    "        \n",
    "## Check that I did not forget a parameter in params_mode ========================================\n",
    "all_params = list(params_mode['1'].keys()) + list(params_mode['2'].keys()) # all the parameters that were changed in mode 1 and 2\n",
    "\n",
    "# Result of the fit of index 18\n",
    "result_fit = {}\n",
    "result_fit['1'] = retrieve_params(f\"{data_name}u1;18\", folder_name=data_name)\n",
    "result_fit['2'] = retrieve_params(f\"{data_name}u2;18\", folder_name=data_name)\n",
    "\n",
    "for m in '1', '2':\n",
    "    r_params = result_fit[m]['r_params']\n",
    "    for param in r_params.keys():\n",
    "        assert param in all_params, print(list(r_params.keys()), all_params)\n",
    "        # assert that the floated parameter of one of the fit in mode 1/2 is in all_params \n",
    "\n",
    "result_fit['3'] = retrieve_params(f\"{data_name}u3;18\", folder_name=data_name)\n",
    "all_params += list(params_mode['3'].keys())\n",
    "for m in '3':\n",
    "    r_params = result_fit[m]['r_params']\n",
    "    for param in r_params.keys():\n",
    "        assert param in all_params, print(list(r_params.keys()), all_params)\n",
    "        # assert that the floated parameter of one of the fit in mode 1/2 is in all_params "
   ]
  },
  {
   "cell_type": "code",
   "execution_count": 9,
   "metadata": {},
   "outputs": [
    {
     "data": {
      "text/plain": [
       "{'lambda_Ds': -9.117706589734098e-15,\n",
       " 'lambda_Ds_err': 4.1630389780893493e-07,\n",
       " 'mu2_Ds': 5167.9060601861165,\n",
       " 'mu2_Ds_err': 3.185638649632322,\n",
       " 'mu_Ds': 5279.309933849582,\n",
       " 'mu_Ds_err': 0.5343270732201247,\n",
       " 'n_bkg2_Ds': 650.4807854398955,\n",
       " 'n_bkg2_Ds_err': 46.877823139086004,\n",
       " 'n_bkg_Ds': 53.19558598239224,\n",
       " 'n_bkg_Ds_err': 83.20729009350175,\n",
       " 'n_sig_Ds': 1381.332165202385,\n",
       " 'n_sig_Ds_err': 52.114928774296885,\n",
       " 'sigma2_Ds': 26.720206885368206,\n",
       " 'sigma2_Ds_err': 2.2904417336364253,\n",
       " 'sigma_Ds': 12.452848429314047,\n",
       " 'sigma_Ds_err': 0.5104525333101287}"
      ]
     },
     "execution_count": 9,
     "metadata": {},
     "output_type": "execute_result"
    }
   ],
   "source": [
    "saved_params['Ds']"
   ]
  },
  {
   "cell_type": "markdown",
   "metadata": {},
   "source": [
    "### Retrieve the results of the fits which converged"
   ]
  },
  {
   "cell_type": "code",
   "execution_count": 10,
   "metadata": {},
   "outputs": [],
   "source": [
    "def test_mode(r_params, mode):\n",
    "    \"\"\" Test that I did what I wanted to do during the mode 1 and 2, i.e.\n",
    "    check that in a result of fit of a given mode, the right parameters have been changed\n",
    "    and the other parameters are fixed\n",
    "    \n",
    "    @r_params   :: result of the fit (saved in the json file)\n",
    "    @mode       :: '1' or '2', mode associated of the fit\n",
    "    \n",
    "    @returns    :: True, if changed the good parameters and fixed the other parameters\n",
    "    \"\"\"\n",
    "    file_ok = True\n",
    "    for amode in params_mode.keys(): # loop on the modes\n",
    "        \n",
    "        # if this is the mode of the fit the corresponding parameters must have changed\n",
    "        if amode==mode:\n",
    "            for param, file in params_mode[amode].items():\n",
    "                if saved_params[file][param]==r_params[param]:\n",
    "                    print(f'Error in param {param} ; should change')\n",
    "                    file_ok = False\n",
    "        # if not, the corresponding variables of the mode must not have changed \n",
    "        else:\n",
    "            for param, file in params_mode[amode].items():\n",
    "                if param not in saved_params[file]:\n",
    "                    print(f'{param} not in saved_params[file]')\n",
    "                    print(saved_params[file])\n",
    "#                 elif param not in r_params:\n",
    "#                     print(f'{param} not in r_params')\n",
    "#                     print(r_params)\n",
    "                if param in r_params and saved_params[file][param]!=r_params[param]:\n",
    "                    print(f'Error in param {param} ; should not change')\n",
    "                    print(f\"Saved result: {saved_params[file][param]}\")\n",
    "                    print(f\"What it should be: {r_params[param]}\")\n",
    "                    file_ok = False\n",
    "    return file_ok"
   ]
  },
  {
   "cell_type": "code",
   "execution_count": 11,
   "metadata": {
    "scrolled": true
   },
   "outputs": [
    {
     "name": "stdout",
     "output_type": "stream",
     "text": [
      "load mode 1\n",
      "Fit number 20 not ok\n",
      "Fit number 161 not ok\n",
      "Fit number 168 not ok\n",
      "Fit number 250 not ok\n",
      "Fit number 280 not ok\n",
      "Fit number 400 not ok\n",
      "Fit number 515 not ok\n",
      "Fit number 519 not ok\n",
      "Fit number 560 not ok\n",
      "Fit number 567 not ok\n",
      "Fit number 605 not ok\n",
      "Fit number 654 not ok\n",
      "Fit number 657 not ok\n",
      "Fit number 1523 not ok\n",
      "load mode 2\n",
      "Fit number 23 not ok\n",
      "Fit number 152 not ok\n",
      "Fit number 157 not ok\n",
      "Fit number 305 not ok\n",
      "Fit number 406 not ok\n",
      "Fit number 443 not ok\n",
      "Fit number 507 not ok\n",
      "Fit number 649 not ok\n",
      "Fit number 720 not ok\n",
      "Fit number 925 not ok\n",
      "Fit number 969 not ok\n",
      "Fit number 1077 not ok\n",
      "Fit number 1150 not ok\n",
      "Fit number 1223 not ok\n",
      "Fit number 1434 not ok\n",
      "Fit number 1515 not ok\n",
      "Fit number 1568 not ok\n",
      "load mode 3\n",
      "Fit number 0 not ok\n",
      "Fit number 4 not ok\n",
      "Fit number 9 not ok\n",
      "Fit number 20 not ok\n",
      "Fit number 30 not ok\n",
      "Fit number 39 not ok\n",
      "Fit number 44 not ok\n",
      "Fit number 54 not ok\n",
      "Fit number 79 not ok\n",
      "Fit number 107 not ok\n",
      "Fit number 113 not ok\n",
      "Fit number 126 not ok\n",
      "Fit number 137 not ok\n",
      "Fit number 140 not ok\n",
      "Fit number 191 not ok\n",
      "Fit number 196 not ok\n",
      "Fit number 197 not ok\n",
      "Fit number 207 not ok\n",
      "Fit number 222 not ok\n",
      "Fit number 233 not ok\n",
      "Fit number 235 not ok\n",
      "Fit number 239 not ok\n",
      "Fit number 245 not ok\n",
      "Fit number 255 not ok\n",
      "Fit number 257 not ok\n",
      "Fit number 258 not ok\n",
      "Fit number 259 not ok\n",
      "Fit number 268 not ok\n",
      "Fit number 282 not ok\n",
      "Fit number 295 not ok\n",
      "Fit number 298 not ok\n",
      "Fit number 300 not ok\n",
      "Fit number 308 not ok\n",
      "Fit number 334 not ok\n",
      "Fit number 361 not ok\n",
      "Fit number 365 not ok\n",
      "Fit number 369 not ok\n",
      "Fit number 383 not ok\n",
      "Fit number 410 not ok\n",
      "Fit number 412 not ok\n",
      "Fit number 414 not ok\n",
      "Fit number 416 not ok\n",
      "Fit number 429 not ok\n",
      "Fit number 438 not ok\n",
      "Fit number 454 not ok\n",
      "Fit number 462 not ok\n",
      "Fit number 468 not ok\n",
      "Fit number 484 not ok\n",
      "Fit number 488 not ok\n",
      "Fit number 495 not ok\n",
      "Fit number 498 not ok\n",
      "Fit number 503 not ok\n",
      "Fit number 504 not ok\n",
      "Fit number 516 not ok\n",
      "Fit number 523 not ok\n",
      "Fit number 543 not ok\n",
      "Fit number 545 not ok\n",
      "Fit number 574 not ok\n",
      "Fit number 582 not ok\n",
      "Fit number 585 not ok\n",
      "Fit number 586 not ok\n",
      "Fit number 591 not ok\n",
      "Fit number 611 not ok\n",
      "Fit number 625 not ok\n",
      "Fit number 636 not ok\n",
      "Fit number 646 not ok\n",
      "Fit number 648 not ok\n",
      "Fit number 669 not ok\n",
      "Fit number 677 not ok\n",
      "Fit number 678 not ok\n",
      "Fit number 684 not ok\n",
      "Fit number 688 not ok\n",
      "Fit number 696 not ok\n",
      "Fit number 707 not ok\n",
      "Fit number 711 not ok\n",
      "Fit number 712 not ok\n",
      "Fit number 713 not ok\n",
      "Fit number 719 not ok\n",
      "Fit number 727 not ok\n",
      "Fit number 747 not ok\n",
      "Fit number 757 not ok\n",
      "Fit number 758 not ok\n",
      "Fit number 760 not ok\n",
      "Fit number 768 not ok\n",
      "Fit number 772 not ok\n",
      "Fit number 790 not ok\n",
      "Fit number 795 not ok\n",
      "Fit number 801 not ok\n",
      "Fit number 807 not ok\n",
      "Fit number 809 not ok\n",
      "Fit number 817 not ok\n",
      "Fit number 823 not ok\n",
      "Fit number 824 not ok\n",
      "Fit number 837 not ok\n",
      "Fit number 840 not ok\n",
      "Fit number 842 not ok\n",
      "Fit number 843 not ok\n",
      "Fit number 845 not ok\n",
      "Fit number 852 not ok\n",
      "Fit number 870 not ok\n",
      "Fit number 895 not ok\n",
      "Fit number 911 not ok\n",
      "Fit number 914 not ok\n",
      "Fit number 941 not ok\n",
      "Fit number 947 not ok\n",
      "Fit number 949 not ok\n",
      "Fit number 953 not ok\n",
      "Fit number 958 not ok\n",
      "Fit number 961 not ok\n",
      "Fit number 965 not ok\n",
      "Fit number 991 not ok\n",
      "Fit number 1005 not ok\n",
      "Fit number 1025 not ok\n",
      "Fit number 1042 not ok\n",
      "Fit number 1055 not ok\n",
      "Fit number 1057 not ok\n",
      "Fit number 1065 not ok\n",
      "Fit number 1070 not ok\n",
      "Fit number 1082 not ok\n",
      "Fit number 1087 not ok\n",
      "Fit number 1093 not ok\n",
      "Fit number 1097 not ok\n",
      "Fit number 1107 not ok\n",
      "Fit number 1113 not ok\n",
      "Fit number 1128 not ok\n",
      "Fit number 1131 not ok\n",
      "Fit number 1135 not ok\n",
      "Fit number 1140 not ok\n",
      "Fit number 1142 not ok\n",
      "Fit number 1166 not ok\n",
      "Fit number 1168 not ok\n",
      "Fit number 1172 not ok\n",
      "Fit number 1181 not ok\n",
      "Fit number 1190 not ok\n",
      "Fit number 1193 not ok\n",
      "Fit number 1197 not ok\n",
      "Fit number 1201 not ok\n",
      "Fit number 1202 not ok\n",
      "Fit number 1203 not ok\n",
      "Fit number 1208 not ok\n",
      "Fit number 1221 not ok\n",
      "Fit number 1223 not ok\n",
      "Fit number 1224 not ok\n",
      "Fit number 1229 not ok\n",
      "Fit number 1231 not ok\n",
      "Fit number 1236 not ok\n",
      "Fit number 1254 not ok\n",
      "Fit number 1257 not ok\n",
      "Fit number 1269 not ok\n",
      "Fit number 1284 not ok\n",
      "Fit number 1303 not ok\n",
      "Fit number 1317 not ok\n",
      "Fit number 1338 not ok\n",
      "Fit number 1340 not ok\n",
      "Fit number 1349 not ok\n",
      "Fit number 1355 not ok\n",
      "Fit number 1357 not ok\n",
      "Fit number 1370 not ok\n",
      "Fit number 1375 not ok\n",
      "Fit number 1390 not ok\n"
     ]
    }
   ],
   "source": [
    "# dictionnary of the fitted systematic n_sig for the modes 1 and 2\n",
    "n_sig_u = {}\n",
    "for m in modes:\n",
    "    n_sig_u[m] = []\n",
    "\n",
    "n_sig = {}\n",
    "for m in modes:\n",
    "    n_sig[m] = []\n",
    "\n",
    "# dictionnary of the parameters that were changed during mode 1 and 2\n",
    "parameters = {m : {} for m in modes}\n",
    "for m in modes:\n",
    "    for param in params_mode[m]:\n",
    "            parameters[m][param] = []\n",
    "\n",
    "\n",
    "# list of the fits that are not ok\n",
    "fit_not_ok = {m : [] for m in modes}\n",
    "\n",
    "\n",
    "for m in modes:\n",
    "    print(f'load mode {m}')\n",
    "    for i in range(starts[m], ends[m]):\n",
    "        # retrieve the result of the fit of index i\n",
    "        result_fit = retrieve_params(f\"{data_name}u{m};{i}\", folder_name=data_name)\n",
    "        # check that the fit is ok. In this case, add it to the n_sig list\n",
    "        if result_fit['fit_ok'] and 'True' not in result_fit['info_params']:\n",
    "            n_sig_u[m].append(ufloat(result_fit[f'n_sig;{i}'], result_fit[f'n_sig;{i}_err']))\n",
    "            n_sig[m].append(result_fit[f'n_sig;{i}'])\n",
    "        else:\n",
    "            print(f'Fit number {i} not ok')\n",
    "            if 'True' in result_fit['info_params']:\n",
    "                print(\"(params at lim)\")\n",
    "                print(result_fit['info_params'])\n",
    "            fit_not_ok[m].append(i)\n",
    "        \n",
    "        if 'r_params' in result_fit:\n",
    "            test_ok = test_mode(result_fit['r_params'], m)\n",
    "            if not test_ok:\n",
    "                print(f'error in {i}')\n",
    "        else:\n",
    "            print(f'r_params not in {i}')\n",
    "            \n",
    "        for param in params_mode[m]:\n",
    "            parameters[m][param].append(result_fit['r_params'][param])\n",
    "\n",
    "for m in modes:\n",
    "    n_sig[m] = np.array(n_sig[m])"
   ]
  },
  {
   "cell_type": "markdown",
   "metadata": {},
   "source": [
    "## Distribution of $n_{B^0\\to D^*3\\pi}$ obtained with mode 1 and mode 2"
   ]
  },
  {
   "cell_type": "code",
   "execution_count": 12,
   "metadata": {},
   "outputs": [],
   "source": [
    "colors = {}\n",
    "colors['1'] = 'green'\n",
    "colors['2'] = 'saddlebrown'\n",
    "colors['3'] = 'red'"
   ]
  },
  {
   "cell_type": "code",
   "execution_count": 13,
   "metadata": {
    "scrolled": false
   },
   "outputs": [
    {
     "name": "stderr",
     "output_type": "stream",
     "text": [
      "findfont: Font family ['serif'] not found. Falling back to DejaVu Sans.\n",
      "findfont: Font family ['serif'] not found. Falling back to DejaVu Sans.\n"
     ]
    },
    {
     "name": "stdout",
     "output_type": "stream",
     "text": [
      "Figure saved in /afs/cern.ch/user/c/correian/bd2dst3pi/output/plots//common_B0TODst3pi_Dst_constr_BDT-1.25/modes\n"
     ]
    },
    {
     "data": {
      "image/png": "[encoded data removed]",
      "text/plain": [
       "<Figure size 576x432 with 1 Axes>"
      ]
     },
     "metadata": {
      "needs_background": "light"
     },
     "output_type": "display_data"
    }
   ],
   "source": [
    "fig, ax = plot_hist_var([unp.nominal_values(n_sig['3']),\n",
    "                           unp.nominal_values(n_sig['2']),\n",
    "                           unp.nominal_values(n_sig['1'])], \n",
    "                          'signal_yield', \n",
    "                          '$n_{B^0 \\\\to D^{*-}3\\\\pi}$',\n",
    "               data_names = ['Parameters of $B^0 \\\\to D^{*-} (D_s^+ \\\\to \\pi^+\\pi^+\\pi^-$',\n",
    "                             'Parameters of $B^0 \\\\to D^{*-} K^+ \\pi^+\\pi^-$',\n",
    "                             'Tail parameters of $B^0 \\\\to D^{*-} \\pi^+\\pi^+\\pi^-$'\n",
    "                            ],\n",
    "              folder_name=data_name, n_bins=30, bar_mode=True, density=True, colors=list(colors.values()),\n",
    "                         pos_text_LHC=[0.98, 0.6, 'right'], high=54000, save_fig=False, alpha=[0.75, 0.6, 0.45])\n",
    "ax.axvline(x=n_sig_opt, color='blue', linewidth=1.)\n",
    "ax.axvspan(n_sig_opt-n_sig_opt_err, n_sig_opt+n_sig_opt_err, alpha=0.1)\n",
    "ax.axvline(x=n_sig_opt-n_sig_opt_err, color='blue', linewidth=1., linestyle='--')\n",
    "ax.axvline(x=n_sig_opt+n_sig_opt_err, color='blue', linewidth=1., linestyle='--')\n",
    "ax.legend(fontsize=16, framealpha=1)\n",
    "\n",
    "save_fig(fig, f'modes', folder_name=data_name)"
   ]
  },
  {
   "cell_type": "markdown",
   "metadata": {},
   "source": [
    "## Distribution of the variables that were changed in mode 1 and mode 2"
   ]
  },
  {
   "cell_type": "code",
   "execution_count": 14,
   "metadata": {},
   "outputs": [
    {
     "data": {
      "text/plain": [
       "dict_keys(['mu_Ds', 'sigma_Ds', 'n_sig_Ds'])"
      ]
     },
     "execution_count": 14,
     "metadata": {},
     "output_type": "execute_result"
    }
   ],
   "source": [
    "parameters[m].keys()"
   ]
  },
  {
   "cell_type": "code",
   "execution_count": 15,
   "metadata": {
    "scrolled": true
   },
   "outputs": [
    {
     "name": "stderr",
     "output_type": "stream",
     "text": [
      "/afs/cern.ch/user/c/correian/bd2dst3pi//library/HEA/plot/fit.py:761: UserWarning: The function <function Space.limits at 0x7f1ffe915dd0> may does not return the actual area/limits but rather the rectangular limits. <zfit Space obs=('alphaR',), axes=None, limits=(array([[-2.2087998]]), array([[-1.37447404]]))> can also have functional limits that are arbitrarily defined and lay inside the rect_limits. To test if a value is inside, use `inside` or `filter`.\n",
      "  low = float(obs.limits[0])\n"
     ]
    },
    {
     "name": "stdout",
     "output_type": "stream",
     "text": [
      "Number of bins: 20\n",
      "Width of the bins: 0.04171628815497552\n",
      "\n",
      "Number of d.o.f. in the model:  2\n",
      "Reduced chi2:  1.0277578338512714\n",
      "\n",
      "Mean of the normalised residuals: -0.06327026344452717\n",
      "Std of the normalised residuals: 0.9596764685193673\n",
      "Figure saved in /afs/cern.ch/user/c/correian/bd2dst3pi/output/plots//common_B0TODst3pi_Dst_constr_BDT-1.25/parameters/alphaR_mode1\n",
      "Number of bins: 20\n",
      "Width of the bins: 0.004092486429098473\n",
      "\n",
      "Number of d.o.f. in the model:  2\n",
      "Reduced chi2:  0.8390491672848504\n",
      "\n",
      "Mean of the normalised residuals: 0.0443272950273248\n",
      "Std of the normalised residuals: 0.8678590562251025\n",
      "Figure saved in /afs/cern.ch/user/c/correian/bd2dst3pi/output/plots//common_B0TODst3pi_Dst_constr_BDT-1.25/parameters/r_bkgK_mode2\n",
      "Number of bins: 20\n",
      "Width of the bins: 0.20870747089247743\n",
      "\n",
      "Number of d.o.f. in the model:  2\n",
      "Reduced chi2:  0.6753311936802153\n",
      "\n",
      "Mean of the normalised residuals: 0.14453859776412417\n",
      "Std of the normalised residuals: 0.808974528299004\n",
      "Figure saved in /afs/cern.ch/user/c/correian/bd2dst3pi/output/plots//common_B0TODst3pi_Dst_constr_BDT-1.25/parameters/mu_Ds_mode3\n"
     ]
    },
    {
     "data": {
      "image/png": "[encoded data removed]",
      "text/plain": [
       "<Figure size 864x720 with 2 Axes>"
      ]
     },
     "metadata": {
      "needs_background": "light"
     },
     "output_type": "display_data"
    },
    {
     "data": {
      "image/png": "[encoded data removed]",
      "text/plain": [
       "<Figure size 864x720 with 2 Axes>"
      ]
     },
     "metadata": {
      "needs_background": "light"
     },
     "output_type": "display_data"
    },
    {
     "data": {
      "image/png": "[encoded data removed]",
      "text/plain": [
       "<Figure size 864x720 with 2 Axes>"
      ]
     },
     "metadata": {
      "needs_background": "light"
     },
     "output_type": "display_data"
    }
   ],
   "source": [
    "\n",
    "for m in modes:\n",
    "    for name_param, data_param in parameters[m].items():\n",
    "\n",
    "        type_data = params_mode[m][name_param]\n",
    "        mean = saved_params[type_data][name_param]\n",
    "        sigma = saved_params[type_data][name_param + '_err']\n",
    "\n",
    "        initial_values = {\n",
    "            f'mu_{name_param}'      :{ 'value': mean   , 'floating': True},\n",
    "            f'sigma_{name_param}'   :{ 'value': sigma  , 'floating': True},\n",
    "        }\n",
    "\n",
    "        zparams = define_zparams(initial_values)\n",
    "\n",
    "        obs = zfit.Space(name_param, limits=(min(data_param), max(data_param)))\n",
    "\n",
    "        model = zfit.pdf.Gauss(zparams[f'mu_{name_param}'], zparams[f'sigma_{name_param}'], obs=obs)\n",
    "\n",
    "        if 'mu' in name_param or 'sigma' in name_param:\n",
    "            unit = 'MeV/$c^2$'\n",
    "        else:\n",
    "            unit=None        \n",
    "\n",
    "        fig, ax, _ = plot_hist_fit_var(data_param, name_param,\n",
    "                                       latex_params_dic[m][name_param],\n",
    "                                       unit=unit,\n",
    "                                       obs=obs, models = model,\n",
    "                                       data_name = f'mode {m}',\n",
    "                                       folder_name=f'{data_name}/parameters', n_bins=20, \n",
    "                                       bar_mode=False, colors=colors[m],\n",
    "                                       pos_text_LHC='right', save_fig=False)\n",
    "\n",
    "        #         fig, ax = plot_hist_var(data_param, name_param, branchiable = latex_params_dic[m][name_param],\n",
    "        #                data_names = f'mode {m}',\n",
    "        #               folder_name=f'{data_name}/parameters', n_bins=20, bar_mode=False, colors=colors[m],\n",
    "        #                          pos_text_LHC='right', save_fig=False)\n",
    "        file = params_mode[m][name_param]\n",
    "        ax.axvline(x=saved_params[file][name_param], color='blue', linewidth=2.)\n",
    "        save_fig(fig, fig_name =f'{name_param}_mode{m}', folder_name=f'{data_name}/parameters')"
   ]
  },
  {
   "cell_type": "code",
   "execution_count": 16,
   "metadata": {
    "scrolled": true
   },
   "outputs": [
    {
     "name": "stdout",
     "output_type": "stream",
     "text": [
      "51015.22266714085 57093.48869214426\n",
      "51158.358656833785 52997.02901239228\n"
     ]
    }
   ],
   "source": [
    "print(min(n_sig['1']), max(n_sig['1']))\n",
    "print(min(n_sig['2']), max(n_sig['2']))"
   ]
  },
  {
   "cell_type": "markdown",
   "metadata": {},
   "source": [
    "## COMPUTATION WITH `np.std`"
   ]
  },
  {
   "cell_type": "markdown",
   "metadata": {},
   "source": [
    "### Standard deviation of mode 1 and mode 2"
   ]
  },
  {
   "cell_type": "code",
   "execution_count": 17,
   "metadata": {},
   "outputs": [
    {
     "name": "stdout",
     "output_type": "stream",
     "text": [
      "Uncertainty associated with the mode 1: 805.6719507088303\n",
      "Uncertainty associated with the mode 2: 339.71129309995536\n",
      "Uncertainty associated with the mode 3: 52.77090239122246\n"
     ]
    }
   ],
   "source": [
    "n_std = {m: np.std(n_sig[m]) for m in modes}\n",
    "\n",
    "for m in modes:\n",
    "    print(f\"Uncertainty associated with the mode {m}: {n_std[m]}\")\n",
    " "
   ]
  },
  {
   "cell_type": "markdown",
   "metadata": {},
   "source": [
    "### Total standard deviation of the two modes, = systematic uncertainty"
   ]
  },
  {
   "cell_type": "code",
   "execution_count": 18,
   "metadata": {},
   "outputs": [],
   "source": [
    "sigma_syst = sqrt(n_std['1']**2+n_std['2']**2+n_std['3']**2)"
   ]
  },
  {
   "cell_type": "code",
   "execution_count": 19,
   "metadata": {},
   "outputs": [
    {
     "name": "stdout",
     "output_type": "stream",
     "text": [
      "Total systematic uncertainty\n",
      "875.9542356526393\n"
     ]
    }
   ],
   "source": [
    "print(\"Total systematic uncertainty\")\n",
    "print(sigma_syst)"
   ]
  },
  {
   "cell_type": "markdown",
   "metadata": {},
   "source": [
    "### systematic uncertainty compared to the yield"
   ]
  },
  {
   "cell_type": "code",
   "execution_count": 20,
   "metadata": {},
   "outputs": [
    {
     "data": {
      "text/plain": [
       "0.01674161888529375"
      ]
     },
     "execution_count": 20,
     "metadata": {},
     "output_type": "execute_result"
    }
   ],
   "source": [
    "sigma_syst/n_sig_opt"
   ]
  },
  {
   "cell_type": "markdown",
   "metadata": {},
   "source": [
    "### normalisation mode yield and statistical uncertainty"
   ]
  },
  {
   "cell_type": "code",
   "execution_count": 21,
   "metadata": {},
   "outputs": [
    {
     "data": {
      "text/plain": [
       "52321.955341015375"
      ]
     },
     "execution_count": 21,
     "metadata": {},
     "output_type": "execute_result"
    }
   ],
   "source": [
    "n_sig_opt"
   ]
  },
  {
   "cell_type": "code",
   "execution_count": 22,
   "metadata": {},
   "outputs": [
    {
     "data": {
      "text/plain": [
       "278.8860881796209"
      ]
     },
     "execution_count": 22,
     "metadata": {},
     "output_type": "execute_result"
    }
   ],
   "source": [
    "n_sig_opt_err"
   ]
  },
  {
   "cell_type": "markdown",
   "metadata": {},
   "source": [
    "### total uncertainty (statistical + systematic)"
   ]
  },
  {
   "cell_type": "code",
   "execution_count": 23,
   "metadata": {},
   "outputs": [],
   "source": [
    "sigma_tot = sqrt(sigma_syst**2+n_sig_opt_err**2)"
   ]
  },
  {
   "cell_type": "code",
   "execution_count": 24,
   "metadata": {
    "scrolled": false
   },
   "outputs": [
    {
     "data": {
      "text/plain": [
       "919.2786700114013"
      ]
     },
     "execution_count": 24,
     "metadata": {},
     "output_type": "execute_result"
    }
   ],
   "source": [
    "sigma_tot"
   ]
  },
  {
   "cell_type": "code",
   "execution_count": 25,
   "metadata": {},
   "outputs": [
    {
     "data": {
      "text/plain": [
       "0.01756965434529117"
      ]
     },
     "execution_count": 25,
     "metadata": {},
     "output_type": "execute_result"
    }
   ],
   "source": [
    "sigma_tot/n_sig_opt"
   ]
  },
  {
   "cell_type": "markdown",
   "metadata": {},
   "source": [
    "### Non optimal"
   ]
  },
  {
   "cell_type": "code",
   "execution_count": 26,
   "metadata": {},
   "outputs": [],
   "source": [
    "n_sig_nonOpt = retrieve_params(f\"{data_name_common}\", folder_name=data_name_common)[f'n_sig']\n",
    "n_sig_nonOpt_err = retrieve_params(f\"{data_name_common}\", folder_name=data_name_common)[f'n_sig_err']"
   ]
  },
  {
   "cell_type": "code",
   "execution_count": 27,
   "metadata": {},
   "outputs": [
    {
     "data": {
      "text/plain": [
       "0.02262394580343417"
      ]
     },
     "execution_count": 27,
     "metadata": {},
     "output_type": "execute_result"
    }
   ],
   "source": [
    "n_sig_nonOpt_err/n_sig_nonOpt"
   ]
  },
  {
   "cell_type": "markdown",
   "metadata": {},
   "source": [
    "### optimal"
   ]
  },
  {
   "cell_type": "code",
   "execution_count": 28,
   "metadata": {},
   "outputs": [
    {
     "data": {
      "text/plain": [
       "0.0053301923898283875"
      ]
     },
     "execution_count": 28,
     "metadata": {},
     "output_type": "execute_result"
    }
   ],
   "source": [
    "n_sig_opt_err/n_sig_opt"
   ]
  },
  {
   "cell_type": "code",
   "execution_count": null,
   "metadata": {},
   "outputs": [],
   "source": []
  }
 ],
 "metadata": {
  "kernelspec": {
   "display_name": "bd2dst3pi_env",
   "language": "python",
   "name": "bd2dst3pi_env"
  },
  "language_info": {
   "codemirror_mode": {
    "name": "ipython",
    "version": 3
   },
   "file_extension": ".py",
   "mimetype": "text/x-python",
   "name": "python",
   "nbconvert_exporter": "python",
   "pygments_lexer": "ipython3",
   "version": "3.7.8"
  }
 },
 "nbformat": 4,
 "nbformat_minor": 4
}
