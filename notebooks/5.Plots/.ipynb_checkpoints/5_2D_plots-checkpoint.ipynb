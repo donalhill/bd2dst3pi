{
 "cells": [
  {
   "cell_type": "code",
   "execution_count": null,
   "metadata": {},
   "outputs": [],
   "source": [
    "from root_pandas import read_root\n",
    "import matplotlib.pyplot as plt\n",
    "from bd2dst3pi.locations import loc\n",
    "\n",
    "import numpy as np\n",
    "import pandas as pd\n",
    "import matplotlib\n",
    "from bd2dst3pi.definitions import years, magnets\n",
    "import os.path as op\n",
    "from os import makedirs\n",
    "import sys\n",
    "sys.path.append(loc.SCRIPTS)\n",
    "import functions as fct\n",
    "\n",
    "\n",
    "#Gives us nice LaTeX fonts in the plots\n",
    "from matplotlib import rc\n",
    "#rc('font',**{'family':'serif','serif':['Roman']})\n",
    "rc('text', usetex=True)\n",
    "mpl.rcParams['axes.unicode_minus'] = False"
   ]
  },
  {
   "cell_type": "markdown",
   "metadata": {},
   "source": [
    "# Load variables\n",
    "\n",
    "Needed variables:\n",
    "- B0_M and BDT\n",
    "- B0_ENDVERTEX_X, B0_ENDVERTEX_Y, B0_ENDVERTEX_Z\n",
    "- tau_ENDVERTEX_X, tau_ENDVERTEX_Y, tau_ENDVERTEX_Z\n",
    "- tau_ENDVERTEX_XERR, tau_ENDVERTEX_YERR, tau_ENDVERTEX_ZERR"
   ]
  },
  {
   "cell_type": "code",
   "execution_count": null,
   "metadata": {},
   "outputs": [],
   "source": [
    "variables = []\n",
    "\n",
    "for particle in 'B0', 'Dst', 'D0','tau':\n",
    "    variables.append(f\"{particle}_M\")\n",
    "\n",
    "for particle in 'B0', 'tau':\n",
    "    for axis in 'X','Y','Z':\n",
    "        variables.append(f'{particle}_ENDVERTEX_{axis}')\n",
    "        variables.append(f'{particle}_ENDVERTEX_{axis}ERR')\n",
    "\n",
    "variables.append('BDT')"
   ]
  },
  {
   "cell_type": "code",
   "execution_count": null,
   "metadata": {
    "scrolled": false
   },
   "outputs": [],
   "source": [
    "df = fct.load_data(years,magnets,type_data = 'data_strip',vars = variables)"
   ]
  },
  {
   "cell_type": "markdown",
   "metadata": {},
   "source": [
    "# B0_M vs BDT"
   ]
  },
  {
   "cell_type": "code",
   "execution_count": null,
   "metadata": {},
   "outputs": [],
   "source": [
    "name_BDT = 'adaboost_0.8_without_P_cutDeltaM'\n",
    "low_B0_M = 5050.\n",
    "high_B0_M = 5550.\n"
   ]
  },
  {
   "cell_type": "code",
   "execution_count": null,
   "metadata": {},
   "outputs": [],
   "source": [
    "fct.plot_hist2d(df,['B0_M','BDT'],['B0_M','BDT'],['MeV/$c^2$',None],low=[low_B0_M,None],high=[high_B0_M,None],\n",
    "            name_folder = name_BDT,log_scale = True)"
   ]
  },
  {
   "cell_type": "code",
   "execution_count": null,
   "metadata": {
    "scrolled": false
   },
   "outputs": [],
   "source": [
    "fct.plot_hist({'data':df},'B0_M', 'B0_M', 'MeV/$c^2$', n_bins = 50,mode_hist=True,  low = low_B0_M, high = high_B0_M,\n",
    "            name_file = 'B0_M',name_folder = name_BDT)"
   ]
  },
  {
   "cell_type": "markdown",
   "metadata": {},
   "source": [
    "# B0_M vs tau_flight"
   ]
  },
  {
   "cell_type": "code",
   "execution_count": null,
   "metadata": {},
   "outputs": [],
   "source": [
    "df = add_flight_distance_tau(df)"
   ]
  },
  {
   "cell_type": "code",
   "execution_count": null,
   "metadata": {},
   "outputs": [],
   "source": [
    "fct.plot_hist2d(df,['B0_M','tau_flight'],['B0_M','3$\\pi$ flight distance'],['MeV/$c^2$','$\\mu$m'],\n",
    "            low=[low_B0_M,0],high=[high_B0_M,10], log_scale = True,\n",
    "            name_folder = name_BDT)"
   ]
  },
  {
   "cell_type": "code",
   "execution_count": null,
   "metadata": {
    "scrolled": true
   },
   "outputs": [],
   "source": [
    "fct.plot_hist({'data':df},'tau_flight', 'tau\\_flight', '$\\mu$m', n_bins = 100,mode_hist=True,low = 0, high = 200,\n",
    "            name_file = 'tau_flight',name_folder = name_BDT)\n",
    "fct.plot_hist({'data':df},'tau_flight_Z', 'tau\\_flight\\_Z', '$\\mu$m', n_bins = 100,mode_hist=True,low = 0, high = 200,\n",
    "            name_file = 'tau_flight_Z',name_folder = name_BDT)"
   ]
  },
  {
   "cell_type": "code",
   "execution_count": null,
   "metadata": {},
   "outputs": [],
   "source": [
    "fct.plot_hist({'data':df},'tau_M', 'tau\\_M', 'MeV/$c^2$', n_bins = 100,mode_hist=True,\n",
    "            name_file = 'tau_M',name_folder = name_BDT)"
   ]
  },
  {
   "cell_type": "code",
   "execution_count": null,
   "metadata": {},
   "outputs": [],
   "source": [
    "fct.plot_hist2d(df,['tau_M','tau_flight'],['tau_M','3$\\pi$ flight distance'],['MeV/$c^2$','$\\mu$m'],\n",
    "            low=[None,None],high=[None,None], log_scale = True,\n",
    "            name_folder = name_BDT)"
   ]
  },
  {
   "cell_type": "code",
   "execution_count": null,
   "metadata": {},
   "outputs": [],
   "source": [
    "fct.plot_hist2d(df,['tau_M','tau_flight'],['tau_M','3$\\pi$ flight distance'],['MeV/$c^2$','$\\mu$m'],\n",
    "            low=[1800,0],high=[2000,20], \n",
    "            name_folder = name_BDT)"
   ]
  },
  {
   "cell_type": "code",
   "execution_count": null,
   "metadata": {},
   "outputs": [],
   "source": []
  },
  {
   "cell_type": "code",
   "execution_count": null,
   "metadata": {},
   "outputs": [],
   "source": []
  }
 ],
 "metadata": {
  "kernelspec": {
   "display_name": "bd2dst3pi_env",
   "language": "python",
   "name": "bd2dst3pi_env"
  },
  "language_info": {
   "codemirror_mode": {
    "name": "ipython",
    "version": 3
   },
   "file_extension": ".py",
   "mimetype": "text/x-python",
   "name": "python",
   "nbconvert_exporter": "python",
   "pygments_lexer": "ipython3",
   "version": "3.7.8"
  }
 },
 "nbformat": 4,
 "nbformat_minor": 4
}
