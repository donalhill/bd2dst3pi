{
 "cells": [
  {
   "cell_type": "code",
   "execution_count": null,
   "metadata": {},
   "outputs": [],
   "source": [
    "import matplotlib.pyplot as plt\n",
    "from bd2dst3pi.locations import loc\n",
    "\n",
    "from bd2dst3pi.definitions import years, magnets\n",
    "\n",
    "\n",
    "import sys\n",
    "sys.path.append(loc.SCRIPTS)\n",
    "import functions as fct\n",
    "\n",
    "#Gives us nice LaTeX fonts in the plots\n",
    "import matplotlib as mpl\n",
    "from matplotlib import rc\n",
    "#rc('font',**{'family':'serif','serif':['Roman']})\n",
    "rc('text', usetex=True)\n",
    "mpl.rcParams['axes.unicode_minus'] = False"
   ]
  },
  {
   "cell_type": "markdown",
   "metadata": {},
   "source": [
    "# Load variables\n",
    "\n",
    "Needed variables:\n",
    "- B0_M and BDT\n",
    "- B0_ENDVERTEX_X, B0_ENDVERTEX_Y, B0_ENDVERTEX_Z\n",
    "- tau_ENDVERTEX_X, tau_ENDVERTEX_Y, tau_ENDVERTEX_Z\n",
    "- tau_ENDVERTEX_XERR, tau_ENDVERTEX_YERR, tau_ENDVERTEX_ZERR"
   ]
  },
  {
   "cell_type": "code",
   "execution_count": null,
   "metadata": {},
   "outputs": [],
   "source": [
    "variables = []\n",
    "\n",
    "for particle in 'B0', 'Dst', 'D0','tau':\n",
    "    variables.append(f\"{particle}_M\")\n",
    "\n"
   ]
  },
  {
   "cell_type": "code",
   "execution_count": null,
   "metadata": {
    "scrolled": false
   },
   "outputs": [],
   "source": [
    "df    = fct.load_data(years,magnets,type_data = 'common',vars = variables, cut_DeltaM=False, cut_PIDK=None)\n",
    "df_MC = fct.load_data(years,magnets,type_data = 'MC'    ,vars = variables, cut_DeltaM=False, cut_PIDK=None)"
   ]
  },
  {
   "cell_type": "code",
   "execution_count": null,
   "metadata": {},
   "outputs": [],
   "source": [
    "df[\"Delta_M\"] = df[\"Dst_M\"] - df[\"D0_M\"]\n",
    "df_MC[\"Delta_M\"] = df_MC[\"Dst_M\"] - df_MC[\"D0_M\"]"
   ]
  },
  {
   "cell_type": "code",
   "execution_count": null,
   "metadata": {},
   "outputs": [],
   "source": [
    "fct.plot_hist_particle({'MC':df_MC, 'data':df},'Delta_M',\n",
    "              low = low_B0Ds, high = high_B0Ds, cut_BDT = k,\n",
    "              n_bins = 100, mode_hist = False, colors='black', weights=df_Ds['sWeight'])"
   ]
  }
 ],
 "metadata": {
  "kernelspec": {
   "display_name": "bd2dst3pi_env",
   "language": "python",
   "name": "bd2dst3pi_env"
  },
  "language_info": {
   "codemirror_mode": {
    "name": "ipython",
    "version": 3
   },
   "file_extension": ".py",
   "mimetype": "text/x-python",
   "name": "python",
   "nbconvert_exporter": "python",
   "pygments_lexer": "ipython3",
   "version": "3.7.8"
  }
 },
 "nbformat": 4,
 "nbformat_minor": 4
}
