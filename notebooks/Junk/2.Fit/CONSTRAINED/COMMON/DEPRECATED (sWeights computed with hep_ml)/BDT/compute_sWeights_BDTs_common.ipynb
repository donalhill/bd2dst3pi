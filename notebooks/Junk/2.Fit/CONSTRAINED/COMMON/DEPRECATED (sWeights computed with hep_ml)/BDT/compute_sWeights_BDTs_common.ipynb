{
 "cells": [
  {
   "cell_type": "markdown",
   "metadata": {},
   "source": [
    "# Name data: `common_Dstto3pi_BDT{cut_BDT}`\n",
    "\n",
    "# Compute the sWeights \n",
    "For a given cut on the `BDT` value, with the starting value of the fit chosen as the result of the previous fit, specified by `cut_BDT_ref`, manually chosen to be `cut_BDT - 0.05`.\n",
    "1. Fit on $m(3\\pi)$ for $|m(3\\pi) - 1968|<50$\n",
    "    - Signal shape: Gaussian\n",
    "    - Background shape: Exponential\n",
    "2. Compute the associated probability and sWeights, save the sWeights in a Pickle file.\n",
    "3. Plot some interesting things for checking\n",
    "4. Save the full dataframe in a root file. It will be the input of `fit_all_data_V8_2_files_BDTs_recomputed_sWeights.ipynb`.\n",
    "\n",
    "Thanks to the fit, we get\n",
    "- $f_g(m)$, the signal Ds PDF\n",
    "- $f_e(m)$, the background Ds PDF\n",
    "Besides, our dataset is given by a list of events, each event is characterised by $m_{3\\pi})$\n",
    "\n",
    "We define the probability of the event $e$ being a $D_s$ by:\n",
    "$$P\\left(e = D_s\\right)=\\frac{f_g(m_{e, 3\\pi})}{\\sum_{event\\ k}{\\left(f_g(m_{k,3\\pi})+f_e(m_{k, 3\\pi})\\right)}}$$\n",
    "\n",
    "From this probabily, the sWeights can be computed.\n",
    "\n",
    "The saved root file is already cut on the `BDT` output, and has a new column `sWeight`. The root files are saved in `output/root/common/`"
   ]
  },
  {
   "cell_type": "code",
   "execution_count": 1,
   "metadata": {},
   "outputs": [
    {
     "name": "stderr",
     "output_type": "stream",
     "text": [
      "/afs/cern.ch/work/c/correian/miniconda/envs/bd2dst3pi_env/lib/python3.7/site-packages/sklearn/utils/deprecation.py:143: FutureWarning: The sklearn.neighbors.unsupervised module is  deprecated in version 0.22 and will be removed in version 0.24. The corresponding classes / functions should instead be imported from sklearn.neighbors. Anything that cannot be imported from sklearn.neighbors is now part of the private API.\n",
      "  warnings.warn(message, FutureWarning)\n"
     ]
    },
    {
     "name": "stdout",
     "output_type": "stream",
     "text": [
      "Welcome to JupyROOT 6.22/02\n"
     ]
    }
   ],
   "source": [
    "import zfit\n",
    "import numpy as np\n",
    "import pandas as pd\n",
    "import matplotlib.pyplot as plt\n",
    "import pickle\n",
    "from hep_ml import splot\n",
    "import timeit\n",
    "from scipy.stats import pearsonr\n",
    "\n",
    "from bd2dst3pi.locations import loc\n",
    "from bd2dst3pi.definitions import years, magnets\n",
    "\n",
    "import sys\n",
    "sys.path.append(loc.SCRIPTS)\n",
    "from load_save_data import load_saved_root, save_dataframe, add_constr_Dst, json_to_latex_table, retrieve_params, format_previous_params\n",
    "from plot.tool import fix_plot\n",
    "import plot.histogram as h\n",
    "from plot.fit import plot_hist_fit_particle\n",
    "from fit import launch_fit, define_zparams, save_params\n",
    "from variables import name_params_tau"
   ]
  },
  {
   "cell_type": "code",
   "execution_count": 2,
   "metadata": {},
   "outputs": [],
   "source": [
    "name_data = 'common_Dstto3pi'\n",
    "name_BDT = 'gradient_bkgHighB0M'"
   ]
  },
  {
   "cell_type": "markdown",
   "metadata": {},
   "source": [
    "## INIT"
   ]
  },
  {
   "cell_type": "markdown",
   "metadata": {},
   "source": [
    "### Retrieve data"
   ]
  },
  {
   "cell_type": "code",
   "execution_count": 3,
   "metadata": {
    "scrolled": true
   },
   "outputs": [
    {
     "name": "stdout",
     "output_type": "stream",
     "text": [
      "/afs/cern.ch/user/c/correian/bd2dst3pi/output//root/common/common_gradient_bkgHighB0M.root\n"
     ]
    }
   ],
   "source": [
    "# load_data does the cut on DeltaM and tau_M (around m(Ds)).\n",
    "df_common_Ds = load_saved_root('common_'+name_BDT, name_folder='common', vars=['B0_M', 'tau_M', 'Dst_M', 'BDT'])\n",
    "df_common_Ds = add_constr_Dst(df_common_Ds)"
   ]
  },
  {
   "cell_type": "code",
   "execution_count": 8,
   "metadata": {
    "scrolled": false
   },
   "outputs": [
    {
     "name": "stdout",
     "output_type": "stream",
     "text": [
      "/afs/cern.ch/user/c/correian/bd2dst3pi/output/plots/BDT_data\n"
     ]
    },
    {
     "data": {
      "text/plain": [
       "(<Figure size 576x432 with 1 Axes>,\n",
       " <AxesSubplot:xlabel='BDT', ylabel='Candidates / (0.2)'>)"
      ]
     },
     "execution_count": 8,
     "metadata": {},
     "output_type": "execute_result"
    },
    {
     "data": {
      "image/png": "[encoded data removed]",
      "text/plain": [
       "<Figure size 576x432 with 1 Axes>"
      ]
     },
     "metadata": {
      "needs_background": "light"
     },
     "output_type": "display_data"
    }
   ],
   "source": [
    "h.plot_hist_particle({'data': df_common_Ds},'BDT',\n",
    "              n_bins = 100, mode_hist = False, colors=['orange', 'cyan'], pos_text_LHC=[0.1,0.8,'left'])"
   ]
  },
  {
   "cell_type": "markdown",
   "metadata": {},
   "source": [
    "### BDT cuts"
   ]
  },
  {
   "cell_type": "markdown",
   "metadata": {},
   "source": [
    "Reference fit whose results are taken as the starting values of the new fit.\n",
    "It is specified by `cut_BDT_ref`, the cut on the `BDT` output.\n",
    "If None, the reference fit is the one performed without any cut on the `BDT` output."
   ]
  },
  {
   "cell_type": "code",
   "execution_count": 16,
   "metadata": {},
   "outputs": [],
   "source": [
    "def round_int(n):\n",
    "    if n%1==0:\n",
    "        return int(n)\n",
    "    else:\n",
    "        return n\n",
    "\n",
    "l_BDT = []\n",
    "l_BDT_ref = []\n",
    "#starting_value = -0.4\n",
    "starting_value = -6.\n",
    "end_value      =  1.75\n",
    "step           = 0.25\n",
    "\n",
    "\n",
    "value = starting_value\n",
    "while value <= end_value:\n",
    "    if value==0:\n",
    "        value = 0\n",
    "    \n",
    "    if value%0.5!=0:\n",
    "        l_BDT.append(round_int(value))\n",
    "\n",
    "        if value <= -9.5:\n",
    "            l_BDT_ref.append(None)\n",
    "        else:\n",
    "            BDT_ref = np.round(l_BDT[-1]-step,4)\n",
    "            BDT_ref = round_int(BDT_ref)\n",
    "            l_BDT_ref.append(BDT_ref)\n",
    "    \n",
    "    value = np.round(value + step, 3)\n",
    "\n",
    "# l_BDT = [0.35]\n",
    "# l_BDT_ref = [0.3]"
   ]
  },
  {
   "cell_type": "code",
   "execution_count": 17,
   "metadata": {
    "scrolled": true
   },
   "outputs": [
    {
     "data": {
      "text/plain": [
       "[-6, -5.5, -5, -4.5, -4, -3.5, -3, -2.5, -2, -1.5, -1, -0.5, 0, 0.5, 1, 1.5]"
      ]
     },
     "execution_count": 17,
     "metadata": {},
     "output_type": "execute_result"
    }
   ],
   "source": [
    "l_BDT_ref"
   ]
  },
  {
   "cell_type": "markdown",
   "metadata": {},
   "source": [
    "### Range of the variable"
   ]
  },
  {
   "cell_type": "code",
   "execution_count": 18,
   "metadata": {
    "scrolled": false
   },
   "outputs": [],
   "source": [
    "size_tau_M = 50.\n",
    "mean_tau_M = 1969.\n",
    "low_tau_M = mean_tau_M - size_tau_M\n",
    "high_tau_M = mean_tau_M + size_tau_M\n",
    "df_Ds = df_common_Ds.query(f\"abs(tau_M-{mean_tau_M})<={size_tau_M}\")"
   ]
  },
  {
   "cell_type": "markdown",
   "metadata": {},
   "source": [
    "## LOOP"
   ]
  },
  {
   "cell_type": "code",
   "execution_count": null,
   "metadata": {
    "scrolled": false
   },
   "outputs": [],
   "source": [
    "for cut_BDT, cut_BDT_ref in zip(l_BDT, l_BDT_ref):\n",
    "    ## CUT ON BDT -------------------------------------------------------\n",
    "    k = str(cut_BDT)\n",
    "    df_Ds = df_Ds.query(f\"BDT > {cut_BDT}\")\n",
    "    \n",
    "    print(f\"================================ cut_BDT = {k} ================================\")\n",
    "    print(f\"cut_BDT_ref = {cut_BDT_ref}\")\n",
    "    \n",
    "    ## REFERENCE BDT CUT ------------------------------------------------\n",
    "    if cut_BDT_ref is None:\n",
    "        params_r = retrieve_params(name_data, name_folder=name_data)\n",
    "    else:\n",
    "        name_data_BDT_ref = f\"{name_data}_BDT{cut_BDT_ref}\"\n",
    "        params_r = retrieve_params(name_data_BDT_ref, name_folder=name_data)\n",
    "        params_r = format_previous_params(params_r)\n",
    "    \n",
    "    ### HISTOGRAM --------------------------------------------------------\n",
    "    h.plot_hist_particle({name_data:df_Ds},'tau_M', cut_BDT=cut_BDT,\n",
    "              n_bins = 100, mode_hist = False, colors='black')\n",
    "    \n",
    "    ### FITTING ----------------------------------------------------------\n",
    "    ## Starting point ........................\n",
    "    n_events_tau_M = len(df_Ds)\n",
    "    initial_values_tau = {\n",
    "        'mu_tau': {\n",
    "            'value' : params_r['mu_tau'],\n",
    "            'low': 1965.,\n",
    "            'high': 1975.,     \n",
    "        },\n",
    "        'sigma_tau': {\n",
    "            'value' : params_r['sigma_tau'],\n",
    "            'low': 5.,\n",
    "            'high': 15.,\n",
    "        },\n",
    "        'n_bkg_tau': {\n",
    "            'value' : params_r['n_bkg_tau'],\n",
    "            'low': 0,\n",
    "            'high': n_events_tau_M,  \n",
    "        },\n",
    "        'n_sig_tau': {\n",
    "            'value' : params_r['n_sig_tau'],\n",
    "            'low': 0,\n",
    "            'high': n_events_tau_M,  \n",
    "        },\n",
    "        'lambda_tau': {\n",
    "            'value' : params_r['lambda_tau'],\n",
    "            'low': -0.01,\n",
    "            'high': -0.000001  \n",
    "        }\n",
    "    }\n",
    "    \n",
    "    ## Parameters .............................\n",
    "    obs_tau = zfit.Space(\"x\", limits=(low_tau_M, high_tau_M))\n",
    "    zparams_tau = define_zparams(initial_values_tau, cut_BDT=cut_BDT)\n",
    "\n",
    "    ## Name of the variables ..................\n",
    "    name_params_tau_BDT = {\n",
    "        # Signal\n",
    "        f'mu_tau|BDT{cut_BDT}'     :'$\\mu_{S}$',\n",
    "        f'sigma_tau|BDT{cut_BDT}'  :'$\\sigma_{S}$',\n",
    "        f'n_sig_tau|BDT{cut_BDT}'  :'$n_{S}$',\n",
    "        # Combinatorial background\n",
    "        f'n_bkg_tau|BDT{cut_BDT}'  :'$n_{B,c}$',\n",
    "        f'lambda_tau|BDT{cut_BDT}' :'$\\\\lambda_{B,c}$',\n",
    "    }\n",
    "    \n",
    "    ## PDFs ...................................\n",
    "    gaussian_tau = zfit.pdf.Gauss(zparams_tau[\"mu_tau\"],zparams_tau[\"sigma_tau\"],obs=obs_tau)\n",
    "    exponential_tau = zfit.pdf.Exponential(zparams_tau[\"lambda_tau\"], obs=obs_tau)\n",
    "\n",
    "    gaussian_ext_tau = gaussian_tau.create_extended(zparams_tau[\"n_sig_tau\"])\n",
    "    exp_ext_tau = exponential_tau.create_extended(zparams_tau[\"n_bkg_tau\"])\n",
    "    model_tau = zfit.pdf.SumPDF([gaussian_ext_tau, exp_ext_tau]) # gauss is folded by frac\n",
    "\n",
    "    data_tau = zfit.Data.from_pandas(df_Ds['tau_M'],obs=obs_tau)\n",
    "    \n",
    "    ## Launch the fit .........................\n",
    "    start = timeit.default_timer()\n",
    "    result_tau, params_tau = launch_fit(model_tau, data_tau, extended=True)\n",
    "    result_tau, params_tau = launch_fit(model_tau, data_tau, extended=True)\n",
    "    stop = timeit.default_timer()\n",
    "    print('Time to do the fit: ', stop - start) \n",
    "    \n",
    "    ## Result of the fit ......................\n",
    "    plot_hist_fit_particle(df_Ds,'tau_M', models = [model_tau,gaussian_ext_tau,exp_ext_tau], \n",
    "                           name_models = [\"\", '$D_S \\\\to 3\\pi$',''], colors = ['b','r','y'],\n",
    "                           obs=obs_tau, n_bins = 100,mode_hist = False, name_data=name_data+'_detail', \n",
    "                          params=params_tau,name_params=name_params_tau_BDT, fontsize_leg=15.,\n",
    "                          cut_BDT=cut_BDT)\n",
    "    plot_hist_fit_particle(df_Ds,'tau_M', models = [model_tau,gaussian_ext_tau,exp_ext_tau], \n",
    "                           name_models = [\"\", '$D_S \\\\to 3\\pi$',''], colors = ['b','r','y'],\n",
    "                           obs=obs_tau, n_bins = 100,mode_hist = False, name_data=name_data, \n",
    "                           fontsize_leg=16., pos_text_LHC='right',\n",
    "                          cut_BDT=cut_BDT)\n",
    "    ## Correlation ...........................\n",
    "    corr_B0_M_tau_M = pearsonr(df_Ds['tau_M'], df_Ds['B0_M'])[0]\n",
    "    print(corr_B0_M_tau_M)\n",
    "    \n",
    "    ## Save the result .......................\n",
    "    name_data_BDT = name_data + f'_BDT{cut_BDT}'\n",
    "    save_params(params_tau, name_data_BDT, True, {'corr_B0_M_tau_M': corr_B0_M_tau_M}, name_folder=name_data)\n",
    "    json_to_latex_table(name_data_BDT, name_data, name_params_tau)\n",
    "    ### SWEIGHTS -------------------------------------------------------------------\n",
    "    ## Computation ...........................\n",
    "    \n",
    "    # Probability that the candidate is actually a Ds particle.\n",
    "    mass = df_Ds['tau_M']\n",
    "    probs = pd.DataFrame(dict(sig=gaussian_ext_tau.pdf(mass), bkg=exp_ext_tau.pdf(mass)))\n",
    "    probs = probs.div(probs.sum(axis=1), axis=0) # normalisation\n",
    "    # sWeights\n",
    "    sWeights = splot.compute_sweights(probs)\n",
    "    \n",
    "    ## Analysis of the sWeights .............\n",
    "    fig, ax = plt.subplots(figsize=(8,6))\n",
    "\n",
    "    ax.plot(mass, probs.sig,'.', label='Signal')\n",
    "    ax.plot(mass, probs.bkg,'.', label='Background')\n",
    "\n",
    "    plt.xlim(low_tau_M, high_tau_M) \n",
    "    plt.xlabel('$m(3\\pi)$',fontsize=20)\n",
    "    plt.ylabel('Probability',fontsize=20)\n",
    "    \n",
    "    plt.show()\n",
    "    plt.close()\n",
    "    \n",
    "    fig, ax = plt.subplots(figsize=(8,6))\n",
    "\n",
    "    ax.plot(mass, sWeights.sig,'.', label='Signal')\n",
    "    ax.plot(mass, sWeights.bkg,'.', label='Background')\n",
    "\n",
    "    plt.xlim(low_tau_M, high_tau_M) \n",
    "    fix_plot(ax, ymax=None)\n",
    "\n",
    "    plt.xlabel('$m(3\\pi)$',fontsize=20)\n",
    "    plt.ylabel('sWeights',fontsize=20)\n",
    "\n",
    "    ymin, ymax = ax.get_ylim()\n",
    "    ax.set_ylim(ymin, ymax*1.1)\n",
    "\n",
    "    plt.show()\n",
    "    plt.close()\n",
    "    \n",
    "    ### Save the result ----------------------------------------------------------------\n",
    "    save_dataframe(sWeights, name_data_BDT+'_sWeights', 'sWeights', name_folder=name_data)\n",
    "    df_Ds['sWeight'] = sWeights.sig.to_numpy()\n",
    "    save_dataframe(df_Ds, name_data_BDT, 'DecayTree', name_folder=name_data)"
   ]
  },
  {
   "cell_type": "code",
   "execution_count": null,
   "metadata": {},
   "outputs": [],
   "source": []
  },
  {
   "cell_type": "code",
   "execution_count": null,
   "metadata": {},
   "outputs": [],
   "source": []
  },
  {
   "cell_type": "code",
   "execution_count": null,
   "metadata": {},
   "outputs": [],
   "source": []
  }
 ],
 "metadata": {
  "kernelspec": {
   "display_name": "bd2dst3pi_env",
   "language": "python",
   "name": "bd2dst3pi_env"
  },
  "language_info": {
   "codemirror_mode": {
    "name": "ipython",
    "version": 3
   },
   "file_extension": ".py",
   "mimetype": "text/x-python",
   "name": "python",
   "nbconvert_exporter": "python",
   "pygments_lexer": "ipython3",
   "version": "3.7.8"
  }
 },
 "nbformat": 4,
 "nbformat_minor": 4
}
