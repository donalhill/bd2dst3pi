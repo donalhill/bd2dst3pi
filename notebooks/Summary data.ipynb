{
 "cells": [
  {
   "cell_type": "markdown",
   "metadata": {},
   "source": [
    "# Summary of all the root files\n",
    "\n",
    "| Folder       | BDT                                                                                               | Name of the data                              | Name of the tree                 | Cut                                                  | Variables                                                                                                                               |\n",
    "|--------------|---------------------------------------------------------------------------------------------------|-----------------------------------------------|----------------------------------|------------------------------------------------------|-----------------------------------------------------------------------------------------------------------------------------------------|\n",
    "| common       | adaboost_0.8_without_P_cutDeltaM<br>Adaboost with ws data as bkg                                  | all_common                                    | DecayTreeTuple/DecayTree         | 143. < Delta_M < 148.                                | B0_M, tau_M, Dst_M, D0_M, Delta_M, BDT                                                                                                  |\n",
    "|              |                                                                                                   | common_Dstto3pi<br>common_Dstto3pi_sWeights | DecayTree<br>sWeights            | 143. < Delta_M < 148.<br>1969-50 < tau_M < 1969+50   | B0_M, tau_M, BDT, sWeight                                                                                                               |\n",
    "|              | common_adaboost_without_P_cutDeltaM_highB0M<br>Adaboost with high B0_M data as bkg<br>OVERTRAINED | common_adaboost_without_P_cutDeltaM_highB0M   | DecayTree                        | 143. < Delta_M < 148.                                | B0_M, tau_M, B0_PT, Dst_P, tau_pion{0, 1, 2}_PT,<br>{B0, Dst, tau}_ENDVERTEX_CHI2, tau_pion{0, 1, 2}_TRACK_CHI2NDOF,<br>BDT             |\n",
    "|              |                                                                                                   | Ds23pi_bkg_high_B0M                           | DecayTree                        | 143. < Delta_M < 148.<br>1969-50 < tau_M < 1969+50   | B0_M, tau_M, BDT, sWeight                                                                                                               |\n",
    "| data_strip_p | x                                                                                                 | all_data_strip                                | all_data_strip_cutDeltaM         | 143. < Delta_M < 148.                                | B0_M, tau_M, Dst_M, D0_M, Delta_M                                                                                                       |\n",
    "|              | adaboost_0.8_without_P_cutDeltaM<br>Adaboost with ws data as bkg                                  | data_strip_adaboost_0.8_without_P_cutDeltaM   | DecayTreeTuple/DecayTree         | 143. < Delta_M < 148.                                | B0_PT, Dst_PT, tau_pion{0, 1, 2}_PT, {B0, Dst, tau_ENDVERTEX_CHI2}<br>tau_pion{0, 1, 2}_TRACK_CHI2NDOF, B0_M, Dst_M, D0_M, Delta_M, BDT |\n",
    "|              | adaboost_0.8_without_P_cutDeltaM<br>Adaboost with ws data as bkg                                  | data_strip                                    | data_styrip_cutDeltaM_cutallPIDK | 143. < Delta_M < 148.<br>tau_pion{0, 1, 2}_PIDK < 4. | B0_M, tau_M, Dst_M, D0_M,<br>tau_pion{0, 1, 2}_PIDK, Delta_M, BDT                                                                       |"
   ]
  },
  {
   "cell_type": "markdown",
   "metadata": {},
   "source": [
    "## Summary of all the json files\n",
    "\n",
    "| Folder     | Name of the data               | Description                                                                            | Model                                                            | BDT                 |\n",
    "|------------|--------------------------------|----------------------------------------------------------------------------------------|------------------------------------------------------------------|---------------------|\n",
    "| MC         | MC_cor                         | Fit on MC data<br>Corrected range                                                      | Double CB                                                        | x                   |\n",
    "|            | MC_constr_opposedCB_sharedMean | Fit on the  MC data<br>Contrained $m(D^*)$                                             | Sum of two CB with shared mean                                   | x                   |\n",
    "| data_KPiPi | data_KPiPi_2                   | Fit on the `RapidSim` $B^0\\to D^* K \\pi^+ \\pi^-$ sample                                | Sum of two CB with opposite tails                                | x                   |\n",
    "|            | data_KPiPi_constr              | Fit on the `RapidSim` $B^0\\to D^* K \\pi^+ \\pi^-$ sample<br>with $D^*$-constrained data | Sum of two CB with opposite tails                                | x                   |\n",
    "| common     | common_Dstto3pi                | Fit on $m(3\\pi)$ with $\\|m(3\\pi) - 1968\\|<50$<br>(computation of the sWeights)         | Signal: gaussian<br>Background: exponential                      | x                   |\n",
    "|            | common_B0toDstDs               | Fit on the sWeighted $m(D^*D_s)$                                                       |                                                                  | x                   |\n",
    "|            | common_fixedTails_MC_cor       | Fit on the full $m(B^0)$                                                               | Signal: sum of two CB of opposite tails<br>Fixed tail parameters | x                   |\n",
    "|            | common_Dstto3pi_Dst_constr     | Fit on the sWeighted $m(D^*D_s)$<br>Constrained $m(D^*)$                               |                                                                  | gradient_bkgHighB0M |\n",
    "|            | common_Dst_constr              | Fit on the full $m(B^0)$<br>Constrained $m(D^*)$                                       | Signal: sum of two CB of opposite tails<br>Fixed $n_R$ fixed     | gradient_bkgHighB0M |"
   ]
  },
  {
   "cell_type": "code",
   "execution_count": null,
   "metadata": {},
   "outputs": [],
   "source": []
  }
 ],
 "metadata": {
  "kernelspec": {
   "display_name": "bd2dst3pi_env",
   "language": "python",
   "name": "bd2dst3pi_env"
  },
  "language_info": {
   "codemirror_mode": {
    "name": "ipython",
    "version": 3
   },
   "file_extension": ".py",
   "mimetype": "text/x-python",
   "name": "python",
   "nbconvert_exporter": "python",
   "pygments_lexer": "ipython3",
   "version": "3.7.8"
  }
 },
 "nbformat": 4,
 "nbformat_minor": 4
}
