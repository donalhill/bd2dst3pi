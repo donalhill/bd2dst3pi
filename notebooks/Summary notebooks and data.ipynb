{
 "cells": [
  {
   "cell_type": "markdown",
   "metadata": {},
   "source": [
    "# Summary of the notebooks\n",
    "\n",
    "The important notebooks are in the folders\n",
    "- `1_BDT`: \n",
    "    1. Plot the background sample\n",
    "    2. Training, test and apply a BDT\n",
    "    3. Plot variables for signal and background samplmes\n",
    "- `2_Fit/CONSTRAINED`: \n",
    "    - `MC`: Fit to the $m(D^*)$-constrained $m(D^*3\\pi)$ invariant mass for the MC\n",
    "    - `Kpipi`: Fit to the $m(D^*)$-constrained $m(D^*3\\pi)$ invariant mass for the $B^0\\to D^* K \\pi \\pi$ sample\n",
    "    - `COMMON`: \n",
    "        1. Fit to $m(3\\pi)$ around $m(D_s)$ and computation of the sWeights associated with $D_s\\to3\\pi$\n",
    "        2. Fit to the sWeighted $m(D^*)$-constrained $m(D^*D_s)$ distribution\n",
    "        3. Fit to the $m(D^*)$-constrained $m(D^*3\\pi)$ invariant mass for the LHCb data\n",
    "- `3_optimisation_BDT`:\n",
    "    1. Fits in the `common` data for different BDT cuts\n",
    "    2. Minimise the relative uncertainty $\\frac{\\Delta S}{S}$ to choose the optimal BDT cut\n",
    "    3. Fits in the `common` data for the optimal BDT cut\n",
    "- `4_systematic_uncertainties`:\n",
    "    1. Compute $n_{B^0\\to D^*3\\pi}$ when changing the fixed parameters of the fit to $m(D^*3\\pi)$, where the optimal BDT cut is applied, within their uncertainty interval.\n",
    "        - **Mode 1**: The fixed (=tail) parameters of the $D^*\\pi\\pi\\pi$ are randomly changed within their uncertainty.\n",
    "        - **Mode 2**: The same is done with the ratio of yield $\\frac{n_{B^0 \\to D^{*-} K^+ \\pi^+ \\pi^-}}{n_{B^0 \\to D^{*-\\pi^+\\pi^+\\pi^-}}}$ and the parameters of the $B^0 \\to D^{*-} K^+ \\pi^+ \\pi^-$ distribution\n",
    "        - **Mode 3**: The same is done with the three parameters of the sWeighted $B^0 \\to D^{*-} (D_s^+ \\to 3\\pi)$ distribution\n",
    "    2. Compute the systematic uncertainty associated with the fixed parameters, which is the quadratic sum of the standard deviation of the $n_{sig}$ distribution obtained with the 3 modes"
   ]
  },
  {
   "cell_type": "markdown",
   "metadata": {},
   "source": [
    "# Summary of all the fits and its json files"
   ]
  },
  {
   "cell_type": "markdown",
   "metadata": {},
   "source": [
    "Notation: $m_c(D^*3\\pi) = m(D^*3\\pi|m(D^*)=m(D^*)_{PDG})$"
   ]
  },
  {
   "cell_type": "markdown",
   "metadata": {},
   "source": [
    "| Folder | Name of the data | Description | Model | used BDT |\n",
    "|-|-|-|-|-|\n",
    "| MC | **MC_constr_opposedCB_sharedMean** | Fit to $m_c(D^*3\\pi)$ in MC data | Sum of two CB with shared mean | x |\n",
    "| data_KPiPi | **data_KPiPi_constr** | Fit to $m_c(D^*3\\pi)$ in the `RapidSim` $B^0\\to D^* K \\pi^+ \\pi^-$ sample | Sum of two CB with opposite tails | x |\n",
    "| common | **common_DstTO3pi** | Fit to the $_s$Weighted $m_c(D^*3\\pi)$ with $\\|m(3\\pi) - 1968\\|<50$  | Signal: gaussian Background: exponential | x |\n",
    "| common | **common_DstTO3pi_BDT{BDT_cut}** | Fit to the $_s$Weighted $m_c(D^*3\\pi)$ with $\\|m(3\\pi) - 1968\\|<50$  | Signal: gaussian Background: exponential | gradient |\n",
    "| common | **common_B0TODstDs_Dst_constr** | Fit to $m(3\\pi)$ with $\\|m(3\\pi) - 1968\\|<50$ (computation of the sWeights with the hepstats library) | Signal: gaussian | x |\n",
    "| common | **common_B0TODstDs_Dst_constr_BDT{BDT_cut}** | Fit to $m(3\\pi)$ with $\\|m(3\\pi) - 1968\\|<50$ (computation of the sWeights with the hepstats library) | Signal: gaussian | gradient |\n",
    "| common | **common_B0TODst3pi_Dst_constr** | Fit to $m_c(D^*3\\pi)$ in the LHCb data | Signal: sum of two CB of opposite tails `n_R` fixed | x |\n",
    "| common | **common_B0TODst3pi_Dst_constr_BDT{BDT_cut}** | Fit to $m_c(D^*3\\pi)$ in the LHCb data | Signal: sum of two CB of opposite tails, tail parameters fixed | gradient |"
   ]
  },
  {
   "cell_type": "markdown",
   "metadata": {},
   "source": [
    "# Summary of all the PRESENT root files\n",
    "Used BDT (with the LHCb data): `gradient`\n",
    "\n"
   ]
  },
  {
   "cell_type": "markdown",
   "metadata": {},
   "source": [
    "- sWeight computed with hepstats\n",
    "- `Dst_constr_B0_M` is $D^*$-constrained $m(D^*3\\pi)$ invariant mass"
   ]
  },
  {
   "cell_type": "markdown",
   "metadata": {},
   "source": [
    "| Folder             | BDT      | Name of the root file        | Name of the tree | Cut                                             | Variables                                |\n",
    "|--------------------|----------|------------------------------|------------------|-------------------------------------------------|------------------------------------------|\n",
    "| common             | x        | common_DstTO3pi              | DecayTree        | 143. < Delta_M < 148. 1969-50 < tau_M < 1969+50 | B0_M, tau_M, Dst_M, D0_M, Delta_M, BDT   |\n",
    "| common         | gradient | common_gradient              | DecayTree        | 143. < Delta_M < 148.                           | B0_M, tau_M, Dst_M, D0_M, Delta_M, BDT   |\n",
    "| common_DstTO3pi | gradient | common_DstTO3pi_BDT{BDT_cut} | DecayTree        | 143. < Delta_M < 148. 1969-50 < tau_M < 1969+50 | B0_M, tau_M, Dst_M, BDT, Dst_constr_B0_M |"
   ]
  },
  {
   "cell_type": "code",
   "execution_count": null,
   "metadata": {},
   "outputs": [],
   "source": []
  },
  {
   "cell_type": "code",
   "execution_count": null,
   "metadata": {},
   "outputs": [],
   "source": []
  },
  {
   "cell_type": "code",
   "execution_count": null,
   "metadata": {},
   "outputs": [],
   "source": []
  },
  {
   "cell_type": "code",
   "execution_count": null,
   "metadata": {},
   "outputs": [],
   "source": []
  },
  {
   "cell_type": "code",
   "execution_count": null,
   "metadata": {},
   "outputs": [],
   "source": []
  },
  {
   "cell_type": "code",
   "execution_count": null,
   "metadata": {},
   "outputs": [],
   "source": []
  },
  {
   "cell_type": "code",
   "execution_count": null,
   "metadata": {},
   "outputs": [],
   "source": []
  },
  {
   "cell_type": "markdown",
   "metadata": {},
   "source": [
    "# Summary of the PREVIOUS root files\n",
    "\n",
    "| Folder       | BDT                                                                                               | Name of the data                              | Name of the tree                 | Cut                                                  | Variables                                                                                                                               |\n",
    "|--------------|---------------------------------------------------------------------------------------------------|-----------------------------------------------|----------------------------------|------------------------------------------------------|-----------------------------------------------------------------------------------------------------------------------------------------|\n",
    "| common       | adaboost_0.8_without_P_cutDeltaM<br>Adaboost with ws data as bkg                                  | all_common                                    | DecayTreeTuple/DecayTree         | 143. < Delta_M < 148.                                | B0_M, tau_M, Dst_M, D0_M, Delta_M, BDT                                                                                                  |\n",
    "|              |                                                                                                   | common_Dstto3pi<br>common_Dstto3pi_sWeights | DecayTree<br>sWeights            | 143. < Delta_M < 148.<br>1969-50 < tau_M < 1969+50   | B0_M, tau_M, BDT, sWeight                                                                                                               |\n",
    "|              | common_adaboost_without_P_cutDeltaM_highB0M<br>Adaboost with high B0_M data as bkg<br>OVERTRAINED | common_adaboost_without_P_cutDeltaM_highB0M   | DecayTree                        | 143. < Delta_M < 148.                                | B0_M, tau_M, B0_PT, Dst_P, tau_pion{0, 1, 2}_PT,<br>{B0, Dst, tau}_ENDVERTEX_CHI2, tau_pion{0, 1, 2}_TRACK_CHI2NDOF,<br>BDT             |\n",
    "|              |  gradient_bkgHighB0M <br> Gradient boosting with bkg = high B0_M                                  | common_gradient_bkgHighB0M                    | DecayTree                        | 143. < Delta_M < 148.<br>1969-50 < tau_M < 1969+50   | {B0, Dst, tau}_PT, {B0, tau}_ENDVERTEX_CHI2, B0_OWNPV_CHI2, B0_FDCHI2_OWNPV, B0_DIRA_OWNPV, Dst_IPCHI2_OWNPV<br> tau_pion{0, 1, 2}_TRACK_CHI2NDOF, B0_M, Dst_M, tau_M, D0_M, Delta_M, BDT     |\n",
    "|              |                                                                                                   | common_Dstto3pi                           | DecayTree                        | 143. < Delta_M < 148.<br>1969-50 < tau_M < 1969+50   | B0_M, tau_M, BDT, sWeight                                                                                                               |\n",
    "| data_strip_p | x                                                                                                 | all_data_strip                                | all_data_strip_cutDeltaM         | 143. < Delta_M < 148.                                | B0_M, tau_M, Dst_M, D0_M, Delta_M                                                                                                       |\n",
    "|              | adaboost_0.8_without_P_cutDeltaM<br>Adaboost with ws data as bkg                                  | data_strip_adaboost_0.8_without_P_cutDeltaM   | DecayTreeTuple/DecayTree         | 143. < Delta_M < 148.                                | B0_PT, Dst_PT, tau_pion{0, 1, 2}_PT, {B0, Dst, tau_ENDVERTEX_CHI2}<br>tau_pion{0, 1, 2}_TRACK_CHI2NDOF, B0_M, Dst_M, D0_M, Delta_M, BDT |\n",
    "|              | adaboost_0.8_without_P_cutDeltaM<br>Adaboost with ws data as bkg                                  | data_strip                                    | data_styrip_cutDeltaM_cutallPIDK | 143. < Delta_M < 148.<br>tau_pion{0, 1, 2}_PIDK < 4. | B0_M, tau_M, Dst_M, D0_M,<br>tau_pion{0, 1, 2}_PIDK, Delta_M, BDT                                                                       |"
   ]
  },
  {
   "cell_type": "code",
   "execution_count": null,
   "metadata": {},
   "outputs": [],
   "source": []
  }
 ],
 "metadata": {
  "kernelspec": {
   "display_name": "bd2dst3pi_env",
   "language": "python",
   "name": "bd2dst3pi_env"
  },
  "language_info": {
   "codemirror_mode": {
    "name": "ipython",
    "version": 3
   },
   "file_extension": ".py",
   "mimetype": "text/x-python",
   "name": "python",
   "nbconvert_exporter": "python",
   "pygments_lexer": "ipython3",
   "version": "3.7.8"
  }
 },
 "nbformat": 4,
 "nbformat_minor": 4
}
