{
 "cells": [
  {
   "cell_type": "markdown",
   "metadata": {},
   "source": [
    "# Summary of the notebooks\n",
    "\n",
    "The important notebooks are in the folders\n",
    "- `1_BDT`: \n",
    "    1. Plot the background sample\n",
    "    2. Training, test and apply a BDT\n",
    "    3. Plot variables for signal and background samplmes\n",
    "- `2_Fit/CONSTRAINED`: \n",
    "    - `MC`: Fit to the $m(D^*)$-constrained $m(D^*3\\pi)$ invariant mass for the MC\n",
    "    - `Kpipi`: Fit to the $m(D^*)$-constrained $m(D^*3\\pi)$ invariant mass for the $B^0\\to D^* K \\pi \\pi$ sample\n",
    "    - `COMMON`: \n",
    "        1. Fit to $m(3\\pi)$ around $m(D_s)$ and computation of the sWeights associated with $D_s\\to3\\pi$\n",
    "        2. Fit to the sWeighted $m(D^*)$-constrained $m(D^*D_s)$ distribution\n",
    "        3. Fit to the $m(D^*)$-constrained $m(D^*3\\pi)$ invariant mass for the LHCb data\n",
    "    The last 3 steps are done for different cuts on the `BDT` output, in the `BDT` folder.\n",
    "- `3_optimisation_BDT`:\n",
    "    - Minimise the relative uncertainty $\\frac{\\Delta S}{S}$ to choose the optimal BDT cut\n",
    "- `4_systematic_uncertainties`:\n",
    "    1. plot the result of the fit with the optimal BDT cut\n",
    "    2. Compute $n_{B^0\\to D^*3\\pi}$ when changing the fixed parameters of the fit with the optimal BDT cut, within their uncertainty interval\n",
    "        - **Mode 1**: The fixed (=tail) parameters of the $D^*\\pi\\pi\\pi$ are randomly changed within their uncertainty.\n",
    "        - **Mode 2**: The same is done with the ratio of yield $\\frac{n_{B^0 \\to D^{*-} K^+ \\pi^+ \\pi^-}}{n_{B^0 \\to D^{*-\\pi^+\\pi^+\\pi^-}}}$\n",
    "    3. "
   ]
  },
  {
   "cell_type": "markdown",
   "metadata": {},
   "source": [
    "## Summary of all the fits and its json files\n",
    "The name of data bolded are the one that are used in the last analysis\n",
    "\n",
    "| Folder     | Name of the data                   | Description                                                                                           | Model                                                         | BDT if not 'x', there is also data with {name_data}_BDT{BDT_cut} where `BDT_cut` is the cut performed on the BDT during the optimisation |\n",
    "|------------|------------------------------------|-------------------------------------------------------------------------------------------------------|---------------------------------------------------------------|------------------------------------------------------------------------------------------------------------------------------------------|\n",
    "| MC         | MC_cor                             | Fit on MC data Corrected range                                                                        | Double CB                                                     | x                                                                                                                                        |\n",
    "|            | **MC_constr_opposedCB_sharedMean** | Fit on the  MC data Contrained $m(D^*)$                                                               | Sum of two CB with shared mean                                | x                                                                                                                                        |\n",
    "| data_KPiPi | data_KPiPi_2                       | Fit on the `RapidSim` $B^0\\to D^* K \\pi^+ \\pi^-$ sample                                               | Sum of two CB with opposite tails                             | x                                                                                                                                        |\n",
    "|            | **data_KPiPi_constr**              | Fit on the `RapidSim` $B^0\\to D^* K \\pi^+ \\pi^-$ sample with $D^*$-constrained data                   | Sum of two CB with opposite tails                             | x                                                                                                                                        |\n",
    "| common     | common_Dstto3pi                    | Fit on $m(3\\pi)$ with $\\|m(3\\pi) - 1968\\|<50$ (computation of the sWeights with the hep_ml library)   | Signal: gaussian Background: exponential                      | gradient_bkgHighB0M                                                                                                                      |\n",
    "|            | **common_Dstto3piHEP**             | Fit on $m(3\\pi)$ with $\\|m(3\\pi) - 1968\\|<50$ (computation of the sWeights with the hepstats library) | Signal: gaussian Background: exponential                      | gradient_bkgHighB0M                                                                                                                      |\n",
    "|            | common_B0toDstDs                   | Fit on the sWeighted $m(D^*D_s)$                                                                      |                                                               | x                                                                                                                                        |\n",
    "|            | common_fixedTails_MC_cor           | Fit on the full $m(B^0)$                                                                              | Signal: sum of two CB of opposite tails Fixed tail parameters | x                                                                                                                                        |\n",
    "|            | **common_Dst_constrHEP**           | Fit on the full $m(B^0)$ (computation of the sWeights with the hepstats library)                      | Signal: sum of two CB of opposite tails `n_L` fixed           | gradient_bkgHighB0M                                                                                                                      |\n",
    "|            | common_Dstto3pi_Dst_constr         | Fit on the sWeighted $m(D^*D_s)$ Constrained $m(D^*)$                                                 |    Signal: sum of two CB of opposite tails `n_L` fixed                                                           | gradient_bkgHighB0M                                                                                                                      |\n",
    "|            | common_Dst_constr                  | Fit on the full $m(B^0)$ Constrained $m(D^*)$                                                         | Signal: sum of two CB of opposite tails Fixed $n_R$ fixed     | gradient_bkgHighB0M                                                                                                                      |"
   ]
  },
  {
   "cell_type": "markdown",
   "metadata": {},
   "source": [
    "# Summary of all the PRESENT root files\n",
    "Used BDT (with the LHCb data): `gradient_bkgHighB0M`\n",
    "\n"
   ]
  },
  {
   "cell_type": "markdown",
   "metadata": {},
   "source": [
    "| Folder             | BDT                 | Name of the root file        | Name of the tree | Cut                                             | Variables                                                                                                                                                                              |\n",
    "|--------------------|---------------------|------------------------------|------------------|-------------------------------------------------|----------------------------------------------------------------------------------------------------------------------------------------------------------------------------------------|\n",
    "| common             | x                   | common_Dstto3pi_HEP          | DecayTree        | 143. < Delta_M < 148. 1969-50 < tau_M < 1969+50 | B0_M, tau_M, Dst_M, D0_M, Delta_M, BDT                                                                                                                                                 |\n",
    "|                    | gradient_bkgHighB0M | common_gradient_bkgHighB0M   | DecayTree        | 143. < Delta_M < 148.                           | {B0, Dst, tau}_PT, {B0, tau}_ENDVERTEX_CHI2, B0_OWNPV_CHI2, B0_FDCHI2_OWNPV, B0_DIRA_OWNPV, Dst_IPCHI2_OWNPV  tau_pion{0, 1, 2}_TRACK_CHI2NDOF, B0_M, Dst_M, tau_M, D0_M, Delta_M, BDT |\n",
    "| common_Dstto3piHEP | gradient_bkgHighB0M | common_Dstto3pi_BDT{BDT_cut} | DecayTree        | 143. < Delta_M < 148. 1969-50 < tau_M < 1969+50 | B0_M, tau_M, Dst_M, BDT, Dst_constr_B0_M, sWeight sWeight computed with hepstats Dst_constr_B0_M is Dst-constrained B0 invariant mass                                                  |"
   ]
  },
  {
   "cell_type": "markdown",
   "metadata": {},
   "source": [
    "# Summary of the PREVIOUS root files\n",
    "\n",
    "| Folder       | BDT                                                                                               | Name of the data                              | Name of the tree                 | Cut                                                  | Variables                                                                                                                               |\n",
    "|--------------|---------------------------------------------------------------------------------------------------|-----------------------------------------------|----------------------------------|------------------------------------------------------|-----------------------------------------------------------------------------------------------------------------------------------------|\n",
    "| common       | adaboost_0.8_without_P_cutDeltaM<br>Adaboost with ws data as bkg                                  | all_common                                    | DecayTreeTuple/DecayTree         | 143. < Delta_M < 148.                                | B0_M, tau_M, Dst_M, D0_M, Delta_M, BDT                                                                                                  |\n",
    "|              |                                                                                                   | common_Dstto3pi<br>common_Dstto3pi_sWeights | DecayTree<br>sWeights            | 143. < Delta_M < 148.<br>1969-50 < tau_M < 1969+50   | B0_M, tau_M, BDT, sWeight                                                                                                               |\n",
    "|              | common_adaboost_without_P_cutDeltaM_highB0M<br>Adaboost with high B0_M data as bkg<br>OVERTRAINED | common_adaboost_without_P_cutDeltaM_highB0M   | DecayTree                        | 143. < Delta_M < 148.                                | B0_M, tau_M, B0_PT, Dst_P, tau_pion{0, 1, 2}_PT,<br>{B0, Dst, tau}_ENDVERTEX_CHI2, tau_pion{0, 1, 2}_TRACK_CHI2NDOF,<br>BDT             |\n",
    "|              |  gradient_bkgHighB0M <br> Gradient boosting with bkg = high B0_M                                  | common_gradient_bkgHighB0M                    | DecayTree                        | 143. < Delta_M < 148.<br>1969-50 < tau_M < 1969+50   | {B0, Dst, tau}_PT, {B0, tau}_ENDVERTEX_CHI2, B0_OWNPV_CHI2, B0_FDCHI2_OWNPV, B0_DIRA_OWNPV, Dst_IPCHI2_OWNPV<br> tau_pion{0, 1, 2}_TRACK_CHI2NDOF, B0_M, Dst_M, tau_M, D0_M, Delta_M, BDT     |\n",
    "|              |                                                                                                   | common_Dstto3pi                           | DecayTree                        | 143. < Delta_M < 148.<br>1969-50 < tau_M < 1969+50   | B0_M, tau_M, BDT, sWeight                                                                                                               |\n",
    "| data_strip_p | x                                                                                                 | all_data_strip                                | all_data_strip_cutDeltaM         | 143. < Delta_M < 148.                                | B0_M, tau_M, Dst_M, D0_M, Delta_M                                                                                                       |\n",
    "|              | adaboost_0.8_without_P_cutDeltaM<br>Adaboost with ws data as bkg                                  | data_strip_adaboost_0.8_without_P_cutDeltaM   | DecayTreeTuple/DecayTree         | 143. < Delta_M < 148.                                | B0_PT, Dst_PT, tau_pion{0, 1, 2}_PT, {B0, Dst, tau_ENDVERTEX_CHI2}<br>tau_pion{0, 1, 2}_TRACK_CHI2NDOF, B0_M, Dst_M, D0_M, Delta_M, BDT |\n",
    "|              | adaboost_0.8_without_P_cutDeltaM<br>Adaboost with ws data as bkg                                  | data_strip                                    | data_styrip_cutDeltaM_cutallPIDK | 143. < Delta_M < 148.<br>tau_pion{0, 1, 2}_PIDK < 4. | B0_M, tau_M, Dst_M, D0_M,<br>tau_pion{0, 1, 2}_PIDK, Delta_M, BDT                                                                       |"
   ]
  }
 ],
 "metadata": {
  "kernelspec": {
   "display_name": "bd2dst3pi_env",
   "language": "python",
   "name": "bd2dst3pi_env"
  },
  "language_info": {
   "codemirror_mode": {
    "name": "ipython",
    "version": 3
   },
   "file_extension": ".py",
   "mimetype": "text/x-python",
   "name": "python",
   "nbconvert_exporter": "python",
   "pygments_lexer": "ipython3",
   "version": "3.7.8"
  }
 },
 "nbformat": 4,
 "nbformat_minor": 4
}
