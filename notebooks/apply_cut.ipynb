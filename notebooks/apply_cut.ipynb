{
 "cells": [
  {
   "cell_type": "markdown",
   "metadata": {},
   "source": [
    "# Applying a cut to a sample and calculating the efficiency\n",
    "\n",
    "In this example, we learn how to apply a cut in `pandas` and how to calculate the efficiency of the cut. We see how to calculate the uncertainty on the cut using the binomial error.\n",
    "\n",
    "Some imports of what we need:"
   ]
  },
  {
   "cell_type": "code",
   "execution_count": 10,
   "metadata": {},
   "outputs": [],
   "source": [
    "from root_pandas import read_root\n",
    "import matplotlib.pyplot as plt\n",
    "from bd2dst3pi.locations import loc\n",
    "from bd2dst3pi.definitions import years, magnets\n",
    "import pandas as pd\n",
    "from bd2dst3pi.stats import binomial_err\n",
    "import numpy as np\n",
    "import scipy.stats as stats\n",
    "\n",
    "#Gives us nice LaTeX fonts in the plots\n",
    "from matplotlib import rc\n",
    "rc('font',**{'family':'serif','serif':['Roman']})\n",
    "rc('text', usetex=True)"
   ]
  },
  {
   "cell_type": "markdown",
   "metadata": {},
   "source": [
    "Let's load the data for each year and magnet into separate DataFrames, storing them in a useful dictionary called `df`. This is just an example of how to do this, as it can be useful to work with dictionaries. We also make a total DataFrame `dt_tot` containing all years and magnets:"
   ]
  },
  {
   "cell_type": "code",
   "execution_count": 11,
   "metadata": {},
   "outputs": [],
   "source": [
    "df = {}\n",
    "df_tot = pd.DataFrame()\n",
    "tree_name = \"DecayTree\"\n",
    "for y in years:\n",
    "    for m in magnets:\n",
    "        df[f\"{y}_{m}\"] = read_root(f\"{loc.DATA}/data_90000000_{y}_{m}.root\",tree_name)\n",
    "        df_tot = df_tot.append(df[f\"{y}_{m}\"])"
   ]
  },
  {
   "cell_type": "markdown",
   "metadata": {},
   "source": [
    "We can access a specific year and magnet:"
   ]
  },
  {
   "cell_type": "code",
   "execution_count": 12,
   "metadata": {},
   "outputs": [
    {
     "name": "stdout",
     "output_type": "stream",
     "text": [
      "   B0_ENDVERTEX_X  B0_ENDVERTEX_Y  B0_ENDVERTEX_Z  B0_ENDVERTEX_XERR  \\\n",
      "0         -1.7246         -0.6828         60.6567             0.0172   \n",
      "1          2.4748          1.2210         43.5751             0.0166   \n",
      "\n",
      "   B0_ENDVERTEX_YERR  B0_ENDVERTEX_ZERR  B0_ENDVERTEX_CHI2  B0_ENDVERTEX_NDOF  \\\n",
      "0             0.0086             0.1807           0.772943                  3   \n",
      "1             0.0108             0.1405          15.108430                  3   \n",
      "\n",
      "                                   B0_ENDVERTEX_COV_  B0_OWNPV_X  ...  \\\n",
      "0  [[0.00029584, 9.775047e-05, -0.0029697323], [9...      0.7643  ...   \n",
      "1  [[0.00027556, 0.00013472892, 0.0022361316], [0...      0.7717  ...   \n",
      "\n",
      "   DstD_BDTD  combinatorial_BDTG  combinatorial_BDT  combinatorial_BDTD  \\\n",
      "0   0.237036            0.812131           0.201764            0.155237   \n",
      "1  -0.214430            0.559392           0.159562            0.198848   \n",
      "\n",
      "   detachment_BDTG  detachment_BDT  detachment_BDTD isolation_BDTG  \\\n",
      "0        -0.786932       -0.184022        -0.459395       0.623516   \n",
      "1        -0.848995       -0.200939         0.006547       0.675443   \n",
      "\n",
      "   isolation_BDT  isolation_BDTD  \n",
      "0       0.161096        0.238674  \n",
      "1       0.186504        0.211797  \n",
      "\n",
      "[2 rows x 1651 columns]\n"
     ]
    }
   ],
   "source": [
    "print(df[\"2015_up\"].head(2))"
   ]
  },
  {
   "cell_type": "markdown",
   "metadata": {},
   "source": [
    "In this example, we have loaded all of the variables in the `TTree`, and the printout above shows a summary of some of them for the first 2 events in the tree. \n",
    "\n",
    "Let's calculate the flight of the $\\tau$ candidate along the $z$-axis. In our data sample, which has aready had selections applied to keep $B^0 \\to D^{*-} \\pi^+ \\pi^+ \\pi^-$ decays, we won't have any genuine $\\tau \\to \\pi^+ \\pi^+ \\pi^- \\nu$ candidates! The three pions produced in the $B^0 \\to D^{*-} \\pi^+ \\pi^+ \\pi^-$ decay come directly from the $B^0$ decay vertex. Thus, the only flight we should see along the $z$-axis is due to measurement uncertainties on the vertices. "
   ]
  },
  {
   "cell_type": "code",
   "execution_count": 13,
   "metadata": {},
   "outputs": [],
   "source": [
    "df_tot[\"tau_flight_z\"] = df_tot[\"tau_ENDVERTEX_Z\"] - df_tot[\"B0_ENDVERTEX_Z\"]"
   ]
  },
  {
   "cell_type": "markdown",
   "metadata": {},
   "source": [
    "Let's make a quick plot of the $\\tau$ candidate flight:"
   ]
  },
  {
   "cell_type": "code",
   "execution_count": 14,
   "metadata": {},
   "outputs": [
    {
     "data": {
      "image/png": "[encoded data removed]",
      "text/plain": [
       "<Figure size 432x288 with 1 Axes>"
      ]
     },
     "metadata": {
      "needs_background": "light"
     },
     "output_type": "display_data"
    }
   ],
   "source": [
    "plt.hist(df_tot[\"tau_flight_z\"], bins=100, range=(-4,4))\n",
    "plt.show()"
   ]
  },
  {
   "cell_type": "markdown",
   "metadata": {},
   "source": [
    "Indeed we find that the flight is on average zero, but with some spread. The spread is due to measurement uncertainties on the $B$ and $\\tau$ vertex.\n",
    "\n",
    "We can also calculate the flight in units of standard deviations (flight significance), by using the measured uncertainties on the $B$ and $\\tau$ vertices:"
   ]
  },
  {
   "cell_type": "code",
   "execution_count": 15,
   "metadata": {},
   "outputs": [],
   "source": [
    "df_tot[\"tau_flight_zerr\"] = np.sqrt(df_tot[\"tau_ENDVERTEX_ZERR\"]**2 + df_tot[\"B0_ENDVERTEX_ZERR\"]**2)\n",
    "df_tot[\"tau_flight_zsig\"] = df_tot[\"tau_flight_z\"] / df_tot[\"tau_flight_zerr\"]"
   ]
  },
  {
   "cell_type": "markdown",
   "metadata": {},
   "source": [
    "We can compare the flight significance with a standard normal distribution, which has a mean of zero and a width of 1:"
   ]
  },
  {
   "cell_type": "code",
   "execution_count": 16,
   "metadata": {},
   "outputs": [
    {
     "data": {
      "image/png": "[encoded data removed]",
      "text/plain": [
       "<Figure size 432x288 with 1 Axes>"
      ]
     },
     "metadata": {
      "needs_background": "light"
     },
     "output_type": "display_data"
    }
   ],
   "source": [
    "low = -4\n",
    "high = 4\n",
    "n_bins = 100\n",
    "plt.hist(df_tot[\"tau_flight_zsig\"], bins=n_bins, range=(low,high), density=True)\n",
    "norm_mu = 0.\n",
    "norm_sigma = 1.\n",
    "x = np.linspace(norm_mu - high*norm_sigma, norm_mu + high*norm_sigma, 1000)\n",
    "plt.plot(x, stats.norm.pdf(x, norm_mu, norm_sigma))\n",
    "plt.xlim(low,high)\n",
    "plt.show()"
   ]
  },
  {
   "cell_type": "markdown",
   "metadata": {},
   "source": [
    "We see that the flight significance is indeed pretty normally distributed. The fact that the distribution has a mean of zero tells us that, on average, our three pions have zero flight from the $B$ vertex. This is consistent with the decays genuinely being $B^0 \\to D^{*-} \\pi^+ \\pi^+ \\pi^-$."
   ]
  },
  {
   "cell_type": "markdown",
   "metadata": {},
   "source": [
    "Let's count the fraction of decays which have a flight significance of more than $\\pm2$ standard deviations. We expect this to be around 5\\% for a perfectly normally distributed sample:"
   ]
  },
  {
   "cell_type": "code",
   "execution_count": 17,
   "metadata": {},
   "outputs": [
    {
     "name": "stdout",
     "output_type": "stream",
     "text": [
      "Number with high flight significance: 3349.0\n",
      "Total number: 31573\n"
     ]
    }
   ],
   "source": [
    "df_cut = df_tot.query(\"abs(tau_flight_zsig) >= 2\")\n",
    "n_pass = float(len(df_cut))\n",
    "n_tot = len(df_tot)\n",
    "print(f\"Number with high flight significance: {n_pass}\")\n",
    "print(f\"Total number: {n_tot}\")"
   ]
  },
  {
   "cell_type": "markdown",
   "metadata": {},
   "source": [
    "We can calculate the efficiency of this cut by taking the ratio. The absolute uncertainty on this efficiency is given by the binomial formula $\\sigma_\\epsilon = \\frac{1}{N}\\sqrt{k(1 - \\frac{k}{N})}$. Code for calculating this error given a number passing the cut ($k$) and the total number ($N$) is provided in `bd2dst3pi/stats.py`."
   ]
  },
  {
   "cell_type": "code",
   "execution_count": 18,
   "metadata": {},
   "outputs": [
    {
     "name": "stdout",
     "output_type": "stream",
     "text": [
      "Efficiency of abs(tau_flight_zsig) >= 2 cut: 0.106 +/- 0.002\n"
     ]
    }
   ],
   "source": [
    "eff = n_pass / n_tot\n",
    "eff_err = binomial_err(n_tot, n_pass)\n",
    "print(f\"Efficiency of abs(tau_flight_zsig) >= 2 cut: {eff:.3f} +/- {eff_err:.3f}\")"
   ]
  },
  {
   "cell_type": "markdown",
   "metadata": {},
   "source": [
    "The efficiency is actually higher than 5%, because our distribution of flight significance is not quite normal (you can see it has tails at larger values in the plot above)."
   ]
  },
  {
   "cell_type": "markdown",
   "metadata": {},
   "source": [
    "**Follow-up tasks**\n",
    "\n",
    "- How does the flight significance look in MC? Is the distribution similar to the data?\n",
    "- Compare the efficiency of the flight cut in data and MC. Which one is higher, and why could that be?\n",
    "- Can you calculate the 3-dimensional flight distance? You can use Pythagoras theorem to help, so $L = \\sqrt{x^2 + y^2 + z^2}$. How about the 3-dimensional flight significance?"
   ]
  }
 ],
 "metadata": {
  "kernelspec": {
   "display_name": "bd2dst3pi_env",
   "language": "python",
   "name": "bd2dst3pi_env"
  },
  "language_info": {
   "codemirror_mode": {
    "name": "ipython",
    "version": 3
   },
   "file_extension": ".py",
   "mimetype": "text/x-python",
   "name": "python",
   "nbconvert_exporter": "python",
   "pygments_lexer": "ipython3",
   "version": "3.7.8"
  }
 },
 "nbformat": 4,
 "nbformat_minor": 4
}
