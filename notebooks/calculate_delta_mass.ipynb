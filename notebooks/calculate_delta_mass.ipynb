{
 "cells": [
  {
   "cell_type": "markdown",
   "metadata": {},
   "source": [
    "# Calculating a new variable from existing variables in the ROOT file\n",
    "\n",
    "In this example, we calculate the $\\Delta M = m(D^*) - m(D^0)$ variable in the $B^0 \\to D^{*-} \\pi^+ \\pi^+ \\pi^-$ Monte Carlo sample. In the $D^* \\to D^0 \\pi$ decay, there is very little phase space left over for the pion produced in the decay, because the mass difference between the $D^*$ and $D^0$ is only slightly more than the pion mass. Thus, we should see a strong peak in the $\\Delta M$ distribution, which helps us to select $D^*$'s. "
   ]
  },
  {
   "cell_type": "markdown",
   "metadata": {},
   "source": [
    "Some imports of stuff we need:"
   ]
  },
  {
   "cell_type": "code",
   "execution_count": 1,
   "metadata": {},
   "outputs": [
    {
     "name": "stdout",
     "output_type": "stream",
     "text": [
      "Welcome to JupyROOT 6.22/02\n"
     ]
    }
   ],
   "source": [
    "from root_pandas import read_root\n",
    "import matplotlib.pyplot as plt\n",
    "from bd2dst3pi.locations import loc\n",
    "from bd2dst3pi.definitions import years, magnets\n",
    "import numpy as np\n",
    "\n",
    "#Gives us nice LaTeX fonts in the plots\n",
    "from matplotlib import rc\n",
    "rc('font',**{'family':'serif','serif':['Roman']})\n",
    "rc('text', usetex=True)"
   ]
  },
  {
   "cell_type": "markdown",
   "metadata": {},
   "source": [
    "Now we load the $B^0 \\to D^{*-} \\pi^+ \\pi^+ \\pi^-$ Monte Carlo sample, which is a pure sample of simulated decays:"
   ]
  },
  {
   "cell_type": "code",
   "execution_count": 3,
   "metadata": {},
   "outputs": [],
   "source": [
    "file_list = []\n",
    "for y in years:\n",
    "    for m in magnets:\n",
    "        file_list.append(f\"{loc.MC}/Bd_Dst3pi_11266018_{y}_{m}_Sim09e-ReDecay01.root\")\n",
    "tree_name = \"DecayTree\"\n",
    "vars = [\"D0_M\",\"Dst_M\"]\n",
    "df = read_root(file_list, tree_name, columns=vars)"
   ]
  },
  {
   "cell_type": "markdown",
   "metadata": {},
   "source": [
    "We can check how many MC events we have in our DataFrame:"
   ]
  },
  {
   "cell_type": "code",
   "execution_count": 4,
   "metadata": {},
   "outputs": [
    {
     "data": {
      "text/plain": [
       "23692"
      ]
     },
     "execution_count": 4,
     "metadata": {},
     "output_type": "execute_result"
    }
   ],
   "source": [
    "n_events = len(df)\n",
    "n_events"
   ]
  },
  {
   "cell_type": "markdown",
   "metadata": {},
   "source": [
    "Let's calculate the $\\Delta M$ variable. In `pandas` this is super-simple - no loops like in traditional `ROOT`, no need for `SetBranchAddress` or declaring new branches! We simply define a new column in our DataFrame:"
   ]
  },
  {
   "cell_type": "code",
   "execution_count": 5,
   "metadata": {},
   "outputs": [],
   "source": [
    "df[\"Delta_M\"] = df[\"Dst_M\"] - df[\"D0_M\"]"
   ]
  },
  {
   "cell_type": "markdown",
   "metadata": {},
   "source": [
    "We can check some properties of our new variable like it's mean:"
   ]
  },
  {
   "cell_type": "code",
   "execution_count": 6,
   "metadata": {},
   "outputs": [
    {
     "name": "stdout",
     "output_type": "stream",
     "text": [
      "Delta_M mu = 145.46\n"
     ]
    }
   ],
   "source": [
    "mu = df[\"Delta_M\"].mean()\n",
    "print(f\"Delta_M mu = {mu:.2f}\")"
   ]
  },
  {
   "cell_type": "markdown",
   "metadata": {},
   "source": [
    "**Follow-up tasks**\n",
    "\n",
    "- At an earlier stage, our files have had a $143 < \\Delta M < 148$ MeV cut applied to them. Can you plot the `Delta_M` variable we just calculated to check this?\n",
    "- How does the $\\Delta M$ compare in data and ?\n",
    "- Can you make a ratio of the data and MC distributions, to check how consistent they are? Try to make a `numpy` histgoram for each one, and then you can divide them."
   ]
  },
  {
   "cell_type": "code",
   "execution_count": null,
   "metadata": {},
   "outputs": [],
   "source": []
  }
 ],
 "metadata": {
  "kernelspec": {
   "display_name": "bd2dst3pi_env",
   "language": "python",
   "name": "bd2dst3pi_env"
  },
  "language_info": {
   "codemirror_mode": {
    "name": "ipython",
    "version": 3
   },
   "file_extension": ".py",
   "mimetype": "text/x-python",
   "name": "python",
   "nbconvert_exporter": "python",
   "pygments_lexer": "ipython3",
   "version": "3.7.8"
  }
 },
 "nbformat": 4,
 "nbformat_minor": 4
}
